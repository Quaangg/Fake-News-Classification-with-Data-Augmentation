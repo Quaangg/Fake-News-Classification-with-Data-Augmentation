{
 "cells": [
  {
   "cell_type": "markdown",
   "metadata": {},
   "source": [
    "### Original"
   ]
  },
  {
   "cell_type": "markdown",
   "metadata": {},
   "source": [
    "Tải bộ dữ liệu WELFake"
   ]
  },
  {
   "cell_type": "code",
   "execution_count": 1,
   "metadata": {
    "colab": {
     "base_uri": "https://localhost:8080/"
    },
    "executionInfo": {
     "elapsed": 14171,
     "status": "ok",
     "timestamp": 1732330302812,
     "user": {
      "displayName": "Trực Tuấn",
      "userId": "06439763033496124211"
     },
     "user_tz": -420
    },
    "id": "5tG0zkaN4KXt",
    "outputId": "6b4aa306-2cf9-4acd-cd3b-08139833b64c"
   },
   "outputs": [
    {
     "name": "stdout",
     "output_type": "stream",
     "text": [
      "Downloading...\n",
      "From (original): https://drive.google.com/uc?id=1CgDGe1t2_SUVw9VvzOpMeRNfIvdHsjY3\n",
      "From (redirected): https://drive.google.com/uc?id=1CgDGe1t2_SUVw9VvzOpMeRNfIvdHsjY3&confirm=t&uuid=a36ba4cd-4a1c-454c-a3e3-d526dee0ff43\n",
      "To: /content/WELFake_Dataset.csv\n",
      "100% 245M/245M [00:07<00:00, 34.0MB/s]\n"
     ]
    }
   ],
   "source": [
    "!gdown 1CgDGe1t2_SUVw9VvzOpMeRNfIvdHsjY3"
   ]
  },
  {
   "cell_type": "code",
   "execution_count": 2,
   "metadata": {
    "colab": {
     "base_uri": "https://localhost:8080/",
     "height": 423
    },
    "executionInfo": {
     "elapsed": 6855,
     "status": "ok",
     "timestamp": 1732330309664,
     "user": {
      "displayName": "Trực Tuấn",
      "userId": "06439763033496124211"
     },
     "user_tz": -420
    },
    "id": "Sv7JzMlJ4L3t",
    "outputId": "2ba6ccdc-373d-485b-d8dd-788255d3c25e"
   },
   "outputs": [
    {
     "data": {
      "application/vnd.google.colaboratory.intrinsic+json": {
       "summary": "{\n  \"name\": \"df\",\n  \"rows\": 72134,\n  \"fields\": [\n    {\n      \"column\": \"Unnamed: 0\",\n      \"properties\": {\n        \"dtype\": \"number\",\n        \"std\": 20823,\n        \"min\": 0,\n        \"max\": 72133,\n        \"num_unique_values\": 72134,\n        \"samples\": [\n          61370,\n          2189,\n          60609\n        ],\n        \"semantic_type\": \"\",\n        \"description\": \"\"\n      }\n    },\n    {\n      \"column\": \"title\",\n      \"properties\": {\n        \"dtype\": \"string\",\n        \"num_unique_values\": 62347,\n        \"samples\": [\n          \"BBC Under Fire for \\u2018Transgender Diaries\\u2019 Program Aimed at Children as Young as Six\",\n          \" Hillary\\u2019s Running Mate Tim Kaine: The NRA Hates Him, And He Kicked Their Butts (VIDEO)\",\n          \" Trump Outrageously Refers To Elizabeth Warren As \\u2018Pocahontas\\u2019 During Meeting With Senators\"\n        ],\n        \"semantic_type\": \"\",\n        \"description\": \"\"\n      }\n    },\n    {\n      \"column\": \"text\",\n      \"properties\": {\n        \"dtype\": \"string\",\n        \"num_unique_values\": 62718,\n        \"samples\": [\n          \"WASHINGTON (Reuters) - Michael Cohen, one of President Donald Trump\\u2019s closest business advisers, said on Sunday he would testify on Tuesday to the U.S. Senate Intelligence Committee, as the panel investigates alleged Russian interference in the 2016 U.S. election. The timing of Cohen\\u2019s testimony was first reported by NBC. Cohen confirmed that he would testify to the committee on Tuesday and said he did not know whether it would be in a closed session or public. Aides to the committee\\u2019s leaders did not immediately respond to requests for comment. Cohen said previously he had received a subpoena from at least one of the congressional committees investigating what U.S. intelligence has determined were Russia\\u2019s efforts to influence the election on Trump\\u2019s behalf, and whether Trump associates colluded with Russia. Russia denies such activity. The White House denies any collusion, but concerns about the issue and Trump\\u2019s ties to Russia have shadowed the first months of the Republican\\u2019s presidency. Cohen, a personal attorney to Trump, would be one of a series of close associates of the president to testify in Congress. Members of both the Senate and House of Representatives committees conducting investigations have said they expect to call more. Trump\\u2019s oldest son, Donald Trump Jr., testified to the Senate Judiciary Committee earlier this month. \",\n          \"HARARE (Reuters) - Zimbabwe s main opposition leader said on Monday President Robert Mugabe s refusal to resign had dampened people s spirits and called for an inclusive political process in the aftermath of a military intervention last week. Morgan Tsvangirai said there should be an all-stakeholders meeting to chart the country s future and that the next elections due next year should be supervised by the international community. \",\n          \"There is no word yet about whether or not the Hispanics in question were referred to by the plaintiff as  White Hispanics, (the George Zimmerman variety) Legendary restaurant Roscoe s House of Chicken  n Waffles has to cough up $1.6 million in an unlawful termination suit to an African American man who claimed he was discriminated against because he was black.The claim proves to be somewhat ironic given that the owner of the eatery, where President Barack Obama once dined when visiting Compton, is African American.CBS Los Angeles reported that Daniel Beasley sued Roscoe s for firing him after he complained to human resources that the managers harassed him for being black and gave preferential treatment, such as better work hours, to the Hispanic employees. It s owned by an African American owner, but he gives full authority to the Hispanics to run it,  Beasley told reporters.  It just caught me by surprise because here I am getting fired when I m trying to fix the problem. Beasley was frustrated that his complaints to management never got addressed, so he sued.  It s owned by an African American owner, but he gives full authority to the Hispanics to run it,  he told reporters.  It just caught me by surprise because here I am getting fired when I m trying to fix the problem. Beasley explained to CBS that he became homeless after he lost his job, so the hefty settlement becomes a huge victory for the grandfather from Compton.His lawyer Scott Cummings hopes that this win sends a message to other businesses out there.  Racism, racial harassment can occur really anywhere even in a black-owned business,  he asserted. Beasley added,  You can t treat people like that and get away with it constantly.  Via: Breitbart News\"\n        ],\n        \"semantic_type\": \"\",\n        \"description\": \"\"\n      }\n    },\n    {\n      \"column\": \"label\",\n      \"properties\": {\n        \"dtype\": \"number\",\n        \"std\": 0,\n        \"min\": 0,\n        \"max\": 1,\n        \"num_unique_values\": 2,\n        \"samples\": [\n          0,\n          1\n        ],\n        \"semantic_type\": \"\",\n        \"description\": \"\"\n      }\n    }\n  ]\n}",
       "type": "dataframe",
       "variable_name": "df"
      },
      "text/html": [
       "\n",
       "  <div id=\"df-98907fe4-ee87-4d4d-84e4-12a2a2a57e70\" class=\"colab-df-container\">\n",
       "    <div>\n",
       "<style scoped>\n",
       "    .dataframe tbody tr th:only-of-type {\n",
       "        vertical-align: middle;\n",
       "    }\n",
       "\n",
       "    .dataframe tbody tr th {\n",
       "        vertical-align: top;\n",
       "    }\n",
       "\n",
       "    .dataframe thead th {\n",
       "        text-align: right;\n",
       "    }\n",
       "</style>\n",
       "<table border=\"1\" class=\"dataframe\">\n",
       "  <thead>\n",
       "    <tr style=\"text-align: right;\">\n",
       "      <th></th>\n",
       "      <th>Unnamed: 0</th>\n",
       "      <th>title</th>\n",
       "      <th>text</th>\n",
       "      <th>label</th>\n",
       "    </tr>\n",
       "  </thead>\n",
       "  <tbody>\n",
       "    <tr>\n",
       "      <th>0</th>\n",
       "      <td>0</td>\n",
       "      <td>LAW ENFORCEMENT ON HIGH ALERT Following Threat...</td>\n",
       "      <td>No comment is expected from Barack Obama Membe...</td>\n",
       "      <td>1</td>\n",
       "    </tr>\n",
       "    <tr>\n",
       "      <th>1</th>\n",
       "      <td>1</td>\n",
       "      <td>NaN</td>\n",
       "      <td>Did they post their votes for Hillary already?</td>\n",
       "      <td>1</td>\n",
       "    </tr>\n",
       "    <tr>\n",
       "      <th>2</th>\n",
       "      <td>2</td>\n",
       "      <td>UNBELIEVABLE! OBAMA’S ATTORNEY GENERAL SAYS MO...</td>\n",
       "      <td>Now, most of the demonstrators gathered last ...</td>\n",
       "      <td>1</td>\n",
       "    </tr>\n",
       "    <tr>\n",
       "      <th>3</th>\n",
       "      <td>3</td>\n",
       "      <td>Bobby Jindal, raised Hindu, uses story of Chri...</td>\n",
       "      <td>A dozen politically active pastors came here f...</td>\n",
       "      <td>0</td>\n",
       "    </tr>\n",
       "    <tr>\n",
       "      <th>4</th>\n",
       "      <td>4</td>\n",
       "      <td>SATAN 2: Russia unvelis an image of its terrif...</td>\n",
       "      <td>The RS-28 Sarmat missile, dubbed Satan 2, will...</td>\n",
       "      <td>1</td>\n",
       "    </tr>\n",
       "    <tr>\n",
       "      <th>...</th>\n",
       "      <td>...</td>\n",
       "      <td>...</td>\n",
       "      <td>...</td>\n",
       "      <td>...</td>\n",
       "    </tr>\n",
       "    <tr>\n",
       "      <th>72129</th>\n",
       "      <td>72129</td>\n",
       "      <td>Russians steal research on Trump in hack of U....</td>\n",
       "      <td>WASHINGTON (Reuters) - Hackers believed to be ...</td>\n",
       "      <td>0</td>\n",
       "    </tr>\n",
       "    <tr>\n",
       "      <th>72130</th>\n",
       "      <td>72130</td>\n",
       "      <td>WATCH: Giuliani Demands That Democrats Apolog...</td>\n",
       "      <td>You know, because in fantasyland Republicans n...</td>\n",
       "      <td>1</td>\n",
       "    </tr>\n",
       "    <tr>\n",
       "      <th>72131</th>\n",
       "      <td>72131</td>\n",
       "      <td>Migrants Refuse To Leave Train At Refugee Camp...</td>\n",
       "      <td>Migrants Refuse To Leave Train At Refugee Camp...</td>\n",
       "      <td>0</td>\n",
       "    </tr>\n",
       "    <tr>\n",
       "      <th>72132</th>\n",
       "      <td>72132</td>\n",
       "      <td>Trump tussle gives unpopular Mexican leader mu...</td>\n",
       "      <td>MEXICO CITY (Reuters) - Donald Trump’s combati...</td>\n",
       "      <td>0</td>\n",
       "    </tr>\n",
       "    <tr>\n",
       "      <th>72133</th>\n",
       "      <td>72133</td>\n",
       "      <td>Goldman Sachs Endorses Hillary Clinton For Pre...</td>\n",
       "      <td>Goldman Sachs Endorses Hillary Clinton For Pre...</td>\n",
       "      <td>1</td>\n",
       "    </tr>\n",
       "  </tbody>\n",
       "</table>\n",
       "<p>72134 rows × 4 columns</p>\n",
       "</div>\n",
       "    <div class=\"colab-df-buttons\">\n",
       "\n",
       "  <div class=\"colab-df-container\">\n",
       "    <button class=\"colab-df-convert\" onclick=\"convertToInteractive('df-98907fe4-ee87-4d4d-84e4-12a2a2a57e70')\"\n",
       "            title=\"Convert this dataframe to an interactive table.\"\n",
       "            style=\"display:none;\">\n",
       "\n",
       "  <svg xmlns=\"http://www.w3.org/2000/svg\" height=\"24px\" viewBox=\"0 -960 960 960\">\n",
       "    <path d=\"M120-120v-720h720v720H120Zm60-500h600v-160H180v160Zm220 220h160v-160H400v160Zm0 220h160v-160H400v160ZM180-400h160v-160H180v160Zm440 0h160v-160H620v160ZM180-180h160v-160H180v160Zm440 0h160v-160H620v160Z\"/>\n",
       "  </svg>\n",
       "    </button>\n",
       "\n",
       "  <style>\n",
       "    .colab-df-container {\n",
       "      display:flex;\n",
       "      gap: 12px;\n",
       "    }\n",
       "\n",
       "    .colab-df-convert {\n",
       "      background-color: #E8F0FE;\n",
       "      border: none;\n",
       "      border-radius: 50%;\n",
       "      cursor: pointer;\n",
       "      display: none;\n",
       "      fill: #1967D2;\n",
       "      height: 32px;\n",
       "      padding: 0 0 0 0;\n",
       "      width: 32px;\n",
       "    }\n",
       "\n",
       "    .colab-df-convert:hover {\n",
       "      background-color: #E2EBFA;\n",
       "      box-shadow: 0px 1px 2px rgba(60, 64, 67, 0.3), 0px 1px 3px 1px rgba(60, 64, 67, 0.15);\n",
       "      fill: #174EA6;\n",
       "    }\n",
       "\n",
       "    .colab-df-buttons div {\n",
       "      margin-bottom: 4px;\n",
       "    }\n",
       "\n",
       "    [theme=dark] .colab-df-convert {\n",
       "      background-color: #3B4455;\n",
       "      fill: #D2E3FC;\n",
       "    }\n",
       "\n",
       "    [theme=dark] .colab-df-convert:hover {\n",
       "      background-color: #434B5C;\n",
       "      box-shadow: 0px 1px 3px 1px rgba(0, 0, 0, 0.15);\n",
       "      filter: drop-shadow(0px 1px 2px rgba(0, 0, 0, 0.3));\n",
       "      fill: #FFFFFF;\n",
       "    }\n",
       "  </style>\n",
       "\n",
       "    <script>\n",
       "      const buttonEl =\n",
       "        document.querySelector('#df-98907fe4-ee87-4d4d-84e4-12a2a2a57e70 button.colab-df-convert');\n",
       "      buttonEl.style.display =\n",
       "        google.colab.kernel.accessAllowed ? 'block' : 'none';\n",
       "\n",
       "      async function convertToInteractive(key) {\n",
       "        const element = document.querySelector('#df-98907fe4-ee87-4d4d-84e4-12a2a2a57e70');\n",
       "        const dataTable =\n",
       "          await google.colab.kernel.invokeFunction('convertToInteractive',\n",
       "                                                    [key], {});\n",
       "        if (!dataTable) return;\n",
       "\n",
       "        const docLinkHtml = 'Like what you see? Visit the ' +\n",
       "          '<a target=\"_blank\" href=https://colab.research.google.com/notebooks/data_table.ipynb>data table notebook</a>'\n",
       "          + ' to learn more about interactive tables.';\n",
       "        element.innerHTML = '';\n",
       "        dataTable['output_type'] = 'display_data';\n",
       "        await google.colab.output.renderOutput(dataTable, element);\n",
       "        const docLink = document.createElement('div');\n",
       "        docLink.innerHTML = docLinkHtml;\n",
       "        element.appendChild(docLink);\n",
       "      }\n",
       "    </script>\n",
       "  </div>\n",
       "\n",
       "\n",
       "<div id=\"df-76a241c6-e953-4d8d-84ed-31b72c019f21\">\n",
       "  <button class=\"colab-df-quickchart\" onclick=\"quickchart('df-76a241c6-e953-4d8d-84ed-31b72c019f21')\"\n",
       "            title=\"Suggest charts\"\n",
       "            style=\"display:none;\">\n",
       "\n",
       "<svg xmlns=\"http://www.w3.org/2000/svg\" height=\"24px\"viewBox=\"0 0 24 24\"\n",
       "     width=\"24px\">\n",
       "    <g>\n",
       "        <path d=\"M19 3H5c-1.1 0-2 .9-2 2v14c0 1.1.9 2 2 2h14c1.1 0 2-.9 2-2V5c0-1.1-.9-2-2-2zM9 17H7v-7h2v7zm4 0h-2V7h2v10zm4 0h-2v-4h2v4z\"/>\n",
       "    </g>\n",
       "</svg>\n",
       "  </button>\n",
       "\n",
       "<style>\n",
       "  .colab-df-quickchart {\n",
       "      --bg-color: #E8F0FE;\n",
       "      --fill-color: #1967D2;\n",
       "      --hover-bg-color: #E2EBFA;\n",
       "      --hover-fill-color: #174EA6;\n",
       "      --disabled-fill-color: #AAA;\n",
       "      --disabled-bg-color: #DDD;\n",
       "  }\n",
       "\n",
       "  [theme=dark] .colab-df-quickchart {\n",
       "      --bg-color: #3B4455;\n",
       "      --fill-color: #D2E3FC;\n",
       "      --hover-bg-color: #434B5C;\n",
       "      --hover-fill-color: #FFFFFF;\n",
       "      --disabled-bg-color: #3B4455;\n",
       "      --disabled-fill-color: #666;\n",
       "  }\n",
       "\n",
       "  .colab-df-quickchart {\n",
       "    background-color: var(--bg-color);\n",
       "    border: none;\n",
       "    border-radius: 50%;\n",
       "    cursor: pointer;\n",
       "    display: none;\n",
       "    fill: var(--fill-color);\n",
       "    height: 32px;\n",
       "    padding: 0;\n",
       "    width: 32px;\n",
       "  }\n",
       "\n",
       "  .colab-df-quickchart:hover {\n",
       "    background-color: var(--hover-bg-color);\n",
       "    box-shadow: 0 1px 2px rgba(60, 64, 67, 0.3), 0 1px 3px 1px rgba(60, 64, 67, 0.15);\n",
       "    fill: var(--button-hover-fill-color);\n",
       "  }\n",
       "\n",
       "  .colab-df-quickchart-complete:disabled,\n",
       "  .colab-df-quickchart-complete:disabled:hover {\n",
       "    background-color: var(--disabled-bg-color);\n",
       "    fill: var(--disabled-fill-color);\n",
       "    box-shadow: none;\n",
       "  }\n",
       "\n",
       "  .colab-df-spinner {\n",
       "    border: 2px solid var(--fill-color);\n",
       "    border-color: transparent;\n",
       "    border-bottom-color: var(--fill-color);\n",
       "    animation:\n",
       "      spin 1s steps(1) infinite;\n",
       "  }\n",
       "\n",
       "  @keyframes spin {\n",
       "    0% {\n",
       "      border-color: transparent;\n",
       "      border-bottom-color: var(--fill-color);\n",
       "      border-left-color: var(--fill-color);\n",
       "    }\n",
       "    20% {\n",
       "      border-color: transparent;\n",
       "      border-left-color: var(--fill-color);\n",
       "      border-top-color: var(--fill-color);\n",
       "    }\n",
       "    30% {\n",
       "      border-color: transparent;\n",
       "      border-left-color: var(--fill-color);\n",
       "      border-top-color: var(--fill-color);\n",
       "      border-right-color: var(--fill-color);\n",
       "    }\n",
       "    40% {\n",
       "      border-color: transparent;\n",
       "      border-right-color: var(--fill-color);\n",
       "      border-top-color: var(--fill-color);\n",
       "    }\n",
       "    60% {\n",
       "      border-color: transparent;\n",
       "      border-right-color: var(--fill-color);\n",
       "    }\n",
       "    80% {\n",
       "      border-color: transparent;\n",
       "      border-right-color: var(--fill-color);\n",
       "      border-bottom-color: var(--fill-color);\n",
       "    }\n",
       "    90% {\n",
       "      border-color: transparent;\n",
       "      border-bottom-color: var(--fill-color);\n",
       "    }\n",
       "  }\n",
       "</style>\n",
       "\n",
       "  <script>\n",
       "    async function quickchart(key) {\n",
       "      const quickchartButtonEl =\n",
       "        document.querySelector('#' + key + ' button');\n",
       "      quickchartButtonEl.disabled = true;  // To prevent multiple clicks.\n",
       "      quickchartButtonEl.classList.add('colab-df-spinner');\n",
       "      try {\n",
       "        const charts = await google.colab.kernel.invokeFunction(\n",
       "            'suggestCharts', [key], {});\n",
       "      } catch (error) {\n",
       "        console.error('Error during call to suggestCharts:', error);\n",
       "      }\n",
       "      quickchartButtonEl.classList.remove('colab-df-spinner');\n",
       "      quickchartButtonEl.classList.add('colab-df-quickchart-complete');\n",
       "    }\n",
       "    (() => {\n",
       "      let quickchartButtonEl =\n",
       "        document.querySelector('#df-76a241c6-e953-4d8d-84ed-31b72c019f21 button');\n",
       "      quickchartButtonEl.style.display =\n",
       "        google.colab.kernel.accessAllowed ? 'block' : 'none';\n",
       "    })();\n",
       "  </script>\n",
       "</div>\n",
       "\n",
       "  <div id=\"id_c1d8dadb-712b-43ec-89d2-4194895085f8\">\n",
       "    <style>\n",
       "      .colab-df-generate {\n",
       "        background-color: #E8F0FE;\n",
       "        border: none;\n",
       "        border-radius: 50%;\n",
       "        cursor: pointer;\n",
       "        display: none;\n",
       "        fill: #1967D2;\n",
       "        height: 32px;\n",
       "        padding: 0 0 0 0;\n",
       "        width: 32px;\n",
       "      }\n",
       "\n",
       "      .colab-df-generate:hover {\n",
       "        background-color: #E2EBFA;\n",
       "        box-shadow: 0px 1px 2px rgba(60, 64, 67, 0.3), 0px 1px 3px 1px rgba(60, 64, 67, 0.15);\n",
       "        fill: #174EA6;\n",
       "      }\n",
       "\n",
       "      [theme=dark] .colab-df-generate {\n",
       "        background-color: #3B4455;\n",
       "        fill: #D2E3FC;\n",
       "      }\n",
       "\n",
       "      [theme=dark] .colab-df-generate:hover {\n",
       "        background-color: #434B5C;\n",
       "        box-shadow: 0px 1px 3px 1px rgba(0, 0, 0, 0.15);\n",
       "        filter: drop-shadow(0px 1px 2px rgba(0, 0, 0, 0.3));\n",
       "        fill: #FFFFFF;\n",
       "      }\n",
       "    </style>\n",
       "    <button class=\"colab-df-generate\" onclick=\"generateWithVariable('df')\"\n",
       "            title=\"Generate code using this dataframe.\"\n",
       "            style=\"display:none;\">\n",
       "\n",
       "  <svg xmlns=\"http://www.w3.org/2000/svg\" height=\"24px\"viewBox=\"0 0 24 24\"\n",
       "       width=\"24px\">\n",
       "    <path d=\"M7,19H8.4L18.45,9,17,7.55,7,17.6ZM5,21V16.75L18.45,3.32a2,2,0,0,1,2.83,0l1.4,1.43a1.91,1.91,0,0,1,.58,1.4,1.91,1.91,0,0,1-.58,1.4L9.25,21ZM18.45,9,17,7.55Zm-12,3A5.31,5.31,0,0,0,4.9,8.1,5.31,5.31,0,0,0,1,6.5,5.31,5.31,0,0,0,4.9,4.9,5.31,5.31,0,0,0,6.5,1,5.31,5.31,0,0,0,8.1,4.9,5.31,5.31,0,0,0,12,6.5,5.46,5.46,0,0,0,6.5,12Z\"/>\n",
       "  </svg>\n",
       "    </button>\n",
       "    <script>\n",
       "      (() => {\n",
       "      const buttonEl =\n",
       "        document.querySelector('#id_c1d8dadb-712b-43ec-89d2-4194895085f8 button.colab-df-generate');\n",
       "      buttonEl.style.display =\n",
       "        google.colab.kernel.accessAllowed ? 'block' : 'none';\n",
       "\n",
       "      buttonEl.onclick = () => {\n",
       "        google.colab.notebook.generateWithVariable('df');\n",
       "      }\n",
       "      })();\n",
       "    </script>\n",
       "  </div>\n",
       "\n",
       "    </div>\n",
       "  </div>\n"
      ],
      "text/plain": [
       "       Unnamed: 0                                              title  \\\n",
       "0               0  LAW ENFORCEMENT ON HIGH ALERT Following Threat...   \n",
       "1               1                                                NaN   \n",
       "2               2  UNBELIEVABLE! OBAMA’S ATTORNEY GENERAL SAYS MO...   \n",
       "3               3  Bobby Jindal, raised Hindu, uses story of Chri...   \n",
       "4               4  SATAN 2: Russia unvelis an image of its terrif...   \n",
       "...           ...                                                ...   \n",
       "72129       72129  Russians steal research on Trump in hack of U....   \n",
       "72130       72130   WATCH: Giuliani Demands That Democrats Apolog...   \n",
       "72131       72131  Migrants Refuse To Leave Train At Refugee Camp...   \n",
       "72132       72132  Trump tussle gives unpopular Mexican leader mu...   \n",
       "72133       72133  Goldman Sachs Endorses Hillary Clinton For Pre...   \n",
       "\n",
       "                                                    text  label  \n",
       "0      No comment is expected from Barack Obama Membe...      1  \n",
       "1         Did they post their votes for Hillary already?      1  \n",
       "2       Now, most of the demonstrators gathered last ...      1  \n",
       "3      A dozen politically active pastors came here f...      0  \n",
       "4      The RS-28 Sarmat missile, dubbed Satan 2, will...      1  \n",
       "...                                                  ...    ...  \n",
       "72129  WASHINGTON (Reuters) - Hackers believed to be ...      0  \n",
       "72130  You know, because in fantasyland Republicans n...      1  \n",
       "72131  Migrants Refuse To Leave Train At Refugee Camp...      0  \n",
       "72132  MEXICO CITY (Reuters) - Donald Trump’s combati...      0  \n",
       "72133  Goldman Sachs Endorses Hillary Clinton For Pre...      1  \n",
       "\n",
       "[72134 rows x 4 columns]"
      ]
     },
     "execution_count": 2,
     "metadata": {},
     "output_type": "execute_result"
    }
   ],
   "source": [
    "import pandas as pd\n",
    "\n",
    "df = pd.read_csv(\"/content/WELFake_Dataset.csv\")\n",
    "df"
   ]
  },
  {
   "cell_type": "markdown",
   "metadata": {},
   "source": [
    "Xóa các kí tự null và nối cột title vào cột test"
   ]
  },
  {
   "cell_type": "code",
   "execution_count": 3,
   "metadata": {
    "colab": {
     "base_uri": "https://localhost:8080/",
     "height": 423
    },
    "executionInfo": {
     "elapsed": 1868,
     "status": "ok",
     "timestamp": 1732330311530,
     "user": {
      "displayName": "Trực Tuấn",
      "userId": "06439763033496124211"
     },
     "user_tz": -420
    },
    "id": "7rWuZhvN4L1F",
    "outputId": "ed7bcd9e-3be6-4d7f-925b-c016abee6506"
   },
   "outputs": [
    {
     "data": {
      "application/vnd.google.colaboratory.intrinsic+json": {
       "summary": "{\n  \"name\": \"df\",\n  \"rows\": 71537,\n  \"fields\": [\n    {\n      \"column\": \"Unnamed: 0\",\n      \"properties\": {\n        \"dtype\": \"number\",\n        \"std\": 20826,\n        \"min\": 0,\n        \"max\": 72133,\n        \"num_unique_values\": 71537,\n        \"samples\": [\n          54359,\n          6993,\n          28912\n        ],\n        \"semantic_type\": \"\",\n        \"description\": \"\"\n      }\n    },\n    {\n      \"column\": \"title\",\n      \"properties\": {\n        \"dtype\": \"string\",\n        \"num_unique_values\": 62308,\n        \"samples\": [\n          \"About 146,000 Rohingya have fled Myanmar violence to Bangladesh\",\n          \"Franklin Graham: The media didn\\u2019t understand the \\u2018God-factor\\u2019 in Trump\\u2019s win\",\n          \"T\\u00fcrkei: Kritischer Journalist interviewt Oppositionspolitiker in gemeinsamer Gef\\u00e4ngniszelle\"\n        ],\n        \"semantic_type\": \"\",\n        \"description\": \"\"\n      }\n    },\n    {\n      \"column\": \"text\",\n      \"properties\": {\n        \"dtype\": \"string\",\n        \"num_unique_values\": 63121,\n        \"samples\": [\n          \" Donald Trump Responds To Mockery Over Fake Swedish Attack \\u2013 Prepare To Laugh Your A** Off Last night, at a rally in Melbourne, Florida, Trump was trying to build more fear of brown people in his base of loyalists by referencing a completely imaginary terror attack in Sweden. Since then, he s received an earful from the former Prime Minister of Sweden, prompted questions from confused Swedes, and social media has been abuzz with mockery of the imaginary attack, too.One would have expected Trump to respond fairly quickly, since he s now formally joined the ranks of Kellyanne Conway and Sean Spicer when it comes to fake terror attacks, but he didn t. He waited until this afternoon to respond, and it s extremely laughable:My statement as to what s happening in Sweden was in reference to a story that was broadcast on @FoxNews concerning immigrants & Sweden.  Donald J. Trump (@realDonaldTrump) February 19, 2017Yes, sure, by all means, let s call this debacle Fox News  fault and completely ignore the words that actually spewed forth from his mouth: You look at what s happening last night in Sweden. Sweden! Who would believe this? Sweden! They took in large numbers. They re having problems that they never thought possible. Twitter, meanwhile, is positively gleeful in their mockery of the liar of liars for another egregious lie:@realDonaldTrump  none of which referred to anything that happened two nights ago.  Alex Zalben (@azalben) February 19, 2017.@realDonaldTrump  I apologize. I will hold myself to provide a more clear and accurate respresentation of my beliefs in future speeches.  Will McAvoy (@WillMcAvoyACN) February 19, 2017@realDonaldTrump Hey, dumbass. What happened in Sweden? Nothing. That s what. FAKE NEWS! pic.twitter.com/PR4Cu42mbb  The Socialist Party (@OfficialSPGB) February 19, 2017@realDonaldTrump @FoxNews Of course it fucking was.  Mark Pygas (@MarkPygas) February 19, 2017@realDonaldTrump You said  last night in Sweden . Don t retract. You are fake news for the unintelligent.  Tony Posnanski (@tonyposnanski) February 19, 2017You are fake news, Mr. So-Called President.#swedenincident #iamamuslimtoo #FuckYouBitch https://t.co/MGOL0oWFPs  Jade Helm Commander (@Anomaly100) February 19, 2017.@realDonaldTrump Who needs the intelligence community when there is Fox News?  Simon Hedlin (@simonhedlin) February 19, 2017Here s someone who was a likely witness to the imaginary attack, since reports say Swedish fish were everywhere at the scene:@realDonaldTrump @FoxNews pic.twitter.com/bGk4nMmc5e  Mike Denison (@mikd33) February 19, 2017@mikd33 @realDonaldTrump @FoxNews These fish are clearly terrorists.  Austin Braun (@AustinOnSocial) February 19, 2017@realDonaldTrump @FoxNews pic.twitter.com/dYPgcgHhmo  #TheResistance (@AynRandPaulRyan) February 19, 2017@realDonaldTrump @FoxNews pic.twitter.com/hoF53staXG  #TheResistance (@AynRandPaulRyan) February 19, 2017@realDonaldTrump Also, is @foxandfriends your new National Security Advisor?  Evan Dashevsky (@haldash) February 19, 2017@realDonaldTrump  oh I saw it on TV, people told me this  instead of being responsible for what comes out of his mouth.  Erick Fernandez (@ErickFernandez) February 19, 2017@realDonaldTrump @FoxNews OK time to have a chat again, so tell President Emperor Bannon you need a smoke break. This will take a bit.  Kevin (@TheKevinDent) February 19, 2017@realDonaldTrump So you blindly spout whether @FoxNews tells you to? It s pathetic, not to mention awfully irresponsible, 45.  Mike P Williams (@Mike_P_Williams) February 19, 2017Here s what someone who appears to be in Sweden has to say:@realDonaldTrump @FoxNews There is no migrant crisis in Sweden. We have free health care, free education, a functioning welfare system. ??  Ines Helene (@inihelene) February 19, 2017How embarrassing. You re hopelessly confused. Sad! @realDonaldTrump https://t.co/2mRZAjuj6f  Charles Johnson (@Green_Footballs) February 19, 2017Um @erichmcelroy is @realDonaldTrump now trying to blame @FoxNews? I thought we could trust them!  Mark Machado (@MarkMachado) February 19, 2017 Maybe, just as a change of pace and maybe to keep all of us on our toes, he should actually take responsibility for what he says and apologize. But what are we talking about? Trump is one of the worst pathological liars in the long, sad history of pathological liars.Featured image by Joe Raedle via Getty Images\",\n          \"Tweetwave This time it's true no pantsTweetwave More Of Anthony Weiner's Greatest Hits Users browsing this forum: No registered users and 13 guests Display posts from previous: Powered by phpBB \\u00a9 2000, 2002, 2005, 2007 phpBB Group The uncontested absurdities of today are the accepted slogans of tomorrow. They come to be accepted by degrees, by precedent, by implication, by erosion, by default, by dint of constant pressure on one side and constant retreat on the other - until the day when they are suddenly declared to be the country's official ideology. ~ Ayn Rand \\nRubiks & Rubik\\u2019s Cube \\u00ae used by special individual permission of Seven Town Ltd. Write down this number and report to your Kommissar at the nearest railroad station. Don't forget warm clothes and a shovel! Channel list \\nFollowing hurricane Matthew's failure to devastate Florida, activists flock to the Sunshine State and destroy Trump signs manually \\nTim Kaine takes credit for interrupting hurricane Matthew while debating weather in Florida \\nStudy: Many non-voters still undecided on how they're not going to vote \\nThe Evolution of Dissent: on November 8th the nation is to decide whether dissent will stop being racist and become sexist - or it will once again be patriotic as it was for 8 years under George W. Bush \\nVenezuela solves starvation problem by making it mandatory to buy food \\nBreaking: the Clinton Foundation set to investigate the FBI \\nObama \\u200b\\u200bcaptures rare Pok\\u00e9mon \\u200b\\u200bwhile visiting Hiroshima \\nMovie news: 'The Big Friendly Giant Government' flops at box office; audiences say \\\"It's creepy\\\" \\nBarack Obama: \\\"If I had a son, he'd look like Micah Johnson\\\" \\nWhite House edits Orlando 911 transcript to say shooter pledged allegiance to NRA and Republican Party \\nPresident George Washington: 'Redcoats do not represent British Empire; King George promotes a distorted version of British colonialism' \\nFollowing Obama's 'Okie-Doke' speech , stock of Okie-Doke soars; NASDAQ: 'Obama best Okie-Doke salesman' \\nWeaponized baby formula threatens Planned Parenthood office; ACLU demands federal investigation of Gerber \\nExperts: melting Antarctic glacier could cause sale levels to rise up to 80% off select items by this weekend \\nTravel advisory: airlines now offering flights to front of TSA line \\nAs Obama instructs his administration to get ready for presidential transition, Trump preemptively purchases 'T' keys for White House keyboards \\nJohn Kasich self-identifies as GOP primary winner, demands access to White House bathroom \\nUpcoming Trump/Kelly interview on FoxNews sponsored by 'Let's Make a Deal' and 'The Price is Right' \\nNews from 2017: once the evacuation of Lena Dunham and 90% of other Hollywood celebrities to Canada is confirmed, Trump resigns from presidency: \\\"My work here is done\\\" \\nNon-presidential candidate Paul Ryan pledges not to run for president in new non-presidential non-ad campaign \\nTrump suggests creating 'Muslim database'; Obama symbolically protests by shredding White House guest logs beginning 2009 \\nNational Enquirer: John Kasich's real dad was the milkman, not mailman \\nNational Enquirer: Bound delegates from Colorado, Wyoming found in Ted Cruz\\u2019s basement \\nIran breaks its pinky-swear promise not to support terrorism; US State Department vows rock-paper-scissors strategic response \\nWomen across the country cheer as racist Democrat president on $20 bill is replaced by black pro-gun Republican \\nFederal Reserve solves budget crisis by writing itself a 20-trillion-dollar check \\nWidows, orphans claim responsibility for Brussels airport bombing \\nChe Guevara's son hopes Cuba's communism will rub off on US, proposes a long list of people the government should execute first \\nSusan Sarandon: \\\"I don't vote with my vagina.\\\" Voters in line behind her still suspicious, use hand sanitizer \\nCampaign memo typo causes Hillary to court 'New Black Panties' vote \\nNew Hampshire votes for socialist Sanders, changes state motto to \\\"Live FOR Free or Die\\\" \\nMartin O'Malley drops out of race after Iowa Caucus; nation shocked with revelation he has been running for president \\nStatisticians: one out of three Bernie Sanders supporters is just as dumb as the other two \\nHillary campaign denies accusations of smoking-gun evidence in her emails, claims they contain only smoking-circumstantial-gun evidence \\nObama stops short of firing US Congress upon realizing the difficulty of assembling another group of such tractable yes-men \\nIn effort to contol wild passions for violent jihad, White House urges gun owners to keep their firearms covered in gun burkas \\nTV horror live: A Charlie Brown Christmas gets shot up on air by Mohammed cartoons \\nDemocrats vow to burn the country down over Ted Cruz statement, 'The overwhelming majority of violent criminals are Democrats' \\nRussia's trend to sign bombs dropped on ISIS with \\\"This is for Paris\\\" found response in Obama administration's trend to sign American bombs with \\\"Return to sender\\\" \\nUniversity researchers of cultural appropriation quit upon discovery that their research is appropriation from a culture that created universities \\nArcheologists discover remains of what Barack Obama has described as unprecedented, un-American, and not-who-we-are immigration screening process in Ellis Island \\nMizzou protests lead to declaring entire state a \\\"safe space,\\\" changing Missouri motto to \\\"The don't show me state\\\" \\nGreen energy fact: if we put all green energy subsidies together in one-dollar bills and burn them, we could generate more electricity than has been produced by subsidized green energy \\nState officials improve chances of healthcare payouts by replacing ObamaCare with state lottery \\nNASA's new mission to search for racism, sexism, and economic inequality in deep space suffers from race, gender, and class power struggles over multibillion-dollar budget \\nCollege progress enforcement squads issue schematic humor charts so students know if a joke may be spontaneously laughed at or if regulations require other action \\nISIS opens suicide hotline for US teens depressed by climate change and other progressive doomsday scenarios \\nVirginia county to close schools after teacher asks students to write 'death to America' in Arabic \\n'Wear hijab to school day' ends with spontaneous female circumcision and stoning of a classmate during lunch break \\nISIS releases new, even more barbaric video in an effort to regain mantle from Planned Parenthood \\nImpressed by Fox News stellar rating during GOP debates, CNN to use same formula on Democrat candidates asking tough, pointed questions about Republicans \\nShocking new book explores pros and cons of socialism, discovers they are same people \\nPope outraged by Planned Parenthood's \\\"unfettered capitalism,\\\" demands equal redistribution of baby parts to each according to his need \\nJohn Kerry accepts Iran's \\\"Golden Taquiyya\\\" award, requests jalapenos on the side \\nCitizens of Pluto protest US government's surveillance of their planetoid and its moons with New Horizons space drone \\nJohn Kerry proposes 3-day waiting period for all terrorist nations trying to acquire nuclear weapons \\nChicago Police trying to identify flag that caused nine murders and 53 injuries in the city this past weekend \\nCuba opens to affordable medical tourism for Americans who can't afford Obamacare deductibles \\nState-funded research proves existence of Quantum Aggression Particles (Heterons) in Large Hadron Collider \\nStudent job opportunities: make big bucks this summer as Hillary\\u2019s Ordinary-American; all expenses paid, travel, free acting lessons \\nExperts debate whether Iranian negotiators broke John Kerry's leg or he did it himself to get out of negotiations \\nJunior Varsity takes Ramadi, advances to quarterfinals \\nUS media to GOP pool of candidates: 'Knowing what we know now, would you have had anything to do with the founding of the United States?' \\nNY Mayor to hold peace talks with rats, apologize for previous Mayor's cowboy diplomacy \\nChina launches cube-shaped space object with a message to aliens: \\\"The inhabitants of Earth will steal your intellectual property, copy it, manufacture it in sweatshops with slave labor, and sell it back to you at ridiculously low prices\\\" \\nProgressive scientists: Truth is a variable deduced by subtracting 'what is' from 'what ought to be' \\nExperts agree: Hillary Clinton best candidate to lessen percentage of Americans in top 1% \\nAmerica's attempts at peace talks with the White House continue to be met with lies, stalling tactics, and bad faith \\nStarbucks new policy to talk race with customers prompts new hashtag #DontHoldUpTheLine \\nHillary: DELETE is the new RESET \\nCharlie Hebdo receives Islamophobe 2015 award ; the cartoonists could not be reached for comment due to their inexplicable, illogical deaths \\nRussia sends 'reset' button back to Hillary: 'You need it now more than we do' \\nBarack Obama finds out from CNN that Hillary Clinton spent four years being his Secretary of State \\nPresident Obama honors Leonard Nimoy by taking selfie in front of Starship Enterprise \\nPolice: If Obama had a convenience store, it would look like Obama Express Food Market \\nStudy finds stunning lack of racial, gender, and economic diversity among middle-class white males \\nNASA: We're 80% sure about being 20% sure about being 17% sure about being 38% sure about 2014 being the hottest year on record \\nPeople holding '$15 an Hour Now' posters sue Democratic party demanding raise to $15 an hour for rendered professional protesting services \\nCuba-US normalization: US tourists flock to see Cuba before it looks like the US and Cubans flock to see the US before it looks like Cuba \\nWhite House describes attacks on Sony Pictures as 'spontaneous hacking in response to offensive video mocking Juche and its prophet' \\nCIA responds to Democrat calls for transparency by releasing the director's cut of The Making Of Obama's Birth Certificate \\nObama: 'If I had a city, it would look like Ferguson' \\nBiden: 'If I had a Ferguson (hic), it would look like a city' \\nObama signs executive order renaming 'looters' to 'undocumented shoppers' \\nEthicists agree: two wrongs do make a right so long as Bush did it first \\nThe aftermath of the 'War on Women 2014' finds a new 'Lost Generation' of disillusioned Democrat politicians, unable to cope with life out of office \\nWhite House: Republican takeover of the Senate is a clear mandate from the American people for President Obama to rule by executive orders \\nNurse Kaci Hickox angrily tells reporters that she won't change her clocks for daylight savings time \\nDemocratic Party leaders in panic after recent poll shows most Democratic voters think 'midterm' is when to end pregnancy \\nDesperate Democratic candidates plead with Obama to stop backing them and instead support their GOP opponents \\nEbola Czar issues five-year plan with mandatory quotas of Ebola infections per each state based on voting preferences \\nStudy: crony capitalism is to the free market what the Westboro Baptist Church is to Christianity \\nFun facts about world languages: the Left has more words for statism than the Eskimos have for snow \\nAfrican countries to ban all flights from the United States because \\\"Obama is incompetent, it scares us\\\" \\nNobel Peace Prize controversy: Hillary not nominated despite having done even less than Obama to deserve it \\nObama: 'Ebola is the JV of viruses' \\nBREAKING: Secret Service foils Secret Service plot to protect Obama \\nRevised 1st Amendment: buy one speech, get the second free \\nSharpton calls on white NFL players to beat their women in the interests of racial fairness \\nPresident Obama appoints his weekly approval poll as new national security adviser \\nObama wags pen and phone at Putin; Europe offers support with powerful pens and phones from NATO members \\nWhite House pledges to embarrass ISIS back to the Stone Age with a barrage of fearsome Twitter messages and fatally ironic Instagram photos \\nObama to fight ISIS with new federal Terrorist Regulatory Agency \\nObama vows ISIS will never raise their flag over the eighteenth hole \\nHarry Reid: \\\"Sometimes I say the wong thing\\\" \\nElian Gonzalez wishes he had come to the U.S. on a bus from Central America like all the other kids \\nObama visits US-Mexican border, calls for a two-state solution \\nObama draws \\\"blue line\\\" in Iraq after Putin took away his red crayon \\n\\\"Hard Choices,\\\" a porno flick loosely based on Hillary Clinton's memoir and starring Hillary Hellfire as a drinking, whoring Secretary of State, wildly outsells the flabby, sagging original \\nAccusations of siding with the enemy leave Sgt. Bergdahl with only two options: pursue a doctorate at Berkley or become a Senator from Massachusetts \\nJay Carney stuck in line behind Eric Shinseki to leave the White House; estimated wait time from 15 min to 6 weeks \\n100% of scientists agree that if man-made global warming were real, \\\"the last people we'd want to help us is the Obama administration\\\" \\nJay Carney says he found out that Obama found out that he found out that Obama found out that he found out about the latest Obama administration scandal on the news \\n\\\"Anarchy Now!\\\" meeting turns into riot over points of order, bylaws, and whether or not 'kicking the #^@&*! ass' of the person trying to speak is or is not violence \\nObama retaliates against Putin by prohibiting unionized federal employees from dating hot Russian girls online during work hours \\nRussian separatists in Ukraine riot over an offensive YouTube video showing the toppling of Lenin statues \\n\\\"Free Speech Zones\\\" confuse Obamaphone owners who roam streets in search of additional air minutes \\nObamacare bolsters employment for professionals with skills to convert meth back into sudafed \\nGloves finally off: Obama uses pen and phone to cancel Putin's Netflix account \\nJoe Biden to Russia: \\\"We will bury you by turning more of Eastern Europe over to your control!\\\" \\nIn last-ditch effort to help Ukraine, Obama deploys Rev. Sharpton and Rev. Jackson's Rainbow Coalition to Crimea \\nAl Sharpton: \\\"Not even Putin can withstand our signature chanting, 'racist, sexist, anti-gay, Russian army go away'!\\\" \\nMardi Gras in North Korea: \\\" Throw me some food! \\\" \\nObama's foreign policy works: \\\"War, invasion, and conquest are signs of weakness; we've got Putin right where we want him\\\" \\nUS offers military solution to Ukraine crisis: \\\"We will only fight countries that have LGBT military\\\" \\nPutin annexes Brighton Beach to protect ethnic Russians in Brooklyn, Obama appeals to UN and EU for help \\nThe 1980s: \\\"Mr. Obama, we're just calling to ask if you want our foreign policy back . The 1970s are right here with us, and they're wondering, too.\\\" \\nIn a stunning act of defiance, Obama courageously unfriends Putin on Facebook \\nMSNBC: Obama secures alliance with Austro-Hungarian Empire against Russia\\u2019s aggression in Ukraine \\nStudy: springbreak is to STDs what April 15th is to accountants \\nEfforts to achieve moisture justice for California thwarted by unfair redistribution of snow in America \\nNorth Korean voters unanimous: \\\"We are the 100%\\\" \\nLeader of authoritarian gulag-site, The People's Cube, unanimously 're-elected' with 100% voter turnout \\nSuper Bowl: Obama blames Fox News for Broncos' loss \\nFeminist author slams gay marriage: \\\"a man needs a man like a fish needs a bicycle\\\" \\nBeverly Hills campaign heats up between Henry Waxman and Marianne Williamson over the widening income gap between millionaires and billionaires in their district \\nBiden to lower $10,000-a-plate Dinner For The Homeless to $5,000 so more homeless can attend \\nKim becomes world leader, feeds uncle to dogs; Obama eats dogs, becomes world leader, America cries uncle \\nNorth Korean leader executes own uncle for talking about Obamacare at family Christmas party \\nWhite House hires part-time schizophrenic Mandela sign interpreter to help sell Obamacare \\nKim Jong Un executes own \\\" crazy uncle \\\" to keep him from ruining another family Christmas \\nOFA admits its advice for area activists to give Obamacare Talk at shooting ranges was a bad idea \\nPresident resolves Obamacare debacle with executive order declaring all Americans equally healthy \\nObama to Iran: \\\"If you like your nuclear program, you can keep your nuclear program\\\" \\nBovine community outraged by flatulence coming from Washington DC \\nObama: \\\"I'm not particularly ideological; I believe in a good pragmatic five-year plan\\\" \\nShocker: Obama had no knowledge he'd been reelected until he read about it in the local newspaper last week \\nServer problems at HealthCare.gov so bad, it now flashes 'Error 808' message \\nNSA marks National Best Friend Day with official announcement: \\\"Government is your best friend; we know you like no one else, we're always there, we're always willing to listen\\\" \\nAl Qaeda cancels attack on USA citing launch of Obamacare as devastating enough \\nThe President's latest talking point on Obamacare: \\\"I didn't build that\\\" \\nDizzy with success, Obama renames his wildly popular healthcare mandate to HillaryCare \\nCarney: huge ObamaCare deductibles won't look as bad come hyperinflation \\nWashington Redskins drop 'Washington' from their name as offensive to most Americans \\nPoll: 83% of Americans favor cowboy diplomacy over rodeo clown diplomacy \\nGOVERNMENT WARNING: If you were able to complete ObamaCare form online, it wasn't a legitimate gov't website; you should report online fraud and change all your passwords \\nObama administration gets serious, threatens Syria with ObamaCare \\nObama authorizes the use of Vice President Joe Biden's double-barrel shotgun to fire a couple of blasts at Syria \\nSharpton: \\\"British royals should have named baby 'Trayvon.' By choosing 'George' they sided with white Hispanic racist Zimmerman\\\" \\nDNC launches 'Carlos Danger' action figure; proceeds to fund a charity helping survivors of the Republican War on Women \\nNancy Pelosi extends abortion rights to the birds and the bees \\nHubble discovers planetary drift to the left \\nObama: 'If I had a daughter-in-law, she would look like Rachael Jeantel' \\nFISA court rubberstamps statement denying its portrayal as government's rubber stamp \\nEvery time ObamaCare gets delayed, a Julia somewhere dies \\nGOP to Schumer: 'Force full implementation of ObamaCare before 2014 or Dems will never win another election' \\nObama: 'If I had a son... no, wait, my daughter can now marry a woman!' \\nJanet Napolitano: TSA findings reveal that since none of the hijackers were babies, elderly, or Tea Partiers, 9/11 was not an act of terrorism \\nNews Flash: Sen. Mary Landrieu (D-LA) can see Canada from South Dakota \\nSusan Rice: IRS actions against tea parties caused by anti-tax YouTube video that was insulting to their faith \\nDrudge Report reduces font to fit all White House scandals onto one page \\nObama: the IRS is a constitutional right, just like the Second Amendment \\nWhite House: top Obama officials using secret email accounts a result of bad IT advice to avoid spam mail from Nigeria \\nJay Carney to critics: 'Pinocchio never said anything inconsistent' \\nObama: If I had a gay son, he'd look like Jason Collins \\nGosnell's office in Benghazi raided by the IRS: mainstream media's worst cover-up challenge to date \\nIRS targeting pro-gay-marriage LGBT groups leads to gayest tax revolt in U.S. history \\nAfter Arlington Cemetery rejects offer to bury Boston bomber, Westboro Babtist Church steps up with premium front lawn plot \\nBoston: Obama Administration to reclassify marathon bombing as 'sportsplace violence' \\nStudy: Success has many fathers but failure becomes a government program \\nUS Media: Can Pope Francis possibly clear up Vatican bureaucracy and banking without blaming the previous administration? \\nMichelle Obama praises weekend rampage by Chicago teens as good way to burn calories and stay healthy \\nThis Passover, Obama urges his subjects to paint lamb's blood above doors in order to avoid the Sequester \\nWhite House to American children: Sequester causes layoffs among hens that lay Easter eggs; union-wage Easter Bunnies to be replaced by Mexican Chupacabras \\nTime Mag names Hugo Chavez world's sexiest corpse \\nBoy, 8, pretends banana is gun, makes daring escape from school \\nStudy: Free lunches overpriced, lack nutrition \\nOscars 2013: Michelle Obama announces long-awaited merger of Hollywood and the State \\nJoe Salazar defends the right of women to be raped in gun-free environment: 'rapists and rapees should work together to prevent gun violence for the common good' \\nDept. of Health and Human Services eliminates rape by reclassifying assailants as 'undocumented sex partners' \\nKremlin puts out warning not to photoshop Putin riding meteor unless bare-chested \\nDeeming football too violent, Obama moves to introduce Super Drone Sundays instead \\nJapan offers to extend nuclear umbrella to cover U.S. should America suffer devastating attack on its own defense spending \\nFeminists organize one billion women to protest male oppression with one billion lap dances \\nUrban community protests Mayor Bloomberg's ban on extra-large pop singers owning assault weapons \\nConcerned with mounting death toll, Taliban offers to send peacekeeping advisers to Chicago \\nKarl Rove puts an end to Tea Party with new 'Republicans For Democrats' strategy aimed at losing elections \\nAnswering public skepticism, President Obama authorizes unlimited drone attacks on all skeet targets throughout the country \\nSkeet Ulrich denies claims he had been shot by President but considers changing his name to 'Traps' \\nWhite House releases new exciting photos of Obama standing, sitting, looking thoughtful, and even breathing in and out \\nNew York Times hacked by Chinese government, Paul Krugman's economic policies stolen \\nWhite House: when President shoots skeet, he donates the meat to food banks that feed the middle class \\nTo prove he is serious, Obama eliminates armed guard protection for President, Vice-President, and their families; establishes Gun-Free Zones around them instead \\nState Dept to send 100,000 American college students to China as security for US debt obligations \\nJay Carney: Al Qaeda is on the run, they're just running forward \\nPresident issues executive orders banning cliffs, ceilings, obstructions, statistics, and other notions that prevent us from moving forwards and upward \\nFearing the worst, Obama Administration outlaws the fan to prevent it from being hit by certain objects \\nWorld ends; S&P soars \\nRiddle of universe solved; answer not understood \\nMeek inherit Earth, can't afford estate taxes \\nGreece abandons Euro; accountants find Greece has no Euros anyway \\nWheel finally reinvented; axles to be gradually reinvented in 3rd quarter of 2013 \\nBigfoot found in Ohio, mysteriously not voting for Obama \\nAs Santa's workshop files for bankruptcy, Fed offers bailout in exchange for control of 'naughty and nice' list \\nFreak flying pig accident causes bacon to fly off shelves \\nObama: green economy likely to transform America into a leading third world country of the new millennium \\nReport: President Obama to visit the United States in the near future \\nObama promises to create thousands more economically neutral jobs \\nModernizing Islam: New York imam proposes to canonize Saul Alinsky as religion's latter day prophet \\nImam Rauf's peaceful solution: 'Move Ground Zero a few blocks away from the mosque and no one gets hurt' \\nStudy: Obama's threat to burn tax money in Washington 'recruitment bonanza' for Tea Parties \\nStudy: no Social Security reform will be needed if gov't raises retirement age to at least 814 years \\nObama attends church service, worships self \\nObama proposes national 'Win The Future' lottery; proceeds of new WTF Powerball to finance more gov't spending \\nHistorical revisionists: \\\"Hey, you never know\\\" \\nVice President Biden: criticizing Egypt is un-pharaoh \\nIsraelis to Egyptian rioters: \\\"don't damage the pyramids, we will not rebuild\\\" \\nLake Superior renamed Lake Inferior in spirit of tolerance and inclusiveness \\nAl Gore: It's a shame that a family can be torn apart by something as simple as a pack of polar bears \\nMichael Moore: As long as there is anyone with money to shake down, this country is not broke \\nObama's teleprompters unionize, demand collective bargaining rights \\nObama calls new taxes 'spending reductions in tax code.' Elsewhere rapists tout 'consent reductions in sexual intercourse' \\nObama's teleprompter unhappy with White House Twitter: \\\"Too few words\\\" \\nObama's Regulation Reduction committee finds US Constitution to be expensive outdated framework inefficiently regulating federal gov't \\nTaking a page from the Reagan years, Obama announces new era of Perestroika and Glasnost \\nResponding to Oslo shootings, Obama declares Christianity \\\"Religion of Peace,\\\" praises \\\"moderate Christians,\\\" promises to send one into space \\nRepublicans block Obama's $420 billion program to give American families free charms that ward off economic bad luck \\nWhite House to impose Chimney tax on Santa Claus \\nObama decrees the economy is not soaring as much as previously decreeed \\nConservative think tank introduces children to capitalism with pop-up picture book \\\"The Road to Smurfdom\\\" \\nAl Gore proposes to combat Global Warming by extracting silver linings from clouds in Earth's atmosphere \\nObama refutes charges of him being unresponsive to people's suffering: \\\"When you pray to God, do you always hear a response?\\\" \\nObama regrets the US government didn't provide his mother with free contraceptives when she was in college \\nFluke to Congress: drill, baby, drill! \\nPlanned Parenthood introduces Frequent Flucker reward card: 'Come again soon!' \\nObama to tornado victims: 'We inherited this weather from the previous administration' \\nObama congratulates Putin on Chicago-style election outcome \\nPeople's Cube gives itself Hero of Socialist Labor medal in recognition of continued expert advice provided to the Obama Administration helping to shape its foreign and domestic policies \\nHamas: Israeli air defense unfair to 99% of our missiles, \\\"only 1% allowed to reach Israel\\\" \\nDemocrat strategist: without government supervision, women would have never evolved into humans \\nVoters Without Borders oppose Texas new voter ID law \\nEnraged by accusation that they are doing Obama's bidding, media leaders demand instructions from White House on how to respond \\nObama blames previous Olympics for failure to win at this Olympics \\nOfficial: China plans to land on Moon or at least on cheap knockoff thereof \\nKoran-Contra: Obama secretly arms Syrian rebels \\nPoll: Progressive slogan 'We should be more like Europe' most popular with members of American Nazi Party \\nObama to Evangelicals: Jesus saves, I just spend \\nMay Day: Anarchists plan, schedule, synchronize, and execute a coordinated campaign against all of the above \\nMidwestern farmers hooked on new erotic novel \\\"50 Shades of Hay\\\" \\nStudy: 99% of Liberals give the rest a bad name \\nObama meets with Jewish leaders, proposes deeper circumcisions for the rich \\nHistorians: Before HOPE & CHANGE there was HEMP & CHOOM at ten bucks a bag \\nCancer once again fails to cure Venezuela of its \\\"President for Life\\\" \\nTragic spelling error causes Muslim protesters to burn local boob-tube factory \\nSecretary of Energy Steven Chu: due to energy conservation, the light at the end of the tunnel will be switched off \\nObama Administration running food stamps across the border with Mexico in an operation code-named \\\"Fat And Furious\\\" \\nPakistan explodes in protest over new Adobe Acrobat update; 17 local acrobats killed \\nWhite House: \\\"Let them eat statistics\\\" \\nSpecial Ops: if Benedict Arnold had a son, he would look like Barack Obama\",\n          \"Rubio says prospect of Trump president is 'worrisome' (Reuters) - U.S. Senator Marco Rubio said on Wednesday that he was running for re-election in part to provide a counter-weight to whomever might win the White House in November, whether Democrat Hillary Clinton or Republican Donald Trump. Rubio criticized Clinton in a statement he released to explain his decision, but added: \\u201cThe prospect of a Trump presidency is also worrisome to me.\\u201d \\u201cIf he is elected, we will need senators willing to encourage him in the right direction, and if necessary, stand up to him. I\\u2019ve proven a willingness to do both,\\u201d Rubio said. \"\n        ],\n        \"semantic_type\": \"\",\n        \"description\": \"\"\n      }\n    },\n    {\n      \"column\": \"label\",\n      \"properties\": {\n        \"dtype\": \"number\",\n        \"std\": 0,\n        \"min\": 0,\n        \"max\": 1,\n        \"num_unique_values\": 2,\n        \"samples\": [\n          0,\n          1\n        ],\n        \"semantic_type\": \"\",\n        \"description\": \"\"\n      }\n    }\n  ]\n}",
       "type": "dataframe",
       "variable_name": "df"
      },
      "text/html": [
       "\n",
       "  <div id=\"df-2fd8a31d-0bf0-473d-8cb3-13f3a8964651\" class=\"colab-df-container\">\n",
       "    <div>\n",
       "<style scoped>\n",
       "    .dataframe tbody tr th:only-of-type {\n",
       "        vertical-align: middle;\n",
       "    }\n",
       "\n",
       "    .dataframe tbody tr th {\n",
       "        vertical-align: top;\n",
       "    }\n",
       "\n",
       "    .dataframe thead th {\n",
       "        text-align: right;\n",
       "    }\n",
       "</style>\n",
       "<table border=\"1\" class=\"dataframe\">\n",
       "  <thead>\n",
       "    <tr style=\"text-align: right;\">\n",
       "      <th></th>\n",
       "      <th>Unnamed: 0</th>\n",
       "      <th>title</th>\n",
       "      <th>text</th>\n",
       "      <th>label</th>\n",
       "    </tr>\n",
       "  </thead>\n",
       "  <tbody>\n",
       "    <tr>\n",
       "      <th>0</th>\n",
       "      <td>0</td>\n",
       "      <td>LAW ENFORCEMENT ON HIGH ALERT Following Threat...</td>\n",
       "      <td>LAW ENFORCEMENT ON HIGH ALERT Following Threat...</td>\n",
       "      <td>1</td>\n",
       "    </tr>\n",
       "    <tr>\n",
       "      <th>2</th>\n",
       "      <td>2</td>\n",
       "      <td>UNBELIEVABLE! OBAMA’S ATTORNEY GENERAL SAYS MO...</td>\n",
       "      <td>UNBELIEVABLE! OBAMA’S ATTORNEY GENERAL SAYS MO...</td>\n",
       "      <td>1</td>\n",
       "    </tr>\n",
       "    <tr>\n",
       "      <th>3</th>\n",
       "      <td>3</td>\n",
       "      <td>Bobby Jindal, raised Hindu, uses story of Chri...</td>\n",
       "      <td>Bobby Jindal, raised Hindu, uses story of Chri...</td>\n",
       "      <td>0</td>\n",
       "    </tr>\n",
       "    <tr>\n",
       "      <th>4</th>\n",
       "      <td>4</td>\n",
       "      <td>SATAN 2: Russia unvelis an image of its terrif...</td>\n",
       "      <td>SATAN 2: Russia unvelis an image of its terrif...</td>\n",
       "      <td>1</td>\n",
       "    </tr>\n",
       "    <tr>\n",
       "      <th>5</th>\n",
       "      <td>5</td>\n",
       "      <td>About Time! Christian Group Sues Amazon and SP...</td>\n",
       "      <td>About Time! Christian Group Sues Amazon and SP...</td>\n",
       "      <td>1</td>\n",
       "    </tr>\n",
       "    <tr>\n",
       "      <th>...</th>\n",
       "      <td>...</td>\n",
       "      <td>...</td>\n",
       "      <td>...</td>\n",
       "      <td>...</td>\n",
       "    </tr>\n",
       "    <tr>\n",
       "      <th>72129</th>\n",
       "      <td>72129</td>\n",
       "      <td>Russians steal research on Trump in hack of U....</td>\n",
       "      <td>Russians steal research on Trump in hack of U....</td>\n",
       "      <td>0</td>\n",
       "    </tr>\n",
       "    <tr>\n",
       "      <th>72130</th>\n",
       "      <td>72130</td>\n",
       "      <td>WATCH: Giuliani Demands That Democrats Apolog...</td>\n",
       "      <td>WATCH: Giuliani Demands That Democrats Apolog...</td>\n",
       "      <td>1</td>\n",
       "    </tr>\n",
       "    <tr>\n",
       "      <th>72131</th>\n",
       "      <td>72131</td>\n",
       "      <td>Migrants Refuse To Leave Train At Refugee Camp...</td>\n",
       "      <td>Migrants Refuse To Leave Train At Refugee Camp...</td>\n",
       "      <td>0</td>\n",
       "    </tr>\n",
       "    <tr>\n",
       "      <th>72132</th>\n",
       "      <td>72132</td>\n",
       "      <td>Trump tussle gives unpopular Mexican leader mu...</td>\n",
       "      <td>Trump tussle gives unpopular Mexican leader mu...</td>\n",
       "      <td>0</td>\n",
       "    </tr>\n",
       "    <tr>\n",
       "      <th>72133</th>\n",
       "      <td>72133</td>\n",
       "      <td>Goldman Sachs Endorses Hillary Clinton For Pre...</td>\n",
       "      <td>Goldman Sachs Endorses Hillary Clinton For Pre...</td>\n",
       "      <td>1</td>\n",
       "    </tr>\n",
       "  </tbody>\n",
       "</table>\n",
       "<p>71537 rows × 4 columns</p>\n",
       "</div>\n",
       "    <div class=\"colab-df-buttons\">\n",
       "\n",
       "  <div class=\"colab-df-container\">\n",
       "    <button class=\"colab-df-convert\" onclick=\"convertToInteractive('df-2fd8a31d-0bf0-473d-8cb3-13f3a8964651')\"\n",
       "            title=\"Convert this dataframe to an interactive table.\"\n",
       "            style=\"display:none;\">\n",
       "\n",
       "  <svg xmlns=\"http://www.w3.org/2000/svg\" height=\"24px\" viewBox=\"0 -960 960 960\">\n",
       "    <path d=\"M120-120v-720h720v720H120Zm60-500h600v-160H180v160Zm220 220h160v-160H400v160Zm0 220h160v-160H400v160ZM180-400h160v-160H180v160Zm440 0h160v-160H620v160ZM180-180h160v-160H180v160Zm440 0h160v-160H620v160Z\"/>\n",
       "  </svg>\n",
       "    </button>\n",
       "\n",
       "  <style>\n",
       "    .colab-df-container {\n",
       "      display:flex;\n",
       "      gap: 12px;\n",
       "    }\n",
       "\n",
       "    .colab-df-convert {\n",
       "      background-color: #E8F0FE;\n",
       "      border: none;\n",
       "      border-radius: 50%;\n",
       "      cursor: pointer;\n",
       "      display: none;\n",
       "      fill: #1967D2;\n",
       "      height: 32px;\n",
       "      padding: 0 0 0 0;\n",
       "      width: 32px;\n",
       "    }\n",
       "\n",
       "    .colab-df-convert:hover {\n",
       "      background-color: #E2EBFA;\n",
       "      box-shadow: 0px 1px 2px rgba(60, 64, 67, 0.3), 0px 1px 3px 1px rgba(60, 64, 67, 0.15);\n",
       "      fill: #174EA6;\n",
       "    }\n",
       "\n",
       "    .colab-df-buttons div {\n",
       "      margin-bottom: 4px;\n",
       "    }\n",
       "\n",
       "    [theme=dark] .colab-df-convert {\n",
       "      background-color: #3B4455;\n",
       "      fill: #D2E3FC;\n",
       "    }\n",
       "\n",
       "    [theme=dark] .colab-df-convert:hover {\n",
       "      background-color: #434B5C;\n",
       "      box-shadow: 0px 1px 3px 1px rgba(0, 0, 0, 0.15);\n",
       "      filter: drop-shadow(0px 1px 2px rgba(0, 0, 0, 0.3));\n",
       "      fill: #FFFFFF;\n",
       "    }\n",
       "  </style>\n",
       "\n",
       "    <script>\n",
       "      const buttonEl =\n",
       "        document.querySelector('#df-2fd8a31d-0bf0-473d-8cb3-13f3a8964651 button.colab-df-convert');\n",
       "      buttonEl.style.display =\n",
       "        google.colab.kernel.accessAllowed ? 'block' : 'none';\n",
       "\n",
       "      async function convertToInteractive(key) {\n",
       "        const element = document.querySelector('#df-2fd8a31d-0bf0-473d-8cb3-13f3a8964651');\n",
       "        const dataTable =\n",
       "          await google.colab.kernel.invokeFunction('convertToInteractive',\n",
       "                                                    [key], {});\n",
       "        if (!dataTable) return;\n",
       "\n",
       "        const docLinkHtml = 'Like what you see? Visit the ' +\n",
       "          '<a target=\"_blank\" href=https://colab.research.google.com/notebooks/data_table.ipynb>data table notebook</a>'\n",
       "          + ' to learn more about interactive tables.';\n",
       "        element.innerHTML = '';\n",
       "        dataTable['output_type'] = 'display_data';\n",
       "        await google.colab.output.renderOutput(dataTable, element);\n",
       "        const docLink = document.createElement('div');\n",
       "        docLink.innerHTML = docLinkHtml;\n",
       "        element.appendChild(docLink);\n",
       "      }\n",
       "    </script>\n",
       "  </div>\n",
       "\n",
       "\n",
       "<div id=\"df-1289c5f4-b513-43a8-907c-e1d10b846f07\">\n",
       "  <button class=\"colab-df-quickchart\" onclick=\"quickchart('df-1289c5f4-b513-43a8-907c-e1d10b846f07')\"\n",
       "            title=\"Suggest charts\"\n",
       "            style=\"display:none;\">\n",
       "\n",
       "<svg xmlns=\"http://www.w3.org/2000/svg\" height=\"24px\"viewBox=\"0 0 24 24\"\n",
       "     width=\"24px\">\n",
       "    <g>\n",
       "        <path d=\"M19 3H5c-1.1 0-2 .9-2 2v14c0 1.1.9 2 2 2h14c1.1 0 2-.9 2-2V5c0-1.1-.9-2-2-2zM9 17H7v-7h2v7zm4 0h-2V7h2v10zm4 0h-2v-4h2v4z\"/>\n",
       "    </g>\n",
       "</svg>\n",
       "  </button>\n",
       "\n",
       "<style>\n",
       "  .colab-df-quickchart {\n",
       "      --bg-color: #E8F0FE;\n",
       "      --fill-color: #1967D2;\n",
       "      --hover-bg-color: #E2EBFA;\n",
       "      --hover-fill-color: #174EA6;\n",
       "      --disabled-fill-color: #AAA;\n",
       "      --disabled-bg-color: #DDD;\n",
       "  }\n",
       "\n",
       "  [theme=dark] .colab-df-quickchart {\n",
       "      --bg-color: #3B4455;\n",
       "      --fill-color: #D2E3FC;\n",
       "      --hover-bg-color: #434B5C;\n",
       "      --hover-fill-color: #FFFFFF;\n",
       "      --disabled-bg-color: #3B4455;\n",
       "      --disabled-fill-color: #666;\n",
       "  }\n",
       "\n",
       "  .colab-df-quickchart {\n",
       "    background-color: var(--bg-color);\n",
       "    border: none;\n",
       "    border-radius: 50%;\n",
       "    cursor: pointer;\n",
       "    display: none;\n",
       "    fill: var(--fill-color);\n",
       "    height: 32px;\n",
       "    padding: 0;\n",
       "    width: 32px;\n",
       "  }\n",
       "\n",
       "  .colab-df-quickchart:hover {\n",
       "    background-color: var(--hover-bg-color);\n",
       "    box-shadow: 0 1px 2px rgba(60, 64, 67, 0.3), 0 1px 3px 1px rgba(60, 64, 67, 0.15);\n",
       "    fill: var(--button-hover-fill-color);\n",
       "  }\n",
       "\n",
       "  .colab-df-quickchart-complete:disabled,\n",
       "  .colab-df-quickchart-complete:disabled:hover {\n",
       "    background-color: var(--disabled-bg-color);\n",
       "    fill: var(--disabled-fill-color);\n",
       "    box-shadow: none;\n",
       "  }\n",
       "\n",
       "  .colab-df-spinner {\n",
       "    border: 2px solid var(--fill-color);\n",
       "    border-color: transparent;\n",
       "    border-bottom-color: var(--fill-color);\n",
       "    animation:\n",
       "      spin 1s steps(1) infinite;\n",
       "  }\n",
       "\n",
       "  @keyframes spin {\n",
       "    0% {\n",
       "      border-color: transparent;\n",
       "      border-bottom-color: var(--fill-color);\n",
       "      border-left-color: var(--fill-color);\n",
       "    }\n",
       "    20% {\n",
       "      border-color: transparent;\n",
       "      border-left-color: var(--fill-color);\n",
       "      border-top-color: var(--fill-color);\n",
       "    }\n",
       "    30% {\n",
       "      border-color: transparent;\n",
       "      border-left-color: var(--fill-color);\n",
       "      border-top-color: var(--fill-color);\n",
       "      border-right-color: var(--fill-color);\n",
       "    }\n",
       "    40% {\n",
       "      border-color: transparent;\n",
       "      border-right-color: var(--fill-color);\n",
       "      border-top-color: var(--fill-color);\n",
       "    }\n",
       "    60% {\n",
       "      border-color: transparent;\n",
       "      border-right-color: var(--fill-color);\n",
       "    }\n",
       "    80% {\n",
       "      border-color: transparent;\n",
       "      border-right-color: var(--fill-color);\n",
       "      border-bottom-color: var(--fill-color);\n",
       "    }\n",
       "    90% {\n",
       "      border-color: transparent;\n",
       "      border-bottom-color: var(--fill-color);\n",
       "    }\n",
       "  }\n",
       "</style>\n",
       "\n",
       "  <script>\n",
       "    async function quickchart(key) {\n",
       "      const quickchartButtonEl =\n",
       "        document.querySelector('#' + key + ' button');\n",
       "      quickchartButtonEl.disabled = true;  // To prevent multiple clicks.\n",
       "      quickchartButtonEl.classList.add('colab-df-spinner');\n",
       "      try {\n",
       "        const charts = await google.colab.kernel.invokeFunction(\n",
       "            'suggestCharts', [key], {});\n",
       "      } catch (error) {\n",
       "        console.error('Error during call to suggestCharts:', error);\n",
       "      }\n",
       "      quickchartButtonEl.classList.remove('colab-df-spinner');\n",
       "      quickchartButtonEl.classList.add('colab-df-quickchart-complete');\n",
       "    }\n",
       "    (() => {\n",
       "      let quickchartButtonEl =\n",
       "        document.querySelector('#df-1289c5f4-b513-43a8-907c-e1d10b846f07 button');\n",
       "      quickchartButtonEl.style.display =\n",
       "        google.colab.kernel.accessAllowed ? 'block' : 'none';\n",
       "    })();\n",
       "  </script>\n",
       "</div>\n",
       "\n",
       "  <div id=\"id_41244b9b-8d80-4ce8-a66b-b9bb02b2ae57\">\n",
       "    <style>\n",
       "      .colab-df-generate {\n",
       "        background-color: #E8F0FE;\n",
       "        border: none;\n",
       "        border-radius: 50%;\n",
       "        cursor: pointer;\n",
       "        display: none;\n",
       "        fill: #1967D2;\n",
       "        height: 32px;\n",
       "        padding: 0 0 0 0;\n",
       "        width: 32px;\n",
       "      }\n",
       "\n",
       "      .colab-df-generate:hover {\n",
       "        background-color: #E2EBFA;\n",
       "        box-shadow: 0px 1px 2px rgba(60, 64, 67, 0.3), 0px 1px 3px 1px rgba(60, 64, 67, 0.15);\n",
       "        fill: #174EA6;\n",
       "      }\n",
       "\n",
       "      [theme=dark] .colab-df-generate {\n",
       "        background-color: #3B4455;\n",
       "        fill: #D2E3FC;\n",
       "      }\n",
       "\n",
       "      [theme=dark] .colab-df-generate:hover {\n",
       "        background-color: #434B5C;\n",
       "        box-shadow: 0px 1px 3px 1px rgba(0, 0, 0, 0.15);\n",
       "        filter: drop-shadow(0px 1px 2px rgba(0, 0, 0, 0.3));\n",
       "        fill: #FFFFFF;\n",
       "      }\n",
       "    </style>\n",
       "    <button class=\"colab-df-generate\" onclick=\"generateWithVariable('df')\"\n",
       "            title=\"Generate code using this dataframe.\"\n",
       "            style=\"display:none;\">\n",
       "\n",
       "  <svg xmlns=\"http://www.w3.org/2000/svg\" height=\"24px\"viewBox=\"0 0 24 24\"\n",
       "       width=\"24px\">\n",
       "    <path d=\"M7,19H8.4L18.45,9,17,7.55,7,17.6ZM5,21V16.75L18.45,3.32a2,2,0,0,1,2.83,0l1.4,1.43a1.91,1.91,0,0,1,.58,1.4,1.91,1.91,0,0,1-.58,1.4L9.25,21ZM18.45,9,17,7.55Zm-12,3A5.31,5.31,0,0,0,4.9,8.1,5.31,5.31,0,0,0,1,6.5,5.31,5.31,0,0,0,4.9,4.9,5.31,5.31,0,0,0,6.5,1,5.31,5.31,0,0,0,8.1,4.9,5.31,5.31,0,0,0,12,6.5,5.46,5.46,0,0,0,6.5,12Z\"/>\n",
       "  </svg>\n",
       "    </button>\n",
       "    <script>\n",
       "      (() => {\n",
       "      const buttonEl =\n",
       "        document.querySelector('#id_41244b9b-8d80-4ce8-a66b-b9bb02b2ae57 button.colab-df-generate');\n",
       "      buttonEl.style.display =\n",
       "        google.colab.kernel.accessAllowed ? 'block' : 'none';\n",
       "\n",
       "      buttonEl.onclick = () => {\n",
       "        google.colab.notebook.generateWithVariable('df');\n",
       "      }\n",
       "      })();\n",
       "    </script>\n",
       "  </div>\n",
       "\n",
       "    </div>\n",
       "  </div>\n"
      ],
      "text/plain": [
       "       Unnamed: 0                                              title  \\\n",
       "0               0  LAW ENFORCEMENT ON HIGH ALERT Following Threat...   \n",
       "2               2  UNBELIEVABLE! OBAMA’S ATTORNEY GENERAL SAYS MO...   \n",
       "3               3  Bobby Jindal, raised Hindu, uses story of Chri...   \n",
       "4               4  SATAN 2: Russia unvelis an image of its terrif...   \n",
       "5               5  About Time! Christian Group Sues Amazon and SP...   \n",
       "...           ...                                                ...   \n",
       "72129       72129  Russians steal research on Trump in hack of U....   \n",
       "72130       72130   WATCH: Giuliani Demands That Democrats Apolog...   \n",
       "72131       72131  Migrants Refuse To Leave Train At Refugee Camp...   \n",
       "72132       72132  Trump tussle gives unpopular Mexican leader mu...   \n",
       "72133       72133  Goldman Sachs Endorses Hillary Clinton For Pre...   \n",
       "\n",
       "                                                    text  label  \n",
       "0      LAW ENFORCEMENT ON HIGH ALERT Following Threat...      1  \n",
       "2      UNBELIEVABLE! OBAMA’S ATTORNEY GENERAL SAYS MO...      1  \n",
       "3      Bobby Jindal, raised Hindu, uses story of Chri...      0  \n",
       "4      SATAN 2: Russia unvelis an image of its terrif...      1  \n",
       "5      About Time! Christian Group Sues Amazon and SP...      1  \n",
       "...                                                  ...    ...  \n",
       "72129  Russians steal research on Trump in hack of U....      0  \n",
       "72130   WATCH: Giuliani Demands That Democrats Apolog...      1  \n",
       "72131  Migrants Refuse To Leave Train At Refugee Camp...      0  \n",
       "72132  Trump tussle gives unpopular Mexican leader mu...      0  \n",
       "72133  Goldman Sachs Endorses Hillary Clinton For Pre...      1  \n",
       "\n",
       "[71537 rows x 4 columns]"
      ]
     },
     "execution_count": 3,
     "metadata": {},
     "output_type": "execute_result"
    }
   ],
   "source": [
    "df.dropna(subset = ['text', 'title'], inplace = True)\n",
    "df['text'] = df['title'] + ' ' + df['text']\n",
    "df"
   ]
  },
  {
   "cell_type": "code",
   "execution_count": 4,
   "metadata": {
    "executionInfo": {
     "elapsed": 5381,
     "status": "ok",
     "timestamp": 1732330316908,
     "user": {
      "displayName": "Trực Tuấn",
      "userId": "06439763033496124211"
     },
     "user_tz": -420
    },
    "id": "6NTRzOkY4LyR"
   },
   "outputs": [],
   "source": [
    "import gensim\n",
    "import numpy as np\n",
    "from sklearn.model_selection import train_test_split\n",
    "from sklearn.metrics import classification_report, accuracy_score, precision_score, recall_score, f1_score, confusion_matrix\n",
    "from tensorflow.keras.preprocessing.sequence import pad_sequences\n",
    "from tensorflow.keras.models import Sequential\n",
    "from tensorflow.keras.layers import Embedding, GRU, Dense, Dropout, BatchNormalization\n",
    "from tensorflow.keras.callbacks import EarlyStopping\n",
    "import matplotlib.pyplot as plt\n",
    "import seaborn as sns"
   ]
  },
  {
   "cell_type": "markdown",
   "metadata": {},
   "source": [
    "Word2Vec"
   ]
  },
  {
   "cell_type": "code",
   "execution_count": 5,
   "metadata": {
    "executionInfo": {
     "elapsed": 403418,
     "status": "ok",
     "timestamp": 1732330720324,
     "user": {
      "displayName": "Trực Tuấn",
      "userId": "06439763033496124211"
     },
     "user_tz": -420
    },
    "id": "c2PNBvFh4Lvd"
   },
   "outputs": [],
   "source": [
    "X = df['text']\n",
    "y = df['label']\n",
    "\n",
    "sentences = [sentence.split() for sentence in X]\n",
    "\n",
    "embedding_dim = 100\n",
    "word2vec_model = gensim.models.Word2Vec(sentences, vector_size=embedding_dim, window=5, min_count=1, workers=4)\n",
    "\n",
    "word_index = {word: i for i, word in enumerate(word2vec_model.wv.index_to_key, start=1)}\n",
    "X_encoded = [[word_index[word] for word in sentence if word in word_index] for sentence in sentences]\n",
    "\n",
    "max_len = 200\n",
    "X_pad = pad_sequences(X_encoded, maxlen=max_len, padding='post')"
   ]
  },
  {
   "cell_type": "code",
   "execution_count": 6,
   "metadata": {
    "colab": {
     "base_uri": "https://localhost:8080/"
    },
    "executionInfo": {
     "elapsed": 11,
     "status": "ok",
     "timestamp": 1732330720326,
     "user": {
      "displayName": "Trực Tuấn",
      "userId": "06439763033496124211"
     },
     "user_tz": -420
    },
    "id": "qNmuS1UV4LtB",
    "outputId": "8c9f7b5c-880f-4df9-bcaf-df73822786c3"
   },
   "outputs": [
    {
     "data": {
      "text/plain": [
       "(14308, 200)"
      ]
     },
     "execution_count": 6,
     "metadata": {},
     "output_type": "execute_result"
    }
   ],
   "source": [
    "X_train, X_test, y_train, y_test = train_test_split(X_pad, y, test_size=0.2, random_state=42)\n",
    "X_train.shape\n",
    "X_test.shape"
   ]
  },
  {
   "cell_type": "code",
   "execution_count": 7,
   "metadata": {
    "colab": {
     "base_uri": "https://localhost:8080/"
    },
    "executionInfo": {
     "elapsed": 1995,
     "status": "ok",
     "timestamp": 1732330722316,
     "user": {
      "displayName": "Trực Tuấn",
      "userId": "06439763033496124211"
     },
     "user_tz": -420
    },
    "id": "JnDkJpnX4LqY",
    "outputId": "2475e0d5-688e-4bb8-9c11-0759570ccfd3"
   },
   "outputs": [
    {
     "name": "stdout",
     "output_type": "stream",
     "text": [
      "Embedding matrix shape: (805862, 100)\n"
     ]
    }
   ],
   "source": [
    "embedding_matrix = np.zeros((len(word_index) + 1, embedding_dim))\n",
    "for word, i in word_index.items():\n",
    "    embedding_matrix[i] = word2vec_model.wv[word]\n",
    "\n",
    "print(\"Embedding matrix shape:\", embedding_matrix.shape)"
   ]
  },
  {
   "cell_type": "markdown",
   "metadata": {},
   "source": [
    "Xây dựng mô hình "
   ]
  },
  {
   "cell_type": "code",
   "execution_count": 8,
   "metadata": {
    "colab": {
     "base_uri": "https://localhost:8080/",
     "height": 468
    },
    "executionInfo": {
     "elapsed": 3369,
     "status": "ok",
     "timestamp": 1732330725682,
     "user": {
      "displayName": "Trực Tuấn",
      "userId": "06439763033496124211"
     },
     "user_tz": -420
    },
    "id": "Lo0D8cuo4Lno",
    "outputId": "33f5189d-d95d-44a7-e8cd-690968ec3e5f"
   },
   "outputs": [
    {
     "name": "stderr",
     "output_type": "stream",
     "text": [
      "/usr/local/lib/python3.10/dist-packages/keras/src/layers/core/embedding.py:90: UserWarning: Argument `input_length` is deprecated. Just remove it.\n",
      "  warnings.warn(\n"
     ]
    },
    {
     "data": {
      "text/html": [
       "<pre style=\"white-space:pre;overflow-x:auto;line-height:normal;font-family:Menlo,'DejaVu Sans Mono',consolas,'Courier New',monospace\"><span style=\"font-weight: bold\">Model: \"sequential\"</span>\n",
       "</pre>\n"
      ],
      "text/plain": [
       "\u001b[1mModel: \"sequential\"\u001b[0m\n"
      ]
     },
     "metadata": {},
     "output_type": "display_data"
    },
    {
     "data": {
      "text/html": [
       "<pre style=\"white-space:pre;overflow-x:auto;line-height:normal;font-family:Menlo,'DejaVu Sans Mono',consolas,'Courier New',monospace\">┏━━━━━━━━━━━━━━━━━━━━━━━━━━━━━━━━━━━━━━┳━━━━━━━━━━━━━━━━━━━━━━━━━━━━━┳━━━━━━━━━━━━━━━━━┓\n",
       "┃<span style=\"font-weight: bold\"> Layer (type)                         </span>┃<span style=\"font-weight: bold\"> Output Shape                </span>┃<span style=\"font-weight: bold\">         Param # </span>┃\n",
       "┡━━━━━━━━━━━━━━━━━━━━━━━━━━━━━━━━━━━━━━╇━━━━━━━━━━━━━━━━━━━━━━━━━━━━━╇━━━━━━━━━━━━━━━━━┩\n",
       "│ embedding (<span style=\"color: #0087ff; text-decoration-color: #0087ff\">Embedding</span>)                │ ?                           │      <span style=\"color: #00af00; text-decoration-color: #00af00\">80,586,200</span> │\n",
       "├──────────────────────────────────────┼─────────────────────────────┼─────────────────┤\n",
       "│ dropout (<span style=\"color: #0087ff; text-decoration-color: #0087ff\">Dropout</span>)                    │ ?                           │     <span style=\"color: #00af00; text-decoration-color: #00af00\">0</span> (unbuilt) │\n",
       "├──────────────────────────────────────┼─────────────────────────────┼─────────────────┤\n",
       "│ gru (<span style=\"color: #0087ff; text-decoration-color: #0087ff\">GRU</span>)                            │ ?                           │     <span style=\"color: #00af00; text-decoration-color: #00af00\">0</span> (unbuilt) │\n",
       "├──────────────────────────────────────┼─────────────────────────────┼─────────────────┤\n",
       "│ dropout_1 (<span style=\"color: #0087ff; text-decoration-color: #0087ff\">Dropout</span>)                  │ ?                           │     <span style=\"color: #00af00; text-decoration-color: #00af00\">0</span> (unbuilt) │\n",
       "├──────────────────────────────────────┼─────────────────────────────┼─────────────────┤\n",
       "│ gru_1 (<span style=\"color: #0087ff; text-decoration-color: #0087ff\">GRU</span>)                          │ ?                           │     <span style=\"color: #00af00; text-decoration-color: #00af00\">0</span> (unbuilt) │\n",
       "├──────────────────────────────────────┼─────────────────────────────┼─────────────────┤\n",
       "│ batch_normalization                  │ ?                           │     <span style=\"color: #00af00; text-decoration-color: #00af00\">0</span> (unbuilt) │\n",
       "│ (<span style=\"color: #0087ff; text-decoration-color: #0087ff\">BatchNormalization</span>)                 │                             │                 │\n",
       "├──────────────────────────────────────┼─────────────────────────────┼─────────────────┤\n",
       "│ dense (<span style=\"color: #0087ff; text-decoration-color: #0087ff\">Dense</span>)                        │ ?                           │     <span style=\"color: #00af00; text-decoration-color: #00af00\">0</span> (unbuilt) │\n",
       "├──────────────────────────────────────┼─────────────────────────────┼─────────────────┤\n",
       "│ dropout_2 (<span style=\"color: #0087ff; text-decoration-color: #0087ff\">Dropout</span>)                  │ ?                           │     <span style=\"color: #00af00; text-decoration-color: #00af00\">0</span> (unbuilt) │\n",
       "├──────────────────────────────────────┼─────────────────────────────┼─────────────────┤\n",
       "│ dense_1 (<span style=\"color: #0087ff; text-decoration-color: #0087ff\">Dense</span>)                      │ ?                           │     <span style=\"color: #00af00; text-decoration-color: #00af00\">0</span> (unbuilt) │\n",
       "└──────────────────────────────────────┴─────────────────────────────┴─────────────────┘\n",
       "</pre>\n"
      ],
      "text/plain": [
       "┏━━━━━━━━━━━━━━━━━━━━━━━━━━━━━━━━━━━━━━┳━━━━━━━━━━━━━━━━━━━━━━━━━━━━━┳━━━━━━━━━━━━━━━━━┓\n",
       "┃\u001b[1m \u001b[0m\u001b[1mLayer (type)                        \u001b[0m\u001b[1m \u001b[0m┃\u001b[1m \u001b[0m\u001b[1mOutput Shape               \u001b[0m\u001b[1m \u001b[0m┃\u001b[1m \u001b[0m\u001b[1m        Param #\u001b[0m\u001b[1m \u001b[0m┃\n",
       "┡━━━━━━━━━━━━━━━━━━━━━━━━━━━━━━━━━━━━━━╇━━━━━━━━━━━━━━━━━━━━━━━━━━━━━╇━━━━━━━━━━━━━━━━━┩\n",
       "│ embedding (\u001b[38;5;33mEmbedding\u001b[0m)                │ ?                           │      \u001b[38;5;34m80,586,200\u001b[0m │\n",
       "├──────────────────────────────────────┼─────────────────────────────┼─────────────────┤\n",
       "│ dropout (\u001b[38;5;33mDropout\u001b[0m)                    │ ?                           │     \u001b[38;5;34m0\u001b[0m (unbuilt) │\n",
       "├──────────────────────────────────────┼─────────────────────────────┼─────────────────┤\n",
       "│ gru (\u001b[38;5;33mGRU\u001b[0m)                            │ ?                           │     \u001b[38;5;34m0\u001b[0m (unbuilt) │\n",
       "├──────────────────────────────────────┼─────────────────────────────┼─────────────────┤\n",
       "│ dropout_1 (\u001b[38;5;33mDropout\u001b[0m)                  │ ?                           │     \u001b[38;5;34m0\u001b[0m (unbuilt) │\n",
       "├──────────────────────────────────────┼─────────────────────────────┼─────────────────┤\n",
       "│ gru_1 (\u001b[38;5;33mGRU\u001b[0m)                          │ ?                           │     \u001b[38;5;34m0\u001b[0m (unbuilt) │\n",
       "├──────────────────────────────────────┼─────────────────────────────┼─────────────────┤\n",
       "│ batch_normalization                  │ ?                           │     \u001b[38;5;34m0\u001b[0m (unbuilt) │\n",
       "│ (\u001b[38;5;33mBatchNormalization\u001b[0m)                 │                             │                 │\n",
       "├──────────────────────────────────────┼─────────────────────────────┼─────────────────┤\n",
       "│ dense (\u001b[38;5;33mDense\u001b[0m)                        │ ?                           │     \u001b[38;5;34m0\u001b[0m (unbuilt) │\n",
       "├──────────────────────────────────────┼─────────────────────────────┼─────────────────┤\n",
       "│ dropout_2 (\u001b[38;5;33mDropout\u001b[0m)                  │ ?                           │     \u001b[38;5;34m0\u001b[0m (unbuilt) │\n",
       "├──────────────────────────────────────┼─────────────────────────────┼─────────────────┤\n",
       "│ dense_1 (\u001b[38;5;33mDense\u001b[0m)                      │ ?                           │     \u001b[38;5;34m0\u001b[0m (unbuilt) │\n",
       "└──────────────────────────────────────┴─────────────────────────────┴─────────────────┘\n"
      ]
     },
     "metadata": {},
     "output_type": "display_data"
    },
    {
     "data": {
      "text/html": [
       "<pre style=\"white-space:pre;overflow-x:auto;line-height:normal;font-family:Menlo,'DejaVu Sans Mono',consolas,'Courier New',monospace\"><span style=\"font-weight: bold\"> Total params: </span><span style=\"color: #00af00; text-decoration-color: #00af00\">80,586,200</span> (307.41 MB)\n",
       "</pre>\n"
      ],
      "text/plain": [
       "\u001b[1m Total params: \u001b[0m\u001b[38;5;34m80,586,200\u001b[0m (307.41 MB)\n"
      ]
     },
     "metadata": {},
     "output_type": "display_data"
    },
    {
     "data": {
      "text/html": [
       "<pre style=\"white-space:pre;overflow-x:auto;line-height:normal;font-family:Menlo,'DejaVu Sans Mono',consolas,'Courier New',monospace\"><span style=\"font-weight: bold\"> Trainable params: </span><span style=\"color: #00af00; text-decoration-color: #00af00\">80,586,200</span> (307.41 MB)\n",
       "</pre>\n"
      ],
      "text/plain": [
       "\u001b[1m Trainable params: \u001b[0m\u001b[38;5;34m80,586,200\u001b[0m (307.41 MB)\n"
      ]
     },
     "metadata": {},
     "output_type": "display_data"
    },
    {
     "data": {
      "text/html": [
       "<pre style=\"white-space:pre;overflow-x:auto;line-height:normal;font-family:Menlo,'DejaVu Sans Mono',consolas,'Courier New',monospace\"><span style=\"font-weight: bold\"> Non-trainable params: </span><span style=\"color: #00af00; text-decoration-color: #00af00\">0</span> (0.00 B)\n",
       "</pre>\n"
      ],
      "text/plain": [
       "\u001b[1m Non-trainable params: \u001b[0m\u001b[38;5;34m0\u001b[0m (0.00 B)\n"
      ]
     },
     "metadata": {},
     "output_type": "display_data"
    }
   ],
   "source": [
    "model = Sequential()\n",
    "model.add(Embedding(input_dim=len(word_index) + 1,\n",
    "                    output_dim=embedding_dim,\n",
    "                    weights=[embedding_matrix],\n",
    "                    input_length=max_len,\n",
    "                    trainable=True))\n",
    "model.add(Dropout(0.2))\n",
    "model.add(GRU(128, return_sequences=True))\n",
    "model.add(Dropout(0.3))\n",
    "model.add(GRU(64))\n",
    "model.add(BatchNormalization())\n",
    "model.add(Dense(64, activation='relu', kernel_regularizer='l2'))\n",
    "model.add(Dropout(0.4))\n",
    "model.add(Dense(1, activation='sigmoid'))\n",
    "\n",
    "model.compile(optimizer='adam', loss='binary_crossentropy', metrics=['accuracy'])\n",
    "model.summary()"
   ]
  },
  {
   "cell_type": "markdown",
   "metadata": {},
   "source": [
    "Huấn luyện mô hình "
   ]
  },
  {
   "cell_type": "code",
   "execution_count": 9,
   "metadata": {
    "colab": {
     "base_uri": "https://localhost:8080/"
    },
    "executionInfo": {
     "elapsed": 615264,
     "status": "ok",
     "timestamp": 1732331340942,
     "user": {
      "displayName": "Trực Tuấn",
      "userId": "06439763033496124211"
     },
     "user_tz": -420
    },
    "id": "rc-5GsZH4LlK",
    "outputId": "74b7560d-b22a-48a6-b66a-98a27ee3d704"
   },
   "outputs": [
    {
     "name": "stdout",
     "output_type": "stream",
     "text": [
      "Epoch 1/20\n",
      "\u001b[1m895/895\u001b[0m \u001b[32m━━━━━━━━━━━━━━━━━━━━\u001b[0m\u001b[37m\u001b[0m \u001b[1m72s\u001b[0m 67ms/step - accuracy: 0.8211 - loss: 0.6239 - val_accuracy: 0.9609 - val_loss: 0.1162\n",
      "Epoch 2/20\n",
      "\u001b[1m895/895\u001b[0m \u001b[32m━━━━━━━━━━━━━━━━━━━━\u001b[0m\u001b[37m\u001b[0m \u001b[1m75s\u001b[0m 68ms/step - accuracy: 0.9687 - loss: 0.0978 - val_accuracy: 0.9776 - val_loss: 0.0732\n",
      "Epoch 3/20\n",
      "\u001b[1m895/895\u001b[0m \u001b[32m━━━━━━━━━━━━━━━━━━━━\u001b[0m\u001b[37m\u001b[0m \u001b[1m82s\u001b[0m 68ms/step - accuracy: 0.9902 - loss: 0.0382 - val_accuracy: 0.9758 - val_loss: 0.0705\n",
      "Epoch 4/20\n",
      "\u001b[1m895/895\u001b[0m \u001b[32m━━━━━━━━━━━━━━━━━━━━\u001b[0m\u001b[37m\u001b[0m \u001b[1m81s\u001b[0m 67ms/step - accuracy: 0.9972 - loss: 0.0142 - val_accuracy: 0.9784 - val_loss: 0.0845\n",
      "Epoch 5/20\n",
      "\u001b[1m895/895\u001b[0m \u001b[32m━━━━━━━━━━━━━━━━━━━━\u001b[0m\u001b[37m\u001b[0m \u001b[1m82s\u001b[0m 67ms/step - accuracy: 0.9988 - loss: 0.0076 - val_accuracy: 0.9727 - val_loss: 0.1203\n",
      "Epoch 6/20\n",
      "\u001b[1m895/895\u001b[0m \u001b[32m━━━━━━━━━━━━━━━━━━━━\u001b[0m\u001b[37m\u001b[0m \u001b[1m82s\u001b[0m 67ms/step - accuracy: 0.9987 - loss: 0.0074 - val_accuracy: 0.9789 - val_loss: 0.1055\n",
      "Epoch 7/20\n",
      "\u001b[1m895/895\u001b[0m \u001b[32m━━━━━━━━━━━━━━━━━━━━\u001b[0m\u001b[37m\u001b[0m \u001b[1m61s\u001b[0m 68ms/step - accuracy: 0.9990 - loss: 0.0055 - val_accuracy: 0.9727 - val_loss: 0.1437\n",
      "Epoch 8/20\n",
      "\u001b[1m895/895\u001b[0m \u001b[32m━━━━━━━━━━━━━━━━━━━━\u001b[0m\u001b[37m\u001b[0m \u001b[1m81s\u001b[0m 67ms/step - accuracy: 0.9991 - loss: 0.0053 - val_accuracy: 0.9786 - val_loss: 0.1202\n"
     ]
    }
   ],
   "source": [
    "early_stopping = EarlyStopping(monitor='val_loss', patience=5, restore_best_weights=True)\n",
    "\n",
    "history = model.fit(X_train, y_train,\n",
    "                    epochs=20,\n",
    "                    batch_size=64,\n",
    "                    validation_data=(X_test, y_test),\n",
    "                    callbacks=[early_stopping])"
   ]
  },
  {
   "cell_type": "markdown",
   "metadata": {},
   "source": [
    "Vẽ đồ thị học accuracy và loss "
   ]
  },
  {
   "cell_type": "code",
   "execution_count": 10,
   "metadata": {
    "colab": {
     "base_uri": "https://localhost:8080/",
     "height": 507
    },
    "executionInfo": {
     "elapsed": 908,
     "status": "ok",
     "timestamp": 1732331341844,
     "user": {
      "displayName": "Trực Tuấn",
      "userId": "06439763033496124211"
     },
     "user_tz": -420
    },
    "id": "E84-Ew0z4LiV",
    "outputId": "2919c9bd-71df-4279-c4d6-7953844a9154"
   },
   "outputs": [
    {
     "data": {
      "image/png": "[encoded data removed]",
      "text/plain": [
       "<Figure size 1400x500 with 2 Axes>"
      ]
     },
     "metadata": {},
     "output_type": "display_data"
    }
   ],
   "source": [
    "import matplotlib.pyplot as plt\n",
    "plt.figure(figsize=(14, 5))\n",
    "\n",
    "plt.subplot(1, 2, 1)\n",
    "plt.plot(history.history['accuracy'], label='Train Accuracy')\n",
    "plt.plot(history.history['val_accuracy'], label='Validation Accuracy')\n",
    "plt.title('Model Accuracy')\n",
    "plt.ylabel('Accuracy')\n",
    "plt.xlabel('Epoch')\n",
    "plt.legend(loc='upper left')\n",
    "\n",
    "plt.subplot(1, 2, 2)\n",
    "plt.plot(history.history['loss'], label='Train Loss')\n",
    "plt.plot(history.history['val_loss'], label='Validation Loss')\n",
    "plt.title('Model Loss')\n",
    "plt.ylabel('Loss')\n",
    "plt.xlabel('Epoch')\n",
    "plt.legend(loc='upper left')\n",
    "\n",
    "plt.tight_layout()\n",
    "plt.show()"
   ]
  },
  {
   "cell_type": "markdown",
   "metadata": {},
   "source": [
    "Đánh giá mô hình "
   ]
  },
  {
   "cell_type": "code",
   "execution_count": 11,
   "metadata": {
    "colab": {
     "base_uri": "https://localhost:8080/"
    },
    "executionInfo": {
     "elapsed": 3855,
     "status": "ok",
     "timestamp": 1732331345696,
     "user": {
      "displayName": "Trực Tuấn",
      "userId": "06439763033496124211"
     },
     "user_tz": -420
    },
    "id": "4H2jJDS14Lfe",
    "outputId": "87a14d91-55e1-4402-ab5b-be12bf95087f"
   },
   "outputs": [
    {
     "name": "stdout",
     "output_type": "stream",
     "text": [
      "\u001b[1m448/448\u001b[0m \u001b[32m━━━━━━━━━━━━━━━━━━━━\u001b[0m\u001b[37m\u001b[0m \u001b[1m3s\u001b[0m 6ms/step\n",
      "Accuracy: 0.975817724350014\n",
      "Precision: 0.9670150671915297\n",
      "Recall: 0.9857478898574789\n",
      "F1-score: 0.9762916266959024\n",
      "Classification Report:\n",
      "               precision    recall  f1-score   support\n",
      "\n",
      "           0       0.99      0.97      0.98      7081\n",
      "           1       0.97      0.99      0.98      7227\n",
      "\n",
      "    accuracy                           0.98     14308\n",
      "   macro avg       0.98      0.98      0.98     14308\n",
      "weighted avg       0.98      0.98      0.98     14308\n",
      "\n"
     ]
    }
   ],
   "source": [
    "y_pred = (model.predict(X_test) > 0.5).astype(\"int32\")\n",
    "\n",
    "accuracy = accuracy_score(y_test, y_pred)\n",
    "precision = precision_score(y_test, y_pred)\n",
    "recall = recall_score(y_test, y_pred)\n",
    "f1 = f1_score(y_test, y_pred)\n",
    "\n",
    "print(\"Accuracy:\", accuracy)\n",
    "print(\"Precision:\", precision)\n",
    "print(\"Recall:\", recall)\n",
    "print(\"F1-score:\", f1)\n",
    "print(\"Classification Report:\\n\", classification_report(y_test, y_pred))"
   ]
  },
  {
   "cell_type": "markdown",
   "metadata": {},
   "source": [
    "Vẽ ma trận nhầm lẫn "
   ]
  },
  {
   "cell_type": "code",
   "execution_count": 12,
   "metadata": {
    "colab": {
     "base_uri": "https://localhost:8080/",
     "height": 564
    },
    "executionInfo": {
     "elapsed": 5,
     "status": "ok",
     "timestamp": 1732331345696,
     "user": {
      "displayName": "Trực Tuấn",
      "userId": "06439763033496124211"
     },
     "user_tz": -420
    },
    "id": "670zj4EB4Lcu",
    "outputId": "3b59b024-1582-481a-8aec-0019aaa8f9fb"
   },
   "outputs": [
    {
     "data": {
      "image/png": "[encoded data removed]",
      "text/plain": [
       "<Figure size 800x600 with 2 Axes>"
      ]
     },
     "metadata": {},
     "output_type": "display_data"
    }
   ],
   "source": [
    "conf_matrix = confusion_matrix(y_test, y_pred)\n",
    "plt.figure(figsize=(8, 6))\n",
    "sns.heatmap(conf_matrix, annot=True, fmt='d', cmap='Blues')\n",
    "plt.xlabel('Predicted Labels')\n",
    "plt.ylabel('True Labels')\n",
    "plt.title('Confusion Matrix')\n",
    "plt.show()"
   ]
  },
  {
   "cell_type": "markdown",
   "metadata": {
    "id": "y5hELW196N3X"
   },
   "source": [
    "### SR"
   ]
  },
  {
   "cell_type": "markdown",
   "metadata": {},
   "source": [
    "Thực hiện tăng cường dữ liệu bằng cách thay thế từ đồng nghĩa (SR)"
   ]
  },
  {
   "cell_type": "code",
   "execution_count": 13,
   "metadata": {
    "colab": {
     "base_uri": "https://localhost:8080/"
    },
    "executionInfo": {
     "elapsed": 1717265,
     "status": "ok",
     "timestamp": 1732333062958,
     "user": {
      "displayName": "Trực Tuấn",
      "userId": "06439763033496124211"
     },
     "user_tz": -420
    },
    "id": "DjW4PP2E4LZ_",
    "outputId": "6d4fbd49-b706-4279-8d82-b7a71f573699"
   },
   "outputs": [
    {
     "name": "stderr",
     "output_type": "stream",
     "text": [
      "[nltk_data] Downloading package stopwords to /root/nltk_data...\n",
      "[nltk_data]   Unzipping corpora/stopwords.zip.\n",
      "[nltk_data] Downloading package punkt to /root/nltk_data...\n",
      "[nltk_data]   Unzipping tokenizers/punkt.zip.\n",
      "[nltk_data] Downloading package punkt_tab to /root/nltk_data...\n",
      "[nltk_data]   Unzipping tokenizers/punkt_tab.zip.\n",
      "[nltk_data] Downloading package wordnet to /root/nltk_data...\n"
     ]
    }
   ],
   "source": [
    "import nltk\n",
    "from nltk.stem import PorterStemmer\n",
    "from nltk.corpus import stopwords, wordnet\n",
    "from nltk.tokenize import word_tokenize\n",
    "import re\n",
    "nltk.download('stopwords')\n",
    "nltk.download('punkt')\n",
    "nltk.download('punkt_tab')\n",
    "nltk.download('wordnet')\n",
    "\n",
    "stop_words = set(stopwords.words('english'))\n",
    "stemmer = PorterStemmer()\n",
    "\n",
    "def replace_synonyms(text):\n",
    "    words = word_tokenize(text)\n",
    "    replaced_text = []\n",
    "    for word in words:\n",
    "        synonyms = wordnet.synsets(word)\n",
    "        if synonyms:\n",
    "            synonym = synonyms[0].lemmas()[0].name()\n",
    "            replaced_text.append(synonym.replace('_', ' '))\n",
    "        else:\n",
    "            replaced_text.append(word)\n",
    "    return ' '.join(replaced_text)\n",
    "\n",
    "def remove_function_words(text):\n",
    "    words = word_tokenize(text)\n",
    "    filtered_text = [word for word in words if word.lower() not in stop_words]\n",
    "    return ' '.join(filtered_text)\n",
    "\n",
    "def preprocess_txt(text, use_synonyms=False, use_fwd=False):\n",
    "    text = text.lower()\n",
    "    text = re.sub(r'http\\S+|www\\S+|https\\S+', '', text)\n",
    "    text = re.sub(r'<.*?>', '', text)\n",
    "    text = re.sub(r'[^a-zA-Z\\s]', '', text)\n",
    "\n",
    "    if use_synonyms:\n",
    "        text = replace_synonyms(text)\n",
    "\n",
    "    if use_fwd:\n",
    "        text = remove_function_words(text)\n",
    "\n",
    "    tokens = word_tokenize(text)\n",
    "    tokens = [stemmer.stem(token) for token in tokens]\n",
    "\n",
    "    unique_tokens = []\n",
    "    for token in tokens:\n",
    "        if token not in unique_tokens:\n",
    "            unique_tokens.append(token)\n",
    "\n",
    "    preprocessed_text = ' '.join(unique_tokens)\n",
    "    return preprocessed_text\n",
    "\n",
    "df['preprocessed_text'] = df['text'].apply(lambda x: preprocess_txt(x, use_synonyms=True, use_fwd=False) if isinstance(x, str) else \"\")\n",
    "\n",
    "X = df['preprocessed_text']\n",
    "y = df['label']"
   ]
  },
  {
   "cell_type": "markdown",
   "metadata": {},
   "source": [
    "Word2Vec"
   ]
  },
  {
   "cell_type": "code",
   "execution_count": 16,
   "metadata": {
    "executionInfo": {
     "elapsed": 214517,
     "status": "ok",
     "timestamp": 1732334820557,
     "user": {
      "displayName": "Trực Tuấn",
      "userId": "06439763033496124211"
     },
     "user_tz": -420
    },
    "id": "v1rWW9SM4LXJ"
   },
   "outputs": [],
   "source": [
    "from gensim.models import Word2Vec\n",
    "\n",
    "sentences = [sentence.split() for sentence in X]\n",
    "\n",
    "embedding_dim = 100\n",
    "word2vec_model = Word2Vec(sentences, vector_size=embedding_dim, window=5, min_count=1, workers=4)\n",
    "\n",
    "# Chuyển văn bản thành chuỗi các chỉ số tương ứng với từ vựng trong Word2Vec\n",
    "tokenizer = gensim.utils.simple_preprocess  # Sử dụng tokenizer đơn giản của Gensim\n",
    "X_tokenized = [tokenizer(text) for text in X]\n",
    "\n",
    "# 8. Chuyển đổi từ vựng thành các chỉ số\n",
    "word_index = {word: i for i, word in enumerate(word2vec_model.wv.index_to_key, start=1)}  # Tạo bảng chỉ số từ\n",
    "X_encoded = [[word_index[word] for word in sentence if word in word_index] for sentence in X_tokenized]\n",
    "\n",
    "# Pad các chuỗi để đảm bảo có cùng độ dài\n",
    "max_len = 200\n",
    "X_pad = pad_sequences(X_encoded, maxlen=max_len, padding='post')"
   ]
  },
  {
   "cell_type": "code",
   "execution_count": 17,
   "metadata": {
    "colab": {
     "base_uri": "https://localhost:8080/"
    },
    "executionInfo": {
     "elapsed": 6,
     "status": "ok",
     "timestamp": 1732334823023,
     "user": {
      "displayName": "Trực Tuấn",
      "userId": "06439763033496124211"
     },
     "user_tz": -420
    },
    "id": "8DHEn0H_4LUm",
    "outputId": "12181327-f9c9-4544-ce16-8cf4003a20c6"
   },
   "outputs": [
    {
     "data": {
      "text/plain": [
       "(14308, 200)"
      ]
     },
     "execution_count": 17,
     "metadata": {},
     "output_type": "execute_result"
    }
   ],
   "source": [
    "X_train, X_test, y_train, y_test = train_test_split(X_pad, y, test_size=0.2, random_state=42)\n",
    "X_train.shape\n",
    "X_test.shape"
   ]
  },
  {
   "cell_type": "code",
   "execution_count": 18,
   "metadata": {
    "colab": {
     "base_uri": "https://localhost:8080/"
    },
    "executionInfo": {
     "elapsed": 1564,
     "status": "ok",
     "timestamp": 1732334824584,
     "user": {
      "displayName": "Trực Tuấn",
      "userId": "06439763033496124211"
     },
     "user_tz": -420
    },
    "id": "CdEdoJEc4LR6",
    "outputId": "a26e15b8-4414-42f7-b3ae-4e5a175a5f16"
   },
   "outputs": [
    {
     "name": "stdout",
     "output_type": "stream",
     "text": [
      "Embedding matrix shape: (269420, 100)\n"
     ]
    }
   ],
   "source": [
    "embedding_matrix = np.zeros((len(word_index) + 1, embedding_dim))\n",
    "for word, i in word_index.items():\n",
    "    embedding_matrix[i] = word2vec_model.wv[word]\n",
    "\n",
    "print(\"Embedding matrix shape:\", embedding_matrix.shape)"
   ]
  },
  {
   "cell_type": "markdown",
   "metadata": {},
   "source": [
    "Xây dựng mô hình "
   ]
  },
  {
   "cell_type": "code",
   "execution_count": 19,
   "metadata": {
    "colab": {
     "base_uri": "https://localhost:8080/",
     "height": 468
    },
    "executionInfo": {
     "elapsed": 9,
     "status": "ok",
     "timestamp": 1732334824585,
     "user": {
      "displayName": "Trực Tuấn",
      "userId": "06439763033496124211"
     },
     "user_tz": -420
    },
    "id": "ckL2DM1E4LPU",
    "outputId": "a13a619d-f2c1-4d33-f77b-c7ea24fdcfbc"
   },
   "outputs": [
    {
     "name": "stderr",
     "output_type": "stream",
     "text": [
      "/usr/local/lib/python3.10/dist-packages/keras/src/layers/core/embedding.py:90: UserWarning: Argument `input_length` is deprecated. Just remove it.\n",
      "  warnings.warn(\n"
     ]
    },
    {
     "data": {
      "text/html": [
       "<pre style=\"white-space:pre;overflow-x:auto;line-height:normal;font-family:Menlo,'DejaVu Sans Mono',consolas,'Courier New',monospace\"><span style=\"font-weight: bold\">Model: \"sequential_1\"</span>\n",
       "</pre>\n"
      ],
      "text/plain": [
       "\u001b[1mModel: \"sequential_1\"\u001b[0m\n"
      ]
     },
     "metadata": {},
     "output_type": "display_data"
    },
    {
     "data": {
      "text/html": [
       "<pre style=\"white-space:pre;overflow-x:auto;line-height:normal;font-family:Menlo,'DejaVu Sans Mono',consolas,'Courier New',monospace\">┏━━━━━━━━━━━━━━━━━━━━━━━━━━━━━━━━━━━━━━┳━━━━━━━━━━━━━━━━━━━━━━━━━━━━━┳━━━━━━━━━━━━━━━━━┓\n",
       "┃<span style=\"font-weight: bold\"> Layer (type)                         </span>┃<span style=\"font-weight: bold\"> Output Shape                </span>┃<span style=\"font-weight: bold\">         Param # </span>┃\n",
       "┡━━━━━━━━━━━━━━━━━━━━━━━━━━━━━━━━━━━━━━╇━━━━━━━━━━━━━━━━━━━━━━━━━━━━━╇━━━━━━━━━━━━━━━━━┩\n",
       "│ embedding_1 (<span style=\"color: #0087ff; text-decoration-color: #0087ff\">Embedding</span>)              │ ?                           │      <span style=\"color: #00af00; text-decoration-color: #00af00\">26,942,000</span> │\n",
       "├──────────────────────────────────────┼─────────────────────────────┼─────────────────┤\n",
       "│ dropout_3 (<span style=\"color: #0087ff; text-decoration-color: #0087ff\">Dropout</span>)                  │ ?                           │     <span style=\"color: #00af00; text-decoration-color: #00af00\">0</span> (unbuilt) │\n",
       "├──────────────────────────────────────┼─────────────────────────────┼─────────────────┤\n",
       "│ gru_2 (<span style=\"color: #0087ff; text-decoration-color: #0087ff\">GRU</span>)                          │ ?                           │     <span style=\"color: #00af00; text-decoration-color: #00af00\">0</span> (unbuilt) │\n",
       "├──────────────────────────────────────┼─────────────────────────────┼─────────────────┤\n",
       "│ dropout_4 (<span style=\"color: #0087ff; text-decoration-color: #0087ff\">Dropout</span>)                  │ ?                           │     <span style=\"color: #00af00; text-decoration-color: #00af00\">0</span> (unbuilt) │\n",
       "├──────────────────────────────────────┼─────────────────────────────┼─────────────────┤\n",
       "│ gru_3 (<span style=\"color: #0087ff; text-decoration-color: #0087ff\">GRU</span>)                          │ ?                           │     <span style=\"color: #00af00; text-decoration-color: #00af00\">0</span> (unbuilt) │\n",
       "├──────────────────────────────────────┼─────────────────────────────┼─────────────────┤\n",
       "│ batch_normalization_1                │ ?                           │     <span style=\"color: #00af00; text-decoration-color: #00af00\">0</span> (unbuilt) │\n",
       "│ (<span style=\"color: #0087ff; text-decoration-color: #0087ff\">BatchNormalization</span>)                 │                             │                 │\n",
       "├──────────────────────────────────────┼─────────────────────────────┼─────────────────┤\n",
       "│ dense_2 (<span style=\"color: #0087ff; text-decoration-color: #0087ff\">Dense</span>)                      │ ?                           │     <span style=\"color: #00af00; text-decoration-color: #00af00\">0</span> (unbuilt) │\n",
       "├──────────────────────────────────────┼─────────────────────────────┼─────────────────┤\n",
       "│ dropout_5 (<span style=\"color: #0087ff; text-decoration-color: #0087ff\">Dropout</span>)                  │ ?                           │     <span style=\"color: #00af00; text-decoration-color: #00af00\">0</span> (unbuilt) │\n",
       "├──────────────────────────────────────┼─────────────────────────────┼─────────────────┤\n",
       "│ dense_3 (<span style=\"color: #0087ff; text-decoration-color: #0087ff\">Dense</span>)                      │ ?                           │     <span style=\"color: #00af00; text-decoration-color: #00af00\">0</span> (unbuilt) │\n",
       "└──────────────────────────────────────┴─────────────────────────────┴─────────────────┘\n",
       "</pre>\n"
      ],
      "text/plain": [
       "┏━━━━━━━━━━━━━━━━━━━━━━━━━━━━━━━━━━━━━━┳━━━━━━━━━━━━━━━━━━━━━━━━━━━━━┳━━━━━━━━━━━━━━━━━┓\n",
       "┃\u001b[1m \u001b[0m\u001b[1mLayer (type)                        \u001b[0m\u001b[1m \u001b[0m┃\u001b[1m \u001b[0m\u001b[1mOutput Shape               \u001b[0m\u001b[1m \u001b[0m┃\u001b[1m \u001b[0m\u001b[1m        Param #\u001b[0m\u001b[1m \u001b[0m┃\n",
       "┡━━━━━━━━━━━━━━━━━━━━━━━━━━━━━━━━━━━━━━╇━━━━━━━━━━━━━━━━━━━━━━━━━━━━━╇━━━━━━━━━━━━━━━━━┩\n",
       "│ embedding_1 (\u001b[38;5;33mEmbedding\u001b[0m)              │ ?                           │      \u001b[38;5;34m26,942,000\u001b[0m │\n",
       "├──────────────────────────────────────┼─────────────────────────────┼─────────────────┤\n",
       "│ dropout_3 (\u001b[38;5;33mDropout\u001b[0m)                  │ ?                           │     \u001b[38;5;34m0\u001b[0m (unbuilt) │\n",
       "├──────────────────────────────────────┼─────────────────────────────┼─────────────────┤\n",
       "│ gru_2 (\u001b[38;5;33mGRU\u001b[0m)                          │ ?                           │     \u001b[38;5;34m0\u001b[0m (unbuilt) │\n",
       "├──────────────────────────────────────┼─────────────────────────────┼─────────────────┤\n",
       "│ dropout_4 (\u001b[38;5;33mDropout\u001b[0m)                  │ ?                           │     \u001b[38;5;34m0\u001b[0m (unbuilt) │\n",
       "├──────────────────────────────────────┼─────────────────────────────┼─────────────────┤\n",
       "│ gru_3 (\u001b[38;5;33mGRU\u001b[0m)                          │ ?                           │     \u001b[38;5;34m0\u001b[0m (unbuilt) │\n",
       "├──────────────────────────────────────┼─────────────────────────────┼─────────────────┤\n",
       "│ batch_normalization_1                │ ?                           │     \u001b[38;5;34m0\u001b[0m (unbuilt) │\n",
       "│ (\u001b[38;5;33mBatchNormalization\u001b[0m)                 │                             │                 │\n",
       "├──────────────────────────────────────┼─────────────────────────────┼─────────────────┤\n",
       "│ dense_2 (\u001b[38;5;33mDense\u001b[0m)                      │ ?                           │     \u001b[38;5;34m0\u001b[0m (unbuilt) │\n",
       "├──────────────────────────────────────┼─────────────────────────────┼─────────────────┤\n",
       "│ dropout_5 (\u001b[38;5;33mDropout\u001b[0m)                  │ ?                           │     \u001b[38;5;34m0\u001b[0m (unbuilt) │\n",
       "├──────────────────────────────────────┼─────────────────────────────┼─────────────────┤\n",
       "│ dense_3 (\u001b[38;5;33mDense\u001b[0m)                      │ ?                           │     \u001b[38;5;34m0\u001b[0m (unbuilt) │\n",
       "└──────────────────────────────────────┴─────────────────────────────┴─────────────────┘\n"
      ]
     },
     "metadata": {},
     "output_type": "display_data"
    },
    {
     "data": {
      "text/html": [
       "<pre style=\"white-space:pre;overflow-x:auto;line-height:normal;font-family:Menlo,'DejaVu Sans Mono',consolas,'Courier New',monospace\"><span style=\"font-weight: bold\"> Total params: </span><span style=\"color: #00af00; text-decoration-color: #00af00\">26,942,000</span> (102.78 MB)\n",
       "</pre>\n"
      ],
      "text/plain": [
       "\u001b[1m Total params: \u001b[0m\u001b[38;5;34m26,942,000\u001b[0m (102.78 MB)\n"
      ]
     },
     "metadata": {},
     "output_type": "display_data"
    },
    {
     "data": {
      "text/html": [
       "<pre style=\"white-space:pre;overflow-x:auto;line-height:normal;font-family:Menlo,'DejaVu Sans Mono',consolas,'Courier New',monospace\"><span style=\"font-weight: bold\"> Trainable params: </span><span style=\"color: #00af00; text-decoration-color: #00af00\">26,942,000</span> (102.78 MB)\n",
       "</pre>\n"
      ],
      "text/plain": [
       "\u001b[1m Trainable params: \u001b[0m\u001b[38;5;34m26,942,000\u001b[0m (102.78 MB)\n"
      ]
     },
     "metadata": {},
     "output_type": "display_data"
    },
    {
     "data": {
      "text/html": [
       "<pre style=\"white-space:pre;overflow-x:auto;line-height:normal;font-family:Menlo,'DejaVu Sans Mono',consolas,'Courier New',monospace\"><span style=\"font-weight: bold\"> Non-trainable params: </span><span style=\"color: #00af00; text-decoration-color: #00af00\">0</span> (0.00 B)\n",
       "</pre>\n"
      ],
      "text/plain": [
       "\u001b[1m Non-trainable params: \u001b[0m\u001b[38;5;34m0\u001b[0m (0.00 B)\n"
      ]
     },
     "metadata": {},
     "output_type": "display_data"
    }
   ],
   "source": [
    "model = Sequential()\n",
    "model.add(Embedding(input_dim=len(word_index) + 1,\n",
    "                    output_dim=embedding_dim,\n",
    "                    weights=[embedding_matrix],\n",
    "                    input_length=max_len,\n",
    "                    trainable=True))\n",
    "model.add(Dropout(0.2))\n",
    "model.add(GRU(128, return_sequences=True))\n",
    "model.add(Dropout(0.3))\n",
    "model.add(GRU(64))\n",
    "model.add(BatchNormalization())\n",
    "model.add(Dense(64, activation='relu', kernel_regularizer='l2'))\n",
    "model.add(Dropout(0.4))\n",
    "model.add(Dense(1, activation='sigmoid'))\n",
    "\n",
    "model.compile(optimizer='adam', loss='binary_crossentropy', metrics=['accuracy'])\n",
    "model.summary()"
   ]
  },
  {
   "cell_type": "markdown",
   "metadata": {},
   "source": [
    "Huấn luyện mô hình"
   ]
  },
  {
   "cell_type": "code",
   "execution_count": 20,
   "metadata": {
    "colab": {
     "base_uri": "https://localhost:8080/"
    },
    "executionInfo": {
     "elapsed": 315518,
     "status": "ok",
     "timestamp": 1732335140096,
     "user": {
      "displayName": "Trực Tuấn",
      "userId": "06439763033496124211"
     },
     "user_tz": -420
    },
    "id": "lhkC3ql34LMr",
    "outputId": "632363db-9680-4580-fb8e-36399e445041"
   },
   "outputs": [
    {
     "name": "stdout",
     "output_type": "stream",
     "text": [
      "Epoch 1/20\n",
      "\u001b[1m895/895\u001b[0m \u001b[32m━━━━━━━━━━━━━━━━━━━━\u001b[0m\u001b[37m\u001b[0m \u001b[1m36s\u001b[0m 37ms/step - accuracy: 0.7348 - loss: 0.7576 - val_accuracy: 0.9333 - val_loss: 0.1860\n",
      "Epoch 2/20\n",
      "\u001b[1m895/895\u001b[0m \u001b[32m━━━━━━━━━━━━━━━━━━━━\u001b[0m\u001b[37m\u001b[0m \u001b[1m42s\u001b[0m 38ms/step - accuracy: 0.9461 - loss: 0.1587 - val_accuracy: 0.9627 - val_loss: 0.1076\n",
      "Epoch 3/20\n",
      "\u001b[1m895/895\u001b[0m \u001b[32m━━━━━━━━━━━━━━━━━━━━\u001b[0m\u001b[37m\u001b[0m \u001b[1m39s\u001b[0m 37ms/step - accuracy: 0.9792 - loss: 0.0685 - val_accuracy: 0.9668 - val_loss: 0.1003\n",
      "Epoch 4/20\n",
      "\u001b[1m895/895\u001b[0m \u001b[32m━━━━━━━━━━━━━━━━━━━━\u001b[0m\u001b[37m\u001b[0m \u001b[1m42s\u001b[0m 38ms/step - accuracy: 0.9922 - loss: 0.0317 - val_accuracy: 0.9610 - val_loss: 0.1154\n",
      "Epoch 5/20\n",
      "\u001b[1m895/895\u001b[0m \u001b[32m━━━━━━━━━━━━━━━━━━━━\u001b[0m\u001b[37m\u001b[0m \u001b[1m33s\u001b[0m 37ms/step - accuracy: 0.9955 - loss: 0.0208 - val_accuracy: 0.9712 - val_loss: 0.1074\n",
      "Epoch 6/20\n",
      "\u001b[1m895/895\u001b[0m \u001b[32m━━━━━━━━━━━━━━━━━━━━\u001b[0m\u001b[37m\u001b[0m \u001b[1m40s\u001b[0m 37ms/step - accuracy: 0.9955 - loss: 0.0200 - val_accuracy: 0.9641 - val_loss: 0.1376\n",
      "Epoch 7/20\n",
      "\u001b[1m895/895\u001b[0m \u001b[32m━━━━━━━━━━━━━━━━━━━━\u001b[0m\u001b[37m\u001b[0m \u001b[1m41s\u001b[0m 37ms/step - accuracy: 0.9968 - loss: 0.0135 - val_accuracy: 0.9722 - val_loss: 0.1239\n",
      "Epoch 8/20\n",
      "\u001b[1m895/895\u001b[0m \u001b[32m━━━━━━━━━━━━━━━━━━━━\u001b[0m\u001b[37m\u001b[0m \u001b[1m41s\u001b[0m 37ms/step - accuracy: 0.9976 - loss: 0.0109 - val_accuracy: 0.9644 - val_loss: 0.1818\n"
     ]
    }
   ],
   "source": [
    "history = model.fit(X_train, y_train,\n",
    "                    epochs=20,\n",
    "                    batch_size=64,\n",
    "                    validation_data=(X_test, y_test),\n",
    "                    callbacks=[EarlyStopping(monitor='val_loss', patience=5, restore_best_weights=True)])"
   ]
  },
  {
   "cell_type": "markdown",
   "metadata": {},
   "source": [
    "Vẽ đồ thị học accuracy và loss "
   ]
  },
  {
   "cell_type": "code",
   "execution_count": 21,
   "metadata": {
    "colab": {
     "base_uri": "https://localhost:8080/",
     "height": 507
    },
    "executionInfo": {
     "elapsed": 1278,
     "status": "ok",
     "timestamp": 1732335141371,
     "user": {
      "displayName": "Trực Tuấn",
      "userId": "06439763033496124211"
     },
     "user_tz": -420
    },
    "id": "r4zNqI6Q4LKO",
    "outputId": "be45b995-124b-491e-9d52-4c7d07c76a6a"
   },
   "outputs": [
    {
     "data": {
      "image/png": "[encoded data removed]",
      "text/plain": [
       "<Figure size 1400x500 with 2 Axes>"
      ]
     },
     "metadata": {},
     "output_type": "display_data"
    }
   ],
   "source": [
    "plt.figure(figsize=(14, 5))\n",
    "\n",
    "plt.subplot(1, 2, 1)\n",
    "plt.plot(history.history['accuracy'], label='Train Accuracy')\n",
    "plt.plot(history.history['val_accuracy'], label='Validation Accuracy')\n",
    "plt.title('Model Accuracy')\n",
    "plt.ylabel('Accuracy')\n",
    "plt.xlabel('Epoch')\n",
    "plt.legend(loc='upper left')\n",
    "\n",
    "plt.subplot(1, 2, 2)\n",
    "plt.plot(history.history['loss'], label='Train Loss')\n",
    "plt.plot(history.history['val_loss'], label='Validation Loss')\n",
    "plt.title('Model Loss')\n",
    "plt.ylabel('Loss')\n",
    "plt.xlabel('Epoch')\n",
    "plt.legend(loc='upper left')\n",
    "\n",
    "plt.tight_layout()\n",
    "plt.show()"
   ]
  },
  {
   "cell_type": "markdown",
   "metadata": {},
   "source": [
    "Đánh giá mô hình "
   ]
  },
  {
   "cell_type": "code",
   "execution_count": 22,
   "metadata": {
    "colab": {
     "base_uri": "https://localhost:8080/"
    },
    "executionInfo": {
     "elapsed": 4499,
     "status": "ok",
     "timestamp": 1732335145862,
     "user": {
      "displayName": "Trực Tuấn",
      "userId": "06439763033496124211"
     },
     "user_tz": -420
    },
    "id": "zgrZ0_6P4LHv",
    "outputId": "c6ffb4c0-79aa-45a3-d134-58aca77a38aa"
   },
   "outputs": [
    {
     "name": "stdout",
     "output_type": "stream",
     "text": [
      "\u001b[1m448/448\u001b[0m \u001b[32m━━━━━━━━━━━━━━━━━━━━\u001b[0m\u001b[37m\u001b[0m \u001b[1m4s\u001b[0m 9ms/step\n",
      "Accuracy: 0.9668017892088342\n",
      "Precision: 0.9861751152073732\n",
      "Recall: 0.9475577694755777\n",
      "F1-score: 0.9664808411544704\n",
      "Classification Report:\n",
      "               precision    recall  f1-score   support\n",
      "\n",
      "           0       0.95      0.99      0.97      7081\n",
      "           1       0.99      0.95      0.97      7227\n",
      "\n",
      "    accuracy                           0.97     14308\n",
      "   macro avg       0.97      0.97      0.97     14308\n",
      "weighted avg       0.97      0.97      0.97     14308\n",
      "\n"
     ]
    }
   ],
   "source": [
    "y_pred = (model.predict(X_test) > 0.5).astype(\"int32\")\n",
    "\n",
    "accuracy = accuracy_score(y_test, y_pred)\n",
    "precision = precision_score(y_test, y_pred)\n",
    "recall = recall_score(y_test, y_pred)\n",
    "f1 = f1_score(y_test, y_pred)\n",
    "\n",
    "print(\"Accuracy:\", accuracy)\n",
    "print(\"Precision:\", precision)\n",
    "print(\"Recall:\", recall)\n",
    "print(\"F1-score:\", f1)\n",
    "print(\"Classification Report:\\n\", classification_report(y_test, y_pred))"
   ]
  },
  {
   "cell_type": "markdown",
   "metadata": {},
   "source": [
    "Vẽ ma trận nhầm lẫn "
   ]
  },
  {
   "cell_type": "code",
   "execution_count": 23,
   "metadata": {
    "colab": {
     "base_uri": "https://localhost:8080/",
     "height": 564
    },
    "executionInfo": {
     "elapsed": 549,
     "status": "ok",
     "timestamp": 1732335146410,
     "user": {
      "displayName": "Trực Tuấn",
      "userId": "06439763033496124211"
     },
     "user_tz": -420
    },
    "id": "OmesxVEC4LFN",
    "outputId": "525f84a2-a782-4dc0-c23f-88ed2bd5d624"
   },
   "outputs": [
    {
     "data": {
      "image/png": "[encoded data removed]",
      "text/plain": [
       "<Figure size 800x600 with 2 Axes>"
      ]
     },
     "metadata": {},
     "output_type": "display_data"
    }
   ],
   "source": [
    "conf_matrix = confusion_matrix(y_test, y_pred)\n",
    "plt.figure(figsize=(8, 6))\n",
    "sns.heatmap(conf_matrix, annot=True, fmt='d', cmap='Blues')\n",
    "plt.xlabel('Predicted Labels')\n",
    "plt.ylabel('True Labels')\n",
    "plt.title('Confusion Matrix')\n",
    "plt.show()"
   ]
  },
  {
   "cell_type": "markdown",
   "metadata": {
    "id": "2293H0kA7Bg5"
   },
   "source": [
    "### FWD"
   ]
  },
  {
   "cell_type": "markdown",
   "metadata": {},
   "source": [
    "Thực hiện tăng cường dữ liệu xóa các từ không cần thiết (FWD)"
   ]
  },
  {
   "cell_type": "code",
   "execution_count": 24,
   "metadata": {
    "executionInfo": {
     "elapsed": 772848,
     "status": "ok",
     "timestamp": 1732335919253,
     "user": {
      "displayName": "Trực Tuấn",
      "userId": "06439763033496124211"
     },
     "user_tz": -420
    },
    "id": "4zfrZaQa4LCq"
   },
   "outputs": [],
   "source": [
    "df['preprocessed_text'] = df['text'].apply(lambda x: preprocess_txt(x, use_synonyms=False, use_fwd=True) if isinstance(x, str) else \"\")\n",
    "\n",
    "X = df['preprocessed_text']\n",
    "y = df['label']"
   ]
  },
  {
   "cell_type": "markdown",
   "metadata": {},
   "source": [
    "Word2Vec"
   ]
  },
  {
   "cell_type": "code",
   "execution_count": 25,
   "metadata": {
    "executionInfo": {
     "elapsed": 161046,
     "status": "ok",
     "timestamp": 1732336080296,
     "user": {
      "displayName": "Trực Tuấn",
      "userId": "06439763033496124211"
     },
     "user_tz": -420
    },
    "id": "Ni2roNED6_9f"
   },
   "outputs": [],
   "source": [
    "sentences = [sentence.split() for sentence in X]\n",
    "\n",
    "embedding_dim = 100\n",
    "word2vec_model = Word2Vec(sentences, vector_size=embedding_dim, window=5, min_count=1, workers=4)\n",
    "\n",
    "tokenizer = gensim.utils.simple_preprocess\n",
    "X_tokenized = [tokenizer(text) for text in X]\n",
    "\n",
    "word_index = {word: i for i, word in enumerate(word2vec_model.wv.index_to_key, start=1)}\n",
    "X_encoded = [[word_index[word] for word in sentence if word in word_index] for sentence in X_tokenized]\n",
    "\n",
    "max_len = 200\n",
    "X_pad = pad_sequences(X_encoded, maxlen=max_len, padding='post')"
   ]
  },
  {
   "cell_type": "code",
   "execution_count": 26,
   "metadata": {
    "colab": {
     "base_uri": "https://localhost:8080/"
    },
    "executionInfo": {
     "elapsed": 16,
     "status": "ok",
     "timestamp": 1732336080297,
     "user": {
      "displayName": "Trực Tuấn",
      "userId": "06439763033496124211"
     },
     "user_tz": -420
    },
    "id": "w-SK_eTB6_mD",
    "outputId": "139050be-18ef-4667-8259-0fad7bc14d34"
   },
   "outputs": [
    {
     "data": {
      "text/plain": [
       "(14308, 200)"
      ]
     },
     "execution_count": 26,
     "metadata": {},
     "output_type": "execute_result"
    }
   ],
   "source": [
    "X_train, X_test, y_train, y_test = train_test_split(X_pad, y, test_size=0.2, random_state=42)\n",
    "X_train.shape\n",
    "X_test.shape"
   ]
  },
  {
   "cell_type": "code",
   "execution_count": 27,
   "metadata": {
    "colab": {
     "base_uri": "https://localhost:8080/"
    },
    "executionInfo": {
     "elapsed": 704,
     "status": "ok",
     "timestamp": 1732336080998,
     "user": {
      "displayName": "Trực Tuấn",
      "userId": "06439763033496124211"
     },
     "user_tz": -420
    },
    "id": "RE4EBHpX6_i7",
    "outputId": "9069f705-3087-496f-a17f-f1f8b981a32f"
   },
   "outputs": [
    {
     "name": "stdout",
     "output_type": "stream",
     "text": [
      "Embedding matrix shape: (275845, 100)\n"
     ]
    }
   ],
   "source": [
    "embedding_matrix = np.zeros((len(word_index) + 1, embedding_dim))\n",
    "for word, i in word_index.items():\n",
    "    embedding_matrix[i] = word2vec_model.wv[word]\n",
    "\n",
    "print(\"Embedding matrix shape:\", embedding_matrix.shape)"
   ]
  },
  {
   "cell_type": "markdown",
   "metadata": {},
   "source": [
    "Xây dựng mô hình "
   ]
  },
  {
   "cell_type": "code",
   "execution_count": 28,
   "metadata": {
    "colab": {
     "base_uri": "https://localhost:8080/",
     "height": 572
    },
    "executionInfo": {
     "elapsed": 18,
     "status": "ok",
     "timestamp": 1732336080998,
     "user": {
      "displayName": "Trực Tuấn",
      "userId": "06439763033496124211"
     },
     "user_tz": -420
    },
    "id": "GygbVnkg6_f5",
    "outputId": "5a8356a2-8848-4b5b-96d5-11cde9e48717"
   },
   "outputs": [
    {
     "name": "stderr",
     "output_type": "stream",
     "text": [
      "/usr/local/lib/python3.10/dist-packages/keras/src/layers/core/embedding.py:90: UserWarning: Argument `input_length` is deprecated. Just remove it.\n",
      "  warnings.warn(\n"
     ]
    },
    {
     "data": {
      "text/html": [
       "<pre style=\"white-space:pre;overflow-x:auto;line-height:normal;font-family:Menlo,'DejaVu Sans Mono',consolas,'Courier New',monospace\"><span style=\"font-weight: bold\">Model: \"sequential_2\"</span>\n",
       "</pre>\n"
      ],
      "text/plain": [
       "\u001b[1mModel: \"sequential_2\"\u001b[0m\n"
      ]
     },
     "metadata": {},
     "output_type": "display_data"
    },
    {
     "data": {
      "text/html": [
       "<pre style=\"white-space:pre;overflow-x:auto;line-height:normal;font-family:Menlo,'DejaVu Sans Mono',consolas,'Courier New',monospace\">┏━━━━━━━━━━━━━━━━━━━━━━━━━━━━━━━━━━━━━━┳━━━━━━━━━━━━━━━━━━━━━━━━━━━━━┳━━━━━━━━━━━━━━━━━┓\n",
       "┃<span style=\"font-weight: bold\"> Layer (type)                         </span>┃<span style=\"font-weight: bold\"> Output Shape                </span>┃<span style=\"font-weight: bold\">         Param # </span>┃\n",
       "┡━━━━━━━━━━━━━━━━━━━━━━━━━━━━━━━━━━━━━━╇━━━━━━━━━━━━━━━━━━━━━━━━━━━━━╇━━━━━━━━━━━━━━━━━┩\n",
       "│ embedding_2 (<span style=\"color: #0087ff; text-decoration-color: #0087ff\">Embedding</span>)              │ ?                           │      <span style=\"color: #00af00; text-decoration-color: #00af00\">27,584,500</span> │\n",
       "├──────────────────────────────────────┼─────────────────────────────┼─────────────────┤\n",
       "│ dropout_6 (<span style=\"color: #0087ff; text-decoration-color: #0087ff\">Dropout</span>)                  │ ?                           │     <span style=\"color: #00af00; text-decoration-color: #00af00\">0</span> (unbuilt) │\n",
       "├──────────────────────────────────────┼─────────────────────────────┼─────────────────┤\n",
       "│ gru_4 (<span style=\"color: #0087ff; text-decoration-color: #0087ff\">GRU</span>)                          │ ?                           │     <span style=\"color: #00af00; text-decoration-color: #00af00\">0</span> (unbuilt) │\n",
       "├──────────────────────────────────────┼─────────────────────────────┼─────────────────┤\n",
       "│ dropout_7 (<span style=\"color: #0087ff; text-decoration-color: #0087ff\">Dropout</span>)                  │ ?                           │     <span style=\"color: #00af00; text-decoration-color: #00af00\">0</span> (unbuilt) │\n",
       "├──────────────────────────────────────┼─────────────────────────────┼─────────────────┤\n",
       "│ gru_5 (<span style=\"color: #0087ff; text-decoration-color: #0087ff\">GRU</span>)                          │ ?                           │     <span style=\"color: #00af00; text-decoration-color: #00af00\">0</span> (unbuilt) │\n",
       "├──────────────────────────────────────┼─────────────────────────────┼─────────────────┤\n",
       "│ batch_normalization_2                │ ?                           │     <span style=\"color: #00af00; text-decoration-color: #00af00\">0</span> (unbuilt) │\n",
       "│ (<span style=\"color: #0087ff; text-decoration-color: #0087ff\">BatchNormalization</span>)                 │                             │                 │\n",
       "├──────────────────────────────────────┼─────────────────────────────┼─────────────────┤\n",
       "│ dense_4 (<span style=\"color: #0087ff; text-decoration-color: #0087ff\">Dense</span>)                      │ ?                           │     <span style=\"color: #00af00; text-decoration-color: #00af00\">0</span> (unbuilt) │\n",
       "├──────────────────────────────────────┼─────────────────────────────┼─────────────────┤\n",
       "│ dropout_8 (<span style=\"color: #0087ff; text-decoration-color: #0087ff\">Dropout</span>)                  │ ?                           │     <span style=\"color: #00af00; text-decoration-color: #00af00\">0</span> (unbuilt) │\n",
       "├──────────────────────────────────────┼─────────────────────────────┼─────────────────┤\n",
       "│ dense_5 (<span style=\"color: #0087ff; text-decoration-color: #0087ff\">Dense</span>)                      │ ?                           │     <span style=\"color: #00af00; text-decoration-color: #00af00\">0</span> (unbuilt) │\n",
       "└──────────────────────────────────────┴─────────────────────────────┴─────────────────┘\n",
       "</pre>\n"
      ],
      "text/plain": [
       "┏━━━━━━━━━━━━━━━━━━━━━━━━━━━━━━━━━━━━━━┳━━━━━━━━━━━━━━━━━━━━━━━━━━━━━┳━━━━━━━━━━━━━━━━━┓\n",
       "┃\u001b[1m \u001b[0m\u001b[1mLayer (type)                        \u001b[0m\u001b[1m \u001b[0m┃\u001b[1m \u001b[0m\u001b[1mOutput Shape               \u001b[0m\u001b[1m \u001b[0m┃\u001b[1m \u001b[0m\u001b[1m        Param #\u001b[0m\u001b[1m \u001b[0m┃\n",
       "┡━━━━━━━━━━━━━━━━━━━━━━━━━━━━━━━━━━━━━━╇━━━━━━━━━━━━━━━━━━━━━━━━━━━━━╇━━━━━━━━━━━━━━━━━┩\n",
       "│ embedding_2 (\u001b[38;5;33mEmbedding\u001b[0m)              │ ?                           │      \u001b[38;5;34m27,584,500\u001b[0m │\n",
       "├──────────────────────────────────────┼─────────────────────────────┼─────────────────┤\n",
       "│ dropout_6 (\u001b[38;5;33mDropout\u001b[0m)                  │ ?                           │     \u001b[38;5;34m0\u001b[0m (unbuilt) │\n",
       "├──────────────────────────────────────┼─────────────────────────────┼─────────────────┤\n",
       "│ gru_4 (\u001b[38;5;33mGRU\u001b[0m)                          │ ?                           │     \u001b[38;5;34m0\u001b[0m (unbuilt) │\n",
       "├──────────────────────────────────────┼─────────────────────────────┼─────────────────┤\n",
       "│ dropout_7 (\u001b[38;5;33mDropout\u001b[0m)                  │ ?                           │     \u001b[38;5;34m0\u001b[0m (unbuilt) │\n",
       "├──────────────────────────────────────┼─────────────────────────────┼─────────────────┤\n",
       "│ gru_5 (\u001b[38;5;33mGRU\u001b[0m)                          │ ?                           │     \u001b[38;5;34m0\u001b[0m (unbuilt) │\n",
       "├──────────────────────────────────────┼─────────────────────────────┼─────────────────┤\n",
       "│ batch_normalization_2                │ ?                           │     \u001b[38;5;34m0\u001b[0m (unbuilt) │\n",
       "│ (\u001b[38;5;33mBatchNormalization\u001b[0m)                 │                             │                 │\n",
       "├──────────────────────────────────────┼─────────────────────────────┼─────────────────┤\n",
       "│ dense_4 (\u001b[38;5;33mDense\u001b[0m)                      │ ?                           │     \u001b[38;5;34m0\u001b[0m (unbuilt) │\n",
       "├──────────────────────────────────────┼─────────────────────────────┼─────────────────┤\n",
       "│ dropout_8 (\u001b[38;5;33mDropout\u001b[0m)                  │ ?                           │     \u001b[38;5;34m0\u001b[0m (unbuilt) │\n",
       "├──────────────────────────────────────┼─────────────────────────────┼─────────────────┤\n",
       "│ dense_5 (\u001b[38;5;33mDense\u001b[0m)                      │ ?                           │     \u001b[38;5;34m0\u001b[0m (unbuilt) │\n",
       "└──────────────────────────────────────┴─────────────────────────────┴─────────────────┘\n"
      ]
     },
     "metadata": {},
     "output_type": "display_data"
    },
    {
     "data": {
      "text/html": [
       "<pre style=\"white-space:pre;overflow-x:auto;line-height:normal;font-family:Menlo,'DejaVu Sans Mono',consolas,'Courier New',monospace\"><span style=\"font-weight: bold\"> Total params: </span><span style=\"color: #00af00; text-decoration-color: #00af00\">27,584,500</span> (105.23 MB)\n",
       "</pre>\n"
      ],
      "text/plain": [
       "\u001b[1m Total params: \u001b[0m\u001b[38;5;34m27,584,500\u001b[0m (105.23 MB)\n"
      ]
     },
     "metadata": {},
     "output_type": "display_data"
    },
    {
     "data": {
      "text/html": [
       "<pre style=\"white-space:pre;overflow-x:auto;line-height:normal;font-family:Menlo,'DejaVu Sans Mono',consolas,'Courier New',monospace\"><span style=\"font-weight: bold\"> Trainable params: </span><span style=\"color: #00af00; text-decoration-color: #00af00\">27,584,500</span> (105.23 MB)\n",
       "</pre>\n"
      ],
      "text/plain": [
       "\u001b[1m Trainable params: \u001b[0m\u001b[38;5;34m27,584,500\u001b[0m (105.23 MB)\n"
      ]
     },
     "metadata": {},
     "output_type": "display_data"
    },
    {
     "data": {
      "text/html": [
       "<pre style=\"white-space:pre;overflow-x:auto;line-height:normal;font-family:Menlo,'DejaVu Sans Mono',consolas,'Courier New',monospace\"><span style=\"font-weight: bold\"> Non-trainable params: </span><span style=\"color: #00af00; text-decoration-color: #00af00\">0</span> (0.00 B)\n",
       "</pre>\n"
      ],
      "text/plain": [
       "\u001b[1m Non-trainable params: \u001b[0m\u001b[38;5;34m0\u001b[0m (0.00 B)\n"
      ]
     },
     "metadata": {},
     "output_type": "display_data"
    }
   ],
   "source": [
    "model = Sequential()\n",
    "model.add(Embedding(input_dim=len(word_index) + 1,\n",
    "                    output_dim=embedding_dim,\n",
    "                    weights=[embedding_matrix],\n",
    "                    input_length=max_len,\n",
    "                    trainable=True))\n",
    "model.add(Dropout(0.2))\n",
    "model.add(GRU(128, return_sequences=True))\n",
    "model.add(Dropout(0.3))\n",
    "model.add(GRU(64))\n",
    "model.add(BatchNormalization())\n",
    "model.add(Dense(64, activation='relu', kernel_regularizer='l2'))\n",
    "model.add(Dropout(0.4))\n",
    "model.add(Dense(1, activation='sigmoid'))\n",
    "\n",
    "model.compile(optimizer='adam', loss='binary_crossentropy', metrics=['accuracy'])\n",
    "model.summary()"
   ]
  },
  {
   "cell_type": "markdown",
   "metadata": {},
   "source": [
    "Huấn luyện mô hình "
   ]
  },
  {
   "cell_type": "code",
   "execution_count": 29,
   "metadata": {
    "colab": {
     "base_uri": "https://localhost:8080/"
    },
    "executionInfo": {
     "elapsed": 323666,
     "status": "ok",
     "timestamp": 1732336404653,
     "user": {
      "displayName": "Trực Tuấn",
      "userId": "06439763033496124211"
     },
     "user_tz": -420
    },
    "id": "J0g4YZn76_dO",
    "outputId": "12cfe1e6-469e-4f59-db63-3b780b25d3b1"
   },
   "outputs": [
    {
     "name": "stdout",
     "output_type": "stream",
     "text": [
      "Epoch 1/20\n",
      "\u001b[1m895/895\u001b[0m \u001b[32m━━━━━━━━━━━━━━━━━━━━\u001b[0m\u001b[37m\u001b[0m \u001b[1m36s\u001b[0m 37ms/step - accuracy: 0.6711 - loss: 0.8898 - val_accuracy: 0.8507 - val_loss: 0.3693\n",
      "Epoch 2/20\n",
      "\u001b[1m895/895\u001b[0m \u001b[32m━━━━━━━━━━━━━━━━━━━━\u001b[0m\u001b[37m\u001b[0m \u001b[1m34s\u001b[0m 38ms/step - accuracy: 0.9367 - loss: 0.1901 - val_accuracy: 0.9447 - val_loss: 0.1875\n",
      "Epoch 3/20\n",
      "\u001b[1m895/895\u001b[0m \u001b[32m━━━━━━━━━━━━━━━━━━━━\u001b[0m\u001b[37m\u001b[0m \u001b[1m40s\u001b[0m 37ms/step - accuracy: 0.9787 - loss: 0.0692 - val_accuracy: 0.9756 - val_loss: 0.0734\n",
      "Epoch 4/20\n",
      "\u001b[1m895/895\u001b[0m \u001b[32m━━━━━━━━━━━━━━━━━━━━\u001b[0m\u001b[37m\u001b[0m \u001b[1m40s\u001b[0m 37ms/step - accuracy: 0.9922 - loss: 0.0308 - val_accuracy: 0.9763 - val_loss: 0.0857\n",
      "Epoch 5/20\n",
      "\u001b[1m895/895\u001b[0m \u001b[32m━━━━━━━━━━━━━━━━━━━━\u001b[0m\u001b[37m\u001b[0m \u001b[1m41s\u001b[0m 37ms/step - accuracy: 0.9959 - loss: 0.0189 - val_accuracy: 0.9778 - val_loss: 0.0880\n",
      "Epoch 6/20\n",
      "\u001b[1m895/895\u001b[0m \u001b[32m━━━━━━━━━━━━━━━━━━━━\u001b[0m\u001b[37m\u001b[0m \u001b[1m41s\u001b[0m 37ms/step - accuracy: 0.9967 - loss: 0.0148 - val_accuracy: 0.9733 - val_loss: 0.1309\n",
      "Epoch 7/20\n",
      "\u001b[1m895/895\u001b[0m \u001b[32m━━━━━━━━━━━━━━━━━━━━\u001b[0m\u001b[37m\u001b[0m \u001b[1m41s\u001b[0m 36ms/step - accuracy: 0.9976 - loss: 0.0109 - val_accuracy: 0.9773 - val_loss: 0.1183\n",
      "Epoch 8/20\n",
      "\u001b[1m895/895\u001b[0m \u001b[32m━━━━━━━━━━━━━━━━━━━━\u001b[0m\u001b[37m\u001b[0m \u001b[1m41s\u001b[0m 37ms/step - accuracy: 0.9971 - loss: 0.0120 - val_accuracy: 0.9754 - val_loss: 0.0923\n"
     ]
    }
   ],
   "source": [
    "history = model.fit(X_train, y_train,\n",
    "                    epochs=20,\n",
    "                    batch_size=64,\n",
    "                    validation_data=(X_test, y_test),\n",
    "                    callbacks=[EarlyStopping(monitor='val_loss', patience=5, restore_best_weights=True)])"
   ]
  },
  {
   "cell_type": "markdown",
   "metadata": {},
   "source": [
    "Vẽ đồ thị học accuracy và loss "
   ]
  },
  {
   "cell_type": "code",
   "execution_count": 30,
   "metadata": {
    "colab": {
     "base_uri": "https://localhost:8080/",
     "height": 54
    },
    "executionInfo": {
     "elapsed": 8,
     "status": "ok",
     "timestamp": 1732336404654,
     "user": {
      "displayName": "Trực Tuấn",
      "userId": "06439763033496124211"
     },
     "user_tz": -420
    },
    "id": "-7suKCRp6_ae",
    "outputId": "ea8cd282-496a-4434-8243-b779b38ae765"
   },
   "outputs": [
    {
     "data": {
      "image/png": "[encoded data removed]",
      "text/plain": [
       "<Figure size 1400x500 with 2 Axes>"
      ]
     },
     "metadata": {},
     "output_type": "display_data"
    }
   ],
   "source": [
    "plt.figure(figsize=(14, 5))\n",
    "\n",
    "plt.subplot(1, 2, 1)\n",
    "plt.plot(history.history['accuracy'], label='Train Accuracy')\n",
    "plt.plot(history.history['val_accuracy'], label='Validation Accuracy')\n",
    "plt.title('Model Accuracy')\n",
    "plt.ylabel('Accuracy')\n",
    "plt.xlabel('Epoch')\n",
    "plt.legend(loc='upper left')\n",
    "\n",
    "plt.subplot(1, 2, 2)\n",
    "plt.plot(history.history['loss'], label='Train Loss')\n",
    "plt.plot(history.history['val_loss'], label='Validation Loss')\n",
    "plt.title('Model Loss')\n",
    "plt.ylabel('Loss')\n",
    "plt.xlabel('Epoch')\n",
    "plt.legend(loc='upper left')\n",
    "\n",
    "plt.tight_layout()\n",
    "plt.show()"
   ]
  },
  {
   "cell_type": "markdown",
   "metadata": {},
   "source": [
    "Đánh giá mô hình "
   ]
  },
  {
   "cell_type": "code",
   "execution_count": 31,
   "metadata": {
    "colab": {
     "base_uri": "https://localhost:8080/"
    },
    "executionInfo": {
     "elapsed": 5550,
     "status": "ok",
     "timestamp": 1732336410199,
     "user": {
      "displayName": "Trực Tuấn",
      "userId": "06439763033496124211"
     },
     "user_tz": -420
    },
    "id": "jRbyTaCf6_X2",
    "outputId": "c01541dd-5d0c-43bf-d343-593ebb62d588"
   },
   "outputs": [
    {
     "name": "stdout",
     "output_type": "stream",
     "text": [
      "\u001b[1m448/448\u001b[0m \u001b[32m━━━━━━━━━━━━━━━━━━━━\u001b[0m\u001b[37m\u001b[0m \u001b[1m3s\u001b[0m 6ms/step\n",
      "Accuracy: 0.9756080514397539\n",
      "Precision: 0.9730398899587345\n",
      "Recall: 0.9788293897882939\n",
      "F1-score: 0.9759260536662758\n",
      "Classification Report:\n",
      "               precision    recall  f1-score   support\n",
      "\n",
      "           0       0.98      0.97      0.98      7081\n",
      "           1       0.97      0.98      0.98      7227\n",
      "\n",
      "    accuracy                           0.98     14308\n",
      "   macro avg       0.98      0.98      0.98     14308\n",
      "weighted avg       0.98      0.98      0.98     14308\n",
      "\n"
     ]
    }
   ],
   "source": [
    "y_pred = (model.predict(X_test) > 0.5).astype(\"int32\")\n",
    "\n",
    "accuracy = accuracy_score(y_test, y_pred)\n",
    "precision = precision_score(y_test, y_pred)\n",
    "recall = recall_score(y_test, y_pred)\n",
    "f1 = f1_score(y_test, y_pred)\n",
    "\n",
    "print(\"Accuracy:\", accuracy)\n",
    "print(\"Precision:\", precision)\n",
    "print(\"Recall:\", recall)\n",
    "print(\"F1-score:\", f1)\n",
    "print(\"Classification Report:\\n\", classification_report(y_test, y_pred))"
   ]
  },
  {
   "cell_type": "markdown",
   "metadata": {},
   "source": [
    "Vẽ ma trận nhầm lẫn "
   ]
  },
  {
   "cell_type": "code",
   "execution_count": 32,
   "metadata": {
    "colab": {
     "base_uri": "https://localhost:8080/",
     "height": 564
    },
    "executionInfo": {
     "elapsed": 10,
     "status": "ok",
     "timestamp": 1732336410199,
     "user": {
      "displayName": "Trực Tuấn",
      "userId": "06439763033496124211"
     },
     "user_tz": -420
    },
    "id": "3mru76WZ6_VP",
    "outputId": "393c6a5f-9d6b-4cd1-b106-c8d8f72bec20"
   },
   "outputs": [
    {
     "data": {
      "image/png": "[encoded data removed]",
      "text/plain": [
       "<Figure size 800x600 with 2 Axes>"
      ]
     },
     "metadata": {},
     "output_type": "display_data"
    }
   ],
   "source": [
    "conf_matrix = confusion_matrix(y_test, y_pred)\n",
    "plt.figure(figsize=(8, 6))\n",
    "sns.heatmap(conf_matrix, annot=True, fmt='d', cmap='Blues')\n",
    "plt.xlabel('Predicted Labels')\n",
    "plt.ylabel('True Labels')\n",
    "plt.title('Confusion Matrix')\n",
    "plt.show()"
   ]
  },
  {
   "cell_type": "code",
   "execution_count": 32,
   "metadata": {
    "executionInfo": {
     "elapsed": 9,
     "status": "ok",
     "timestamp": 1732336410199,
     "user": {
      "displayName": "Trực Tuấn",
      "userId": "06439763033496124211"
     },
     "user_tz": -420
    },
    "id": "55kC1nF36_Sl"
   },
   "outputs": [],
   "source": []
  },
  {
   "cell_type": "code",
   "execution_count": 32,
   "metadata": {
    "executionInfo": {
     "elapsed": 8,
     "status": "ok",
     "timestamp": 1732336410199,
     "user": {
      "displayName": "Trực Tuấn",
      "userId": "06439763033496124211"
     },
     "user_tz": -420
    },
    "id": "KEJ3q9IN6_QE"
   },
   "outputs": [],
   "source": []
  },
  {
   "cell_type": "code",
   "execution_count": 32,
   "metadata": {
    "executionInfo": {
     "elapsed": 9,
     "status": "ok",
     "timestamp": 1732336410200,
     "user": {
      "displayName": "Trực Tuấn",
      "userId": "06439763033496124211"
     },
     "user_tz": -420
    },
    "id": "y8RgBQ7s6_Np"
   },
   "outputs": [],
   "source": []
  }
 ],
 "metadata": {
  "accelerator": "GPU",
  "colab": {
   "authorship_tag": "ABX9TyPcRDiqnASjUShayWK9yaOs",
   "gpuType": "T4",
   "provenance": []
  },
  "kernelspec": {
   "display_name": "Python 3",
   "name": "python3"
  },
  "language_info": {
   "name": "python"
  }
 },
 "nbformat": 4,
 "nbformat_minor": 0
}
