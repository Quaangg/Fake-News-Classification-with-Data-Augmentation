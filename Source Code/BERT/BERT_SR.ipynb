{
 "cells": [
  {
   "cell_type": "markdown",
   "metadata": {},
   "source": [
    "Tải bộ dữ liệu WELFake"
   ]
  },
  {
   "cell_type": "code",
   "execution_count": null,
   "metadata": {
    "colab": {
     "base_uri": "https://localhost:8080/"
    },
    "executionInfo": {
     "elapsed": 9298,
     "status": "ok",
     "timestamp": 1731815183518,
     "user": {
      "displayName": "Đỗ Tuấn Trực",
      "userId": "14346979072481805814"
     },
     "user_tz": -420
    },
    "id": "1mY20lQ7kDZC",
    "outputId": "e6fbc5bd-8749-43aa-f144-e4da1fd7d0b8"
   },
   "outputs": [
    {
     "name": "stdout",
     "output_type": "stream",
     "text": [
      "Downloading...\n",
      "From (original): https://drive.google.com/uc?id=1CgDGe1t2_SUVw9VvzOpMeRNfIvdHsjY3\n",
      "From (redirected): https://drive.google.com/uc?id=1CgDGe1t2_SUVw9VvzOpMeRNfIvdHsjY3&confirm=t&uuid=fe058a7f-0be5-4225-a26d-1ac39485bb97\n",
      "To: /content/WELFake_Dataset.csv\n",
      "100% 245M/245M [00:04<00:00, 60.6MB/s]\n"
     ]
    }
   ],
   "source": [
    "!gdown 1CgDGe1t2_SUVw9VvzOpMeRNfIvdHsjY3"
   ]
  },
  {
   "cell_type": "code",
   "execution_count": null,
   "metadata": {
    "id": "9FQ05CurkFG_"
   },
   "outputs": [],
   "source": [
    "import tensorflow as tf\n",
    "from transformers import BertTokenizer, TFBertForSequenceClassification\n",
    "from sklearn.model_selection import train_test_split\n",
    "from sklearn.metrics import accuracy_score, precision_score, recall_score, f1_score\n",
    "import numpy as np\n",
    "import pandas as pd\n",
    "import re\n",
    "import nltk"
   ]
  },
  {
   "cell_type": "markdown",
   "metadata": {},
   "source": [
    "Xóa các kí tự null và nối cột title vào cột test"
   ]
  },
  {
   "cell_type": "code",
   "execution_count": null,
   "metadata": {
    "id": "suggmjllkFEI"
   },
   "outputs": [],
   "source": [
    "df = pd.read_csv(\"/content/WELFake_Dataset.csv\")\n",
    "df.dropna(subset = ['text', 'title'], inplace = True)\n",
    "df['text'] = df['title'] + ' ' + df['text']"
   ]
  },
  {
   "cell_type": "code",
   "execution_count": null,
   "metadata": {
    "colab": {
     "base_uri": "https://localhost:8080/"
    },
    "executionInfo": {
     "elapsed": 5,
     "status": "ok",
     "timestamp": 1731815187554,
     "user": {
      "displayName": "Đỗ Tuấn Trực",
      "userId": "14346979072481805814"
     },
     "user_tz": -420
    },
    "id": "pUCMsXl6kFBc",
    "outputId": "a15f1bf8-6112-4344-bf02-de90666467c2"
   },
   "outputs": [
    {
     "name": "stderr",
     "output_type": "stream",
     "text": [
      "[nltk_data] Downloading package punkt to /root/nltk_data...\n",
      "[nltk_data]   Package punkt is already up-to-date!\n",
      "[nltk_data] Downloading package stopwords to /root/nltk_data...\n",
      "[nltk_data]   Package stopwords is already up-to-date!\n",
      "[nltk_data] Downloading package wordnet to /root/nltk_data...\n",
      "[nltk_data]   Package wordnet is already up-to-date!\n",
      "[nltk_data] Downloading package punkt_tab to /root/nltk_data...\n",
      "[nltk_data]   Unzipping tokenizers/punkt_tab.zip.\n"
     ]
    },
    {
     "data": {
      "text/plain": [
       "True"
      ]
     },
     "execution_count": 9,
     "metadata": {},
     "output_type": "execute_result"
    }
   ],
   "source": [
    "nltk.download('punkt')\n",
    "nltk.download('stopwords')\n",
    "nltk.download('wordnet')\n",
    "nltk.download('punkt_tab')"
   ]
  },
  {
   "cell_type": "markdown",
   "metadata": {},
   "source": [
    "Thực hiện tăng cường dữ liệu bằng cách thay thế từ đồng nghĩa (SR)"
   ]
  },
  {
   "cell_type": "code",
   "execution_count": null,
   "metadata": {
    "id": "njc7tBMxkE-0"
   },
   "outputs": [],
   "source": [
    "import re\n",
    "from nltk.corpus import wordnet\n",
    "from nltk.tokenize import word_tokenize\n",
    "from nltk.corpus import stopwords\n",
    "from nltk.stem import PorterStemmer\n",
    "\n",
    "stemmer = PorterStemmer()\n",
    "corpus = []\n",
    "\n",
    "def replace_synonyms(text):\n",
    "    words = word_tokenize(text)\n",
    "    replaced_text = []\n",
    "\n",
    "    for word in words:\n",
    "        synonyms = wordnet.synsets(word)\n",
    "        if synonyms:\n",
    "            synonym = synonyms[0].lemmas()[0].name()\n",
    "            replaced_text.append(synonym.replace('_', ' '))\n",
    "        else:\n",
    "            replaced_text.append(word)\n",
    "\n",
    "    return ' '.join(replaced_text)\n",
    "\n",
    "def remove_function_words(text):\n",
    "    stop_words = set(stopwords.words('english'))\n",
    "    words = word_tokenize(text)\n",
    "    filtered_text = [word for word in words if word.lower() not in stop_words]\n",
    "\n",
    "    return ' '.join(filtered_text)\n",
    "\n",
    "def preprocess_txt(text, use_synonyms=False, use_fwd=False):\n",
    "    text = text.lower()\n",
    "    text = re.sub(r'http\\S+|www\\S+|https\\S+', '', text, flags=re.MULTILINE)\n",
    "    text = re.sub(r'<.*?>', '', text)\n",
    "    text = re.sub(r'[^a-zA-Z\\s]', '', text)\n",
    "\n",
    "    if use_synonyms:\n",
    "        text = replace_synonyms(text)\n",
    "\n",
    "    if use_fwd:\n",
    "        text = remove_function_words(text)\n",
    "\n",
    "    tokens = word_tokenize(text)\n",
    "\n",
    "    # Stemming\n",
    "    tokens = [stemmer.stem(token) for token in tokens]\n",
    "    unique_tokens = []\n",
    "    for token in tokens:\n",
    "        if token not in unique_tokens:\n",
    "            unique_tokens.append(token)\n",
    "\n",
    "    preprocessed_text = ' '.join(unique_tokens)\n",
    "    corpus.append(preprocessed_text)\n",
    "    return preprocessed_text\n",
    "\n",
    "df['preprocessed_text'] = df['text'].apply(lambda x: preprocess_txt(x, use_synonyms=True, use_fwd=False) if isinstance(x, str) else \"\")"
   ]
  },
  {
   "cell_type": "code",
   "execution_count": null,
   "metadata": {
    "colab": {
     "base_uri": "https://localhost:8080/",
     "height": 206
    },
    "executionInfo": {
     "elapsed": 2706,
     "status": "ok",
     "timestamp": 1731816869361,
     "user": {
      "displayName": "Đỗ Tuấn Trực",
      "userId": "14346979072481805814"
     },
     "user_tz": -420
    },
    "id": "T75fO-1MkE8D",
    "outputId": "40d0a011-a3ea-47a3-e4e3-cdcce1723148"
   },
   "outputs": [
    {
     "data": {
      "application/vnd.google.colaboratory.intrinsic+json": {
       "summary": "{\n  \"name\": \"df\",\n  \"rows\": 71537,\n  \"fields\": [\n    {\n      \"column\": \"Unnamed: 0\",\n      \"properties\": {\n        \"dtype\": \"number\",\n        \"std\": 20826,\n        \"min\": 0,\n        \"max\": 72133,\n        \"num_unique_values\": 71537,\n        \"samples\": [\n          54359,\n          6993,\n          28912\n        ],\n        \"semantic_type\": \"\",\n        \"description\": \"\"\n      }\n    },\n    {\n      \"column\": \"title\",\n      \"properties\": {\n        \"dtype\": \"string\",\n        \"num_unique_values\": 62308,\n        \"samples\": [\n          \"About 146,000 Rohingya have fled Myanmar violence to Bangladesh\",\n          \"Franklin Graham: The media didn\\u2019t understand the \\u2018God-factor\\u2019 in Trump\\u2019s win\",\n          \"T\\u00fcrkei: Kritischer Journalist interviewt Oppositionspolitiker in gemeinsamer Gef\\u00e4ngniszelle\"\n        ],\n        \"semantic_type\": \"\",\n        \"description\": \"\"\n      }\n    },\n    {\n      \"column\": \"text\",\n      \"properties\": {\n        \"dtype\": \"string\",\n        \"num_unique_values\": 63121,\n        \"samples\": [\n          \" Donald Trump Responds To Mockery Over Fake Swedish Attack \\u2013 Prepare To Laugh Your A** Off Last night, at a rally in Melbourne, Florida, Trump was trying to build more fear of brown people in his base of loyalists by referencing a completely imaginary terror attack in Sweden. Since then, he s received an earful from the former Prime Minister of Sweden, prompted questions from confused Swedes, and social media has been abuzz with mockery of the imaginary attack, too.One would have expected Trump to respond fairly quickly, since he s now formally joined the ranks of Kellyanne Conway and Sean Spicer when it comes to fake terror attacks, but he didn t. He waited until this afternoon to respond, and it s extremely laughable:My statement as to what s happening in Sweden was in reference to a story that was broadcast on @FoxNews concerning immigrants & Sweden.  Donald J. Trump (@realDonaldTrump) February 19, 2017Yes, sure, by all means, let s call this debacle Fox News  fault and completely ignore the words that actually spewed forth from his mouth: You look at what s happening last night in Sweden. Sweden! Who would believe this? Sweden! They took in large numbers. They re having problems that they never thought possible. Twitter, meanwhile, is positively gleeful in their mockery of the liar of liars for another egregious lie:@realDonaldTrump  none of which referred to anything that happened two nights ago.  Alex Zalben (@azalben) February 19, 2017.@realDonaldTrump  I apologize. I will hold myself to provide a more clear and accurate respresentation of my beliefs in future speeches.  Will McAvoy (@WillMcAvoyACN) February 19, 2017@realDonaldTrump Hey, dumbass. What happened in Sweden? Nothing. That s what. FAKE NEWS! pic.twitter.com/PR4Cu42mbb  The Socialist Party (@OfficialSPGB) February 19, 2017@realDonaldTrump @FoxNews Of course it fucking was.  Mark Pygas (@MarkPygas) February 19, 2017@realDonaldTrump You said  last night in Sweden . Don t retract. You are fake news for the unintelligent.  Tony Posnanski (@tonyposnanski) February 19, 2017You are fake news, Mr. So-Called President.#swedenincident #iamamuslimtoo #FuckYouBitch https://t.co/MGOL0oWFPs  Jade Helm Commander (@Anomaly100) February 19, 2017.@realDonaldTrump Who needs the intelligence community when there is Fox News?  Simon Hedlin (@simonhedlin) February 19, 2017Here s someone who was a likely witness to the imaginary attack, since reports say Swedish fish were everywhere at the scene:@realDonaldTrump @FoxNews pic.twitter.com/bGk4nMmc5e  Mike Denison (@mikd33) February 19, 2017@mikd33 @realDonaldTrump @FoxNews These fish are clearly terrorists.  Austin Braun (@AustinOnSocial) February 19, 2017@realDonaldTrump @FoxNews pic.twitter.com/dYPgcgHhmo  #TheResistance (@AynRandPaulRyan) February 19, 2017@realDonaldTrump @FoxNews pic.twitter.com/hoF53staXG  #TheResistance (@AynRandPaulRyan) February 19, 2017@realDonaldTrump Also, is @foxandfriends your new National Security Advisor?  Evan Dashevsky (@haldash) February 19, 2017@realDonaldTrump  oh I saw it on TV, people told me this  instead of being responsible for what comes out of his mouth.  Erick Fernandez (@ErickFernandez) February 19, 2017@realDonaldTrump @FoxNews OK time to have a chat again, so tell President Emperor Bannon you need a smoke break. This will take a bit.  Kevin (@TheKevinDent) February 19, 2017@realDonaldTrump So you blindly spout whether @FoxNews tells you to? It s pathetic, not to mention awfully irresponsible, 45.  Mike P Williams (@Mike_P_Williams) February 19, 2017Here s what someone who appears to be in Sweden has to say:@realDonaldTrump @FoxNews There is no migrant crisis in Sweden. We have free health care, free education, a functioning welfare system. ??  Ines Helene (@inihelene) February 19, 2017How embarrassing. You re hopelessly confused. Sad! @realDonaldTrump https://t.co/2mRZAjuj6f  Charles Johnson (@Green_Footballs) February 19, 2017Um @erichmcelroy is @realDonaldTrump now trying to blame @FoxNews? I thought we could trust them!  Mark Machado (@MarkMachado) February 19, 2017 Maybe, just as a change of pace and maybe to keep all of us on our toes, he should actually take responsibility for what he says and apologize. But what are we talking about? Trump is one of the worst pathological liars in the long, sad history of pathological liars.Featured image by Joe Raedle via Getty Images\",\n          \"Tweetwave This time it's true no pantsTweetwave More Of Anthony Weiner's Greatest Hits Users browsing this forum: No registered users and 13 guests Display posts from previous: Powered by phpBB \\u00a9 2000, 2002, 2005, 2007 phpBB Group The uncontested absurdities of today are the accepted slogans of tomorrow. They come to be accepted by degrees, by precedent, by implication, by erosion, by default, by dint of constant pressure on one side and constant retreat on the other - until the day when they are suddenly declared to be the country's official ideology. ~ Ayn Rand \\nRubiks & Rubik\\u2019s Cube \\u00ae used by special individual permission of Seven Town Ltd. Write down this number and report to your Kommissar at the nearest railroad station. Don't forget warm clothes and a shovel! Channel list \\nFollowing hurricane Matthew's failure to devastate Florida, activists flock to the Sunshine State and destroy Trump signs manually \\nTim Kaine takes credit for interrupting hurricane Matthew while debating weather in Florida \\nStudy: Many non-voters still undecided on how they're not going to vote \\nThe Evolution of Dissent: on November 8th the nation is to decide whether dissent will stop being racist and become sexist - or it will once again be patriotic as it was for 8 years under George W. Bush \\nVenezuela solves starvation problem by making it mandatory to buy food \\nBreaking: the Clinton Foundation set to investigate the FBI \\nObama \\u200b\\u200bcaptures rare Pok\\u00e9mon \\u200b\\u200bwhile visiting Hiroshima \\nMovie news: 'The Big Friendly Giant Government' flops at box office; audiences say \\\"It's creepy\\\" \\nBarack Obama: \\\"If I had a son, he'd look like Micah Johnson\\\" \\nWhite House edits Orlando 911 transcript to say shooter pledged allegiance to NRA and Republican Party \\nPresident George Washington: 'Redcoats do not represent British Empire; King George promotes a distorted version of British colonialism' \\nFollowing Obama's 'Okie-Doke' speech , stock of Okie-Doke soars; NASDAQ: 'Obama best Okie-Doke salesman' \\nWeaponized baby formula threatens Planned Parenthood office; ACLU demands federal investigation of Gerber \\nExperts: melting Antarctic glacier could cause sale levels to rise up to 80% off select items by this weekend \\nTravel advisory: airlines now offering flights to front of TSA line \\nAs Obama instructs his administration to get ready for presidential transition, Trump preemptively purchases 'T' keys for White House keyboards \\nJohn Kasich self-identifies as GOP primary winner, demands access to White House bathroom \\nUpcoming Trump/Kelly interview on FoxNews sponsored by 'Let's Make a Deal' and 'The Price is Right' \\nNews from 2017: once the evacuation of Lena Dunham and 90% of other Hollywood celebrities to Canada is confirmed, Trump resigns from presidency: \\\"My work here is done\\\" \\nNon-presidential candidate Paul Ryan pledges not to run for president in new non-presidential non-ad campaign \\nTrump suggests creating 'Muslim database'; Obama symbolically protests by shredding White House guest logs beginning 2009 \\nNational Enquirer: John Kasich's real dad was the milkman, not mailman \\nNational Enquirer: Bound delegates from Colorado, Wyoming found in Ted Cruz\\u2019s basement \\nIran breaks its pinky-swear promise not to support terrorism; US State Department vows rock-paper-scissors strategic response \\nWomen across the country cheer as racist Democrat president on $20 bill is replaced by black pro-gun Republican \\nFederal Reserve solves budget crisis by writing itself a 20-trillion-dollar check \\nWidows, orphans claim responsibility for Brussels airport bombing \\nChe Guevara's son hopes Cuba's communism will rub off on US, proposes a long list of people the government should execute first \\nSusan Sarandon: \\\"I don't vote with my vagina.\\\" Voters in line behind her still suspicious, use hand sanitizer \\nCampaign memo typo causes Hillary to court 'New Black Panties' vote \\nNew Hampshire votes for socialist Sanders, changes state motto to \\\"Live FOR Free or Die\\\" \\nMartin O'Malley drops out of race after Iowa Caucus; nation shocked with revelation he has been running for president \\nStatisticians: one out of three Bernie Sanders supporters is just as dumb as the other two \\nHillary campaign denies accusations of smoking-gun evidence in her emails, claims they contain only smoking-circumstantial-gun evidence \\nObama stops short of firing US Congress upon realizing the difficulty of assembling another group of such tractable yes-men \\nIn effort to contol wild passions for violent jihad, White House urges gun owners to keep their firearms covered in gun burkas \\nTV horror live: A Charlie Brown Christmas gets shot up on air by Mohammed cartoons \\nDemocrats vow to burn the country down over Ted Cruz statement, 'The overwhelming majority of violent criminals are Democrats' \\nRussia's trend to sign bombs dropped on ISIS with \\\"This is for Paris\\\" found response in Obama administration's trend to sign American bombs with \\\"Return to sender\\\" \\nUniversity researchers of cultural appropriation quit upon discovery that their research is appropriation from a culture that created universities \\nArcheologists discover remains of what Barack Obama has described as unprecedented, un-American, and not-who-we-are immigration screening process in Ellis Island \\nMizzou protests lead to declaring entire state a \\\"safe space,\\\" changing Missouri motto to \\\"The don't show me state\\\" \\nGreen energy fact: if we put all green energy subsidies together in one-dollar bills and burn them, we could generate more electricity than has been produced by subsidized green energy \\nState officials improve chances of healthcare payouts by replacing ObamaCare with state lottery \\nNASA's new mission to search for racism, sexism, and economic inequality in deep space suffers from race, gender, and class power struggles over multibillion-dollar budget \\nCollege progress enforcement squads issue schematic humor charts so students know if a joke may be spontaneously laughed at or if regulations require other action \\nISIS opens suicide hotline for US teens depressed by climate change and other progressive doomsday scenarios \\nVirginia county to close schools after teacher asks students to write 'death to America' in Arabic \\n'Wear hijab to school day' ends with spontaneous female circumcision and stoning of a classmate during lunch break \\nISIS releases new, even more barbaric video in an effort to regain mantle from Planned Parenthood \\nImpressed by Fox News stellar rating during GOP debates, CNN to use same formula on Democrat candidates asking tough, pointed questions about Republicans \\nShocking new book explores pros and cons of socialism, discovers they are same people \\nPope outraged by Planned Parenthood's \\\"unfettered capitalism,\\\" demands equal redistribution of baby parts to each according to his need \\nJohn Kerry accepts Iran's \\\"Golden Taquiyya\\\" award, requests jalapenos on the side \\nCitizens of Pluto protest US government's surveillance of their planetoid and its moons with New Horizons space drone \\nJohn Kerry proposes 3-day waiting period for all terrorist nations trying to acquire nuclear weapons \\nChicago Police trying to identify flag that caused nine murders and 53 injuries in the city this past weekend \\nCuba opens to affordable medical tourism for Americans who can't afford Obamacare deductibles \\nState-funded research proves existence of Quantum Aggression Particles (Heterons) in Large Hadron Collider \\nStudent job opportunities: make big bucks this summer as Hillary\\u2019s Ordinary-American; all expenses paid, travel, free acting lessons \\nExperts debate whether Iranian negotiators broke John Kerry's leg or he did it himself to get out of negotiations \\nJunior Varsity takes Ramadi, advances to quarterfinals \\nUS media to GOP pool of candidates: 'Knowing what we know now, would you have had anything to do with the founding of the United States?' \\nNY Mayor to hold peace talks with rats, apologize for previous Mayor's cowboy diplomacy \\nChina launches cube-shaped space object with a message to aliens: \\\"The inhabitants of Earth will steal your intellectual property, copy it, manufacture it in sweatshops with slave labor, and sell it back to you at ridiculously low prices\\\" \\nProgressive scientists: Truth is a variable deduced by subtracting 'what is' from 'what ought to be' \\nExperts agree: Hillary Clinton best candidate to lessen percentage of Americans in top 1% \\nAmerica's attempts at peace talks with the White House continue to be met with lies, stalling tactics, and bad faith \\nStarbucks new policy to talk race with customers prompts new hashtag #DontHoldUpTheLine \\nHillary: DELETE is the new RESET \\nCharlie Hebdo receives Islamophobe 2015 award ; the cartoonists could not be reached for comment due to their inexplicable, illogical deaths \\nRussia sends 'reset' button back to Hillary: 'You need it now more than we do' \\nBarack Obama finds out from CNN that Hillary Clinton spent four years being his Secretary of State \\nPresident Obama honors Leonard Nimoy by taking selfie in front of Starship Enterprise \\nPolice: If Obama had a convenience store, it would look like Obama Express Food Market \\nStudy finds stunning lack of racial, gender, and economic diversity among middle-class white males \\nNASA: We're 80% sure about being 20% sure about being 17% sure about being 38% sure about 2014 being the hottest year on record \\nPeople holding '$15 an Hour Now' posters sue Democratic party demanding raise to $15 an hour for rendered professional protesting services \\nCuba-US normalization: US tourists flock to see Cuba before it looks like the US and Cubans flock to see the US before it looks like Cuba \\nWhite House describes attacks on Sony Pictures as 'spontaneous hacking in response to offensive video mocking Juche and its prophet' \\nCIA responds to Democrat calls for transparency by releasing the director's cut of The Making Of Obama's Birth Certificate \\nObama: 'If I had a city, it would look like Ferguson' \\nBiden: 'If I had a Ferguson (hic), it would look like a city' \\nObama signs executive order renaming 'looters' to 'undocumented shoppers' \\nEthicists agree: two wrongs do make a right so long as Bush did it first \\nThe aftermath of the 'War on Women 2014' finds a new 'Lost Generation' of disillusioned Democrat politicians, unable to cope with life out of office \\nWhite House: Republican takeover of the Senate is a clear mandate from the American people for President Obama to rule by executive orders \\nNurse Kaci Hickox angrily tells reporters that she won't change her clocks for daylight savings time \\nDemocratic Party leaders in panic after recent poll shows most Democratic voters think 'midterm' is when to end pregnancy \\nDesperate Democratic candidates plead with Obama to stop backing them and instead support their GOP opponents \\nEbola Czar issues five-year plan with mandatory quotas of Ebola infections per each state based on voting preferences \\nStudy: crony capitalism is to the free market what the Westboro Baptist Church is to Christianity \\nFun facts about world languages: the Left has more words for statism than the Eskimos have for snow \\nAfrican countries to ban all flights from the United States because \\\"Obama is incompetent, it scares us\\\" \\nNobel Peace Prize controversy: Hillary not nominated despite having done even less than Obama to deserve it \\nObama: 'Ebola is the JV of viruses' \\nBREAKING: Secret Service foils Secret Service plot to protect Obama \\nRevised 1st Amendment: buy one speech, get the second free \\nSharpton calls on white NFL players to beat their women in the interests of racial fairness \\nPresident Obama appoints his weekly approval poll as new national security adviser \\nObama wags pen and phone at Putin; Europe offers support with powerful pens and phones from NATO members \\nWhite House pledges to embarrass ISIS back to the Stone Age with a barrage of fearsome Twitter messages and fatally ironic Instagram photos \\nObama to fight ISIS with new federal Terrorist Regulatory Agency \\nObama vows ISIS will never raise their flag over the eighteenth hole \\nHarry Reid: \\\"Sometimes I say the wong thing\\\" \\nElian Gonzalez wishes he had come to the U.S. on a bus from Central America like all the other kids \\nObama visits US-Mexican border, calls for a two-state solution \\nObama draws \\\"blue line\\\" in Iraq after Putin took away his red crayon \\n\\\"Hard Choices,\\\" a porno flick loosely based on Hillary Clinton's memoir and starring Hillary Hellfire as a drinking, whoring Secretary of State, wildly outsells the flabby, sagging original \\nAccusations of siding with the enemy leave Sgt. Bergdahl with only two options: pursue a doctorate at Berkley or become a Senator from Massachusetts \\nJay Carney stuck in line behind Eric Shinseki to leave the White House; estimated wait time from 15 min to 6 weeks \\n100% of scientists agree that if man-made global warming were real, \\\"the last people we'd want to help us is the Obama administration\\\" \\nJay Carney says he found out that Obama found out that he found out that Obama found out that he found out about the latest Obama administration scandal on the news \\n\\\"Anarchy Now!\\\" meeting turns into riot over points of order, bylaws, and whether or not 'kicking the #^@&*! ass' of the person trying to speak is or is not violence \\nObama retaliates against Putin by prohibiting unionized federal employees from dating hot Russian girls online during work hours \\nRussian separatists in Ukraine riot over an offensive YouTube video showing the toppling of Lenin statues \\n\\\"Free Speech Zones\\\" confuse Obamaphone owners who roam streets in search of additional air minutes \\nObamacare bolsters employment for professionals with skills to convert meth back into sudafed \\nGloves finally off: Obama uses pen and phone to cancel Putin's Netflix account \\nJoe Biden to Russia: \\\"We will bury you by turning more of Eastern Europe over to your control!\\\" \\nIn last-ditch effort to help Ukraine, Obama deploys Rev. Sharpton and Rev. Jackson's Rainbow Coalition to Crimea \\nAl Sharpton: \\\"Not even Putin can withstand our signature chanting, 'racist, sexist, anti-gay, Russian army go away'!\\\" \\nMardi Gras in North Korea: \\\" Throw me some food! \\\" \\nObama's foreign policy works: \\\"War, invasion, and conquest are signs of weakness; we've got Putin right where we want him\\\" \\nUS offers military solution to Ukraine crisis: \\\"We will only fight countries that have LGBT military\\\" \\nPutin annexes Brighton Beach to protect ethnic Russians in Brooklyn, Obama appeals to UN and EU for help \\nThe 1980s: \\\"Mr. Obama, we're just calling to ask if you want our foreign policy back . The 1970s are right here with us, and they're wondering, too.\\\" \\nIn a stunning act of defiance, Obama courageously unfriends Putin on Facebook \\nMSNBC: Obama secures alliance with Austro-Hungarian Empire against Russia\\u2019s aggression in Ukraine \\nStudy: springbreak is to STDs what April 15th is to accountants \\nEfforts to achieve moisture justice for California thwarted by unfair redistribution of snow in America \\nNorth Korean voters unanimous: \\\"We are the 100%\\\" \\nLeader of authoritarian gulag-site, The People's Cube, unanimously 're-elected' with 100% voter turnout \\nSuper Bowl: Obama blames Fox News for Broncos' loss \\nFeminist author slams gay marriage: \\\"a man needs a man like a fish needs a bicycle\\\" \\nBeverly Hills campaign heats up between Henry Waxman and Marianne Williamson over the widening income gap between millionaires and billionaires in their district \\nBiden to lower $10,000-a-plate Dinner For The Homeless to $5,000 so more homeless can attend \\nKim becomes world leader, feeds uncle to dogs; Obama eats dogs, becomes world leader, America cries uncle \\nNorth Korean leader executes own uncle for talking about Obamacare at family Christmas party \\nWhite House hires part-time schizophrenic Mandela sign interpreter to help sell Obamacare \\nKim Jong Un executes own \\\" crazy uncle \\\" to keep him from ruining another family Christmas \\nOFA admits its advice for area activists to give Obamacare Talk at shooting ranges was a bad idea \\nPresident resolves Obamacare debacle with executive order declaring all Americans equally healthy \\nObama to Iran: \\\"If you like your nuclear program, you can keep your nuclear program\\\" \\nBovine community outraged by flatulence coming from Washington DC \\nObama: \\\"I'm not particularly ideological; I believe in a good pragmatic five-year plan\\\" \\nShocker: Obama had no knowledge he'd been reelected until he read about it in the local newspaper last week \\nServer problems at HealthCare.gov so bad, it now flashes 'Error 808' message \\nNSA marks National Best Friend Day with official announcement: \\\"Government is your best friend; we know you like no one else, we're always there, we're always willing to listen\\\" \\nAl Qaeda cancels attack on USA citing launch of Obamacare as devastating enough \\nThe President's latest talking point on Obamacare: \\\"I didn't build that\\\" \\nDizzy with success, Obama renames his wildly popular healthcare mandate to HillaryCare \\nCarney: huge ObamaCare deductibles won't look as bad come hyperinflation \\nWashington Redskins drop 'Washington' from their name as offensive to most Americans \\nPoll: 83% of Americans favor cowboy diplomacy over rodeo clown diplomacy \\nGOVERNMENT WARNING: If you were able to complete ObamaCare form online, it wasn't a legitimate gov't website; you should report online fraud and change all your passwords \\nObama administration gets serious, threatens Syria with ObamaCare \\nObama authorizes the use of Vice President Joe Biden's double-barrel shotgun to fire a couple of blasts at Syria \\nSharpton: \\\"British royals should have named baby 'Trayvon.' By choosing 'George' they sided with white Hispanic racist Zimmerman\\\" \\nDNC launches 'Carlos Danger' action figure; proceeds to fund a charity helping survivors of the Republican War on Women \\nNancy Pelosi extends abortion rights to the birds and the bees \\nHubble discovers planetary drift to the left \\nObama: 'If I had a daughter-in-law, she would look like Rachael Jeantel' \\nFISA court rubberstamps statement denying its portrayal as government's rubber stamp \\nEvery time ObamaCare gets delayed, a Julia somewhere dies \\nGOP to Schumer: 'Force full implementation of ObamaCare before 2014 or Dems will never win another election' \\nObama: 'If I had a son... no, wait, my daughter can now marry a woman!' \\nJanet Napolitano: TSA findings reveal that since none of the hijackers were babies, elderly, or Tea Partiers, 9/11 was not an act of terrorism \\nNews Flash: Sen. Mary Landrieu (D-LA) can see Canada from South Dakota \\nSusan Rice: IRS actions against tea parties caused by anti-tax YouTube video that was insulting to their faith \\nDrudge Report reduces font to fit all White House scandals onto one page \\nObama: the IRS is a constitutional right, just like the Second Amendment \\nWhite House: top Obama officials using secret email accounts a result of bad IT advice to avoid spam mail from Nigeria \\nJay Carney to critics: 'Pinocchio never said anything inconsistent' \\nObama: If I had a gay son, he'd look like Jason Collins \\nGosnell's office in Benghazi raided by the IRS: mainstream media's worst cover-up challenge to date \\nIRS targeting pro-gay-marriage LGBT groups leads to gayest tax revolt in U.S. history \\nAfter Arlington Cemetery rejects offer to bury Boston bomber, Westboro Babtist Church steps up with premium front lawn plot \\nBoston: Obama Administration to reclassify marathon bombing as 'sportsplace violence' \\nStudy: Success has many fathers but failure becomes a government program \\nUS Media: Can Pope Francis possibly clear up Vatican bureaucracy and banking without blaming the previous administration? \\nMichelle Obama praises weekend rampage by Chicago teens as good way to burn calories and stay healthy \\nThis Passover, Obama urges his subjects to paint lamb's blood above doors in order to avoid the Sequester \\nWhite House to American children: Sequester causes layoffs among hens that lay Easter eggs; union-wage Easter Bunnies to be replaced by Mexican Chupacabras \\nTime Mag names Hugo Chavez world's sexiest corpse \\nBoy, 8, pretends banana is gun, makes daring escape from school \\nStudy: Free lunches overpriced, lack nutrition \\nOscars 2013: Michelle Obama announces long-awaited merger of Hollywood and the State \\nJoe Salazar defends the right of women to be raped in gun-free environment: 'rapists and rapees should work together to prevent gun violence for the common good' \\nDept. of Health and Human Services eliminates rape by reclassifying assailants as 'undocumented sex partners' \\nKremlin puts out warning not to photoshop Putin riding meteor unless bare-chested \\nDeeming football too violent, Obama moves to introduce Super Drone Sundays instead \\nJapan offers to extend nuclear umbrella to cover U.S. should America suffer devastating attack on its own defense spending \\nFeminists organize one billion women to protest male oppression with one billion lap dances \\nUrban community protests Mayor Bloomberg's ban on extra-large pop singers owning assault weapons \\nConcerned with mounting death toll, Taliban offers to send peacekeeping advisers to Chicago \\nKarl Rove puts an end to Tea Party with new 'Republicans For Democrats' strategy aimed at losing elections \\nAnswering public skepticism, President Obama authorizes unlimited drone attacks on all skeet targets throughout the country \\nSkeet Ulrich denies claims he had been shot by President but considers changing his name to 'Traps' \\nWhite House releases new exciting photos of Obama standing, sitting, looking thoughtful, and even breathing in and out \\nNew York Times hacked by Chinese government, Paul Krugman's economic policies stolen \\nWhite House: when President shoots skeet, he donates the meat to food banks that feed the middle class \\nTo prove he is serious, Obama eliminates armed guard protection for President, Vice-President, and their families; establishes Gun-Free Zones around them instead \\nState Dept to send 100,000 American college students to China as security for US debt obligations \\nJay Carney: Al Qaeda is on the run, they're just running forward \\nPresident issues executive orders banning cliffs, ceilings, obstructions, statistics, and other notions that prevent us from moving forwards and upward \\nFearing the worst, Obama Administration outlaws the fan to prevent it from being hit by certain objects \\nWorld ends; S&P soars \\nRiddle of universe solved; answer not understood \\nMeek inherit Earth, can't afford estate taxes \\nGreece abandons Euro; accountants find Greece has no Euros anyway \\nWheel finally reinvented; axles to be gradually reinvented in 3rd quarter of 2013 \\nBigfoot found in Ohio, mysteriously not voting for Obama \\nAs Santa's workshop files for bankruptcy, Fed offers bailout in exchange for control of 'naughty and nice' list \\nFreak flying pig accident causes bacon to fly off shelves \\nObama: green economy likely to transform America into a leading third world country of the new millennium \\nReport: President Obama to visit the United States in the near future \\nObama promises to create thousands more economically neutral jobs \\nModernizing Islam: New York imam proposes to canonize Saul Alinsky as religion's latter day prophet \\nImam Rauf's peaceful solution: 'Move Ground Zero a few blocks away from the mosque and no one gets hurt' \\nStudy: Obama's threat to burn tax money in Washington 'recruitment bonanza' for Tea Parties \\nStudy: no Social Security reform will be needed if gov't raises retirement age to at least 814 years \\nObama attends church service, worships self \\nObama proposes national 'Win The Future' lottery; proceeds of new WTF Powerball to finance more gov't spending \\nHistorical revisionists: \\\"Hey, you never know\\\" \\nVice President Biden: criticizing Egypt is un-pharaoh \\nIsraelis to Egyptian rioters: \\\"don't damage the pyramids, we will not rebuild\\\" \\nLake Superior renamed Lake Inferior in spirit of tolerance and inclusiveness \\nAl Gore: It's a shame that a family can be torn apart by something as simple as a pack of polar bears \\nMichael Moore: As long as there is anyone with money to shake down, this country is not broke \\nObama's teleprompters unionize, demand collective bargaining rights \\nObama calls new taxes 'spending reductions in tax code.' Elsewhere rapists tout 'consent reductions in sexual intercourse' \\nObama's teleprompter unhappy with White House Twitter: \\\"Too few words\\\" \\nObama's Regulation Reduction committee finds US Constitution to be expensive outdated framework inefficiently regulating federal gov't \\nTaking a page from the Reagan years, Obama announces new era of Perestroika and Glasnost \\nResponding to Oslo shootings, Obama declares Christianity \\\"Religion of Peace,\\\" praises \\\"moderate Christians,\\\" promises to send one into space \\nRepublicans block Obama's $420 billion program to give American families free charms that ward off economic bad luck \\nWhite House to impose Chimney tax on Santa Claus \\nObama decrees the economy is not soaring as much as previously decreeed \\nConservative think tank introduces children to capitalism with pop-up picture book \\\"The Road to Smurfdom\\\" \\nAl Gore proposes to combat Global Warming by extracting silver linings from clouds in Earth's atmosphere \\nObama refutes charges of him being unresponsive to people's suffering: \\\"When you pray to God, do you always hear a response?\\\" \\nObama regrets the US government didn't provide his mother with free contraceptives when she was in college \\nFluke to Congress: drill, baby, drill! \\nPlanned Parenthood introduces Frequent Flucker reward card: 'Come again soon!' \\nObama to tornado victims: 'We inherited this weather from the previous administration' \\nObama congratulates Putin on Chicago-style election outcome \\nPeople's Cube gives itself Hero of Socialist Labor medal in recognition of continued expert advice provided to the Obama Administration helping to shape its foreign and domestic policies \\nHamas: Israeli air defense unfair to 99% of our missiles, \\\"only 1% allowed to reach Israel\\\" \\nDemocrat strategist: without government supervision, women would have never evolved into humans \\nVoters Without Borders oppose Texas new voter ID law \\nEnraged by accusation that they are doing Obama's bidding, media leaders demand instructions from White House on how to respond \\nObama blames previous Olympics for failure to win at this Olympics \\nOfficial: China plans to land on Moon or at least on cheap knockoff thereof \\nKoran-Contra: Obama secretly arms Syrian rebels \\nPoll: Progressive slogan 'We should be more like Europe' most popular with members of American Nazi Party \\nObama to Evangelicals: Jesus saves, I just spend \\nMay Day: Anarchists plan, schedule, synchronize, and execute a coordinated campaign against all of the above \\nMidwestern farmers hooked on new erotic novel \\\"50 Shades of Hay\\\" \\nStudy: 99% of Liberals give the rest a bad name \\nObama meets with Jewish leaders, proposes deeper circumcisions for the rich \\nHistorians: Before HOPE & CHANGE there was HEMP & CHOOM at ten bucks a bag \\nCancer once again fails to cure Venezuela of its \\\"President for Life\\\" \\nTragic spelling error causes Muslim protesters to burn local boob-tube factory \\nSecretary of Energy Steven Chu: due to energy conservation, the light at the end of the tunnel will be switched off \\nObama Administration running food stamps across the border with Mexico in an operation code-named \\\"Fat And Furious\\\" \\nPakistan explodes in protest over new Adobe Acrobat update; 17 local acrobats killed \\nWhite House: \\\"Let them eat statistics\\\" \\nSpecial Ops: if Benedict Arnold had a son, he would look like Barack Obama\",\n          \"Rubio says prospect of Trump president is 'worrisome' (Reuters) - U.S. Senator Marco Rubio said on Wednesday that he was running for re-election in part to provide a counter-weight to whomever might win the White House in November, whether Democrat Hillary Clinton or Republican Donald Trump. Rubio criticized Clinton in a statement he released to explain his decision, but added: \\u201cThe prospect of a Trump presidency is also worrisome to me.\\u201d \\u201cIf he is elected, we will need senators willing to encourage him in the right direction, and if necessary, stand up to him. I\\u2019ve proven a willingness to do both,\\u201d Rubio said. \"\n        ],\n        \"semantic_type\": \"\",\n        \"description\": \"\"\n      }\n    },\n    {\n      \"column\": \"label\",\n      \"properties\": {\n        \"dtype\": \"number\",\n        \"std\": 0,\n        \"min\": 0,\n        \"max\": 1,\n        \"num_unique_values\": 2,\n        \"samples\": [\n          0,\n          1\n        ],\n        \"semantic_type\": \"\",\n        \"description\": \"\"\n      }\n    },\n    {\n      \"column\": \"preprocessed_text\",\n      \"properties\": {\n        \"dtype\": \"string\",\n        \"num_unique_values\": 62981,\n        \"samples\": [\n          \"angstrom smoke gun wikileak podesta to mill we are departur rich person shit all of those electron mail remark delay second didnt cheryl ask for unsuscept inch batch chop that let go thi tuesday morn one the luminari highlight be march exchang between toilet and clinton adjut which polit campaign chair say on anoth matterand not sound like lanni mere pictwittercompbbkaknju zerohedg novemb then terrifi convers give some more penetr into what hillari advis think about her privat waiter arsen well world health organ they may inform technolog first topograph point associ in nurs thread from juli neera tanden bash actual know state she could use hour angl pull quarter yike better oklahoman than later whi would need if there isnt anyth import them mu just yoga right hah purpos hey ive get idea lashkar-e-taiba incrimin russian base ball popcorn pleas besid clear mention attent deficit disord sol hope subsequ respons yet beryllium leak by volit suppli color item\",\n          \"trump polit campaign releas tax return for republican vp penni washington reuter donald presidenti wide knock refus to the let go of old age on friday frailti microphon besid repeat angstrom pledg that would hi own onc govern complet associ in nurs audit account penc show indiana governor and former unit state congressman pay effect rate rang from percentag these are be with full moon support mister world health organ plan upon routin disclosur standard procedur all modern critic includ democrat hillari clinton rich person propos helium may beryllium conceal someth some specul wage littl oregon no internet worth much less than billion hour angl claim wife karen report adjust gross incom over about stop point year inch while feder low just high figur charit contribut amount famili takehom equival averag statement by her calendar month they she husband presid bill have million most come speak fee book deal run mate senat tim kain virginia along ann holton astatin lapp time august\"\n        ],\n        \"semantic_type\": \"\",\n        \"description\": \"\"\n      }\n    }\n  ]\n}",
       "type": "dataframe",
       "variable_name": "df"
      },
      "text/html": [
       "\n",
       "  <div id=\"df-2d9b700f-6a1d-4a02-ac80-c7f1030e0d1a\" class=\"colab-df-container\">\n",
       "    <div>\n",
       "<style scoped>\n",
       "    .dataframe tbody tr th:only-of-type {\n",
       "        vertical-align: middle;\n",
       "    }\n",
       "\n",
       "    .dataframe tbody tr th {\n",
       "        vertical-align: top;\n",
       "    }\n",
       "\n",
       "    .dataframe thead th {\n",
       "        text-align: right;\n",
       "    }\n",
       "</style>\n",
       "<table border=\"1\" class=\"dataframe\">\n",
       "  <thead>\n",
       "    <tr style=\"text-align: right;\">\n",
       "      <th></th>\n",
       "      <th>Unnamed: 0</th>\n",
       "      <th>title</th>\n",
       "      <th>text</th>\n",
       "      <th>label</th>\n",
       "      <th>preprocessed_text</th>\n",
       "    </tr>\n",
       "  </thead>\n",
       "  <tbody>\n",
       "    <tr>\n",
       "      <th>0</th>\n",
       "      <td>0</td>\n",
       "      <td>LAW ENFORCEMENT ON HIGH ALERT Following Threat...</td>\n",
       "      <td>LAW ENFORCEMENT ON HIGH ALERT Following Threat...</td>\n",
       "      <td>1</td>\n",
       "      <td>law enforc on high alert follow menac against ...</td>\n",
       "    </tr>\n",
       "    <tr>\n",
       "      <th>2</th>\n",
       "      <td>2</td>\n",
       "      <td>UNBELIEVABLE! OBAMA’S ATTORNEY GENERAL SAYS MO...</td>\n",
       "      <td>UNBELIEVABLE! OBAMA’S ATTORNEY GENERAL SAYS MO...</td>\n",
       "      <td>1</td>\n",
       "      <td>incred obama lawyer gener say most charlott ri...</td>\n",
       "    </tr>\n",
       "    <tr>\n",
       "      <th>3</th>\n",
       "      <td>3</td>\n",
       "      <td>Bobby Jindal, raised Hindu, uses story of Chri...</td>\n",
       "      <td>Bobby Jindal, raised Hindu, uses story of Chri...</td>\n",
       "      <td>0</td>\n",
       "      <td>bobbi jindal rais hindu use narr of christian ...</td>\n",
       "    </tr>\n",
       "    <tr>\n",
       "      <th>4</th>\n",
       "      <td>4</td>\n",
       "      <td>SATAN 2: Russia unvelis an image of its terrif...</td>\n",
       "      <td>SATAN 2: Russia unvelis an image of its terrif...</td>\n",
       "      <td>1</td>\n",
       "      <td>satan soviet union unv associ in nurs imag of ...</td>\n",
       "    </tr>\n",
       "    <tr>\n",
       "      <th>5</th>\n",
       "      <td>5</td>\n",
       "      <td>About Time! Christian Group Sues Amazon and SP...</td>\n",
       "      <td>About Time! Christian Group Sues Amazon and SP...</td>\n",
       "      <td>1</td>\n",
       "      <td>about time christian group sue amazon and splc...</td>\n",
       "    </tr>\n",
       "  </tbody>\n",
       "</table>\n",
       "</div>\n",
       "    <div class=\"colab-df-buttons\">\n",
       "\n",
       "  <div class=\"colab-df-container\">\n",
       "    <button class=\"colab-df-convert\" onclick=\"convertToInteractive('df-2d9b700f-6a1d-4a02-ac80-c7f1030e0d1a')\"\n",
       "            title=\"Convert this dataframe to an interactive table.\"\n",
       "            style=\"display:none;\">\n",
       "\n",
       "  <svg xmlns=\"http://www.w3.org/2000/svg\" height=\"24px\" viewBox=\"0 -960 960 960\">\n",
       "    <path d=\"M120-120v-720h720v720H120Zm60-500h600v-160H180v160Zm220 220h160v-160H400v160Zm0 220h160v-160H400v160ZM180-400h160v-160H180v160Zm440 0h160v-160H620v160ZM180-180h160v-160H180v160Zm440 0h160v-160H620v160Z\"/>\n",
       "  </svg>\n",
       "    </button>\n",
       "\n",
       "  <style>\n",
       "    .colab-df-container {\n",
       "      display:flex;\n",
       "      gap: 12px;\n",
       "    }\n",
       "\n",
       "    .colab-df-convert {\n",
       "      background-color: #E8F0FE;\n",
       "      border: none;\n",
       "      border-radius: 50%;\n",
       "      cursor: pointer;\n",
       "      display: none;\n",
       "      fill: #1967D2;\n",
       "      height: 32px;\n",
       "      padding: 0 0 0 0;\n",
       "      width: 32px;\n",
       "    }\n",
       "\n",
       "    .colab-df-convert:hover {\n",
       "      background-color: #E2EBFA;\n",
       "      box-shadow: 0px 1px 2px rgba(60, 64, 67, 0.3), 0px 1px 3px 1px rgba(60, 64, 67, 0.15);\n",
       "      fill: #174EA6;\n",
       "    }\n",
       "\n",
       "    .colab-df-buttons div {\n",
       "      margin-bottom: 4px;\n",
       "    }\n",
       "\n",
       "    [theme=dark] .colab-df-convert {\n",
       "      background-color: #3B4455;\n",
       "      fill: #D2E3FC;\n",
       "    }\n",
       "\n",
       "    [theme=dark] .colab-df-convert:hover {\n",
       "      background-color: #434B5C;\n",
       "      box-shadow: 0px 1px 3px 1px rgba(0, 0, 0, 0.15);\n",
       "      filter: drop-shadow(0px 1px 2px rgba(0, 0, 0, 0.3));\n",
       "      fill: #FFFFFF;\n",
       "    }\n",
       "  </style>\n",
       "\n",
       "    <script>\n",
       "      const buttonEl =\n",
       "        document.querySelector('#df-2d9b700f-6a1d-4a02-ac80-c7f1030e0d1a button.colab-df-convert');\n",
       "      buttonEl.style.display =\n",
       "        google.colab.kernel.accessAllowed ? 'block' : 'none';\n",
       "\n",
       "      async function convertToInteractive(key) {\n",
       "        const element = document.querySelector('#df-2d9b700f-6a1d-4a02-ac80-c7f1030e0d1a');\n",
       "        const dataTable =\n",
       "          await google.colab.kernel.invokeFunction('convertToInteractive',\n",
       "                                                    [key], {});\n",
       "        if (!dataTable) return;\n",
       "\n",
       "        const docLinkHtml = 'Like what you see? Visit the ' +\n",
       "          '<a target=\"_blank\" href=https://colab.research.google.com/notebooks/data_table.ipynb>data table notebook</a>'\n",
       "          + ' to learn more about interactive tables.';\n",
       "        element.innerHTML = '';\n",
       "        dataTable['output_type'] = 'display_data';\n",
       "        await google.colab.output.renderOutput(dataTable, element);\n",
       "        const docLink = document.createElement('div');\n",
       "        docLink.innerHTML = docLinkHtml;\n",
       "        element.appendChild(docLink);\n",
       "      }\n",
       "    </script>\n",
       "  </div>\n",
       "\n",
       "\n",
       "<div id=\"df-7af268f5-37d5-4f02-a691-5bf9f2936f92\">\n",
       "  <button class=\"colab-df-quickchart\" onclick=\"quickchart('df-7af268f5-37d5-4f02-a691-5bf9f2936f92')\"\n",
       "            title=\"Suggest charts\"\n",
       "            style=\"display:none;\">\n",
       "\n",
       "<svg xmlns=\"http://www.w3.org/2000/svg\" height=\"24px\"viewBox=\"0 0 24 24\"\n",
       "     width=\"24px\">\n",
       "    <g>\n",
       "        <path d=\"M19 3H5c-1.1 0-2 .9-2 2v14c0 1.1.9 2 2 2h14c1.1 0 2-.9 2-2V5c0-1.1-.9-2-2-2zM9 17H7v-7h2v7zm4 0h-2V7h2v10zm4 0h-2v-4h2v4z\"/>\n",
       "    </g>\n",
       "</svg>\n",
       "  </button>\n",
       "\n",
       "<style>\n",
       "  .colab-df-quickchart {\n",
       "      --bg-color: #E8F0FE;\n",
       "      --fill-color: #1967D2;\n",
       "      --hover-bg-color: #E2EBFA;\n",
       "      --hover-fill-color: #174EA6;\n",
       "      --disabled-fill-color: #AAA;\n",
       "      --disabled-bg-color: #DDD;\n",
       "  }\n",
       "\n",
       "  [theme=dark] .colab-df-quickchart {\n",
       "      --bg-color: #3B4455;\n",
       "      --fill-color: #D2E3FC;\n",
       "      --hover-bg-color: #434B5C;\n",
       "      --hover-fill-color: #FFFFFF;\n",
       "      --disabled-bg-color: #3B4455;\n",
       "      --disabled-fill-color: #666;\n",
       "  }\n",
       "\n",
       "  .colab-df-quickchart {\n",
       "    background-color: var(--bg-color);\n",
       "    border: none;\n",
       "    border-radius: 50%;\n",
       "    cursor: pointer;\n",
       "    display: none;\n",
       "    fill: var(--fill-color);\n",
       "    height: 32px;\n",
       "    padding: 0;\n",
       "    width: 32px;\n",
       "  }\n",
       "\n",
       "  .colab-df-quickchart:hover {\n",
       "    background-color: var(--hover-bg-color);\n",
       "    box-shadow: 0 1px 2px rgba(60, 64, 67, 0.3), 0 1px 3px 1px rgba(60, 64, 67, 0.15);\n",
       "    fill: var(--button-hover-fill-color);\n",
       "  }\n",
       "\n",
       "  .colab-df-quickchart-complete:disabled,\n",
       "  .colab-df-quickchart-complete:disabled:hover {\n",
       "    background-color: var(--disabled-bg-color);\n",
       "    fill: var(--disabled-fill-color);\n",
       "    box-shadow: none;\n",
       "  }\n",
       "\n",
       "  .colab-df-spinner {\n",
       "    border: 2px solid var(--fill-color);\n",
       "    border-color: transparent;\n",
       "    border-bottom-color: var(--fill-color);\n",
       "    animation:\n",
       "      spin 1s steps(1) infinite;\n",
       "  }\n",
       "\n",
       "  @keyframes spin {\n",
       "    0% {\n",
       "      border-color: transparent;\n",
       "      border-bottom-color: var(--fill-color);\n",
       "      border-left-color: var(--fill-color);\n",
       "    }\n",
       "    20% {\n",
       "      border-color: transparent;\n",
       "      border-left-color: var(--fill-color);\n",
       "      border-top-color: var(--fill-color);\n",
       "    }\n",
       "    30% {\n",
       "      border-color: transparent;\n",
       "      border-left-color: var(--fill-color);\n",
       "      border-top-color: var(--fill-color);\n",
       "      border-right-color: var(--fill-color);\n",
       "    }\n",
       "    40% {\n",
       "      border-color: transparent;\n",
       "      border-right-color: var(--fill-color);\n",
       "      border-top-color: var(--fill-color);\n",
       "    }\n",
       "    60% {\n",
       "      border-color: transparent;\n",
       "      border-right-color: var(--fill-color);\n",
       "    }\n",
       "    80% {\n",
       "      border-color: transparent;\n",
       "      border-right-color: var(--fill-color);\n",
       "      border-bottom-color: var(--fill-color);\n",
       "    }\n",
       "    90% {\n",
       "      border-color: transparent;\n",
       "      border-bottom-color: var(--fill-color);\n",
       "    }\n",
       "  }\n",
       "</style>\n",
       "\n",
       "  <script>\n",
       "    async function quickchart(key) {\n",
       "      const quickchartButtonEl =\n",
       "        document.querySelector('#' + key + ' button');\n",
       "      quickchartButtonEl.disabled = true;  // To prevent multiple clicks.\n",
       "      quickchartButtonEl.classList.add('colab-df-spinner');\n",
       "      try {\n",
       "        const charts = await google.colab.kernel.invokeFunction(\n",
       "            'suggestCharts', [key], {});\n",
       "      } catch (error) {\n",
       "        console.error('Error during call to suggestCharts:', error);\n",
       "      }\n",
       "      quickchartButtonEl.classList.remove('colab-df-spinner');\n",
       "      quickchartButtonEl.classList.add('colab-df-quickchart-complete');\n",
       "    }\n",
       "    (() => {\n",
       "      let quickchartButtonEl =\n",
       "        document.querySelector('#df-7af268f5-37d5-4f02-a691-5bf9f2936f92 button');\n",
       "      quickchartButtonEl.style.display =\n",
       "        google.colab.kernel.accessAllowed ? 'block' : 'none';\n",
       "    })();\n",
       "  </script>\n",
       "</div>\n",
       "\n",
       "    </div>\n",
       "  </div>\n"
      ],
      "text/plain": [
       "   Unnamed: 0                                              title  \\\n",
       "0           0  LAW ENFORCEMENT ON HIGH ALERT Following Threat...   \n",
       "2           2  UNBELIEVABLE! OBAMA’S ATTORNEY GENERAL SAYS MO...   \n",
       "3           3  Bobby Jindal, raised Hindu, uses story of Chri...   \n",
       "4           4  SATAN 2: Russia unvelis an image of its terrif...   \n",
       "5           5  About Time! Christian Group Sues Amazon and SP...   \n",
       "\n",
       "                                                text  label  \\\n",
       "0  LAW ENFORCEMENT ON HIGH ALERT Following Threat...      1   \n",
       "2  UNBELIEVABLE! OBAMA’S ATTORNEY GENERAL SAYS MO...      1   \n",
       "3  Bobby Jindal, raised Hindu, uses story of Chri...      0   \n",
       "4  SATAN 2: Russia unvelis an image of its terrif...      1   \n",
       "5  About Time! Christian Group Sues Amazon and SP...      1   \n",
       "\n",
       "                                   preprocessed_text  \n",
       "0  law enforc on high alert follow menac against ...  \n",
       "2  incred obama lawyer gener say most charlott ri...  \n",
       "3  bobbi jindal rais hindu use narr of christian ...  \n",
       "4  satan soviet union unv associ in nurs imag of ...  \n",
       "5  about time christian group sue amazon and splc...  "
      ]
     },
     "execution_count": 11,
     "metadata": {},
     "output_type": "execute_result"
    }
   ],
   "source": [
    "df.head()"
   ]
  },
  {
   "cell_type": "code",
   "execution_count": null,
   "metadata": {
    "id": "o0bZMWijkE5H"
   },
   "outputs": [],
   "source": [
    "train_d, val_d, train_labels, val_labels = train_test_split(df['preprocessed_text'],df['label'],test_size=0.2,random_state=42)"
   ]
  },
  {
   "cell_type": "code",
   "execution_count": null,
   "metadata": {
    "colab": {
     "base_uri": "https://localhost:8080/",
     "height": 269,
     "referenced_widgets": [
      "df475d5fe5dc4bb59cd525a58f15b5d3",
      "bb42a7131ae943ec81d6f75119d29cd7",
      "f50eb2c246064e6c922088eb75b001c5",
      "abe80957afdc4accb6ce66aed1a0a2bf",
      "af364e6dffdc4c7599a346fd6c27a9ae",
      "627a6e3546e54039ac8c0228ab6d71d6",
      "5554903484234f86ad706811789a23c8",
      "e1041be3577e4f3bb2dcc74ff3071342",
      "0c504594e3c14b9ab23e5c39421b59f5",
      "0ef6632fa9214d70afd8a820b04aa49f",
      "d3d55dbd3108492f854d05e8a82cfc1f",
      "c9ff06caa46e4bbe8b666596f7b8f847",
      "fcfdf6bf79aa417193bb6dcf38b4939c",
      "dde9ed6d6ce548149fbcc86b93a9c08c",
      "e8cdeffa58934e96a407654795f9eae9",
      "e20ac29442f14e2d83039e48be11e67d",
      "cec44b32a15243408776575fd4272258",
      "3d0ce1715a8047a683d6026db161db74",
      "8566eaf13ac1494993199daa66fb4690",
      "2c39ef07dc094d15af7ae5dd9f775d0f",
      "79285440a73f43f8817a443179274b42",
      "abfc3606c86f498caa07eee5780ed4f4",
      "fa31b72930184014ba3b412bd2ff9525",
      "e1c6dbec4f2a4000a89d90afc703c95f",
      "72e0962c303e4a7ab756a4b091ee8498",
      "b2950958f09c40a7beade2e35c07c7ea",
      "592fcc80abfb49569aa8ad43f3792cb0",
      "4e63c5e5ba754c7589e4c229a1940c59",
      "a48be50c76194b4db4c37a9589c05544",
      "6ea5beaeaccf4f84a473fdf6b3d879b7",
      "aafdee2387b24a298f2473ad165dfcd1",
      "ea575e802ead49e0bde2e62e02e15d62",
      "4d0d4b91e62d46c099196c1a6703e547",
      "339321e2105f4b69a15a417355797c51",
      "dde010944f1f413e95c2f4b9ef23e21f",
      "8b21d4726cb1444c810c96d7203beabe",
      "ba02f11e543a4ede8d422724401641fc",
      "430b020f54024439a8f864771a4d916c",
      "f54d10e294e64de9a5968f37a67ce3db",
      "74e503a4fe234422947025bdfe175e68",
      "c57c98c25c0049b4a852ac16b2a6ccdc",
      "e149bbef23344038ad4ecbb65688cc4a",
      "d980444019f1435bb7c95e68816109d3",
      "b6599d300c284aa39707ef7008ebe54e"
     ]
    },
    "executionInfo": {
     "elapsed": 5094,
     "status": "ok",
     "timestamp": 1731816874452,
     "user": {
      "displayName": "Đỗ Tuấn Trực",
      "userId": "14346979072481805814"
     },
     "user_tz": -420
    },
    "id": "PWSi_ppEkE2k",
    "outputId": "25829478-0337-45f9-8c20-4a1e174d9699"
   },
   "outputs": [
    {
     "name": "stderr",
     "output_type": "stream",
     "text": [
      "/usr/local/lib/python3.10/dist-packages/huggingface_hub/utils/_auth.py:94: UserWarning: \n",
      "The secret `HF_TOKEN` does not exist in your Colab secrets.\n",
      "To authenticate with the Hugging Face Hub, create a token in your settings tab (https://huggingface.co/settings/tokens), set it as secret in your Google Colab and restart your session.\n",
      "You will be able to reuse this secret in all of your notebooks.\n",
      "Please note that authentication is recommended but still optional to access public models or datasets.\n",
      "  warnings.warn(\n"
     ]
    },
    {
     "data": {
      "application/vnd.jupyter.widget-view+json": {
       "model_id": "df475d5fe5dc4bb59cd525a58f15b5d3",
       "version_major": 2,
       "version_minor": 0
      },
      "text/plain": [
       "tokenizer_config.json:   0%|          | 0.00/48.0 [00:00<?, ?B/s]"
      ]
     },
     "metadata": {},
     "output_type": "display_data"
    },
    {
     "data": {
      "application/vnd.jupyter.widget-view+json": {
       "model_id": "c9ff06caa46e4bbe8b666596f7b8f847",
       "version_major": 2,
       "version_minor": 0
      },
      "text/plain": [
       "vocab.txt:   0%|          | 0.00/232k [00:00<?, ?B/s]"
      ]
     },
     "metadata": {},
     "output_type": "display_data"
    },
    {
     "data": {
      "application/vnd.jupyter.widget-view+json": {
       "model_id": "fa31b72930184014ba3b412bd2ff9525",
       "version_major": 2,
       "version_minor": 0
      },
      "text/plain": [
       "tokenizer.json:   0%|          | 0.00/466k [00:00<?, ?B/s]"
      ]
     },
     "metadata": {},
     "output_type": "display_data"
    },
    {
     "data": {
      "application/vnd.jupyter.widget-view+json": {
       "model_id": "339321e2105f4b69a15a417355797c51",
       "version_major": 2,
       "version_minor": 0
      },
      "text/plain": [
       "config.json:   0%|          | 0.00/570 [00:00<?, ?B/s]"
      ]
     },
     "metadata": {},
     "output_type": "display_data"
    }
   ],
   "source": [
    "tokenizer = BertTokenizer.from_pretrained('bert-base-uncased')\n",
    "max_length = 64"
   ]
  },
  {
   "cell_type": "markdown",
   "metadata": {},
   "source": [
    "Tokenize data"
   ]
  },
  {
   "cell_type": "code",
   "execution_count": null,
   "metadata": {
    "id": "RjKtv2eNkEzv"
   },
   "outputs": [],
   "source": [
    "train_encodings = tokenizer(list(train_d), padding=True, truncation=True, max_length=max_length, return_tensors=\"tf\")\n",
    "val_encodings = tokenizer(list(val_d), padding=True, truncation=True, max_length=max_length, return_tensors=\"tf\")"
   ]
  },
  {
   "cell_type": "code",
   "execution_count": null,
   "metadata": {
    "colab": {
     "base_uri": "https://localhost:8080/",
     "height": 138,
     "referenced_widgets": [
      "029f251f2d4442b4a04f10de201620af",
      "ae72a85b42264000a6e3e5a0dc80cdd0",
      "09735be6ef4b4f06be93f5640d47e209",
      "4c2a5eacb60d482a997fd726596cb6cd",
      "3836e5cc3f3344db8ae7fd655067c33c",
      "f71ebd0eac19451cb8658658488e5725",
      "01906180874c4bc0b3bb70112445b310",
      "d1e0a6e8031d41b191fc8b268dffca12",
      "551b285d520b47d3bac068c309cb0fea",
      "ea39c2baeedd44d3a2cbac424f3ecc08",
      "15c6c92d97244a5592ebe0f1c32f7ee6"
     ]
    },
    "executionInfo": {
     "elapsed": 5823,
     "status": "ok",
     "timestamp": 1731817326860,
     "user": {
      "displayName": "Đỗ Tuấn Trực",
      "userId": "14346979072481805814"
     },
     "user_tz": -420
    },
    "id": "8rOEs9n9kExS",
    "outputId": "551e5890-c321-4927-c8f0-665592f77410"
   },
   "outputs": [
    {
     "data": {
      "application/vnd.jupyter.widget-view+json": {
       "model_id": "029f251f2d4442b4a04f10de201620af",
       "version_major": 2,
       "version_minor": 0
      },
      "text/plain": [
       "model.safetensors:   0%|          | 0.00/440M [00:00<?, ?B/s]"
      ]
     },
     "metadata": {},
     "output_type": "display_data"
    },
    {
     "name": "stderr",
     "output_type": "stream",
     "text": [
      "All PyTorch model weights were used when initializing TFBertForSequenceClassification.\n",
      "\n",
      "Some weights or buffers of the TF 2.0 model TFBertForSequenceClassification were not initialized from the PyTorch model and are newly initialized: ['classifier.weight', 'classifier.bias']\n",
      "You should probably TRAIN this model on a down-stream task to be able to use it for predictions and inference.\n"
     ]
    }
   ],
   "source": [
    "model = TFBertForSequenceClassification.from_pretrained('bert-base-uncased', num_labels=2)"
   ]
  },
  {
   "cell_type": "code",
   "execution_count": null,
   "metadata": {
    "id": "zeBP_VF3kEue"
   },
   "outputs": [],
   "source": [
    "import tensorflow as tf\n",
    "from transformers import TFBertForSequenceClassification, BertTokenizer"
   ]
  },
  {
   "cell_type": "markdown",
   "metadata": {},
   "source": [
    "Xây dựng mô hình"
   ]
  },
  {
   "cell_type": "code",
   "execution_count": null,
   "metadata": {
    "id": "nAbE5VCmkEr1"
   },
   "outputs": [],
   "source": [
    "from transformers import create_optimizer\n",
    "\n",
    "optimizer, lr_schedule = create_optimizer(\n",
    "    init_lr=5e-6,  \n",
    "    num_warmup_steps=0,  \n",
    "    num_train_steps=1000  \n",
    ")  \n",
    "\n",
    "loss = tf.keras.losses.SparseCategoricalCrossentropy(from_logits=True)\n",
    "metrics = ['accuracy']\n",
    "\n",
    "model.compile(optimizer=optimizer, loss=loss, metrics=metrics)"
   ]
  },
  {
   "cell_type": "code",
   "execution_count": null,
   "metadata": {
    "colab": {
     "base_uri": "https://localhost:8080/"
    },
    "executionInfo": {
     "elapsed": 19,
     "status": "ok",
     "timestamp": 1731817329058,
     "user": {
      "displayName": "Đỗ Tuấn Trực",
      "userId": "14346979072481805814"
     },
     "user_tz": -420
    },
    "id": "NbIfKxuvkEpF",
    "outputId": "9fce6488-16f9-4cc7-ceec-9820a82ca97d"
   },
   "outputs": [
    {
     "name": "stdout",
     "output_type": "stream",
     "text": [
      "Model: \"tf_bert_for_sequence_classification\"\n",
      "_________________________________________________________________\n",
      " Layer (type)                Output Shape              Param #   \n",
      "=================================================================\n",
      " bert (TFBertMainLayer)      multiple                  109482240 \n",
      "                                                                 \n",
      " dropout_37 (Dropout)        multiple                  0 (unused)\n",
      "                                                                 \n",
      " classifier (Dense)          multiple                  1538      \n",
      "                                                                 \n",
      "=================================================================\n",
      "Total params: 109483778 (417.65 MB)\n",
      "Trainable params: 109483778 (417.65 MB)\n",
      "Non-trainable params: 0 (0.00 Byte)\n",
      "_________________________________________________________________\n"
     ]
    }
   ],
   "source": [
    "model.summary()"
   ]
  },
  {
   "cell_type": "markdown",
   "metadata": {},
   "source": [
    "Huấn luyện mô hình"
   ]
  },
  {
   "cell_type": "code",
   "execution_count": null,
   "metadata": {
    "colab": {
     "base_uri": "https://localhost:8080/"
    },
    "executionInfo": {
     "elapsed": 2788489,
     "status": "ok",
     "timestamp": 1731820117538,
     "user": {
      "displayName": "Đỗ Tuấn Trực",
      "userId": "14346979072481805814"
     },
     "user_tz": -420
    },
    "id": "WaQ0RiwWkEmM",
    "outputId": "16094e11-b09d-4b24-8b88-2e3f0da80db1"
   },
   "outputs": [
    {
     "name": "stdout",
     "output_type": "stream",
     "text": [
      "Epoch 1/3\n",
      "3577/3577 [==============================] - 958s 256ms/step - loss: 0.2214 - accuracy: 0.9181 - val_loss: 0.1953 - val_accuracy: 0.9296\n",
      "Epoch 2/3\n",
      "3577/3577 [==============================] - 916s 256ms/step - loss: 0.1952 - accuracy: 0.9312 - val_loss: 0.1953 - val_accuracy: 0.9296\n",
      "Epoch 3/3\n",
      "3577/3577 [==============================] - 914s 256ms/step - loss: 0.1956 - accuracy: 0.9310 - val_loss: 0.1953 - val_accuracy: 0.9296\n"
     ]
    }
   ],
   "source": [
    "import tensorflow as tf\n",
    "\n",
    "train_labels = train_labels.astype(int).values  \n",
    "val_labels = val_labels.astype(int).values   \n",
    "\n",
    "train_labels = tf.cast(train_labels, dtype=tf.int32)  \n",
    "val_labels = tf.cast(val_labels, dtype=tf.int32)   \n",
    "\n",
    "history = model.fit(\n",
    "    {'input_ids': train_encodings['input_ids'], 'attention_mask': train_encodings['attention_mask']},\n",
    "    train_labels,\n",
    "    validation_data=(\n",
    "        {'input_ids': val_encodings['input_ids'], 'attention_mask': val_encodings['attention_mask']},\n",
    "        val_labels\n",
    "    ),\n",
    "    batch_size=16,\n",
    "    epochs=3\n",
    ")"
   ]
  },
  {
   "cell_type": "markdown",
   "metadata": {},
   "source": [
    "Vẽ đồ thị học accuracy và loss"
   ]
  },
  {
   "cell_type": "code",
   "execution_count": null,
   "metadata": {
    "colab": {
     "base_uri": "https://localhost:8080/",
     "height": 542
    },
    "executionInfo": {
     "elapsed": 649,
     "status": "ok",
     "timestamp": 1731820118180,
     "user": {
      "displayName": "Đỗ Tuấn Trực",
      "userId": "14346979072481805814"
     },
     "user_tz": -420
    },
    "id": "rDeSmtRrkEjf",
    "outputId": "25c8f404-4c23-4d9c-9ae5-ea4cb6fb1a3c"
   },
   "outputs": [
    {
     "data": {
      "image/png": "[encoded data removed]",
      "text/plain": [
       "<Figure size 1600x600 with 2 Axes>"
      ]
     },
     "metadata": {},
     "output_type": "display_data"
    }
   ],
   "source": [
    "import matplotlib.pyplot as plt\n",
    "\n",
    "def plot_graphs(history, metric):\n",
    "\n",
    "    plt.plot(history.history[metric])\n",
    "    plt.plot(history.history['val_'+metric], '')\n",
    "    plt.xlabel(\"Epochs\")\n",
    "    plt.ylabel(metric)\n",
    "    plt.legend([metric, 'val_'+metric])\n",
    "\n",
    "\n",
    "plt.figure(figsize=(16, 6))\n",
    "plt.subplot(1, 2, 1)\n",
    "plot_graphs(history, 'accuracy')\n",
    "plt.subplot(1, 2, 2)\n",
    "plot_graphs(history, 'loss')"
   ]
  },
  {
   "cell_type": "markdown",
   "metadata": {},
   "source": [
    "Đánh giá mô hình"
   ]
  },
  {
   "cell_type": "code",
   "execution_count": null,
   "metadata": {
    "colab": {
     "base_uri": "https://localhost:8080/"
    },
    "executionInfo": {
     "elapsed": 67273,
     "status": "ok",
     "timestamp": 1731820185447,
     "user": {
      "displayName": "Đỗ Tuấn Trực",
      "userId": "14346979072481805814"
     },
     "user_tz": -420
    },
    "id": "F63AuFAlkEgn",
    "outputId": "9fc3ce1f-f69b-4fa2-e168-8f2c10535246"
   },
   "outputs": [
    {
     "name": "stdout",
     "output_type": "stream",
     "text": [
      "448/448 [==============================] - 67s 144ms/step\n",
      "              precision    recall  f1-score   support\n",
      "\n",
      "           0       0.95      0.90      0.93      7081\n",
      "           1       0.91      0.96      0.93      7227\n",
      "\n",
      "    accuracy                           0.93     14308\n",
      "   macro avg       0.93      0.93      0.93     14308\n",
      "weighted avg       0.93      0.93      0.93     14308\n",
      "\n"
     ]
    }
   ],
   "source": [
    "from sklearn.metrics import confusion_matrix, classification_report, f1_score\n",
    "import numpy as np\n",
    "import tensorflow as tf\n",
    "\n",
    "y_pred_probs = model.predict({'input_ids': val_encodings['input_ids'], 'attention_mask': val_encodings['attention_mask']})\n",
    "y_pred = np.argmax(y_pred_probs.logits, axis=1)\n",
    "\n",
    "\n",
    "y_test = val_labels.numpy() \n",
    "\n",
    "print(classification_report(y_test, y_pred))\n",
    "\n"
   ]
  },
  {
   "cell_type": "markdown",
   "metadata": {},
   "source": [
    "Vẽ ma trận nhầm lẫn "
   ]
  },
  {
   "cell_type": "code",
   "execution_count": null,
   "metadata": {
    "colab": {
     "base_uri": "https://localhost:8080/",
     "height": 559
    },
    "executionInfo": {
     "elapsed": 571,
     "status": "ok",
     "timestamp": 1731820186006,
     "user": {
      "displayName": "Đỗ Tuấn Trực",
      "userId": "14346979072481805814"
     },
     "user_tz": -420
    },
    "id": "4XswaQPUkEd4",
    "outputId": "4a4a913c-7d91-4d6b-ba9e-3b0d7aafb0cf"
   },
   "outputs": [
    {
     "data": {
      "text/plain": [
       "Text(70.72222222222221, 0.5, 'Real Labels')"
      ]
     },
     "execution_count": 22,
     "metadata": {},
     "output_type": "execute_result"
    },
    {
     "data": {
      "image/png": "[encoded data removed]",
      "text/plain": [
       "<Figure size 800x600 with 2 Axes>"
      ]
     },
     "metadata": {},
     "output_type": "display_data"
    }
   ],
   "source": [
    "import seaborn as sns\n",
    "\n",
    "plt.figure(figsize = (8,6))\n",
    "sns.heatmap(confusion_matrix(y_test,y_pred), annot=True,\n",
    "            fmt='', cmap='Blues')\n",
    "\n",
    "plt.xlabel('Predicted Labels')\n",
    "plt.ylabel('Real Labels')"
   ]
  },
  {
   "cell_type": "code",
   "execution_count": null,
   "metadata": {
    "colab": {
     "base_uri": "https://localhost:8080/"
    },
    "executionInfo": {
     "elapsed": 16,
     "status": "ok",
     "timestamp": 1731820186006,
     "user": {
      "displayName": "Đỗ Tuấn Trực",
      "userId": "14346979072481805814"
     },
     "user_tz": -420
    },
    "id": "sOby0HMkkEbb",
    "outputId": "6e1d9881-5c43-4c53-ce47-8c9020a545e0"
   },
   "outputs": [
    {
     "name": "stdout",
     "output_type": "stream",
     "text": [
      "Precision: 0.9079\n",
      "Recall: 0.9578\n",
      "F1-score: 0.9322\n",
      "Accuracy: 0.9296\n"
     ]
    }
   ],
   "source": [
    "from sklearn.metrics import precision_score, recall_score, f1_score, accuracy_score\n",
    "\n",
    "conf_matrix = confusion_matrix(y_test,y_pred)\n",
    "\n",
    "true_negatives = conf_matrix[0][0]\n",
    "false_positives = conf_matrix[0][1]\n",
    "false_negatives = conf_matrix[1][0]\n",
    "true_positives = conf_matrix[1][1]\n",
    "\n",
    "precision = true_positives / (true_positives + false_positives)\n",
    "recall = true_positives / (true_positives + false_negatives)\n",
    "f1 = 2 * (precision * recall) / (precision + recall)\n",
    "accuracy = (true_positives + true_negatives) / (true_positives + true_negatives + false_positives + false_negatives)\n",
    "\n",
    "print(f'Precision: {precision:.4f}')\n",
    "print(f'Recall: {recall:.4f}')\n",
    "print(f'F1-score: {f1:.4f}')\n",
    "print(f'Accuracy: {accuracy:.4f}')"
   ]
  },
  {
   "cell_type": "code",
   "execution_count": null,
   "metadata": {
    "id": "pvQ8JLBmkEV9"
   },
   "outputs": [],
   "source": []
  },
  {
   "cell_type": "code",
   "execution_count": null,
   "metadata": {
    "id": "-rgWQB6QkETU"
   },
   "outputs": [],
   "source": []
  },
  {
   "cell_type": "code",
   "execution_count": null,
   "metadata": {
    "id": "LVKUXSdRkEQn"
   },
   "outputs": [],
   "source": []
  },
  {
   "cell_type": "code",
   "execution_count": null,
   "metadata": {
    "id": "tSdbQIVYkEN2"
   },
   "outputs": [],
   "source": []
  },
  {
   "cell_type": "code",
   "execution_count": null,
   "metadata": {
    "id": "O89evq4rkELR"
   },
   "outputs": [],
   "source": []
  },
  {
   "cell_type": "code",
   "execution_count": null,
   "metadata": {
    "id": "vvGriiiZkEIh"
   },
   "outputs": [],
   "source": []
  },
  {
   "cell_type": "code",
   "execution_count": null,
   "metadata": {
    "id": "Fzl9vBfLkEF-"
   },
   "outputs": [],
   "source": []
  },
  {
   "cell_type": "code",
   "execution_count": null,
   "metadata": {
    "id": "UCTbvA8OkED3"
   },
   "outputs": [],
   "source": []
  }
 ],
 "metadata": {
  "accelerator": "GPU",
  "colab": {
   "authorship_tag": "ABX9TyMpVwasLuU5J57Ff/WSXZFu",
   "gpuType": "T4",
   "provenance": []
  },
  "kernelspec": {
   "display_name": "Python 3",
   "name": "python3"
  },
  "language_info": {
   "name": "python"
  },
  "widgets": {
   "application/vnd.jupyter.widget-state+json": {
    "01906180874c4bc0b3bb70112445b310": {
     "model_module": "@jupyter-widgets/controls",
     "model_module_version": "1.5.0",
     "model_name": "DescriptionStyleModel",
     "state": {
      "_model_module": "@jupyter-widgets/controls",
      "_model_module_version": "1.5.0",
      "_model_name": "DescriptionStyleModel",
      "_view_count": null,
      "_view_module": "@jupyter-widgets/base",
      "_view_module_version": "1.2.0",
      "_view_name": "StyleView",
      "description_width": ""
     }
    },
    "029f251f2d4442b4a04f10de201620af": {
     "model_module": "@jupyter-widgets/controls",
     "model_module_version": "1.5.0",
     "model_name": "HBoxModel",
     "state": {
      "_dom_classes": [],
      "_model_module": "@jupyter-widgets/controls",
      "_model_module_version": "1.5.0",
      "_model_name": "HBoxModel",
      "_view_count": null,
      "_view_module": "@jupyter-widgets/controls",
      "_view_module_version": "1.5.0",
      "_view_name": "HBoxView",
      "box_style": "",
      "children": [
       "IPY_MODEL_ae72a85b42264000a6e3e5a0dc80cdd0",
       "IPY_MODEL_09735be6ef4b4f06be93f5640d47e209",
       "IPY_MODEL_4c2a5eacb60d482a997fd726596cb6cd"
      ],
      "layout": "IPY_MODEL_3836e5cc3f3344db8ae7fd655067c33c"
     }
    },
    "09735be6ef4b4f06be93f5640d47e209": {
     "model_module": "@jupyter-widgets/controls",
     "model_module_version": "1.5.0",
     "model_name": "FloatProgressModel",
     "state": {
      "_dom_classes": [],
      "_model_module": "@jupyter-widgets/controls",
      "_model_module_version": "1.5.0",
      "_model_name": "FloatProgressModel",
      "_view_count": null,
      "_view_module": "@jupyter-widgets/controls",
      "_view_module_version": "1.5.0",
      "_view_name": "ProgressView",
      "bar_style": "success",
      "description": "",
      "description_tooltip": null,
      "layout": "IPY_MODEL_d1e0a6e8031d41b191fc8b268dffca12",
      "max": 440449768,
      "min": 0,
      "orientation": "horizontal",
      "style": "IPY_MODEL_551b285d520b47d3bac068c309cb0fea",
      "value": 440449768
     }
    },
    "0c504594e3c14b9ab23e5c39421b59f5": {
     "model_module": "@jupyter-widgets/controls",
     "model_module_version": "1.5.0",
     "model_name": "ProgressStyleModel",
     "state": {
      "_model_module": "@jupyter-widgets/controls",
      "_model_module_version": "1.5.0",
      "_model_name": "ProgressStyleModel",
      "_view_count": null,
      "_view_module": "@jupyter-widgets/base",
      "_view_module_version": "1.2.0",
      "_view_name": "StyleView",
      "bar_color": null,
      "description_width": ""
     }
    },
    "0ef6632fa9214d70afd8a820b04aa49f": {
     "model_module": "@jupyter-widgets/base",
     "model_module_version": "1.2.0",
     "model_name": "LayoutModel",
     "state": {
      "_model_module": "@jupyter-widgets/base",
      "_model_module_version": "1.2.0",
      "_model_name": "LayoutModel",
      "_view_count": null,
      "_view_module": "@jupyter-widgets/base",
      "_view_module_version": "1.2.0",
      "_view_name": "LayoutView",
      "align_content": null,
      "align_items": null,
      "align_self": null,
      "border": null,
      "bottom": null,
      "display": null,
      "flex": null,
      "flex_flow": null,
      "grid_area": null,
      "grid_auto_columns": null,
      "grid_auto_flow": null,
      "grid_auto_rows": null,
      "grid_column": null,
      "grid_gap": null,
      "grid_row": null,
      "grid_template_areas": null,
      "grid_template_columns": null,
      "grid_template_rows": null,
      "height": null,
      "justify_content": null,
      "justify_items": null,
      "left": null,
      "margin": null,
      "max_height": null,
      "max_width": null,
      "min_height": null,
      "min_width": null,
      "object_fit": null,
      "object_position": null,
      "order": null,
      "overflow": null,
      "overflow_x": null,
      "overflow_y": null,
      "padding": null,
      "right": null,
      "top": null,
      "visibility": null,
      "width": null
     }
    },
    "15c6c92d97244a5592ebe0f1c32f7ee6": {
     "model_module": "@jupyter-widgets/controls",
     "model_module_version": "1.5.0",
     "model_name": "DescriptionStyleModel",
     "state": {
      "_model_module": "@jupyter-widgets/controls",
      "_model_module_version": "1.5.0",
      "_model_name": "DescriptionStyleModel",
      "_view_count": null,
      "_view_module": "@jupyter-widgets/base",
      "_view_module_version": "1.2.0",
      "_view_name": "StyleView",
      "description_width": ""
     }
    },
    "2c39ef07dc094d15af7ae5dd9f775d0f": {
     "model_module": "@jupyter-widgets/controls",
     "model_module_version": "1.5.0",
     "model_name": "ProgressStyleModel",
     "state": {
      "_model_module": "@jupyter-widgets/controls",
      "_model_module_version": "1.5.0",
      "_model_name": "ProgressStyleModel",
      "_view_count": null,
      "_view_module": "@jupyter-widgets/base",
      "_view_module_version": "1.2.0",
      "_view_name": "StyleView",
      "bar_color": null,
      "description_width": ""
     }
    },
    "339321e2105f4b69a15a417355797c51": {
     "model_module": "@jupyter-widgets/controls",
     "model_module_version": "1.5.0",
     "model_name": "HBoxModel",
     "state": {
      "_dom_classes": [],
      "_model_module": "@jupyter-widgets/controls",
      "_model_module_version": "1.5.0",
      "_model_name": "HBoxModel",
      "_view_count": null,
      "_view_module": "@jupyter-widgets/controls",
      "_view_module_version": "1.5.0",
      "_view_name": "HBoxView",
      "box_style": "",
      "children": [
       "IPY_MODEL_dde010944f1f413e95c2f4b9ef23e21f",
       "IPY_MODEL_8b21d4726cb1444c810c96d7203beabe",
       "IPY_MODEL_ba02f11e543a4ede8d422724401641fc"
      ],
      "layout": "IPY_MODEL_430b020f54024439a8f864771a4d916c"
     }
    },
    "3836e5cc3f3344db8ae7fd655067c33c": {
     "model_module": "@jupyter-widgets/base",
     "model_module_version": "1.2.0",
     "model_name": "LayoutModel",
     "state": {
      "_model_module": "@jupyter-widgets/base",
      "_model_module_version": "1.2.0",
      "_model_name": "LayoutModel",
      "_view_count": null,
      "_view_module": "@jupyter-widgets/base",
      "_view_module_version": "1.2.0",
      "_view_name": "LayoutView",
      "align_content": null,
      "align_items": null,
      "align_self": null,
      "border": null,
      "bottom": null,
      "display": null,
      "flex": null,
      "flex_flow": null,
      "grid_area": null,
      "grid_auto_columns": null,
      "grid_auto_flow": null,
      "grid_auto_rows": null,
      "grid_column": null,
      "grid_gap": null,
      "grid_row": null,
      "grid_template_areas": null,
      "grid_template_columns": null,
      "grid_template_rows": null,
      "height": null,
      "justify_content": null,
      "justify_items": null,
      "left": null,
      "margin": null,
      "max_height": null,
      "max_width": null,
      "min_height": null,
      "min_width": null,
      "object_fit": null,
      "object_position": null,
      "order": null,
      "overflow": null,
      "overflow_x": null,
      "overflow_y": null,
      "padding": null,
      "right": null,
      "top": null,
      "visibility": null,
      "width": null
     }
    },
    "3d0ce1715a8047a683d6026db161db74": {
     "model_module": "@jupyter-widgets/controls",
     "model_module_version": "1.5.0",
     "model_name": "DescriptionStyleModel",
     "state": {
      "_model_module": "@jupyter-widgets/controls",
      "_model_module_version": "1.5.0",
      "_model_name": "DescriptionStyleModel",
      "_view_count": null,
      "_view_module": "@jupyter-widgets/base",
      "_view_module_version": "1.2.0",
      "_view_name": "StyleView",
      "description_width": ""
     }
    },
    "430b020f54024439a8f864771a4d916c": {
     "model_module": "@jupyter-widgets/base",
     "model_module_version": "1.2.0",
     "model_name": "LayoutModel",
     "state": {
      "_model_module": "@jupyter-widgets/base",
      "_model_module_version": "1.2.0",
      "_model_name": "LayoutModel",
      "_view_count": null,
      "_view_module": "@jupyter-widgets/base",
      "_view_module_version": "1.2.0",
      "_view_name": "LayoutView",
      "align_content": null,
      "align_items": null,
      "align_self": null,
      "border": null,
      "bottom": null,
      "display": null,
      "flex": null,
      "flex_flow": null,
      "grid_area": null,
      "grid_auto_columns": null,
      "grid_auto_flow": null,
      "grid_auto_rows": null,
      "grid_column": null,
      "grid_gap": null,
      "grid_row": null,
      "grid_template_areas": null,
      "grid_template_columns": null,
      "grid_template_rows": null,
      "height": null,
      "justify_content": null,
      "justify_items": null,
      "left": null,
      "margin": null,
      "max_height": null,
      "max_width": null,
      "min_height": null,
      "min_width": null,
      "object_fit": null,
      "object_position": null,
      "order": null,
      "overflow": null,
      "overflow_x": null,
      "overflow_y": null,
      "padding": null,
      "right": null,
      "top": null,
      "visibility": null,
      "width": null
     }
    },
    "4c2a5eacb60d482a997fd726596cb6cd": {
     "model_module": "@jupyter-widgets/controls",
     "model_module_version": "1.5.0",
     "model_name": "HTMLModel",
     "state": {
      "_dom_classes": [],
      "_model_module": "@jupyter-widgets/controls",
      "_model_module_version": "1.5.0",
      "_model_name": "HTMLModel",
      "_view_count": null,
      "_view_module": "@jupyter-widgets/controls",
      "_view_module_version": "1.5.0",
      "_view_name": "HTMLView",
      "description": "",
      "description_tooltip": null,
      "layout": "IPY_MODEL_ea39c2baeedd44d3a2cbac424f3ecc08",
      "placeholder": "​",
      "style": "IPY_MODEL_15c6c92d97244a5592ebe0f1c32f7ee6",
      "value": " 440M/440M [00:04&lt;00:00, 131MB/s]"
     }
    },
    "4d0d4b91e62d46c099196c1a6703e547": {
     "model_module": "@jupyter-widgets/controls",
     "model_module_version": "1.5.0",
     "model_name": "DescriptionStyleModel",
     "state": {
      "_model_module": "@jupyter-widgets/controls",
      "_model_module_version": "1.5.0",
      "_model_name": "DescriptionStyleModel",
      "_view_count": null,
      "_view_module": "@jupyter-widgets/base",
      "_view_module_version": "1.2.0",
      "_view_name": "StyleView",
      "description_width": ""
     }
    },
    "4e63c5e5ba754c7589e4c229a1940c59": {
     "model_module": "@jupyter-widgets/base",
     "model_module_version": "1.2.0",
     "model_name": "LayoutModel",
     "state": {
      "_model_module": "@jupyter-widgets/base",
      "_model_module_version": "1.2.0",
      "_model_name": "LayoutModel",
      "_view_count": null,
      "_view_module": "@jupyter-widgets/base",
      "_view_module_version": "1.2.0",
      "_view_name": "LayoutView",
      "align_content": null,
      "align_items": null,
      "align_self": null,
      "border": null,
      "bottom": null,
      "display": null,
      "flex": null,
      "flex_flow": null,
      "grid_area": null,
      "grid_auto_columns": null,
      "grid_auto_flow": null,
      "grid_auto_rows": null,
      "grid_column": null,
      "grid_gap": null,
      "grid_row": null,
      "grid_template_areas": null,
      "grid_template_columns": null,
      "grid_template_rows": null,
      "height": null,
      "justify_content": null,
      "justify_items": null,
      "left": null,
      "margin": null,
      "max_height": null,
      "max_width": null,
      "min_height": null,
      "min_width": null,
      "object_fit": null,
      "object_position": null,
      "order": null,
      "overflow": null,
      "overflow_x": null,
      "overflow_y": null,
      "padding": null,
      "right": null,
      "top": null,
      "visibility": null,
      "width": null
     }
    },
    "551b285d520b47d3bac068c309cb0fea": {
     "model_module": "@jupyter-widgets/controls",
     "model_module_version": "1.5.0",
     "model_name": "ProgressStyleModel",
     "state": {
      "_model_module": "@jupyter-widgets/controls",
      "_model_module_version": "1.5.0",
      "_model_name": "ProgressStyleModel",
      "_view_count": null,
      "_view_module": "@jupyter-widgets/base",
      "_view_module_version": "1.2.0",
      "_view_name": "StyleView",
      "bar_color": null,
      "description_width": ""
     }
    },
    "5554903484234f86ad706811789a23c8": {
     "model_module": "@jupyter-widgets/controls",
     "model_module_version": "1.5.0",
     "model_name": "DescriptionStyleModel",
     "state": {
      "_model_module": "@jupyter-widgets/controls",
      "_model_module_version": "1.5.0",
      "_model_name": "DescriptionStyleModel",
      "_view_count": null,
      "_view_module": "@jupyter-widgets/base",
      "_view_module_version": "1.2.0",
      "_view_name": "StyleView",
      "description_width": ""
     }
    },
    "592fcc80abfb49569aa8ad43f3792cb0": {
     "model_module": "@jupyter-widgets/base",
     "model_module_version": "1.2.0",
     "model_name": "LayoutModel",
     "state": {
      "_model_module": "@jupyter-widgets/base",
      "_model_module_version": "1.2.0",
      "_model_name": "LayoutModel",
      "_view_count": null,
      "_view_module": "@jupyter-widgets/base",
      "_view_module_version": "1.2.0",
      "_view_name": "LayoutView",
      "align_content": null,
      "align_items": null,
      "align_self": null,
      "border": null,
      "bottom": null,
      "display": null,
      "flex": null,
      "flex_flow": null,
      "grid_area": null,
      "grid_auto_columns": null,
      "grid_auto_flow": null,
      "grid_auto_rows": null,
      "grid_column": null,
      "grid_gap": null,
      "grid_row": null,
      "grid_template_areas": null,
      "grid_template_columns": null,
      "grid_template_rows": null,
      "height": null,
      "justify_content": null,
      "justify_items": null,
      "left": null,
      "margin": null,
      "max_height": null,
      "max_width": null,
      "min_height": null,
      "min_width": null,
      "object_fit": null,
      "object_position": null,
      "order": null,
      "overflow": null,
      "overflow_x": null,
      "overflow_y": null,
      "padding": null,
      "right": null,
      "top": null,
      "visibility": null,
      "width": null
     }
    },
    "627a6e3546e54039ac8c0228ab6d71d6": {
     "model_module": "@jupyter-widgets/base",
     "model_module_version": "1.2.0",
     "model_name": "LayoutModel",
     "state": {
      "_model_module": "@jupyter-widgets/base",
      "_model_module_version": "1.2.0",
      "_model_name": "LayoutModel",
      "_view_count": null,
      "_view_module": "@jupyter-widgets/base",
      "_view_module_version": "1.2.0",
      "_view_name": "LayoutView",
      "align_content": null,
      "align_items": null,
      "align_self": null,
      "border": null,
      "bottom": null,
      "display": null,
      "flex": null,
      "flex_flow": null,
      "grid_area": null,
      "grid_auto_columns": null,
      "grid_auto_flow": null,
      "grid_auto_rows": null,
      "grid_column": null,
      "grid_gap": null,
      "grid_row": null,
      "grid_template_areas": null,
      "grid_template_columns": null,
      "grid_template_rows": null,
      "height": null,
      "justify_content": null,
      "justify_items": null,
      "left": null,
      "margin": null,
      "max_height": null,
      "max_width": null,
      "min_height": null,
      "min_width": null,
      "object_fit": null,
      "object_position": null,
      "order": null,
      "overflow": null,
      "overflow_x": null,
      "overflow_y": null,
      "padding": null,
      "right": null,
      "top": null,
      "visibility": null,
      "width": null
     }
    },
    "6ea5beaeaccf4f84a473fdf6b3d879b7": {
     "model_module": "@jupyter-widgets/base",
     "model_module_version": "1.2.0",
     "model_name": "LayoutModel",
     "state": {
      "_model_module": "@jupyter-widgets/base",
      "_model_module_version": "1.2.0",
      "_model_name": "LayoutModel",
      "_view_count": null,
      "_view_module": "@jupyter-widgets/base",
      "_view_module_version": "1.2.0",
      "_view_name": "LayoutView",
      "align_content": null,
      "align_items": null,
      "align_self": null,
      "border": null,
      "bottom": null,
      "display": null,
      "flex": null,
      "flex_flow": null,
      "grid_area": null,
      "grid_auto_columns": null,
      "grid_auto_flow": null,
      "grid_auto_rows": null,
      "grid_column": null,
      "grid_gap": null,
      "grid_row": null,
      "grid_template_areas": null,
      "grid_template_columns": null,
      "grid_template_rows": null,
      "height": null,
      "justify_content": null,
      "justify_items": null,
      "left": null,
      "margin": null,
      "max_height": null,
      "max_width": null,
      "min_height": null,
      "min_width": null,
      "object_fit": null,
      "object_position": null,
      "order": null,
      "overflow": null,
      "overflow_x": null,
      "overflow_y": null,
      "padding": null,
      "right": null,
      "top": null,
      "visibility": null,
      "width": null
     }
    },
    "72e0962c303e4a7ab756a4b091ee8498": {
     "model_module": "@jupyter-widgets/controls",
     "model_module_version": "1.5.0",
     "model_name": "FloatProgressModel",
     "state": {
      "_dom_classes": [],
      "_model_module": "@jupyter-widgets/controls",
      "_model_module_version": "1.5.0",
      "_model_name": "FloatProgressModel",
      "_view_count": null,
      "_view_module": "@jupyter-widgets/controls",
      "_view_module_version": "1.5.0",
      "_view_name": "ProgressView",
      "bar_style": "success",
      "description": "",
      "description_tooltip": null,
      "layout": "IPY_MODEL_6ea5beaeaccf4f84a473fdf6b3d879b7",
      "max": 466062,
      "min": 0,
      "orientation": "horizontal",
      "style": "IPY_MODEL_aafdee2387b24a298f2473ad165dfcd1",
      "value": 466062
     }
    },
    "74e503a4fe234422947025bdfe175e68": {
     "model_module": "@jupyter-widgets/controls",
     "model_module_version": "1.5.0",
     "model_name": "DescriptionStyleModel",
     "state": {
      "_model_module": "@jupyter-widgets/controls",
      "_model_module_version": "1.5.0",
      "_model_name": "DescriptionStyleModel",
      "_view_count": null,
      "_view_module": "@jupyter-widgets/base",
      "_view_module_version": "1.2.0",
      "_view_name": "StyleView",
      "description_width": ""
     }
    },
    "79285440a73f43f8817a443179274b42": {
     "model_module": "@jupyter-widgets/base",
     "model_module_version": "1.2.0",
     "model_name": "LayoutModel",
     "state": {
      "_model_module": "@jupyter-widgets/base",
      "_model_module_version": "1.2.0",
      "_model_name": "LayoutModel",
      "_view_count": null,
      "_view_module": "@jupyter-widgets/base",
      "_view_module_version": "1.2.0",
      "_view_name": "LayoutView",
      "align_content": null,
      "align_items": null,
      "align_self": null,
      "border": null,
      "bottom": null,
      "display": null,
      "flex": null,
      "flex_flow": null,
      "grid_area": null,
      "grid_auto_columns": null,
      "grid_auto_flow": null,
      "grid_auto_rows": null,
      "grid_column": null,
      "grid_gap": null,
      "grid_row": null,
      "grid_template_areas": null,
      "grid_template_columns": null,
      "grid_template_rows": null,
      "height": null,
      "justify_content": null,
      "justify_items": null,
      "left": null,
      "margin": null,
      "max_height": null,
      "max_width": null,
      "min_height": null,
      "min_width": null,
      "object_fit": null,
      "object_position": null,
      "order": null,
      "overflow": null,
      "overflow_x": null,
      "overflow_y": null,
      "padding": null,
      "right": null,
      "top": null,
      "visibility": null,
      "width": null
     }
    },
    "8566eaf13ac1494993199daa66fb4690": {
     "model_module": "@jupyter-widgets/base",
     "model_module_version": "1.2.0",
     "model_name": "LayoutModel",
     "state": {
      "_model_module": "@jupyter-widgets/base",
      "_model_module_version": "1.2.0",
      "_model_name": "LayoutModel",
      "_view_count": null,
      "_view_module": "@jupyter-widgets/base",
      "_view_module_version": "1.2.0",
      "_view_name": "LayoutView",
      "align_content": null,
      "align_items": null,
      "align_self": null,
      "border": null,
      "bottom": null,
      "display": null,
      "flex": null,
      "flex_flow": null,
      "grid_area": null,
      "grid_auto_columns": null,
      "grid_auto_flow": null,
      "grid_auto_rows": null,
      "grid_column": null,
      "grid_gap": null,
      "grid_row": null,
      "grid_template_areas": null,
      "grid_template_columns": null,
      "grid_template_rows": null,
      "height": null,
      "justify_content": null,
      "justify_items": null,
      "left": null,
      "margin": null,
      "max_height": null,
      "max_width": null,
      "min_height": null,
      "min_width": null,
      "object_fit": null,
      "object_position": null,
      "order": null,
      "overflow": null,
      "overflow_x": null,
      "overflow_y": null,
      "padding": null,
      "right": null,
      "top": null,
      "visibility": null,
      "width": null
     }
    },
    "8b21d4726cb1444c810c96d7203beabe": {
     "model_module": "@jupyter-widgets/controls",
     "model_module_version": "1.5.0",
     "model_name": "FloatProgressModel",
     "state": {
      "_dom_classes": [],
      "_model_module": "@jupyter-widgets/controls",
      "_model_module_version": "1.5.0",
      "_model_name": "FloatProgressModel",
      "_view_count": null,
      "_view_module": "@jupyter-widgets/controls",
      "_view_module_version": "1.5.0",
      "_view_name": "ProgressView",
      "bar_style": "success",
      "description": "",
      "description_tooltip": null,
      "layout": "IPY_MODEL_c57c98c25c0049b4a852ac16b2a6ccdc",
      "max": 570,
      "min": 0,
      "orientation": "horizontal",
      "style": "IPY_MODEL_e149bbef23344038ad4ecbb65688cc4a",
      "value": 570
     }
    },
    "a48be50c76194b4db4c37a9589c05544": {
     "model_module": "@jupyter-widgets/controls",
     "model_module_version": "1.5.0",
     "model_name": "DescriptionStyleModel",
     "state": {
      "_model_module": "@jupyter-widgets/controls",
      "_model_module_version": "1.5.0",
      "_model_name": "DescriptionStyleModel",
      "_view_count": null,
      "_view_module": "@jupyter-widgets/base",
      "_view_module_version": "1.2.0",
      "_view_name": "StyleView",
      "description_width": ""
     }
    },
    "aafdee2387b24a298f2473ad165dfcd1": {
     "model_module": "@jupyter-widgets/controls",
     "model_module_version": "1.5.0",
     "model_name": "ProgressStyleModel",
     "state": {
      "_model_module": "@jupyter-widgets/controls",
      "_model_module_version": "1.5.0",
      "_model_name": "ProgressStyleModel",
      "_view_count": null,
      "_view_module": "@jupyter-widgets/base",
      "_view_module_version": "1.2.0",
      "_view_name": "StyleView",
      "bar_color": null,
      "description_width": ""
     }
    },
    "abe80957afdc4accb6ce66aed1a0a2bf": {
     "model_module": "@jupyter-widgets/controls",
     "model_module_version": "1.5.0",
     "model_name": "HTMLModel",
     "state": {
      "_dom_classes": [],
      "_model_module": "@jupyter-widgets/controls",
      "_model_module_version": "1.5.0",
      "_model_name": "HTMLModel",
      "_view_count": null,
      "_view_module": "@jupyter-widgets/controls",
      "_view_module_version": "1.5.0",
      "_view_name": "HTMLView",
      "description": "",
      "description_tooltip": null,
      "layout": "IPY_MODEL_0ef6632fa9214d70afd8a820b04aa49f",
      "placeholder": "​",
      "style": "IPY_MODEL_d3d55dbd3108492f854d05e8a82cfc1f",
      "value": " 48.0/48.0 [00:00&lt;00:00, 3.48kB/s]"
     }
    },
    "abfc3606c86f498caa07eee5780ed4f4": {
     "model_module": "@jupyter-widgets/controls",
     "model_module_version": "1.5.0",
     "model_name": "DescriptionStyleModel",
     "state": {
      "_model_module": "@jupyter-widgets/controls",
      "_model_module_version": "1.5.0",
      "_model_name": "DescriptionStyleModel",
      "_view_count": null,
      "_view_module": "@jupyter-widgets/base",
      "_view_module_version": "1.2.0",
      "_view_name": "StyleView",
      "description_width": ""
     }
    },
    "ae72a85b42264000a6e3e5a0dc80cdd0": {
     "model_module": "@jupyter-widgets/controls",
     "model_module_version": "1.5.0",
     "model_name": "HTMLModel",
     "state": {
      "_dom_classes": [],
      "_model_module": "@jupyter-widgets/controls",
      "_model_module_version": "1.5.0",
      "_model_name": "HTMLModel",
      "_view_count": null,
      "_view_module": "@jupyter-widgets/controls",
      "_view_module_version": "1.5.0",
      "_view_name": "HTMLView",
      "description": "",
      "description_tooltip": null,
      "layout": "IPY_MODEL_f71ebd0eac19451cb8658658488e5725",
      "placeholder": "​",
      "style": "IPY_MODEL_01906180874c4bc0b3bb70112445b310",
      "value": "model.safetensors: 100%"
     }
    },
    "af364e6dffdc4c7599a346fd6c27a9ae": {
     "model_module": "@jupyter-widgets/base",
     "model_module_version": "1.2.0",
     "model_name": "LayoutModel",
     "state": {
      "_model_module": "@jupyter-widgets/base",
      "_model_module_version": "1.2.0",
      "_model_name": "LayoutModel",
      "_view_count": null,
      "_view_module": "@jupyter-widgets/base",
      "_view_module_version": "1.2.0",
      "_view_name": "LayoutView",
      "align_content": null,
      "align_items": null,
      "align_self": null,
      "border": null,
      "bottom": null,
      "display": null,
      "flex": null,
      "flex_flow": null,
      "grid_area": null,
      "grid_auto_columns": null,
      "grid_auto_flow": null,
      "grid_auto_rows": null,
      "grid_column": null,
      "grid_gap": null,
      "grid_row": null,
      "grid_template_areas": null,
      "grid_template_columns": null,
      "grid_template_rows": null,
      "height": null,
      "justify_content": null,
      "justify_items": null,
      "left": null,
      "margin": null,
      "max_height": null,
      "max_width": null,
      "min_height": null,
      "min_width": null,
      "object_fit": null,
      "object_position": null,
      "order": null,
      "overflow": null,
      "overflow_x": null,
      "overflow_y": null,
      "padding": null,
      "right": null,
      "top": null,
      "visibility": null,
      "width": null
     }
    },
    "b2950958f09c40a7beade2e35c07c7ea": {
     "model_module": "@jupyter-widgets/controls",
     "model_module_version": "1.5.0",
     "model_name": "HTMLModel",
     "state": {
      "_dom_classes": [],
      "_model_module": "@jupyter-widgets/controls",
      "_model_module_version": "1.5.0",
      "_model_name": "HTMLModel",
      "_view_count": null,
      "_view_module": "@jupyter-widgets/controls",
      "_view_module_version": "1.5.0",
      "_view_name": "HTMLView",
      "description": "",
      "description_tooltip": null,
      "layout": "IPY_MODEL_ea575e802ead49e0bde2e62e02e15d62",
      "placeholder": "​",
      "style": "IPY_MODEL_4d0d4b91e62d46c099196c1a6703e547",
      "value": " 466k/466k [00:00&lt;00:00, 2.11MB/s]"
     }
    },
    "b6599d300c284aa39707ef7008ebe54e": {
     "model_module": "@jupyter-widgets/controls",
     "model_module_version": "1.5.0",
     "model_name": "DescriptionStyleModel",
     "state": {
      "_model_module": "@jupyter-widgets/controls",
      "_model_module_version": "1.5.0",
      "_model_name": "DescriptionStyleModel",
      "_view_count": null,
      "_view_module": "@jupyter-widgets/base",
      "_view_module_version": "1.2.0",
      "_view_name": "StyleView",
      "description_width": ""
     }
    },
    "ba02f11e543a4ede8d422724401641fc": {
     "model_module": "@jupyter-widgets/controls",
     "model_module_version": "1.5.0",
     "model_name": "HTMLModel",
     "state": {
      "_dom_classes": [],
      "_model_module": "@jupyter-widgets/controls",
      "_model_module_version": "1.5.0",
      "_model_name": "HTMLModel",
      "_view_count": null,
      "_view_module": "@jupyter-widgets/controls",
      "_view_module_version": "1.5.0",
      "_view_name": "HTMLView",
      "description": "",
      "description_tooltip": null,
      "layout": "IPY_MODEL_d980444019f1435bb7c95e68816109d3",
      "placeholder": "​",
      "style": "IPY_MODEL_b6599d300c284aa39707ef7008ebe54e",
      "value": " 570/570 [00:00&lt;00:00, 20.4kB/s]"
     }
    },
    "bb42a7131ae943ec81d6f75119d29cd7": {
     "model_module": "@jupyter-widgets/controls",
     "model_module_version": "1.5.0",
     "model_name": "HTMLModel",
     "state": {
      "_dom_classes": [],
      "_model_module": "@jupyter-widgets/controls",
      "_model_module_version": "1.5.0",
      "_model_name": "HTMLModel",
      "_view_count": null,
      "_view_module": "@jupyter-widgets/controls",
      "_view_module_version": "1.5.0",
      "_view_name": "HTMLView",
      "description": "",
      "description_tooltip": null,
      "layout": "IPY_MODEL_627a6e3546e54039ac8c0228ab6d71d6",
      "placeholder": "​",
      "style": "IPY_MODEL_5554903484234f86ad706811789a23c8",
      "value": "tokenizer_config.json: 100%"
     }
    },
    "c57c98c25c0049b4a852ac16b2a6ccdc": {
     "model_module": "@jupyter-widgets/base",
     "model_module_version": "1.2.0",
     "model_name": "LayoutModel",
     "state": {
      "_model_module": "@jupyter-widgets/base",
      "_model_module_version": "1.2.0",
      "_model_name": "LayoutModel",
      "_view_count": null,
      "_view_module": "@jupyter-widgets/base",
      "_view_module_version": "1.2.0",
      "_view_name": "LayoutView",
      "align_content": null,
      "align_items": null,
      "align_self": null,
      "border": null,
      "bottom": null,
      "display": null,
      "flex": null,
      "flex_flow": null,
      "grid_area": null,
      "grid_auto_columns": null,
      "grid_auto_flow": null,
      "grid_auto_rows": null,
      "grid_column": null,
      "grid_gap": null,
      "grid_row": null,
      "grid_template_areas": null,
      "grid_template_columns": null,
      "grid_template_rows": null,
      "height": null,
      "justify_content": null,
      "justify_items": null,
      "left": null,
      "margin": null,
      "max_height": null,
      "max_width": null,
      "min_height": null,
      "min_width": null,
      "object_fit": null,
      "object_position": null,
      "order": null,
      "overflow": null,
      "overflow_x": null,
      "overflow_y": null,
      "padding": null,
      "right": null,
      "top": null,
      "visibility": null,
      "width": null
     }
    },
    "c9ff06caa46e4bbe8b666596f7b8f847": {
     "model_module": "@jupyter-widgets/controls",
     "model_module_version": "1.5.0",
     "model_name": "HBoxModel",
     "state": {
      "_dom_classes": [],
      "_model_module": "@jupyter-widgets/controls",
      "_model_module_version": "1.5.0",
      "_model_name": "HBoxModel",
      "_view_count": null,
      "_view_module": "@jupyter-widgets/controls",
      "_view_module_version": "1.5.0",
      "_view_name": "HBoxView",
      "box_style": "",
      "children": [
       "IPY_MODEL_fcfdf6bf79aa417193bb6dcf38b4939c",
       "IPY_MODEL_dde9ed6d6ce548149fbcc86b93a9c08c",
       "IPY_MODEL_e8cdeffa58934e96a407654795f9eae9"
      ],
      "layout": "IPY_MODEL_e20ac29442f14e2d83039e48be11e67d"
     }
    },
    "cec44b32a15243408776575fd4272258": {
     "model_module": "@jupyter-widgets/base",
     "model_module_version": "1.2.0",
     "model_name": "LayoutModel",
     "state": {
      "_model_module": "@jupyter-widgets/base",
      "_model_module_version": "1.2.0",
      "_model_name": "LayoutModel",
      "_view_count": null,
      "_view_module": "@jupyter-widgets/base",
      "_view_module_version": "1.2.0",
      "_view_name": "LayoutView",
      "align_content": null,
      "align_items": null,
      "align_self": null,
      "border": null,
      "bottom": null,
      "display": null,
      "flex": null,
      "flex_flow": null,
      "grid_area": null,
      "grid_auto_columns": null,
      "grid_auto_flow": null,
      "grid_auto_rows": null,
      "grid_column": null,
      "grid_gap": null,
      "grid_row": null,
      "grid_template_areas": null,
      "grid_template_columns": null,
      "grid_template_rows": null,
      "height": null,
      "justify_content": null,
      "justify_items": null,
      "left": null,
      "margin": null,
      "max_height": null,
      "max_width": null,
      "min_height": null,
      "min_width": null,
      "object_fit": null,
      "object_position": null,
      "order": null,
      "overflow": null,
      "overflow_x": null,
      "overflow_y": null,
      "padding": null,
      "right": null,
      "top": null,
      "visibility": null,
      "width": null
     }
    },
    "d1e0a6e8031d41b191fc8b268dffca12": {
     "model_module": "@jupyter-widgets/base",
     "model_module_version": "1.2.0",
     "model_name": "LayoutModel",
     "state": {
      "_model_module": "@jupyter-widgets/base",
      "_model_module_version": "1.2.0",
      "_model_name": "LayoutModel",
      "_view_count": null,
      "_view_module": "@jupyter-widgets/base",
      "_view_module_version": "1.2.0",
      "_view_name": "LayoutView",
      "align_content": null,
      "align_items": null,
      "align_self": null,
      "border": null,
      "bottom": null,
      "display": null,
      "flex": null,
      "flex_flow": null,
      "grid_area": null,
      "grid_auto_columns": null,
      "grid_auto_flow": null,
      "grid_auto_rows": null,
      "grid_column": null,
      "grid_gap": null,
      "grid_row": null,
      "grid_template_areas": null,
      "grid_template_columns": null,
      "grid_template_rows": null,
      "height": null,
      "justify_content": null,
      "justify_items": null,
      "left": null,
      "margin": null,
      "max_height": null,
      "max_width": null,
      "min_height": null,
      "min_width": null,
      "object_fit": null,
      "object_position": null,
      "order": null,
      "overflow": null,
      "overflow_x": null,
      "overflow_y": null,
      "padding": null,
      "right": null,
      "top": null,
      "visibility": null,
      "width": null
     }
    },
    "d3d55dbd3108492f854d05e8a82cfc1f": {
     "model_module": "@jupyter-widgets/controls",
     "model_module_version": "1.5.0",
     "model_name": "DescriptionStyleModel",
     "state": {
      "_model_module": "@jupyter-widgets/controls",
      "_model_module_version": "1.5.0",
      "_model_name": "DescriptionStyleModel",
      "_view_count": null,
      "_view_module": "@jupyter-widgets/base",
      "_view_module_version": "1.2.0",
      "_view_name": "StyleView",
      "description_width": ""
     }
    },
    "d980444019f1435bb7c95e68816109d3": {
     "model_module": "@jupyter-widgets/base",
     "model_module_version": "1.2.0",
     "model_name": "LayoutModel",
     "state": {
      "_model_module": "@jupyter-widgets/base",
      "_model_module_version": "1.2.0",
      "_model_name": "LayoutModel",
      "_view_count": null,
      "_view_module": "@jupyter-widgets/base",
      "_view_module_version": "1.2.0",
      "_view_name": "LayoutView",
      "align_content": null,
      "align_items": null,
      "align_self": null,
      "border": null,
      "bottom": null,
      "display": null,
      "flex": null,
      "flex_flow": null,
      "grid_area": null,
      "grid_auto_columns": null,
      "grid_auto_flow": null,
      "grid_auto_rows": null,
      "grid_column": null,
      "grid_gap": null,
      "grid_row": null,
      "grid_template_areas": null,
      "grid_template_columns": null,
      "grid_template_rows": null,
      "height": null,
      "justify_content": null,
      "justify_items": null,
      "left": null,
      "margin": null,
      "max_height": null,
      "max_width": null,
      "min_height": null,
      "min_width": null,
      "object_fit": null,
      "object_position": null,
      "order": null,
      "overflow": null,
      "overflow_x": null,
      "overflow_y": null,
      "padding": null,
      "right": null,
      "top": null,
      "visibility": null,
      "width": null
     }
    },
    "dde010944f1f413e95c2f4b9ef23e21f": {
     "model_module": "@jupyter-widgets/controls",
     "model_module_version": "1.5.0",
     "model_name": "HTMLModel",
     "state": {
      "_dom_classes": [],
      "_model_module": "@jupyter-widgets/controls",
      "_model_module_version": "1.5.0",
      "_model_name": "HTMLModel",
      "_view_count": null,
      "_view_module": "@jupyter-widgets/controls",
      "_view_module_version": "1.5.0",
      "_view_name": "HTMLView",
      "description": "",
      "description_tooltip": null,
      "layout": "IPY_MODEL_f54d10e294e64de9a5968f37a67ce3db",
      "placeholder": "​",
      "style": "IPY_MODEL_74e503a4fe234422947025bdfe175e68",
      "value": "config.json: 100%"
     }
    },
    "dde9ed6d6ce548149fbcc86b93a9c08c": {
     "model_module": "@jupyter-widgets/controls",
     "model_module_version": "1.5.0",
     "model_name": "FloatProgressModel",
     "state": {
      "_dom_classes": [],
      "_model_module": "@jupyter-widgets/controls",
      "_model_module_version": "1.5.0",
      "_model_name": "FloatProgressModel",
      "_view_count": null,
      "_view_module": "@jupyter-widgets/controls",
      "_view_module_version": "1.5.0",
      "_view_name": "ProgressView",
      "bar_style": "success",
      "description": "",
      "description_tooltip": null,
      "layout": "IPY_MODEL_8566eaf13ac1494993199daa66fb4690",
      "max": 231508,
      "min": 0,
      "orientation": "horizontal",
      "style": "IPY_MODEL_2c39ef07dc094d15af7ae5dd9f775d0f",
      "value": 231508
     }
    },
    "df475d5fe5dc4bb59cd525a58f15b5d3": {
     "model_module": "@jupyter-widgets/controls",
     "model_module_version": "1.5.0",
     "model_name": "HBoxModel",
     "state": {
      "_dom_classes": [],
      "_model_module": "@jupyter-widgets/controls",
      "_model_module_version": "1.5.0",
      "_model_name": "HBoxModel",
      "_view_count": null,
      "_view_module": "@jupyter-widgets/controls",
      "_view_module_version": "1.5.0",
      "_view_name": "HBoxView",
      "box_style": "",
      "children": [
       "IPY_MODEL_bb42a7131ae943ec81d6f75119d29cd7",
       "IPY_MODEL_f50eb2c246064e6c922088eb75b001c5",
       "IPY_MODEL_abe80957afdc4accb6ce66aed1a0a2bf"
      ],
      "layout": "IPY_MODEL_af364e6dffdc4c7599a346fd6c27a9ae"
     }
    },
    "e1041be3577e4f3bb2dcc74ff3071342": {
     "model_module": "@jupyter-widgets/base",
     "model_module_version": "1.2.0",
     "model_name": "LayoutModel",
     "state": {
      "_model_module": "@jupyter-widgets/base",
      "_model_module_version": "1.2.0",
      "_model_name": "LayoutModel",
      "_view_count": null,
      "_view_module": "@jupyter-widgets/base",
      "_view_module_version": "1.2.0",
      "_view_name": "LayoutView",
      "align_content": null,
      "align_items": null,
      "align_self": null,
      "border": null,
      "bottom": null,
      "display": null,
      "flex": null,
      "flex_flow": null,
      "grid_area": null,
      "grid_auto_columns": null,
      "grid_auto_flow": null,
      "grid_auto_rows": null,
      "grid_column": null,
      "grid_gap": null,
      "grid_row": null,
      "grid_template_areas": null,
      "grid_template_columns": null,
      "grid_template_rows": null,
      "height": null,
      "justify_content": null,
      "justify_items": null,
      "left": null,
      "margin": null,
      "max_height": null,
      "max_width": null,
      "min_height": null,
      "min_width": null,
      "object_fit": null,
      "object_position": null,
      "order": null,
      "overflow": null,
      "overflow_x": null,
      "overflow_y": null,
      "padding": null,
      "right": null,
      "top": null,
      "visibility": null,
      "width": null
     }
    },
    "e149bbef23344038ad4ecbb65688cc4a": {
     "model_module": "@jupyter-widgets/controls",
     "model_module_version": "1.5.0",
     "model_name": "ProgressStyleModel",
     "state": {
      "_model_module": "@jupyter-widgets/controls",
      "_model_module_version": "1.5.0",
      "_model_name": "ProgressStyleModel",
      "_view_count": null,
      "_view_module": "@jupyter-widgets/base",
      "_view_module_version": "1.2.0",
      "_view_name": "StyleView",
      "bar_color": null,
      "description_width": ""
     }
    },
    "e1c6dbec4f2a4000a89d90afc703c95f": {
     "model_module": "@jupyter-widgets/controls",
     "model_module_version": "1.5.0",
     "model_name": "HTMLModel",
     "state": {
      "_dom_classes": [],
      "_model_module": "@jupyter-widgets/controls",
      "_model_module_version": "1.5.0",
      "_model_name": "HTMLModel",
      "_view_count": null,
      "_view_module": "@jupyter-widgets/controls",
      "_view_module_version": "1.5.0",
      "_view_name": "HTMLView",
      "description": "",
      "description_tooltip": null,
      "layout": "IPY_MODEL_4e63c5e5ba754c7589e4c229a1940c59",
      "placeholder": "​",
      "style": "IPY_MODEL_a48be50c76194b4db4c37a9589c05544",
      "value": "tokenizer.json: 100%"
     }
    },
    "e20ac29442f14e2d83039e48be11e67d": {
     "model_module": "@jupyter-widgets/base",
     "model_module_version": "1.2.0",
     "model_name": "LayoutModel",
     "state": {
      "_model_module": "@jupyter-widgets/base",
      "_model_module_version": "1.2.0",
      "_model_name": "LayoutModel",
      "_view_count": null,
      "_view_module": "@jupyter-widgets/base",
      "_view_module_version": "1.2.0",
      "_view_name": "LayoutView",
      "align_content": null,
      "align_items": null,
      "align_self": null,
      "border": null,
      "bottom": null,
      "display": null,
      "flex": null,
      "flex_flow": null,
      "grid_area": null,
      "grid_auto_columns": null,
      "grid_auto_flow": null,
      "grid_auto_rows": null,
      "grid_column": null,
      "grid_gap": null,
      "grid_row": null,
      "grid_template_areas": null,
      "grid_template_columns": null,
      "grid_template_rows": null,
      "height": null,
      "justify_content": null,
      "justify_items": null,
      "left": null,
      "margin": null,
      "max_height": null,
      "max_width": null,
      "min_height": null,
      "min_width": null,
      "object_fit": null,
      "object_position": null,
      "order": null,
      "overflow": null,
      "overflow_x": null,
      "overflow_y": null,
      "padding": null,
      "right": null,
      "top": null,
      "visibility": null,
      "width": null
     }
    },
    "e8cdeffa58934e96a407654795f9eae9": {
     "model_module": "@jupyter-widgets/controls",
     "model_module_version": "1.5.0",
     "model_name": "HTMLModel",
     "state": {
      "_dom_classes": [],
      "_model_module": "@jupyter-widgets/controls",
      "_model_module_version": "1.5.0",
      "_model_name": "HTMLModel",
      "_view_count": null,
      "_view_module": "@jupyter-widgets/controls",
      "_view_module_version": "1.5.0",
      "_view_name": "HTMLView",
      "description": "",
      "description_tooltip": null,
      "layout": "IPY_MODEL_79285440a73f43f8817a443179274b42",
      "placeholder": "​",
      "style": "IPY_MODEL_abfc3606c86f498caa07eee5780ed4f4",
      "value": " 232k/232k [00:00&lt;00:00, 548kB/s]"
     }
    },
    "ea39c2baeedd44d3a2cbac424f3ecc08": {
     "model_module": "@jupyter-widgets/base",
     "model_module_version": "1.2.0",
     "model_name": "LayoutModel",
     "state": {
      "_model_module": "@jupyter-widgets/base",
      "_model_module_version": "1.2.0",
      "_model_name": "LayoutModel",
      "_view_count": null,
      "_view_module": "@jupyter-widgets/base",
      "_view_module_version": "1.2.0",
      "_view_name": "LayoutView",
      "align_content": null,
      "align_items": null,
      "align_self": null,
      "border": null,
      "bottom": null,
      "display": null,
      "flex": null,
      "flex_flow": null,
      "grid_area": null,
      "grid_auto_columns": null,
      "grid_auto_flow": null,
      "grid_auto_rows": null,
      "grid_column": null,
      "grid_gap": null,
      "grid_row": null,
      "grid_template_areas": null,
      "grid_template_columns": null,
      "grid_template_rows": null,
      "height": null,
      "justify_content": null,
      "justify_items": null,
      "left": null,
      "margin": null,
      "max_height": null,
      "max_width": null,
      "min_height": null,
      "min_width": null,
      "object_fit": null,
      "object_position": null,
      "order": null,
      "overflow": null,
      "overflow_x": null,
      "overflow_y": null,
      "padding": null,
      "right": null,
      "top": null,
      "visibility": null,
      "width": null
     }
    },
    "ea575e802ead49e0bde2e62e02e15d62": {
     "model_module": "@jupyter-widgets/base",
     "model_module_version": "1.2.0",
     "model_name": "LayoutModel",
     "state": {
      "_model_module": "@jupyter-widgets/base",
      "_model_module_version": "1.2.0",
      "_model_name": "LayoutModel",
      "_view_count": null,
      "_view_module": "@jupyter-widgets/base",
      "_view_module_version": "1.2.0",
      "_view_name": "LayoutView",
      "align_content": null,
      "align_items": null,
      "align_self": null,
      "border": null,
      "bottom": null,
      "display": null,
      "flex": null,
      "flex_flow": null,
      "grid_area": null,
      "grid_auto_columns": null,
      "grid_auto_flow": null,
      "grid_auto_rows": null,
      "grid_column": null,
      "grid_gap": null,
      "grid_row": null,
      "grid_template_areas": null,
      "grid_template_columns": null,
      "grid_template_rows": null,
      "height": null,
      "justify_content": null,
      "justify_items": null,
      "left": null,
      "margin": null,
      "max_height": null,
      "max_width": null,
      "min_height": null,
      "min_width": null,
      "object_fit": null,
      "object_position": null,
      "order": null,
      "overflow": null,
      "overflow_x": null,
      "overflow_y": null,
      "padding": null,
      "right": null,
      "top": null,
      "visibility": null,
      "width": null
     }
    },
    "f50eb2c246064e6c922088eb75b001c5": {
     "model_module": "@jupyter-widgets/controls",
     "model_module_version": "1.5.0",
     "model_name": "FloatProgressModel",
     "state": {
      "_dom_classes": [],
      "_model_module": "@jupyter-widgets/controls",
      "_model_module_version": "1.5.0",
      "_model_name": "FloatProgressModel",
      "_view_count": null,
      "_view_module": "@jupyter-widgets/controls",
      "_view_module_version": "1.5.0",
      "_view_name": "ProgressView",
      "bar_style": "success",
      "description": "",
      "description_tooltip": null,
      "layout": "IPY_MODEL_e1041be3577e4f3bb2dcc74ff3071342",
      "max": 48,
      "min": 0,
      "orientation": "horizontal",
      "style": "IPY_MODEL_0c504594e3c14b9ab23e5c39421b59f5",
      "value": 48
     }
    },
    "f54d10e294e64de9a5968f37a67ce3db": {
     "model_module": "@jupyter-widgets/base",
     "model_module_version": "1.2.0",
     "model_name": "LayoutModel",
     "state": {
      "_model_module": "@jupyter-widgets/base",
      "_model_module_version": "1.2.0",
      "_model_name": "LayoutModel",
      "_view_count": null,
      "_view_module": "@jupyter-widgets/base",
      "_view_module_version": "1.2.0",
      "_view_name": "LayoutView",
      "align_content": null,
      "align_items": null,
      "align_self": null,
      "border": null,
      "bottom": null,
      "display": null,
      "flex": null,
      "flex_flow": null,
      "grid_area": null,
      "grid_auto_columns": null,
      "grid_auto_flow": null,
      "grid_auto_rows": null,
      "grid_column": null,
      "grid_gap": null,
      "grid_row": null,
      "grid_template_areas": null,
      "grid_template_columns": null,
      "grid_template_rows": null,
      "height": null,
      "justify_content": null,
      "justify_items": null,
      "left": null,
      "margin": null,
      "max_height": null,
      "max_width": null,
      "min_height": null,
      "min_width": null,
      "object_fit": null,
      "object_position": null,
      "order": null,
      "overflow": null,
      "overflow_x": null,
      "overflow_y": null,
      "padding": null,
      "right": null,
      "top": null,
      "visibility": null,
      "width": null
     }
    },
    "f71ebd0eac19451cb8658658488e5725": {
     "model_module": "@jupyter-widgets/base",
     "model_module_version": "1.2.0",
     "model_name": "LayoutModel",
     "state": {
      "_model_module": "@jupyter-widgets/base",
      "_model_module_version": "1.2.0",
      "_model_name": "LayoutModel",
      "_view_count": null,
      "_view_module": "@jupyter-widgets/base",
      "_view_module_version": "1.2.0",
      "_view_name": "LayoutView",
      "align_content": null,
      "align_items": null,
      "align_self": null,
      "border": null,
      "bottom": null,
      "display": null,
      "flex": null,
      "flex_flow": null,
      "grid_area": null,
      "grid_auto_columns": null,
      "grid_auto_flow": null,
      "grid_auto_rows": null,
      "grid_column": null,
      "grid_gap": null,
      "grid_row": null,
      "grid_template_areas": null,
      "grid_template_columns": null,
      "grid_template_rows": null,
      "height": null,
      "justify_content": null,
      "justify_items": null,
      "left": null,
      "margin": null,
      "max_height": null,
      "max_width": null,
      "min_height": null,
      "min_width": null,
      "object_fit": null,
      "object_position": null,
      "order": null,
      "overflow": null,
      "overflow_x": null,
      "overflow_y": null,
      "padding": null,
      "right": null,
      "top": null,
      "visibility": null,
      "width": null
     }
    },
    "fa31b72930184014ba3b412bd2ff9525": {
     "model_module": "@jupyter-widgets/controls",
     "model_module_version": "1.5.0",
     "model_name": "HBoxModel",
     "state": {
      "_dom_classes": [],
      "_model_module": "@jupyter-widgets/controls",
      "_model_module_version": "1.5.0",
      "_model_name": "HBoxModel",
      "_view_count": null,
      "_view_module": "@jupyter-widgets/controls",
      "_view_module_version": "1.5.0",
      "_view_name": "HBoxView",
      "box_style": "",
      "children": [
       "IPY_MODEL_e1c6dbec4f2a4000a89d90afc703c95f",
       "IPY_MODEL_72e0962c303e4a7ab756a4b091ee8498",
       "IPY_MODEL_b2950958f09c40a7beade2e35c07c7ea"
      ],
      "layout": "IPY_MODEL_592fcc80abfb49569aa8ad43f3792cb0"
     }
    },
    "fcfdf6bf79aa417193bb6dcf38b4939c": {
     "model_module": "@jupyter-widgets/controls",
     "model_module_version": "1.5.0",
     "model_name": "HTMLModel",
     "state": {
      "_dom_classes": [],
      "_model_module": "@jupyter-widgets/controls",
      "_model_module_version": "1.5.0",
      "_model_name": "HTMLModel",
      "_view_count": null,
      "_view_module": "@jupyter-widgets/controls",
      "_view_module_version": "1.5.0",
      "_view_name": "HTMLView",
      "description": "",
      "description_tooltip": null,
      "layout": "IPY_MODEL_cec44b32a15243408776575fd4272258",
      "placeholder": "​",
      "style": "IPY_MODEL_3d0ce1715a8047a683d6026db161db74",
      "value": "vocab.txt: 100%"
     }
    }
   }
  }
 },
 "nbformat": 4,
 "nbformat_minor": 0
}
