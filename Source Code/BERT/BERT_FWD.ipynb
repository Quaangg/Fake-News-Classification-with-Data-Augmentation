{
 "cells": [
  {
   "cell_type": "markdown",
   "metadata": {},
   "source": [
    "Tải bộ dữ liệu WELFake"
   ]
  },
  {
   "cell_type": "code",
   "execution_count": 1,
   "metadata": {
    "colab": {
     "base_uri": "https://localhost:8080/"
    },
    "executionInfo": {
     "elapsed": 10914,
     "status": "ok",
     "timestamp": 1732194168634,
     "user": {
      "displayName": "asd asd",
      "userId": "16140418285562335389"
     },
     "user_tz": -420
    },
    "id": "l6zzXW_DQMVa",
    "outputId": "e73e551b-f5d1-48cf-b95b-ea12cc03709f"
   },
   "outputs": [
    {
     "name": "stdout",
     "output_type": "stream",
     "text": [
      "Downloading...\n",
      "From (original): https://drive.google.com/uc?id=1CgDGe1t2_SUVw9VvzOpMeRNfIvdHsjY3\n",
      "From (redirected): https://drive.google.com/uc?id=1CgDGe1t2_SUVw9VvzOpMeRNfIvdHsjY3&confirm=t&uuid=f99e998f-b24d-42aa-ad13-540a30afe9b8\n",
      "To: /content/WELFake_Dataset.csv\n",
      "100% 245M/245M [00:03<00:00, 71.4MB/s]\n"
     ]
    }
   ],
   "source": [
    "!gdown 1CgDGe1t2_SUVw9VvzOpMeRNfIvdHsjY3"
   ]
  },
  {
   "cell_type": "code",
   "execution_count": 2,
   "metadata": {
    "executionInfo": {
     "elapsed": 32961,
     "status": "ok",
     "timestamp": 1732194201593,
     "user": {
      "displayName": "asd asd",
      "userId": "16140418285562335389"
     },
     "user_tz": -420
    },
    "id": "BKA1sgcRQPSv"
   },
   "outputs": [],
   "source": [
    "import tensorflow as tf\n",
    "from transformers import BertTokenizer, TFBertForSequenceClassification\n",
    "from sklearn.model_selection import train_test_split\n",
    "from sklearn.metrics import accuracy_score, precision_score, recall_score, f1_score\n",
    "import numpy as np\n",
    "import pandas as pd\n",
    "import re\n",
    "import nltk"
   ]
  },
  {
   "cell_type": "markdown",
   "metadata": {},
   "source": [
    "Xóa các kí tự null và nối cột title vào cột test"
   ]
  },
  {
   "cell_type": "code",
   "execution_count": 3,
   "metadata": {
    "executionInfo": {
     "elapsed": 3536,
     "status": "ok",
     "timestamp": 1732194205127,
     "user": {
      "displayName": "asd asd",
      "userId": "16140418285562335389"
     },
     "user_tz": -420
    },
    "id": "Xd8j_4gJlIjV"
   },
   "outputs": [],
   "source": [
    "df = pd.read_csv(\"/content/WELFake_Dataset.csv\")\n",
    "df.dropna(subset = ['text', 'title'], inplace = True)\n",
    "df['text'] = df['title'] + ' ' + df['text']"
   ]
  },
  {
   "cell_type": "code",
   "execution_count": 4,
   "metadata": {
    "colab": {
     "base_uri": "https://localhost:8080/"
    },
    "executionInfo": {
     "elapsed": 2058,
     "status": "ok",
     "timestamp": 1732194207183,
     "user": {
      "displayName": "asd asd",
      "userId": "16140418285562335389"
     },
     "user_tz": -420
    },
    "id": "60DExHMGdpIp",
    "outputId": "57c87d1c-b2f7-4075-b140-0f4c3bc13cb4"
   },
   "outputs": [
    {
     "name": "stderr",
     "output_type": "stream",
     "text": [
      "[nltk_data] Downloading package punkt to /root/nltk_data...\n",
      "[nltk_data]   Unzipping tokenizers/punkt.zip.\n",
      "[nltk_data] Downloading package stopwords to /root/nltk_data...\n",
      "[nltk_data]   Unzipping corpora/stopwords.zip.\n",
      "[nltk_data] Downloading package punkt_tab to /root/nltk_data...\n",
      "[nltk_data]   Unzipping tokenizers/punkt_tab.zip.\n"
     ]
    },
    {
     "data": {
      "text/plain": [
       "True"
      ]
     },
     "execution_count": 4,
     "metadata": {},
     "output_type": "execute_result"
    }
   ],
   "source": [
    "nltk.download('punkt')\n",
    "nltk.download('stopwords')\n",
    "nltk.download('punkt_tab')"
   ]
  },
  {
   "cell_type": "markdown",
   "metadata": {},
   "source": [
    "Thực hiện tăng cường dữ liệu xóa các từ không cần thiết (FWD)"
   ]
  },
  {
   "cell_type": "code",
   "execution_count": 5,
   "metadata": {
    "executionInfo": {
     "elapsed": 923575,
     "status": "ok",
     "timestamp": 1732195130754,
     "user": {
      "displayName": "asd asd",
      "userId": "16140418285562335389"
     },
     "user_tz": -420
    },
    "id": "5CQ2CA5AdpGZ"
   },
   "outputs": [],
   "source": [
    "import re\n",
    "from nltk.corpus import wordnet\n",
    "from nltk.tokenize import word_tokenize\n",
    "from nltk.corpus import stopwords\n",
    "from nltk.stem import PorterStemmer\n",
    "\n",
    "stemmer = PorterStemmer()\n",
    "corpus = []\n",
    "\n",
    "def replace_synonyms(text):\n",
    "    words = word_tokenize(text)\n",
    "    replaced_text = []\n",
    "\n",
    "    for word in words:\n",
    "        synonyms = wordnet.synsets(word)\n",
    "        if synonyms:\n",
    "            synonym = synonyms[0].lemmas()[0].name()\n",
    "            replaced_text.append(synonym.replace('_', ' '))\n",
    "        else:\n",
    "            replaced_text.append(word)\n",
    "\n",
    "    return ' '.join(replaced_text)\n",
    "\n",
    "def remove_function_words(text):\n",
    "    stop_words = set(stopwords.words('english'))\n",
    "    words = word_tokenize(text)\n",
    "    filtered_text = [word for word in words if word.lower() not in stop_words]\n",
    "\n",
    "    return ' '.join(filtered_text)\n",
    "\n",
    "def preprocess_txt(text, use_synonyms=False, use_fwd=False):\n",
    "    text = text.lower()\n",
    "    text = re.sub(r'http\\S+|www\\S+|https\\S+', '', text, flags=re.MULTILINE)\n",
    "    text = re.sub(r'<.*?>', '', text)\n",
    "    text = re.sub(r'[^a-zA-Z\\s]', '', text)\n",
    "\n",
    "    if use_synonyms:\n",
    "        text = replace_synonyms(text)\n",
    "\n",
    "    if use_fwd:\n",
    "        text = remove_function_words(text)\n",
    "\n",
    "    tokens = word_tokenize(text)\n",
    "\n",
    "    # Stemming\n",
    "    tokens = [stemmer.stem(token) for token in tokens]\n",
    "    unique_tokens = []\n",
    "    for token in tokens:\n",
    "        if token not in unique_tokens:\n",
    "            unique_tokens.append(token)\n",
    "\n",
    "    preprocessed_text = ' '.join(unique_tokens)\n",
    "    corpus.append(preprocessed_text)\n",
    "    return preprocessed_text\n",
    "\n",
    "df['preprocessed_text'] = df['text'].apply(lambda x: preprocess_txt(x, use_synonyms=False, use_fwd=True) if isinstance(x, str) else \"\")"
   ]
  },
  {
   "cell_type": "code",
   "execution_count": 6,
   "metadata": {
    "colab": {
     "base_uri": "https://localhost:8080/",
     "height": 206
    },
    "executionInfo": {
     "elapsed": 3901,
     "status": "ok",
     "timestamp": 1732195134652,
     "user": {
      "displayName": "asd asd",
      "userId": "16140418285562335389"
     },
     "user_tz": -420
    },
    "id": "44fPbA83dpEB",
    "outputId": "43a8a917-59f3-4856-f0d1-3187547d4995"
   },
   "outputs": [
    {
     "data": {
      "application/vnd.google.colaboratory.intrinsic+json": {
       "summary": "{\n  \"name\": \"df\",\n  \"rows\": 71537,\n  \"fields\": [\n    {\n      \"column\": \"Unnamed: 0\",\n      \"properties\": {\n        \"dtype\": \"number\",\n        \"std\": 20826,\n        \"min\": 0,\n        \"max\": 72133,\n        \"num_unique_values\": 71537,\n        \"samples\": [\n          54359,\n          6993,\n          28912\n        ],\n        \"semantic_type\": \"\",\n        \"description\": \"\"\n      }\n    },\n    {\n      \"column\": \"title\",\n      \"properties\": {\n        \"dtype\": \"string\",\n        \"num_unique_values\": 62308,\n        \"samples\": [\n          \"About 146,000 Rohingya have fled Myanmar violence to Bangladesh\",\n          \"Franklin Graham: The media didn\\u2019t understand the \\u2018God-factor\\u2019 in Trump\\u2019s win\",\n          \"T\\u00fcrkei: Kritischer Journalist interviewt Oppositionspolitiker in gemeinsamer Gef\\u00e4ngniszelle\"\n        ],\n        \"semantic_type\": \"\",\n        \"description\": \"\"\n      }\n    },\n    {\n      \"column\": \"text\",\n      \"properties\": {\n        \"dtype\": \"string\",\n        \"num_unique_values\": 63121,\n        \"samples\": [\n          \" Donald Trump Responds To Mockery Over Fake Swedish Attack \\u2013 Prepare To Laugh Your A** Off Last night, at a rally in Melbourne, Florida, Trump was trying to build more fear of brown people in his base of loyalists by referencing a completely imaginary terror attack in Sweden. Since then, he s received an earful from the former Prime Minister of Sweden, prompted questions from confused Swedes, and social media has been abuzz with mockery of the imaginary attack, too.One would have expected Trump to respond fairly quickly, since he s now formally joined the ranks of Kellyanne Conway and Sean Spicer when it comes to fake terror attacks, but he didn t. He waited until this afternoon to respond, and it s extremely laughable:My statement as to what s happening in Sweden was in reference to a story that was broadcast on @FoxNews concerning immigrants & Sweden.  Donald J. Trump (@realDonaldTrump) February 19, 2017Yes, sure, by all means, let s call this debacle Fox News  fault and completely ignore the words that actually spewed forth from his mouth: You look at what s happening last night in Sweden. Sweden! Who would believe this? Sweden! They took in large numbers. They re having problems that they never thought possible. Twitter, meanwhile, is positively gleeful in their mockery of the liar of liars for another egregious lie:@realDonaldTrump  none of which referred to anything that happened two nights ago.  Alex Zalben (@azalben) February 19, 2017.@realDonaldTrump  I apologize. I will hold myself to provide a more clear and accurate respresentation of my beliefs in future speeches.  Will McAvoy (@WillMcAvoyACN) February 19, 2017@realDonaldTrump Hey, dumbass. What happened in Sweden? Nothing. That s what. FAKE NEWS! pic.twitter.com/PR4Cu42mbb  The Socialist Party (@OfficialSPGB) February 19, 2017@realDonaldTrump @FoxNews Of course it fucking was.  Mark Pygas (@MarkPygas) February 19, 2017@realDonaldTrump You said  last night in Sweden . Don t retract. You are fake news for the unintelligent.  Tony Posnanski (@tonyposnanski) February 19, 2017You are fake news, Mr. So-Called President.#swedenincident #iamamuslimtoo #FuckYouBitch https://t.co/MGOL0oWFPs  Jade Helm Commander (@Anomaly100) February 19, 2017.@realDonaldTrump Who needs the intelligence community when there is Fox News?  Simon Hedlin (@simonhedlin) February 19, 2017Here s someone who was a likely witness to the imaginary attack, since reports say Swedish fish were everywhere at the scene:@realDonaldTrump @FoxNews pic.twitter.com/bGk4nMmc5e  Mike Denison (@mikd33) February 19, 2017@mikd33 @realDonaldTrump @FoxNews These fish are clearly terrorists.  Austin Braun (@AustinOnSocial) February 19, 2017@realDonaldTrump @FoxNews pic.twitter.com/dYPgcgHhmo  #TheResistance (@AynRandPaulRyan) February 19, 2017@realDonaldTrump @FoxNews pic.twitter.com/hoF53staXG  #TheResistance (@AynRandPaulRyan) February 19, 2017@realDonaldTrump Also, is @foxandfriends your new National Security Advisor?  Evan Dashevsky (@haldash) February 19, 2017@realDonaldTrump  oh I saw it on TV, people told me this  instead of being responsible for what comes out of his mouth.  Erick Fernandez (@ErickFernandez) February 19, 2017@realDonaldTrump @FoxNews OK time to have a chat again, so tell President Emperor Bannon you need a smoke break. This will take a bit.  Kevin (@TheKevinDent) February 19, 2017@realDonaldTrump So you blindly spout whether @FoxNews tells you to? It s pathetic, not to mention awfully irresponsible, 45.  Mike P Williams (@Mike_P_Williams) February 19, 2017Here s what someone who appears to be in Sweden has to say:@realDonaldTrump @FoxNews There is no migrant crisis in Sweden. We have free health care, free education, a functioning welfare system. ??  Ines Helene (@inihelene) February 19, 2017How embarrassing. You re hopelessly confused. Sad! @realDonaldTrump https://t.co/2mRZAjuj6f  Charles Johnson (@Green_Footballs) February 19, 2017Um @erichmcelroy is @realDonaldTrump now trying to blame @FoxNews? I thought we could trust them!  Mark Machado (@MarkMachado) February 19, 2017 Maybe, just as a change of pace and maybe to keep all of us on our toes, he should actually take responsibility for what he says and apologize. But what are we talking about? Trump is one of the worst pathological liars in the long, sad history of pathological liars.Featured image by Joe Raedle via Getty Images\",\n          \"Tweetwave This time it's true no pantsTweetwave More Of Anthony Weiner's Greatest Hits Users browsing this forum: No registered users and 13 guests Display posts from previous: Powered by phpBB \\u00a9 2000, 2002, 2005, 2007 phpBB Group The uncontested absurdities of today are the accepted slogans of tomorrow. They come to be accepted by degrees, by precedent, by implication, by erosion, by default, by dint of constant pressure on one side and constant retreat on the other - until the day when they are suddenly declared to be the country's official ideology. ~ Ayn Rand \\nRubiks & Rubik\\u2019s Cube \\u00ae used by special individual permission of Seven Town Ltd. Write down this number and report to your Kommissar at the nearest railroad station. Don't forget warm clothes and a shovel! Channel list \\nFollowing hurricane Matthew's failure to devastate Florida, activists flock to the Sunshine State and destroy Trump signs manually \\nTim Kaine takes credit for interrupting hurricane Matthew while debating weather in Florida \\nStudy: Many non-voters still undecided on how they're not going to vote \\nThe Evolution of Dissent: on November 8th the nation is to decide whether dissent will stop being racist and become sexist - or it will once again be patriotic as it was for 8 years under George W. Bush \\nVenezuela solves starvation problem by making it mandatory to buy food \\nBreaking: the Clinton Foundation set to investigate the FBI \\nObama \\u200b\\u200bcaptures rare Pok\\u00e9mon \\u200b\\u200bwhile visiting Hiroshima \\nMovie news: 'The Big Friendly Giant Government' flops at box office; audiences say \\\"It's creepy\\\" \\nBarack Obama: \\\"If I had a son, he'd look like Micah Johnson\\\" \\nWhite House edits Orlando 911 transcript to say shooter pledged allegiance to NRA and Republican Party \\nPresident George Washington: 'Redcoats do not represent British Empire; King George promotes a distorted version of British colonialism' \\nFollowing Obama's 'Okie-Doke' speech , stock of Okie-Doke soars; NASDAQ: 'Obama best Okie-Doke salesman' \\nWeaponized baby formula threatens Planned Parenthood office; ACLU demands federal investigation of Gerber \\nExperts: melting Antarctic glacier could cause sale levels to rise up to 80% off select items by this weekend \\nTravel advisory: airlines now offering flights to front of TSA line \\nAs Obama instructs his administration to get ready for presidential transition, Trump preemptively purchases 'T' keys for White House keyboards \\nJohn Kasich self-identifies as GOP primary winner, demands access to White House bathroom \\nUpcoming Trump/Kelly interview on FoxNews sponsored by 'Let's Make a Deal' and 'The Price is Right' \\nNews from 2017: once the evacuation of Lena Dunham and 90% of other Hollywood celebrities to Canada is confirmed, Trump resigns from presidency: \\\"My work here is done\\\" \\nNon-presidential candidate Paul Ryan pledges not to run for president in new non-presidential non-ad campaign \\nTrump suggests creating 'Muslim database'; Obama symbolically protests by shredding White House guest logs beginning 2009 \\nNational Enquirer: John Kasich's real dad was the milkman, not mailman \\nNational Enquirer: Bound delegates from Colorado, Wyoming found in Ted Cruz\\u2019s basement \\nIran breaks its pinky-swear promise not to support terrorism; US State Department vows rock-paper-scissors strategic response \\nWomen across the country cheer as racist Democrat president on $20 bill is replaced by black pro-gun Republican \\nFederal Reserve solves budget crisis by writing itself a 20-trillion-dollar check \\nWidows, orphans claim responsibility for Brussels airport bombing \\nChe Guevara's son hopes Cuba's communism will rub off on US, proposes a long list of people the government should execute first \\nSusan Sarandon: \\\"I don't vote with my vagina.\\\" Voters in line behind her still suspicious, use hand sanitizer \\nCampaign memo typo causes Hillary to court 'New Black Panties' vote \\nNew Hampshire votes for socialist Sanders, changes state motto to \\\"Live FOR Free or Die\\\" \\nMartin O'Malley drops out of race after Iowa Caucus; nation shocked with revelation he has been running for president \\nStatisticians: one out of three Bernie Sanders supporters is just as dumb as the other two \\nHillary campaign denies accusations of smoking-gun evidence in her emails, claims they contain only smoking-circumstantial-gun evidence \\nObama stops short of firing US Congress upon realizing the difficulty of assembling another group of such tractable yes-men \\nIn effort to contol wild passions for violent jihad, White House urges gun owners to keep their firearms covered in gun burkas \\nTV horror live: A Charlie Brown Christmas gets shot up on air by Mohammed cartoons \\nDemocrats vow to burn the country down over Ted Cruz statement, 'The overwhelming majority of violent criminals are Democrats' \\nRussia's trend to sign bombs dropped on ISIS with \\\"This is for Paris\\\" found response in Obama administration's trend to sign American bombs with \\\"Return to sender\\\" \\nUniversity researchers of cultural appropriation quit upon discovery that their research is appropriation from a culture that created universities \\nArcheologists discover remains of what Barack Obama has described as unprecedented, un-American, and not-who-we-are immigration screening process in Ellis Island \\nMizzou protests lead to declaring entire state a \\\"safe space,\\\" changing Missouri motto to \\\"The don't show me state\\\" \\nGreen energy fact: if we put all green energy subsidies together in one-dollar bills and burn them, we could generate more electricity than has been produced by subsidized green energy \\nState officials improve chances of healthcare payouts by replacing ObamaCare with state lottery \\nNASA's new mission to search for racism, sexism, and economic inequality in deep space suffers from race, gender, and class power struggles over multibillion-dollar budget \\nCollege progress enforcement squads issue schematic humor charts so students know if a joke may be spontaneously laughed at or if regulations require other action \\nISIS opens suicide hotline for US teens depressed by climate change and other progressive doomsday scenarios \\nVirginia county to close schools after teacher asks students to write 'death to America' in Arabic \\n'Wear hijab to school day' ends with spontaneous female circumcision and stoning of a classmate during lunch break \\nISIS releases new, even more barbaric video in an effort to regain mantle from Planned Parenthood \\nImpressed by Fox News stellar rating during GOP debates, CNN to use same formula on Democrat candidates asking tough, pointed questions about Republicans \\nShocking new book explores pros and cons of socialism, discovers they are same people \\nPope outraged by Planned Parenthood's \\\"unfettered capitalism,\\\" demands equal redistribution of baby parts to each according to his need \\nJohn Kerry accepts Iran's \\\"Golden Taquiyya\\\" award, requests jalapenos on the side \\nCitizens of Pluto protest US government's surveillance of their planetoid and its moons with New Horizons space drone \\nJohn Kerry proposes 3-day waiting period for all terrorist nations trying to acquire nuclear weapons \\nChicago Police trying to identify flag that caused nine murders and 53 injuries in the city this past weekend \\nCuba opens to affordable medical tourism for Americans who can't afford Obamacare deductibles \\nState-funded research proves existence of Quantum Aggression Particles (Heterons) in Large Hadron Collider \\nStudent job opportunities: make big bucks this summer as Hillary\\u2019s Ordinary-American; all expenses paid, travel, free acting lessons \\nExperts debate whether Iranian negotiators broke John Kerry's leg or he did it himself to get out of negotiations \\nJunior Varsity takes Ramadi, advances to quarterfinals \\nUS media to GOP pool of candidates: 'Knowing what we know now, would you have had anything to do with the founding of the United States?' \\nNY Mayor to hold peace talks with rats, apologize for previous Mayor's cowboy diplomacy \\nChina launches cube-shaped space object with a message to aliens: \\\"The inhabitants of Earth will steal your intellectual property, copy it, manufacture it in sweatshops with slave labor, and sell it back to you at ridiculously low prices\\\" \\nProgressive scientists: Truth is a variable deduced by subtracting 'what is' from 'what ought to be' \\nExperts agree: Hillary Clinton best candidate to lessen percentage of Americans in top 1% \\nAmerica's attempts at peace talks with the White House continue to be met with lies, stalling tactics, and bad faith \\nStarbucks new policy to talk race with customers prompts new hashtag #DontHoldUpTheLine \\nHillary: DELETE is the new RESET \\nCharlie Hebdo receives Islamophobe 2015 award ; the cartoonists could not be reached for comment due to their inexplicable, illogical deaths \\nRussia sends 'reset' button back to Hillary: 'You need it now more than we do' \\nBarack Obama finds out from CNN that Hillary Clinton spent four years being his Secretary of State \\nPresident Obama honors Leonard Nimoy by taking selfie in front of Starship Enterprise \\nPolice: If Obama had a convenience store, it would look like Obama Express Food Market \\nStudy finds stunning lack of racial, gender, and economic diversity among middle-class white males \\nNASA: We're 80% sure about being 20% sure about being 17% sure about being 38% sure about 2014 being the hottest year on record \\nPeople holding '$15 an Hour Now' posters sue Democratic party demanding raise to $15 an hour for rendered professional protesting services \\nCuba-US normalization: US tourists flock to see Cuba before it looks like the US and Cubans flock to see the US before it looks like Cuba \\nWhite House describes attacks on Sony Pictures as 'spontaneous hacking in response to offensive video mocking Juche and its prophet' \\nCIA responds to Democrat calls for transparency by releasing the director's cut of The Making Of Obama's Birth Certificate \\nObama: 'If I had a city, it would look like Ferguson' \\nBiden: 'If I had a Ferguson (hic), it would look like a city' \\nObama signs executive order renaming 'looters' to 'undocumented shoppers' \\nEthicists agree: two wrongs do make a right so long as Bush did it first \\nThe aftermath of the 'War on Women 2014' finds a new 'Lost Generation' of disillusioned Democrat politicians, unable to cope with life out of office \\nWhite House: Republican takeover of the Senate is a clear mandate from the American people for President Obama to rule by executive orders \\nNurse Kaci Hickox angrily tells reporters that she won't change her clocks for daylight savings time \\nDemocratic Party leaders in panic after recent poll shows most Democratic voters think 'midterm' is when to end pregnancy \\nDesperate Democratic candidates plead with Obama to stop backing them and instead support their GOP opponents \\nEbola Czar issues five-year plan with mandatory quotas of Ebola infections per each state based on voting preferences \\nStudy: crony capitalism is to the free market what the Westboro Baptist Church is to Christianity \\nFun facts about world languages: the Left has more words for statism than the Eskimos have for snow \\nAfrican countries to ban all flights from the United States because \\\"Obama is incompetent, it scares us\\\" \\nNobel Peace Prize controversy: Hillary not nominated despite having done even less than Obama to deserve it \\nObama: 'Ebola is the JV of viruses' \\nBREAKING: Secret Service foils Secret Service plot to protect Obama \\nRevised 1st Amendment: buy one speech, get the second free \\nSharpton calls on white NFL players to beat their women in the interests of racial fairness \\nPresident Obama appoints his weekly approval poll as new national security adviser \\nObama wags pen and phone at Putin; Europe offers support with powerful pens and phones from NATO members \\nWhite House pledges to embarrass ISIS back to the Stone Age with a barrage of fearsome Twitter messages and fatally ironic Instagram photos \\nObama to fight ISIS with new federal Terrorist Regulatory Agency \\nObama vows ISIS will never raise their flag over the eighteenth hole \\nHarry Reid: \\\"Sometimes I say the wong thing\\\" \\nElian Gonzalez wishes he had come to the U.S. on a bus from Central America like all the other kids \\nObama visits US-Mexican border, calls for a two-state solution \\nObama draws \\\"blue line\\\" in Iraq after Putin took away his red crayon \\n\\\"Hard Choices,\\\" a porno flick loosely based on Hillary Clinton's memoir and starring Hillary Hellfire as a drinking, whoring Secretary of State, wildly outsells the flabby, sagging original \\nAccusations of siding with the enemy leave Sgt. Bergdahl with only two options: pursue a doctorate at Berkley or become a Senator from Massachusetts \\nJay Carney stuck in line behind Eric Shinseki to leave the White House; estimated wait time from 15 min to 6 weeks \\n100% of scientists agree that if man-made global warming were real, \\\"the last people we'd want to help us is the Obama administration\\\" \\nJay Carney says he found out that Obama found out that he found out that Obama found out that he found out about the latest Obama administration scandal on the news \\n\\\"Anarchy Now!\\\" meeting turns into riot over points of order, bylaws, and whether or not 'kicking the #^@&*! ass' of the person trying to speak is or is not violence \\nObama retaliates against Putin by prohibiting unionized federal employees from dating hot Russian girls online during work hours \\nRussian separatists in Ukraine riot over an offensive YouTube video showing the toppling of Lenin statues \\n\\\"Free Speech Zones\\\" confuse Obamaphone owners who roam streets in search of additional air minutes \\nObamacare bolsters employment for professionals with skills to convert meth back into sudafed \\nGloves finally off: Obama uses pen and phone to cancel Putin's Netflix account \\nJoe Biden to Russia: \\\"We will bury you by turning more of Eastern Europe over to your control!\\\" \\nIn last-ditch effort to help Ukraine, Obama deploys Rev. Sharpton and Rev. Jackson's Rainbow Coalition to Crimea \\nAl Sharpton: \\\"Not even Putin can withstand our signature chanting, 'racist, sexist, anti-gay, Russian army go away'!\\\" \\nMardi Gras in North Korea: \\\" Throw me some food! \\\" \\nObama's foreign policy works: \\\"War, invasion, and conquest are signs of weakness; we've got Putin right where we want him\\\" \\nUS offers military solution to Ukraine crisis: \\\"We will only fight countries that have LGBT military\\\" \\nPutin annexes Brighton Beach to protect ethnic Russians in Brooklyn, Obama appeals to UN and EU for help \\nThe 1980s: \\\"Mr. Obama, we're just calling to ask if you want our foreign policy back . The 1970s are right here with us, and they're wondering, too.\\\" \\nIn a stunning act of defiance, Obama courageously unfriends Putin on Facebook \\nMSNBC: Obama secures alliance with Austro-Hungarian Empire against Russia\\u2019s aggression in Ukraine \\nStudy: springbreak is to STDs what April 15th is to accountants \\nEfforts to achieve moisture justice for California thwarted by unfair redistribution of snow in America \\nNorth Korean voters unanimous: \\\"We are the 100%\\\" \\nLeader of authoritarian gulag-site, The People's Cube, unanimously 're-elected' with 100% voter turnout \\nSuper Bowl: Obama blames Fox News for Broncos' loss \\nFeminist author slams gay marriage: \\\"a man needs a man like a fish needs a bicycle\\\" \\nBeverly Hills campaign heats up between Henry Waxman and Marianne Williamson over the widening income gap between millionaires and billionaires in their district \\nBiden to lower $10,000-a-plate Dinner For The Homeless to $5,000 so more homeless can attend \\nKim becomes world leader, feeds uncle to dogs; Obama eats dogs, becomes world leader, America cries uncle \\nNorth Korean leader executes own uncle for talking about Obamacare at family Christmas party \\nWhite House hires part-time schizophrenic Mandela sign interpreter to help sell Obamacare \\nKim Jong Un executes own \\\" crazy uncle \\\" to keep him from ruining another family Christmas \\nOFA admits its advice for area activists to give Obamacare Talk at shooting ranges was a bad idea \\nPresident resolves Obamacare debacle with executive order declaring all Americans equally healthy \\nObama to Iran: \\\"If you like your nuclear program, you can keep your nuclear program\\\" \\nBovine community outraged by flatulence coming from Washington DC \\nObama: \\\"I'm not particularly ideological; I believe in a good pragmatic five-year plan\\\" \\nShocker: Obama had no knowledge he'd been reelected until he read about it in the local newspaper last week \\nServer problems at HealthCare.gov so bad, it now flashes 'Error 808' message \\nNSA marks National Best Friend Day with official announcement: \\\"Government is your best friend; we know you like no one else, we're always there, we're always willing to listen\\\" \\nAl Qaeda cancels attack on USA citing launch of Obamacare as devastating enough \\nThe President's latest talking point on Obamacare: \\\"I didn't build that\\\" \\nDizzy with success, Obama renames his wildly popular healthcare mandate to HillaryCare \\nCarney: huge ObamaCare deductibles won't look as bad come hyperinflation \\nWashington Redskins drop 'Washington' from their name as offensive to most Americans \\nPoll: 83% of Americans favor cowboy diplomacy over rodeo clown diplomacy \\nGOVERNMENT WARNING: If you were able to complete ObamaCare form online, it wasn't a legitimate gov't website; you should report online fraud and change all your passwords \\nObama administration gets serious, threatens Syria with ObamaCare \\nObama authorizes the use of Vice President Joe Biden's double-barrel shotgun to fire a couple of blasts at Syria \\nSharpton: \\\"British royals should have named baby 'Trayvon.' By choosing 'George' they sided with white Hispanic racist Zimmerman\\\" \\nDNC launches 'Carlos Danger' action figure; proceeds to fund a charity helping survivors of the Republican War on Women \\nNancy Pelosi extends abortion rights to the birds and the bees \\nHubble discovers planetary drift to the left \\nObama: 'If I had a daughter-in-law, she would look like Rachael Jeantel' \\nFISA court rubberstamps statement denying its portrayal as government's rubber stamp \\nEvery time ObamaCare gets delayed, a Julia somewhere dies \\nGOP to Schumer: 'Force full implementation of ObamaCare before 2014 or Dems will never win another election' \\nObama: 'If I had a son... no, wait, my daughter can now marry a woman!' \\nJanet Napolitano: TSA findings reveal that since none of the hijackers were babies, elderly, or Tea Partiers, 9/11 was not an act of terrorism \\nNews Flash: Sen. Mary Landrieu (D-LA) can see Canada from South Dakota \\nSusan Rice: IRS actions against tea parties caused by anti-tax YouTube video that was insulting to their faith \\nDrudge Report reduces font to fit all White House scandals onto one page \\nObama: the IRS is a constitutional right, just like the Second Amendment \\nWhite House: top Obama officials using secret email accounts a result of bad IT advice to avoid spam mail from Nigeria \\nJay Carney to critics: 'Pinocchio never said anything inconsistent' \\nObama: If I had a gay son, he'd look like Jason Collins \\nGosnell's office in Benghazi raided by the IRS: mainstream media's worst cover-up challenge to date \\nIRS targeting pro-gay-marriage LGBT groups leads to gayest tax revolt in U.S. history \\nAfter Arlington Cemetery rejects offer to bury Boston bomber, Westboro Babtist Church steps up with premium front lawn plot \\nBoston: Obama Administration to reclassify marathon bombing as 'sportsplace violence' \\nStudy: Success has many fathers but failure becomes a government program \\nUS Media: Can Pope Francis possibly clear up Vatican bureaucracy and banking without blaming the previous administration? \\nMichelle Obama praises weekend rampage by Chicago teens as good way to burn calories and stay healthy \\nThis Passover, Obama urges his subjects to paint lamb's blood above doors in order to avoid the Sequester \\nWhite House to American children: Sequester causes layoffs among hens that lay Easter eggs; union-wage Easter Bunnies to be replaced by Mexican Chupacabras \\nTime Mag names Hugo Chavez world's sexiest corpse \\nBoy, 8, pretends banana is gun, makes daring escape from school \\nStudy: Free lunches overpriced, lack nutrition \\nOscars 2013: Michelle Obama announces long-awaited merger of Hollywood and the State \\nJoe Salazar defends the right of women to be raped in gun-free environment: 'rapists and rapees should work together to prevent gun violence for the common good' \\nDept. of Health and Human Services eliminates rape by reclassifying assailants as 'undocumented sex partners' \\nKremlin puts out warning not to photoshop Putin riding meteor unless bare-chested \\nDeeming football too violent, Obama moves to introduce Super Drone Sundays instead \\nJapan offers to extend nuclear umbrella to cover U.S. should America suffer devastating attack on its own defense spending \\nFeminists organize one billion women to protest male oppression with one billion lap dances \\nUrban community protests Mayor Bloomberg's ban on extra-large pop singers owning assault weapons \\nConcerned with mounting death toll, Taliban offers to send peacekeeping advisers to Chicago \\nKarl Rove puts an end to Tea Party with new 'Republicans For Democrats' strategy aimed at losing elections \\nAnswering public skepticism, President Obama authorizes unlimited drone attacks on all skeet targets throughout the country \\nSkeet Ulrich denies claims he had been shot by President but considers changing his name to 'Traps' \\nWhite House releases new exciting photos of Obama standing, sitting, looking thoughtful, and even breathing in and out \\nNew York Times hacked by Chinese government, Paul Krugman's economic policies stolen \\nWhite House: when President shoots skeet, he donates the meat to food banks that feed the middle class \\nTo prove he is serious, Obama eliminates armed guard protection for President, Vice-President, and their families; establishes Gun-Free Zones around them instead \\nState Dept to send 100,000 American college students to China as security for US debt obligations \\nJay Carney: Al Qaeda is on the run, they're just running forward \\nPresident issues executive orders banning cliffs, ceilings, obstructions, statistics, and other notions that prevent us from moving forwards and upward \\nFearing the worst, Obama Administration outlaws the fan to prevent it from being hit by certain objects \\nWorld ends; S&P soars \\nRiddle of universe solved; answer not understood \\nMeek inherit Earth, can't afford estate taxes \\nGreece abandons Euro; accountants find Greece has no Euros anyway \\nWheel finally reinvented; axles to be gradually reinvented in 3rd quarter of 2013 \\nBigfoot found in Ohio, mysteriously not voting for Obama \\nAs Santa's workshop files for bankruptcy, Fed offers bailout in exchange for control of 'naughty and nice' list \\nFreak flying pig accident causes bacon to fly off shelves \\nObama: green economy likely to transform America into a leading third world country of the new millennium \\nReport: President Obama to visit the United States in the near future \\nObama promises to create thousands more economically neutral jobs \\nModernizing Islam: New York imam proposes to canonize Saul Alinsky as religion's latter day prophet \\nImam Rauf's peaceful solution: 'Move Ground Zero a few blocks away from the mosque and no one gets hurt' \\nStudy: Obama's threat to burn tax money in Washington 'recruitment bonanza' for Tea Parties \\nStudy: no Social Security reform will be needed if gov't raises retirement age to at least 814 years \\nObama attends church service, worships self \\nObama proposes national 'Win The Future' lottery; proceeds of new WTF Powerball to finance more gov't spending \\nHistorical revisionists: \\\"Hey, you never know\\\" \\nVice President Biden: criticizing Egypt is un-pharaoh \\nIsraelis to Egyptian rioters: \\\"don't damage the pyramids, we will not rebuild\\\" \\nLake Superior renamed Lake Inferior in spirit of tolerance and inclusiveness \\nAl Gore: It's a shame that a family can be torn apart by something as simple as a pack of polar bears \\nMichael Moore: As long as there is anyone with money to shake down, this country is not broke \\nObama's teleprompters unionize, demand collective bargaining rights \\nObama calls new taxes 'spending reductions in tax code.' Elsewhere rapists tout 'consent reductions in sexual intercourse' \\nObama's teleprompter unhappy with White House Twitter: \\\"Too few words\\\" \\nObama's Regulation Reduction committee finds US Constitution to be expensive outdated framework inefficiently regulating federal gov't \\nTaking a page from the Reagan years, Obama announces new era of Perestroika and Glasnost \\nResponding to Oslo shootings, Obama declares Christianity \\\"Religion of Peace,\\\" praises \\\"moderate Christians,\\\" promises to send one into space \\nRepublicans block Obama's $420 billion program to give American families free charms that ward off economic bad luck \\nWhite House to impose Chimney tax on Santa Claus \\nObama decrees the economy is not soaring as much as previously decreeed \\nConservative think tank introduces children to capitalism with pop-up picture book \\\"The Road to Smurfdom\\\" \\nAl Gore proposes to combat Global Warming by extracting silver linings from clouds in Earth's atmosphere \\nObama refutes charges of him being unresponsive to people's suffering: \\\"When you pray to God, do you always hear a response?\\\" \\nObama regrets the US government didn't provide his mother with free contraceptives when she was in college \\nFluke to Congress: drill, baby, drill! \\nPlanned Parenthood introduces Frequent Flucker reward card: 'Come again soon!' \\nObama to tornado victims: 'We inherited this weather from the previous administration' \\nObama congratulates Putin on Chicago-style election outcome \\nPeople's Cube gives itself Hero of Socialist Labor medal in recognition of continued expert advice provided to the Obama Administration helping to shape its foreign and domestic policies \\nHamas: Israeli air defense unfair to 99% of our missiles, \\\"only 1% allowed to reach Israel\\\" \\nDemocrat strategist: without government supervision, women would have never evolved into humans \\nVoters Without Borders oppose Texas new voter ID law \\nEnraged by accusation that they are doing Obama's bidding, media leaders demand instructions from White House on how to respond \\nObama blames previous Olympics for failure to win at this Olympics \\nOfficial: China plans to land on Moon or at least on cheap knockoff thereof \\nKoran-Contra: Obama secretly arms Syrian rebels \\nPoll: Progressive slogan 'We should be more like Europe' most popular with members of American Nazi Party \\nObama to Evangelicals: Jesus saves, I just spend \\nMay Day: Anarchists plan, schedule, synchronize, and execute a coordinated campaign against all of the above \\nMidwestern farmers hooked on new erotic novel \\\"50 Shades of Hay\\\" \\nStudy: 99% of Liberals give the rest a bad name \\nObama meets with Jewish leaders, proposes deeper circumcisions for the rich \\nHistorians: Before HOPE & CHANGE there was HEMP & CHOOM at ten bucks a bag \\nCancer once again fails to cure Venezuela of its \\\"President for Life\\\" \\nTragic spelling error causes Muslim protesters to burn local boob-tube factory \\nSecretary of Energy Steven Chu: due to energy conservation, the light at the end of the tunnel will be switched off \\nObama Administration running food stamps across the border with Mexico in an operation code-named \\\"Fat And Furious\\\" \\nPakistan explodes in protest over new Adobe Acrobat update; 17 local acrobats killed \\nWhite House: \\\"Let them eat statistics\\\" \\nSpecial Ops: if Benedict Arnold had a son, he would look like Barack Obama\",\n          \"Rubio says prospect of Trump president is 'worrisome' (Reuters) - U.S. Senator Marco Rubio said on Wednesday that he was running for re-election in part to provide a counter-weight to whomever might win the White House in November, whether Democrat Hillary Clinton or Republican Donald Trump. Rubio criticized Clinton in a statement he released to explain his decision, but added: \\u201cThe prospect of a Trump presidency is also worrisome to me.\\u201d \\u201cIf he is elected, we will need senators willing to encourage him in the right direction, and if necessary, stand up to him. I\\u2019ve proven a willingness to do both,\\u201d Rubio said. \"\n        ],\n        \"semantic_type\": \"\",\n        \"description\": \"\"\n      }\n    },\n    {\n      \"column\": \"label\",\n      \"properties\": {\n        \"dtype\": \"number\",\n        \"std\": 0,\n        \"min\": 0,\n        \"max\": 1,\n        \"num_unique_values\": 2,\n        \"samples\": [\n          0,\n          1\n        ],\n        \"semantic_type\": \"\",\n        \"description\": \"\"\n      }\n    },\n    {\n      \"column\": \"preprocessed_text\",\n      \"properties\": {\n        \"dtype\": \"string\",\n        \"num_unique_values\": 62840,\n        \"samples\": [\n          \"romney say vote cruz utah presidenti caucu washington reuter former republican candid mitt friday announc senat ted texa tuesday nomin contest cite desir halt momentum parti frontrunn donald trump today trumpism calcul statement leader becom associ racism misogyni bigotri xenophobia vulgar recent threat violenc repuls everi one nomine wrote facebook path remain rather mr open convent said stage way reach success mani elect possibl\",\n          \"steve pieczenik us intellig wage coup corrupt clinton regat former unit state depart offici jon hall novemb rumor alleg bill hillari belong highlevel pedophil ring surfac internet without much credenc proof behind claim initi dismiss persist grew come forward stun add fuel fire serv deputi assist secretari henri kissing wellvers foreign polici intern crisi manag psycholog warfar also presidenti administr gerald ford jimmi carter ronald reagan georg hw bush white hous word proven histori experi real deal close associ success pull via explain total cooption two strategi say coopt mani central facet govern judiciari cia fbi far im concern idea well beyond lunat conspiraci theori increasingli like attorney gener loretta lynch obvious pocket interven obstruct investig privat home server email everi turn jame comey board director hsbc bank gave million foundat current head goe commun start countercoup provid inform julian assang wikileak final stop blame russian clearli offer data work campaign seek indict major player scheme end video tell second american revolut happen frequent travel lolita express billionair jeffrey epstein plane fli island elit duo sex minor nypd record could potenti implic pedophilia charg multipl crime includ justic may suffer crimin awar shadi illicit misde trip supposedli follow tab chang content latest post reform twotim obama voter degre digit media cover polit tech interest see\"\n        ],\n        \"semantic_type\": \"\",\n        \"description\": \"\"\n      }\n    }\n  ]\n}",
       "type": "dataframe",
       "variable_name": "df"
      },
      "text/html": [
       "\n",
       "  <div id=\"df-e1c421b0-1de9-4c7f-a842-08ea10a8b072\" class=\"colab-df-container\">\n",
       "    <div>\n",
       "<style scoped>\n",
       "    .dataframe tbody tr th:only-of-type {\n",
       "        vertical-align: middle;\n",
       "    }\n",
       "\n",
       "    .dataframe tbody tr th {\n",
       "        vertical-align: top;\n",
       "    }\n",
       "\n",
       "    .dataframe thead th {\n",
       "        text-align: right;\n",
       "    }\n",
       "</style>\n",
       "<table border=\"1\" class=\"dataframe\">\n",
       "  <thead>\n",
       "    <tr style=\"text-align: right;\">\n",
       "      <th></th>\n",
       "      <th>Unnamed: 0</th>\n",
       "      <th>title</th>\n",
       "      <th>text</th>\n",
       "      <th>label</th>\n",
       "      <th>preprocessed_text</th>\n",
       "    </tr>\n",
       "  </thead>\n",
       "  <tbody>\n",
       "    <tr>\n",
       "      <th>0</th>\n",
       "      <td>0</td>\n",
       "      <td>LAW ENFORCEMENT ON HIGH ALERT Following Threat...</td>\n",
       "      <td>LAW ENFORCEMENT ON HIGH ALERT Following Threat...</td>\n",
       "      <td>1</td>\n",
       "      <td>law enforc high alert follow threat cop white ...</td>\n",
       "    </tr>\n",
       "    <tr>\n",
       "      <th>2</th>\n",
       "      <td>2</td>\n",
       "      <td>UNBELIEVABLE! OBAMA’S ATTORNEY GENERAL SAYS MO...</td>\n",
       "      <td>UNBELIEVABLE! OBAMA’S ATTORNEY GENERAL SAYS MO...</td>\n",
       "      <td>1</td>\n",
       "      <td>unbeliev obama attorney gener say charlott rio...</td>\n",
       "    </tr>\n",
       "    <tr>\n",
       "      <th>3</th>\n",
       "      <td>3</td>\n",
       "      <td>Bobby Jindal, raised Hindu, uses story of Chri...</td>\n",
       "      <td>Bobby Jindal, raised Hindu, uses story of Chri...</td>\n",
       "      <td>0</td>\n",
       "      <td>bobbi jindal rais hindu use stori christian co...</td>\n",
       "    </tr>\n",
       "    <tr>\n",
       "      <th>4</th>\n",
       "      <td>4</td>\n",
       "      <td>SATAN 2: Russia unvelis an image of its terrif...</td>\n",
       "      <td>SATAN 2: Russia unvelis an image of its terrif...</td>\n",
       "      <td>1</td>\n",
       "      <td>satan russia unv imag terrifi new supernuk wes...</td>\n",
       "    </tr>\n",
       "    <tr>\n",
       "      <th>5</th>\n",
       "      <td>5</td>\n",
       "      <td>About Time! Christian Group Sues Amazon and SP...</td>\n",
       "      <td>About Time! Christian Group Sues Amazon and SP...</td>\n",
       "      <td>1</td>\n",
       "      <td>time christian group sue amazon splc design ha...</td>\n",
       "    </tr>\n",
       "  </tbody>\n",
       "</table>\n",
       "</div>\n",
       "    <div class=\"colab-df-buttons\">\n",
       "\n",
       "  <div class=\"colab-df-container\">\n",
       "    <button class=\"colab-df-convert\" onclick=\"convertToInteractive('df-e1c421b0-1de9-4c7f-a842-08ea10a8b072')\"\n",
       "            title=\"Convert this dataframe to an interactive table.\"\n",
       "            style=\"display:none;\">\n",
       "\n",
       "  <svg xmlns=\"http://www.w3.org/2000/svg\" height=\"24px\" viewBox=\"0 -960 960 960\">\n",
       "    <path d=\"M120-120v-720h720v720H120Zm60-500h600v-160H180v160Zm220 220h160v-160H400v160Zm0 220h160v-160H400v160ZM180-400h160v-160H180v160Zm440 0h160v-160H620v160ZM180-180h160v-160H180v160Zm440 0h160v-160H620v160Z\"/>\n",
       "  </svg>\n",
       "    </button>\n",
       "\n",
       "  <style>\n",
       "    .colab-df-container {\n",
       "      display:flex;\n",
       "      gap: 12px;\n",
       "    }\n",
       "\n",
       "    .colab-df-convert {\n",
       "      background-color: #E8F0FE;\n",
       "      border: none;\n",
       "      border-radius: 50%;\n",
       "      cursor: pointer;\n",
       "      display: none;\n",
       "      fill: #1967D2;\n",
       "      height: 32px;\n",
       "      padding: 0 0 0 0;\n",
       "      width: 32px;\n",
       "    }\n",
       "\n",
       "    .colab-df-convert:hover {\n",
       "      background-color: #E2EBFA;\n",
       "      box-shadow: 0px 1px 2px rgba(60, 64, 67, 0.3), 0px 1px 3px 1px rgba(60, 64, 67, 0.15);\n",
       "      fill: #174EA6;\n",
       "    }\n",
       "\n",
       "    .colab-df-buttons div {\n",
       "      margin-bottom: 4px;\n",
       "    }\n",
       "\n",
       "    [theme=dark] .colab-df-convert {\n",
       "      background-color: #3B4455;\n",
       "      fill: #D2E3FC;\n",
       "    }\n",
       "\n",
       "    [theme=dark] .colab-df-convert:hover {\n",
       "      background-color: #434B5C;\n",
       "      box-shadow: 0px 1px 3px 1px rgba(0, 0, 0, 0.15);\n",
       "      filter: drop-shadow(0px 1px 2px rgba(0, 0, 0, 0.3));\n",
       "      fill: #FFFFFF;\n",
       "    }\n",
       "  </style>\n",
       "\n",
       "    <script>\n",
       "      const buttonEl =\n",
       "        document.querySelector('#df-e1c421b0-1de9-4c7f-a842-08ea10a8b072 button.colab-df-convert');\n",
       "      buttonEl.style.display =\n",
       "        google.colab.kernel.accessAllowed ? 'block' : 'none';\n",
       "\n",
       "      async function convertToInteractive(key) {\n",
       "        const element = document.querySelector('#df-e1c421b0-1de9-4c7f-a842-08ea10a8b072');\n",
       "        const dataTable =\n",
       "          await google.colab.kernel.invokeFunction('convertToInteractive',\n",
       "                                                    [key], {});\n",
       "        if (!dataTable) return;\n",
       "\n",
       "        const docLinkHtml = 'Like what you see? Visit the ' +\n",
       "          '<a target=\"_blank\" href=https://colab.research.google.com/notebooks/data_table.ipynb>data table notebook</a>'\n",
       "          + ' to learn more about interactive tables.';\n",
       "        element.innerHTML = '';\n",
       "        dataTable['output_type'] = 'display_data';\n",
       "        await google.colab.output.renderOutput(dataTable, element);\n",
       "        const docLink = document.createElement('div');\n",
       "        docLink.innerHTML = docLinkHtml;\n",
       "        element.appendChild(docLink);\n",
       "      }\n",
       "    </script>\n",
       "  </div>\n",
       "\n",
       "\n",
       "<div id=\"df-053ae038-d0be-4ecd-bed9-899c56b356e7\">\n",
       "  <button class=\"colab-df-quickchart\" onclick=\"quickchart('df-053ae038-d0be-4ecd-bed9-899c56b356e7')\"\n",
       "            title=\"Suggest charts\"\n",
       "            style=\"display:none;\">\n",
       "\n",
       "<svg xmlns=\"http://www.w3.org/2000/svg\" height=\"24px\"viewBox=\"0 0 24 24\"\n",
       "     width=\"24px\">\n",
       "    <g>\n",
       "        <path d=\"M19 3H5c-1.1 0-2 .9-2 2v14c0 1.1.9 2 2 2h14c1.1 0 2-.9 2-2V5c0-1.1-.9-2-2-2zM9 17H7v-7h2v7zm4 0h-2V7h2v10zm4 0h-2v-4h2v4z\"/>\n",
       "    </g>\n",
       "</svg>\n",
       "  </button>\n",
       "\n",
       "<style>\n",
       "  .colab-df-quickchart {\n",
       "      --bg-color: #E8F0FE;\n",
       "      --fill-color: #1967D2;\n",
       "      --hover-bg-color: #E2EBFA;\n",
       "      --hover-fill-color: #174EA6;\n",
       "      --disabled-fill-color: #AAA;\n",
       "      --disabled-bg-color: #DDD;\n",
       "  }\n",
       "\n",
       "  [theme=dark] .colab-df-quickchart {\n",
       "      --bg-color: #3B4455;\n",
       "      --fill-color: #D2E3FC;\n",
       "      --hover-bg-color: #434B5C;\n",
       "      --hover-fill-color: #FFFFFF;\n",
       "      --disabled-bg-color: #3B4455;\n",
       "      --disabled-fill-color: #666;\n",
       "  }\n",
       "\n",
       "  .colab-df-quickchart {\n",
       "    background-color: var(--bg-color);\n",
       "    border: none;\n",
       "    border-radius: 50%;\n",
       "    cursor: pointer;\n",
       "    display: none;\n",
       "    fill: var(--fill-color);\n",
       "    height: 32px;\n",
       "    padding: 0;\n",
       "    width: 32px;\n",
       "  }\n",
       "\n",
       "  .colab-df-quickchart:hover {\n",
       "    background-color: var(--hover-bg-color);\n",
       "    box-shadow: 0 1px 2px rgba(60, 64, 67, 0.3), 0 1px 3px 1px rgba(60, 64, 67, 0.15);\n",
       "    fill: var(--button-hover-fill-color);\n",
       "  }\n",
       "\n",
       "  .colab-df-quickchart-complete:disabled,\n",
       "  .colab-df-quickchart-complete:disabled:hover {\n",
       "    background-color: var(--disabled-bg-color);\n",
       "    fill: var(--disabled-fill-color);\n",
       "    box-shadow: none;\n",
       "  }\n",
       "\n",
       "  .colab-df-spinner {\n",
       "    border: 2px solid var(--fill-color);\n",
       "    border-color: transparent;\n",
       "    border-bottom-color: var(--fill-color);\n",
       "    animation:\n",
       "      spin 1s steps(1) infinite;\n",
       "  }\n",
       "\n",
       "  @keyframes spin {\n",
       "    0% {\n",
       "      border-color: transparent;\n",
       "      border-bottom-color: var(--fill-color);\n",
       "      border-left-color: var(--fill-color);\n",
       "    }\n",
       "    20% {\n",
       "      border-color: transparent;\n",
       "      border-left-color: var(--fill-color);\n",
       "      border-top-color: var(--fill-color);\n",
       "    }\n",
       "    30% {\n",
       "      border-color: transparent;\n",
       "      border-left-color: var(--fill-color);\n",
       "      border-top-color: var(--fill-color);\n",
       "      border-right-color: var(--fill-color);\n",
       "    }\n",
       "    40% {\n",
       "      border-color: transparent;\n",
       "      border-right-color: var(--fill-color);\n",
       "      border-top-color: var(--fill-color);\n",
       "    }\n",
       "    60% {\n",
       "      border-color: transparent;\n",
       "      border-right-color: var(--fill-color);\n",
       "    }\n",
       "    80% {\n",
       "      border-color: transparent;\n",
       "      border-right-color: var(--fill-color);\n",
       "      border-bottom-color: var(--fill-color);\n",
       "    }\n",
       "    90% {\n",
       "      border-color: transparent;\n",
       "      border-bottom-color: var(--fill-color);\n",
       "    }\n",
       "  }\n",
       "</style>\n",
       "\n",
       "  <script>\n",
       "    async function quickchart(key) {\n",
       "      const quickchartButtonEl =\n",
       "        document.querySelector('#' + key + ' button');\n",
       "      quickchartButtonEl.disabled = true;  // To prevent multiple clicks.\n",
       "      quickchartButtonEl.classList.add('colab-df-spinner');\n",
       "      try {\n",
       "        const charts = await google.colab.kernel.invokeFunction(\n",
       "            'suggestCharts', [key], {});\n",
       "      } catch (error) {\n",
       "        console.error('Error during call to suggestCharts:', error);\n",
       "      }\n",
       "      quickchartButtonEl.classList.remove('colab-df-spinner');\n",
       "      quickchartButtonEl.classList.add('colab-df-quickchart-complete');\n",
       "    }\n",
       "    (() => {\n",
       "      let quickchartButtonEl =\n",
       "        document.querySelector('#df-053ae038-d0be-4ecd-bed9-899c56b356e7 button');\n",
       "      quickchartButtonEl.style.display =\n",
       "        google.colab.kernel.accessAllowed ? 'block' : 'none';\n",
       "    })();\n",
       "  </script>\n",
       "</div>\n",
       "\n",
       "    </div>\n",
       "  </div>\n"
      ],
      "text/plain": [
       "   Unnamed: 0                                              title  \\\n",
       "0           0  LAW ENFORCEMENT ON HIGH ALERT Following Threat...   \n",
       "2           2  UNBELIEVABLE! OBAMA’S ATTORNEY GENERAL SAYS MO...   \n",
       "3           3  Bobby Jindal, raised Hindu, uses story of Chri...   \n",
       "4           4  SATAN 2: Russia unvelis an image of its terrif...   \n",
       "5           5  About Time! Christian Group Sues Amazon and SP...   \n",
       "\n",
       "                                                text  label  \\\n",
       "0  LAW ENFORCEMENT ON HIGH ALERT Following Threat...      1   \n",
       "2  UNBELIEVABLE! OBAMA’S ATTORNEY GENERAL SAYS MO...      1   \n",
       "3  Bobby Jindal, raised Hindu, uses story of Chri...      0   \n",
       "4  SATAN 2: Russia unvelis an image of its terrif...      1   \n",
       "5  About Time! Christian Group Sues Amazon and SP...      1   \n",
       "\n",
       "                                   preprocessed_text  \n",
       "0  law enforc high alert follow threat cop white ...  \n",
       "2  unbeliev obama attorney gener say charlott rio...  \n",
       "3  bobbi jindal rais hindu use stori christian co...  \n",
       "4  satan russia unv imag terrifi new supernuk wes...  \n",
       "5  time christian group sue amazon splc design ha...  "
      ]
     },
     "execution_count": 6,
     "metadata": {},
     "output_type": "execute_result"
    }
   ],
   "source": [
    "df.head()"
   ]
  },
  {
   "cell_type": "code",
   "execution_count": 7,
   "metadata": {
    "executionInfo": {
     "elapsed": 8,
     "status": "ok",
     "timestamp": 1732195134653,
     "user": {
      "displayName": "asd asd",
      "userId": "16140418285562335389"
     },
     "user_tz": -420
    },
    "id": "SqLDFjkVdpBp"
   },
   "outputs": [],
   "source": [
    "train_d, val_d, train_labels, val_labels = train_test_split(df['preprocessed_text'],df['label'],test_size=0.2,random_state=42)"
   ]
  },
  {
   "cell_type": "code",
   "execution_count": 8,
   "metadata": {
    "colab": {
     "base_uri": "https://localhost:8080/",
     "height": 269,
     "referenced_widgets": [
      "06cceda8624148d7a48836863e910845",
      "6531120500ab4ec58ca0bc48e47665a1",
      "05876f31296c48e88b6cd0783346489b",
      "734843de0fd3402aa09f778e0df62a81",
      "78594b96b0be45f1b83423b1bc1f4a79",
      "55de17f7a00a45cea9e8454b8db18d46",
      "c54abcd00b8d412cb380530a3dc51176",
      "5d04f566590c4e039f1144a6be3c591c",
      "24977d014b4a4a679ffa0aa508595feb",
      "7c9101ba7f33499794a7508266d6982e",
      "001fd09c0e0d476a9d0abbd4ec52a0bc",
      "e575c8659c0e4badb40cb59b15568583",
      "61026d50045b4b249ed14fbaa5a64c9f",
      "4e51fe48654942c3848432f8ab09a9ed",
      "bd03a5f4afe94602884fa817bd085117",
      "37723a9023244d1c985e269b92574dc1",
      "035d180203db43ff8874dd675967165d",
      "90991aacd571462e8213f3880b4b53b3",
      "1ae9402d769e4755a2f2b5e4db4a309f",
      "5083c642d3ea422297b29851cfbc9063",
      "e4dd1884db92411b86042891b2581d8e",
      "af4f44a43ed14bc68c3508a545257b44",
      "ab4290137f024f91a57ad0377ebdf8c7",
      "63901cc71af64a438be8d733667f3138",
      "c90942c471aa4718b6543c102ac69a08",
      "051b89ab58de4d2c801c689a540f6d14",
      "41bc51934c574209ac6b75ffea0e7388",
      "41a78ff5e6714f428ec31d3d9a55b0aa",
      "0188fecda56240a2bb2758ef2e045bdf",
      "0599675fe0b84f6ea678ad67a6f571e4",
      "be587f6268af4815a2f0ed6e25e87919",
      "9454c33e32ee4ecdb3fc808aeed00f4d",
      "93844d697a3d4073ac22ee2a5f0dc80b",
      "2021a4f6f5a7481f9349f9dea359596c",
      "99660c9a129a46cfb94ce814751af5e4",
      "43ad597e78f24572a2b8509a2430619f",
      "95946d49a713462a8eac24aeaeefef3d",
      "55eca341c07241538b4f95fae2c0de50",
      "6ace846032b544f3aed97d885ac21416",
      "bf3b5d808e4849daa9c1c3ad4cd17102",
      "d59a1c4afa4d4d63bded75923073d3d2",
      "6bff0f3b1a8f40c4be436018d38f8c7a",
      "f5632866444c42898b90a47af426e42e",
      "e0d2cce7252c4441a60cb224f3422f8e"
     ]
    },
    "executionInfo": {
     "elapsed": 7856,
     "status": "ok",
     "timestamp": 1732195142502,
     "user": {
      "displayName": "asd asd",
      "userId": "16140418285562335389"
     },
     "user_tz": -420
    },
    "id": "pcZ0H19Vdo_P",
    "outputId": "0f4dd7f3-f6c4-4cdd-8afa-80928f50f1ce"
   },
   "outputs": [
    {
     "name": "stderr",
     "output_type": "stream",
     "text": [
      "/usr/local/lib/python3.10/dist-packages/huggingface_hub/utils/_auth.py:94: UserWarning: \n",
      "The secret `HF_TOKEN` does not exist in your Colab secrets.\n",
      "To authenticate with the Hugging Face Hub, create a token in your settings tab (https://huggingface.co/settings/tokens), set it as secret in your Google Colab and restart your session.\n",
      "You will be able to reuse this secret in all of your notebooks.\n",
      "Please note that authentication is recommended but still optional to access public models or datasets.\n",
      "  warnings.warn(\n"
     ]
    },
    {
     "data": {
      "application/vnd.jupyter.widget-view+json": {
       "model_id": "06cceda8624148d7a48836863e910845",
       "version_major": 2,
       "version_minor": 0
      },
      "text/plain": [
       "tokenizer_config.json:   0%|          | 0.00/48.0 [00:00<?, ?B/s]"
      ]
     },
     "metadata": {},
     "output_type": "display_data"
    },
    {
     "data": {
      "application/vnd.jupyter.widget-view+json": {
       "model_id": "e575c8659c0e4badb40cb59b15568583",
       "version_major": 2,
       "version_minor": 0
      },
      "text/plain": [
       "vocab.txt:   0%|          | 0.00/232k [00:00<?, ?B/s]"
      ]
     },
     "metadata": {},
     "output_type": "display_data"
    },
    {
     "data": {
      "application/vnd.jupyter.widget-view+json": {
       "model_id": "ab4290137f024f91a57ad0377ebdf8c7",
       "version_major": 2,
       "version_minor": 0
      },
      "text/plain": [
       "tokenizer.json:   0%|          | 0.00/466k [00:00<?, ?B/s]"
      ]
     },
     "metadata": {},
     "output_type": "display_data"
    },
    {
     "data": {
      "application/vnd.jupyter.widget-view+json": {
       "model_id": "2021a4f6f5a7481f9349f9dea359596c",
       "version_major": 2,
       "version_minor": 0
      },
      "text/plain": [
       "config.json:   0%|          | 0.00/570 [00:00<?, ?B/s]"
      ]
     },
     "metadata": {},
     "output_type": "display_data"
    }
   ],
   "source": [
    "tokenizer = BertTokenizer.from_pretrained('bert-base-uncased')\n",
    "max_length = 64"
   ]
  },
  {
   "cell_type": "markdown",
   "metadata": {},
   "source": [
    "Tokenize data"
   ]
  },
  {
   "cell_type": "code",
   "execution_count": 9,
   "metadata": {
    "executionInfo": {
     "elapsed": 444636,
     "status": "ok",
     "timestamp": 1732195587135,
     "user": {
      "displayName": "asd asd",
      "userId": "16140418285562335389"
     },
     "user_tz": -420
    },
    "id": "lndYccgJdo8t"
   },
   "outputs": [],
   "source": [
    "train_encodings = tokenizer(list(train_d), padding=True, truncation=True, max_length=max_length, return_tensors=\"tf\")\n",
    "val_encodings = tokenizer(list(val_d), padding=True, truncation=True, max_length=max_length, return_tensors=\"tf\")"
   ]
  },
  {
   "cell_type": "code",
   "execution_count": 10,
   "metadata": {
    "colab": {
     "base_uri": "https://localhost:8080/",
     "height": 138,
     "referenced_widgets": [
      "978edf7e60bb4a86bb6c3fd1d191bc4b",
      "e437aeb1b5314f8ab99bfebb69666c83",
      "1ad7be3601a14b708e750d29b95ef2e5",
      "b0473aa3c61245f99a5ed58a868d4b7f",
      "976a07e6b7b948d1a4404c1df1ba4b75",
      "657ac3a387044eb8947477139101324e",
      "b0d42382392b4b2aa83896a169587f67",
      "a5fe19bc0d8b48a8b20ea2dbc38bfca5",
      "6d40a6e902164398ac271be016e660a2",
      "60bd45132912417ca4a78de347a60214",
      "be8cd4ae9d344ecb9bca0a78d518b498"
     ]
    },
    "executionInfo": {
     "elapsed": 8586,
     "status": "ok",
     "timestamp": 1732195595716,
     "user": {
      "displayName": "asd asd",
      "userId": "16140418285562335389"
     },
     "user_tz": -420
    },
    "id": "DIZY_vhGdo6T",
    "outputId": "716cfc20-1d5c-483b-f9d8-5728c3d9e638"
   },
   "outputs": [
    {
     "data": {
      "application/vnd.jupyter.widget-view+json": {
       "model_id": "978edf7e60bb4a86bb6c3fd1d191bc4b",
       "version_major": 2,
       "version_minor": 0
      },
      "text/plain": [
       "model.safetensors:   0%|          | 0.00/440M [00:00<?, ?B/s]"
      ]
     },
     "metadata": {},
     "output_type": "display_data"
    },
    {
     "name": "stderr",
     "output_type": "stream",
     "text": [
      "All PyTorch model weights were used when initializing TFBertForSequenceClassification.\n",
      "\n",
      "Some weights or buffers of the TF 2.0 model TFBertForSequenceClassification were not initialized from the PyTorch model and are newly initialized: ['classifier.weight', 'classifier.bias']\n",
      "You should probably TRAIN this model on a down-stream task to be able to use it for predictions and inference.\n"
     ]
    }
   ],
   "source": [
    "model = TFBertForSequenceClassification.from_pretrained('bert-base-uncased', num_labels=2)"
   ]
  },
  {
   "cell_type": "code",
   "execution_count": 11,
   "metadata": {
    "executionInfo": {
     "elapsed": 3,
     "status": "ok",
     "timestamp": 1732195595716,
     "user": {
      "displayName": "asd asd",
      "userId": "16140418285562335389"
     },
     "user_tz": -420
    },
    "id": "4OihFenYdo4A"
   },
   "outputs": [],
   "source": [
    "import tensorflow as tf\n",
    "from transformers import TFBertForSequenceClassification, BertTokenizer"
   ]
  },
  {
   "cell_type": "markdown",
   "metadata": {},
   "source": [
    "Xây dựng mô hình"
   ]
  },
  {
   "cell_type": "code",
   "execution_count": 12,
   "metadata": {
    "executionInfo": {
     "elapsed": 3122,
     "status": "ok",
     "timestamp": 1732195598836,
     "user": {
      "displayName": "asd asd",
      "userId": "16140418285562335389"
     },
     "user_tz": -420
    },
    "id": "f8omP2dido1t"
   },
   "outputs": [],
   "source": [
    "from transformers import create_optimizer\n",
    "\n",
    "optimizer, lr_schedule = create_optimizer(\n",
    "    init_lr=5e-6,  \n",
    "    num_warmup_steps=0,  \n",
    "    num_train_steps=1000  \n",
    ")  \n",
    "\n",
    "loss = tf.keras.losses.SparseCategoricalCrossentropy(from_logits=True)\n",
    "metrics = ['accuracy']\n",
    "\n",
    "model.compile(optimizer=optimizer, loss=loss, metrics=metrics)"
   ]
  },
  {
   "cell_type": "code",
   "execution_count": 13,
   "metadata": {
    "colab": {
     "base_uri": "https://localhost:8080/"
    },
    "executionInfo": {
     "elapsed": 12,
     "status": "ok",
     "timestamp": 1732195598837,
     "user": {
      "displayName": "asd asd",
      "userId": "16140418285562335389"
     },
     "user_tz": -420
    },
    "id": "T-4BA4AZdozR",
    "outputId": "ad9db8a5-6f70-4eef-8e44-56a0e1f3fd16"
   },
   "outputs": [
    {
     "name": "stdout",
     "output_type": "stream",
     "text": [
      "Model: \"tf_bert_for_sequence_classification\"\n",
      "_________________________________________________________________\n",
      " Layer (type)                Output Shape              Param #   \n",
      "=================================================================\n",
      " bert (TFBertMainLayer)      multiple                  109482240 \n",
      "                                                                 \n",
      " dropout_37 (Dropout)        multiple                  0 (unused)\n",
      "                                                                 \n",
      " classifier (Dense)          multiple                  1538      \n",
      "                                                                 \n",
      "=================================================================\n",
      "Total params: 109483778 (417.65 MB)\n",
      "Trainable params: 109483778 (417.65 MB)\n",
      "Non-trainable params: 0 (0.00 Byte)\n",
      "_________________________________________________________________\n"
     ]
    }
   ],
   "source": [
    "model.summary()"
   ]
  },
  {
   "cell_type": "markdown",
   "metadata": {},
   "source": [
    "Huấn luyện mô hình "
   ]
  },
  {
   "cell_type": "code",
   "execution_count": 14,
   "metadata": {
    "colab": {
     "base_uri": "https://localhost:8080/"
    },
    "executionInfo": {
     "elapsed": 2937922,
     "status": "ok",
     "timestamp": 1732198536754,
     "user": {
      "displayName": "asd asd",
      "userId": "16140418285562335389"
     },
     "user_tz": -420
    },
    "id": "GNUMQHhddow6",
    "outputId": "6f5bb2ad-9e2d-4c0f-adda-191874faa627"
   },
   "outputs": [
    {
     "name": "stdout",
     "output_type": "stream",
     "text": [
      "Epoch 1/3\n",
      "3577/3577 [==============================] - 999s 265ms/step - loss: 0.2106 - accuracy: 0.9223 - val_loss: 0.1925 - val_accuracy: 0.9324\n",
      "Epoch 2/3\n",
      "3577/3577 [==============================] - 963s 269ms/step - loss: 0.1845 - accuracy: 0.9349 - val_loss: 0.1925 - val_accuracy: 0.9324\n",
      "Epoch 3/3\n",
      "3577/3577 [==============================] - 956s 267ms/step - loss: 0.1849 - accuracy: 0.9355 - val_loss: 0.1925 - val_accuracy: 0.9324\n"
     ]
    }
   ],
   "source": [
    "import tensorflow as tf\n",
    "\n",
    "train_labels = train_labels.astype(int).values \n",
    "val_labels = val_labels.astype(int).values   \n",
    "\n",
    "train_labels = tf.cast(train_labels, dtype=tf.int32) \n",
    "val_labels = tf.cast(val_labels, dtype=tf.int32) \n",
    "\n",
    "history = model.fit(\n",
    "    {'input_ids': train_encodings['input_ids'], 'attention_mask': train_encodings['attention_mask']},\n",
    "    train_labels,\n",
    "    validation_data=(\n",
    "        {'input_ids': val_encodings['input_ids'], 'attention_mask': val_encodings['attention_mask']},\n",
    "        val_labels\n",
    "    ),\n",
    "    batch_size=16,\n",
    "    epochs=3\n",
    ")"
   ]
  },
  {
   "cell_type": "markdown",
   "metadata": {},
   "source": [
    "Vẽ đồ thị học accuracy và loss"
   ]
  },
  {
   "cell_type": "code",
   "execution_count": 15,
   "metadata": {
    "colab": {
     "base_uri": "https://localhost:8080/",
     "height": 542
    },
    "executionInfo": {
     "elapsed": 837,
     "status": "ok",
     "timestamp": 1732198537588,
     "user": {
      "displayName": "asd asd",
      "userId": "16140418285562335389"
     },
     "user_tz": -420
    },
    "id": "4FxNKhN4douW",
    "outputId": "d99117b3-8400-4904-e552-e15bfcad720e"
   },
   "outputs": [
    {
     "data": {
      "image/png": "[encoded data removed]",
      "text/plain": [
       "<Figure size 1600x600 with 2 Axes>"
      ]
     },
     "metadata": {},
     "output_type": "display_data"
    }
   ],
   "source": [
    "import matplotlib.pyplot as plt\n",
    "\n",
    "def plot_graphs(history, metric):\n",
    "\n",
    "    plt.plot(history.history[metric])\n",
    "    plt.plot(history.history['val_'+metric], '')\n",
    "    plt.xlabel(\"Epochs\")\n",
    "    plt.ylabel(metric)\n",
    "    plt.legend([metric, 'val_'+metric])\n",
    "\n",
    "\n",
    "plt.figure(figsize=(16, 6))\n",
    "plt.subplot(1, 2, 1)\n",
    "plot_graphs(history, 'accuracy')\n",
    "plt.subplot(1, 2, 2)\n",
    "plot_graphs(history, 'loss')"
   ]
  },
  {
   "cell_type": "markdown",
   "metadata": {},
   "source": [
    "Đánh giá mô hình"
   ]
  },
  {
   "cell_type": "code",
   "execution_count": 16,
   "metadata": {
    "colab": {
     "base_uri": "https://localhost:8080/"
    },
    "executionInfo": {
     "elapsed": 85584,
     "status": "ok",
     "timestamp": 1732198623163,
     "user": {
      "displayName": "asd asd",
      "userId": "16140418285562335389"
     },
     "user_tz": -420
    },
    "id": "snoJBJeFd25Z",
    "outputId": "64a0c888-e355-444e-9f82-f09ba383a09d"
   },
   "outputs": [
    {
     "name": "stdout",
     "output_type": "stream",
     "text": [
      "448/448 [==============================] - 72s 153ms/step\n",
      "              precision    recall  f1-score   support\n",
      "\n",
      "           0       0.94      0.92      0.93      7081\n",
      "           1       0.92      0.95      0.93      7227\n",
      "\n",
      "    accuracy                           0.93     14308\n",
      "   macro avg       0.93      0.93      0.93     14308\n",
      "weighted avg       0.93      0.93      0.93     14308\n",
      "\n"
     ]
    }
   ],
   "source": [
    "from sklearn.metrics import confusion_matrix, classification_report, f1_score\n",
    "import numpy as np\n",
    "import tensorflow as tf\n",
    "\n",
    "y_pred_probs = model.predict({'input_ids': val_encodings['input_ids'], 'attention_mask': val_encodings['attention_mask']})\n",
    "y_pred = np.argmax(y_pred_probs.logits, axis=1)\n",
    "\n",
    "\n",
    "y_test = val_labels.numpy()  \n",
    "\n",
    "print(classification_report(y_test, y_pred))\n",
    "\n"
   ]
  },
  {
   "cell_type": "markdown",
   "metadata": {},
   "source": [
    "Vẽ ma trận nhầm lẫn "
   ]
  },
  {
   "cell_type": "code",
   "execution_count": 17,
   "metadata": {
    "colab": {
     "base_uri": "https://localhost:8080/",
     "height": 559
    },
    "executionInfo": {
     "elapsed": 6,
     "status": "ok",
     "timestamp": 1732198623163,
     "user": {
      "displayName": "asd asd",
      "userId": "16140418285562335389"
     },
     "user_tz": -420
    },
    "id": "6R1bNqEbd22E",
    "outputId": "89e0d08c-9fbe-4385-82be-2842b58840b0"
   },
   "outputs": [
    {
     "data": {
      "text/plain": [
       "Text(70.72222222222221, 0.5, 'Real Labels')"
      ]
     },
     "execution_count": 17,
     "metadata": {},
     "output_type": "execute_result"
    },
    {
     "data": {
      "image/png": "[encoded data removed]",
      "text/plain": [
       "<Figure size 800x600 with 2 Axes>"
      ]
     },
     "metadata": {},
     "output_type": "display_data"
    }
   ],
   "source": [
    "import seaborn as sns\n",
    "\n",
    "plt.figure(figsize = (8,6))\n",
    "sns.heatmap(confusion_matrix(y_test,y_pred), annot=True,\n",
    "            fmt='', cmap='Blues')\n",
    "\n",
    "plt.xlabel('Predicted Labels')\n",
    "plt.ylabel('Real Labels')"
   ]
  },
  {
   "cell_type": "code",
   "execution_count": 18,
   "metadata": {
    "colab": {
     "base_uri": "https://localhost:8080/"
    },
    "executionInfo": {
     "elapsed": 4,
     "status": "ok",
     "timestamp": 1732198623163,
     "user": {
      "displayName": "asd asd",
      "userId": "16140418285562335389"
     },
     "user_tz": -420
    },
    "id": "mAFn1iDxd2zS",
    "outputId": "fe5f7b43-dff9-4c1e-c886-064fc32191bc"
   },
   "outputs": [
    {
     "name": "stdout",
     "output_type": "stream",
     "text": [
      "Precision: 0.9225\n",
      "Recall: 0.9456\n",
      "F1-score: 0.9339\n",
      "Accuracy: 0.9324\n"
     ]
    }
   ],
   "source": [
    "from sklearn.metrics import precision_score, recall_score, f1_score, accuracy_score\n",
    "\n",
    "conf_matrix = confusion_matrix(y_test,y_pred)\n",
    "\n",
    "true_negatives = conf_matrix[0][0]\n",
    "false_positives = conf_matrix[0][1]\n",
    "false_negatives = conf_matrix[1][0]\n",
    "true_positives = conf_matrix[1][1]\n",
    "\n",
    "precision = true_positives / (true_positives + false_positives)\n",
    "recall = true_positives / (true_positives + false_negatives)\n",
    "f1 = 2 * (precision * recall) / (precision + recall)\n",
    "accuracy = (true_positives + true_negatives) / (true_positives + true_negatives + false_positives + false_negatives)\n",
    "\n",
    "print(f'Precision: {precision:.4f}')\n",
    "print(f'Recall: {recall:.4f}')\n",
    "print(f'F1-score: {f1:.4f}')\n",
    "print(f'Accuracy: {accuracy:.4f}')"
   ]
  }
 ],
 "metadata": {
  "accelerator": "GPU",
  "colab": {
   "authorship_tag": "ABX9TyOeZxidmcxYRUPfXS9O9PeE",
   "gpuType": "T4",
   "provenance": []
  },
  "kernelspec": {
   "display_name": "Python 3",
   "name": "python3"
  },
  "language_info": {
   "name": "python"
  },
  "widgets": {
   "application/vnd.jupyter.widget-state+json": {
    "001fd09c0e0d476a9d0abbd4ec52a0bc": {
     "model_module": "@jupyter-widgets/controls",
     "model_module_version": "1.5.0",
     "model_name": "DescriptionStyleModel",
     "state": {
      "_model_module": "@jupyter-widgets/controls",
      "_model_module_version": "1.5.0",
      "_model_name": "DescriptionStyleModel",
      "_view_count": null,
      "_view_module": "@jupyter-widgets/base",
      "_view_module_version": "1.2.0",
      "_view_name": "StyleView",
      "description_width": ""
     }
    },
    "0188fecda56240a2bb2758ef2e045bdf": {
     "model_module": "@jupyter-widgets/controls",
     "model_module_version": "1.5.0",
     "model_name": "DescriptionStyleModel",
     "state": {
      "_model_module": "@jupyter-widgets/controls",
      "_model_module_version": "1.5.0",
      "_model_name": "DescriptionStyleModel",
      "_view_count": null,
      "_view_module": "@jupyter-widgets/base",
      "_view_module_version": "1.2.0",
      "_view_name": "StyleView",
      "description_width": ""
     }
    },
    "035d180203db43ff8874dd675967165d": {
     "model_module": "@jupyter-widgets/base",
     "model_module_version": "1.2.0",
     "model_name": "LayoutModel",
     "state": {
      "_model_module": "@jupyter-widgets/base",
      "_model_module_version": "1.2.0",
      "_model_name": "LayoutModel",
      "_view_count": null,
      "_view_module": "@jupyter-widgets/base",
      "_view_module_version": "1.2.0",
      "_view_name": "LayoutView",
      "align_content": null,
      "align_items": null,
      "align_self": null,
      "border": null,
      "bottom": null,
      "display": null,
      "flex": null,
      "flex_flow": null,
      "grid_area": null,
      "grid_auto_columns": null,
      "grid_auto_flow": null,
      "grid_auto_rows": null,
      "grid_column": null,
      "grid_gap": null,
      "grid_row": null,
      "grid_template_areas": null,
      "grid_template_columns": null,
      "grid_template_rows": null,
      "height": null,
      "justify_content": null,
      "justify_items": null,
      "left": null,
      "margin": null,
      "max_height": null,
      "max_width": null,
      "min_height": null,
      "min_width": null,
      "object_fit": null,
      "object_position": null,
      "order": null,
      "overflow": null,
      "overflow_x": null,
      "overflow_y": null,
      "padding": null,
      "right": null,
      "top": null,
      "visibility": null,
      "width": null
     }
    },
    "051b89ab58de4d2c801c689a540f6d14": {
     "model_module": "@jupyter-widgets/controls",
     "model_module_version": "1.5.0",
     "model_name": "HTMLModel",
     "state": {
      "_dom_classes": [],
      "_model_module": "@jupyter-widgets/controls",
      "_model_module_version": "1.5.0",
      "_model_name": "HTMLModel",
      "_view_count": null,
      "_view_module": "@jupyter-widgets/controls",
      "_view_module_version": "1.5.0",
      "_view_name": "HTMLView",
      "description": "",
      "description_tooltip": null,
      "layout": "IPY_MODEL_9454c33e32ee4ecdb3fc808aeed00f4d",
      "placeholder": "​",
      "style": "IPY_MODEL_93844d697a3d4073ac22ee2a5f0dc80b",
      "value": " 466k/466k [00:01&lt;00:00, 375kB/s]"
     }
    },
    "05876f31296c48e88b6cd0783346489b": {
     "model_module": "@jupyter-widgets/controls",
     "model_module_version": "1.5.0",
     "model_name": "FloatProgressModel",
     "state": {
      "_dom_classes": [],
      "_model_module": "@jupyter-widgets/controls",
      "_model_module_version": "1.5.0",
      "_model_name": "FloatProgressModel",
      "_view_count": null,
      "_view_module": "@jupyter-widgets/controls",
      "_view_module_version": "1.5.0",
      "_view_name": "ProgressView",
      "bar_style": "success",
      "description": "",
      "description_tooltip": null,
      "layout": "IPY_MODEL_5d04f566590c4e039f1144a6be3c591c",
      "max": 48,
      "min": 0,
      "orientation": "horizontal",
      "style": "IPY_MODEL_24977d014b4a4a679ffa0aa508595feb",
      "value": 48
     }
    },
    "0599675fe0b84f6ea678ad67a6f571e4": {
     "model_module": "@jupyter-widgets/base",
     "model_module_version": "1.2.0",
     "model_name": "LayoutModel",
     "state": {
      "_model_module": "@jupyter-widgets/base",
      "_model_module_version": "1.2.0",
      "_model_name": "LayoutModel",
      "_view_count": null,
      "_view_module": "@jupyter-widgets/base",
      "_view_module_version": "1.2.0",
      "_view_name": "LayoutView",
      "align_content": null,
      "align_items": null,
      "align_self": null,
      "border": null,
      "bottom": null,
      "display": null,
      "flex": null,
      "flex_flow": null,
      "grid_area": null,
      "grid_auto_columns": null,
      "grid_auto_flow": null,
      "grid_auto_rows": null,
      "grid_column": null,
      "grid_gap": null,
      "grid_row": null,
      "grid_template_areas": null,
      "grid_template_columns": null,
      "grid_template_rows": null,
      "height": null,
      "justify_content": null,
      "justify_items": null,
      "left": null,
      "margin": null,
      "max_height": null,
      "max_width": null,
      "min_height": null,
      "min_width": null,
      "object_fit": null,
      "object_position": null,
      "order": null,
      "overflow": null,
      "overflow_x": null,
      "overflow_y": null,
      "padding": null,
      "right": null,
      "top": null,
      "visibility": null,
      "width": null
     }
    },
    "06cceda8624148d7a48836863e910845": {
     "model_module": "@jupyter-widgets/controls",
     "model_module_version": "1.5.0",
     "model_name": "HBoxModel",
     "state": {
      "_dom_classes": [],
      "_model_module": "@jupyter-widgets/controls",
      "_model_module_version": "1.5.0",
      "_model_name": "HBoxModel",
      "_view_count": null,
      "_view_module": "@jupyter-widgets/controls",
      "_view_module_version": "1.5.0",
      "_view_name": "HBoxView",
      "box_style": "",
      "children": [
       "IPY_MODEL_6531120500ab4ec58ca0bc48e47665a1",
       "IPY_MODEL_05876f31296c48e88b6cd0783346489b",
       "IPY_MODEL_734843de0fd3402aa09f778e0df62a81"
      ],
      "layout": "IPY_MODEL_78594b96b0be45f1b83423b1bc1f4a79"
     }
    },
    "1ad7be3601a14b708e750d29b95ef2e5": {
     "model_module": "@jupyter-widgets/controls",
     "model_module_version": "1.5.0",
     "model_name": "FloatProgressModel",
     "state": {
      "_dom_classes": [],
      "_model_module": "@jupyter-widgets/controls",
      "_model_module_version": "1.5.0",
      "_model_name": "FloatProgressModel",
      "_view_count": null,
      "_view_module": "@jupyter-widgets/controls",
      "_view_module_version": "1.5.0",
      "_view_name": "ProgressView",
      "bar_style": "success",
      "description": "",
      "description_tooltip": null,
      "layout": "IPY_MODEL_a5fe19bc0d8b48a8b20ea2dbc38bfca5",
      "max": 440449768,
      "min": 0,
      "orientation": "horizontal",
      "style": "IPY_MODEL_6d40a6e902164398ac271be016e660a2",
      "value": 440449768
     }
    },
    "1ae9402d769e4755a2f2b5e4db4a309f": {
     "model_module": "@jupyter-widgets/base",
     "model_module_version": "1.2.0",
     "model_name": "LayoutModel",
     "state": {
      "_model_module": "@jupyter-widgets/base",
      "_model_module_version": "1.2.0",
      "_model_name": "LayoutModel",
      "_view_count": null,
      "_view_module": "@jupyter-widgets/base",
      "_view_module_version": "1.2.0",
      "_view_name": "LayoutView",
      "align_content": null,
      "align_items": null,
      "align_self": null,
      "border": null,
      "bottom": null,
      "display": null,
      "flex": null,
      "flex_flow": null,
      "grid_area": null,
      "grid_auto_columns": null,
      "grid_auto_flow": null,
      "grid_auto_rows": null,
      "grid_column": null,
      "grid_gap": null,
      "grid_row": null,
      "grid_template_areas": null,
      "grid_template_columns": null,
      "grid_template_rows": null,
      "height": null,
      "justify_content": null,
      "justify_items": null,
      "left": null,
      "margin": null,
      "max_height": null,
      "max_width": null,
      "min_height": null,
      "min_width": null,
      "object_fit": null,
      "object_position": null,
      "order": null,
      "overflow": null,
      "overflow_x": null,
      "overflow_y": null,
      "padding": null,
      "right": null,
      "top": null,
      "visibility": null,
      "width": null
     }
    },
    "2021a4f6f5a7481f9349f9dea359596c": {
     "model_module": "@jupyter-widgets/controls",
     "model_module_version": "1.5.0",
     "model_name": "HBoxModel",
     "state": {
      "_dom_classes": [],
      "_model_module": "@jupyter-widgets/controls",
      "_model_module_version": "1.5.0",
      "_model_name": "HBoxModel",
      "_view_count": null,
      "_view_module": "@jupyter-widgets/controls",
      "_view_module_version": "1.5.0",
      "_view_name": "HBoxView",
      "box_style": "",
      "children": [
       "IPY_MODEL_99660c9a129a46cfb94ce814751af5e4",
       "IPY_MODEL_43ad597e78f24572a2b8509a2430619f",
       "IPY_MODEL_95946d49a713462a8eac24aeaeefef3d"
      ],
      "layout": "IPY_MODEL_55eca341c07241538b4f95fae2c0de50"
     }
    },
    "24977d014b4a4a679ffa0aa508595feb": {
     "model_module": "@jupyter-widgets/controls",
     "model_module_version": "1.5.0",
     "model_name": "ProgressStyleModel",
     "state": {
      "_model_module": "@jupyter-widgets/controls",
      "_model_module_version": "1.5.0",
      "_model_name": "ProgressStyleModel",
      "_view_count": null,
      "_view_module": "@jupyter-widgets/base",
      "_view_module_version": "1.2.0",
      "_view_name": "StyleView",
      "bar_color": null,
      "description_width": ""
     }
    },
    "37723a9023244d1c985e269b92574dc1": {
     "model_module": "@jupyter-widgets/base",
     "model_module_version": "1.2.0",
     "model_name": "LayoutModel",
     "state": {
      "_model_module": "@jupyter-widgets/base",
      "_model_module_version": "1.2.0",
      "_model_name": "LayoutModel",
      "_view_count": null,
      "_view_module": "@jupyter-widgets/base",
      "_view_module_version": "1.2.0",
      "_view_name": "LayoutView",
      "align_content": null,
      "align_items": null,
      "align_self": null,
      "border": null,
      "bottom": null,
      "display": null,
      "flex": null,
      "flex_flow": null,
      "grid_area": null,
      "grid_auto_columns": null,
      "grid_auto_flow": null,
      "grid_auto_rows": null,
      "grid_column": null,
      "grid_gap": null,
      "grid_row": null,
      "grid_template_areas": null,
      "grid_template_columns": null,
      "grid_template_rows": null,
      "height": null,
      "justify_content": null,
      "justify_items": null,
      "left": null,
      "margin": null,
      "max_height": null,
      "max_width": null,
      "min_height": null,
      "min_width": null,
      "object_fit": null,
      "object_position": null,
      "order": null,
      "overflow": null,
      "overflow_x": null,
      "overflow_y": null,
      "padding": null,
      "right": null,
      "top": null,
      "visibility": null,
      "width": null
     }
    },
    "41a78ff5e6714f428ec31d3d9a55b0aa": {
     "model_module": "@jupyter-widgets/base",
     "model_module_version": "1.2.0",
     "model_name": "LayoutModel",
     "state": {
      "_model_module": "@jupyter-widgets/base",
      "_model_module_version": "1.2.0",
      "_model_name": "LayoutModel",
      "_view_count": null,
      "_view_module": "@jupyter-widgets/base",
      "_view_module_version": "1.2.0",
      "_view_name": "LayoutView",
      "align_content": null,
      "align_items": null,
      "align_self": null,
      "border": null,
      "bottom": null,
      "display": null,
      "flex": null,
      "flex_flow": null,
      "grid_area": null,
      "grid_auto_columns": null,
      "grid_auto_flow": null,
      "grid_auto_rows": null,
      "grid_column": null,
      "grid_gap": null,
      "grid_row": null,
      "grid_template_areas": null,
      "grid_template_columns": null,
      "grid_template_rows": null,
      "height": null,
      "justify_content": null,
      "justify_items": null,
      "left": null,
      "margin": null,
      "max_height": null,
      "max_width": null,
      "min_height": null,
      "min_width": null,
      "object_fit": null,
      "object_position": null,
      "order": null,
      "overflow": null,
      "overflow_x": null,
      "overflow_y": null,
      "padding": null,
      "right": null,
      "top": null,
      "visibility": null,
      "width": null
     }
    },
    "41bc51934c574209ac6b75ffea0e7388": {
     "model_module": "@jupyter-widgets/base",
     "model_module_version": "1.2.0",
     "model_name": "LayoutModel",
     "state": {
      "_model_module": "@jupyter-widgets/base",
      "_model_module_version": "1.2.0",
      "_model_name": "LayoutModel",
      "_view_count": null,
      "_view_module": "@jupyter-widgets/base",
      "_view_module_version": "1.2.0",
      "_view_name": "LayoutView",
      "align_content": null,
      "align_items": null,
      "align_self": null,
      "border": null,
      "bottom": null,
      "display": null,
      "flex": null,
      "flex_flow": null,
      "grid_area": null,
      "grid_auto_columns": null,
      "grid_auto_flow": null,
      "grid_auto_rows": null,
      "grid_column": null,
      "grid_gap": null,
      "grid_row": null,
      "grid_template_areas": null,
      "grid_template_columns": null,
      "grid_template_rows": null,
      "height": null,
      "justify_content": null,
      "justify_items": null,
      "left": null,
      "margin": null,
      "max_height": null,
      "max_width": null,
      "min_height": null,
      "min_width": null,
      "object_fit": null,
      "object_position": null,
      "order": null,
      "overflow": null,
      "overflow_x": null,
      "overflow_y": null,
      "padding": null,
      "right": null,
      "top": null,
      "visibility": null,
      "width": null
     }
    },
    "43ad597e78f24572a2b8509a2430619f": {
     "model_module": "@jupyter-widgets/controls",
     "model_module_version": "1.5.0",
     "model_name": "FloatProgressModel",
     "state": {
      "_dom_classes": [],
      "_model_module": "@jupyter-widgets/controls",
      "_model_module_version": "1.5.0",
      "_model_name": "FloatProgressModel",
      "_view_count": null,
      "_view_module": "@jupyter-widgets/controls",
      "_view_module_version": "1.5.0",
      "_view_name": "ProgressView",
      "bar_style": "success",
      "description": "",
      "description_tooltip": null,
      "layout": "IPY_MODEL_d59a1c4afa4d4d63bded75923073d3d2",
      "max": 570,
      "min": 0,
      "orientation": "horizontal",
      "style": "IPY_MODEL_6bff0f3b1a8f40c4be436018d38f8c7a",
      "value": 570
     }
    },
    "4e51fe48654942c3848432f8ab09a9ed": {
     "model_module": "@jupyter-widgets/controls",
     "model_module_version": "1.5.0",
     "model_name": "FloatProgressModel",
     "state": {
      "_dom_classes": [],
      "_model_module": "@jupyter-widgets/controls",
      "_model_module_version": "1.5.0",
      "_model_name": "FloatProgressModel",
      "_view_count": null,
      "_view_module": "@jupyter-widgets/controls",
      "_view_module_version": "1.5.0",
      "_view_name": "ProgressView",
      "bar_style": "success",
      "description": "",
      "description_tooltip": null,
      "layout": "IPY_MODEL_1ae9402d769e4755a2f2b5e4db4a309f",
      "max": 231508,
      "min": 0,
      "orientation": "horizontal",
      "style": "IPY_MODEL_5083c642d3ea422297b29851cfbc9063",
      "value": 231508
     }
    },
    "5083c642d3ea422297b29851cfbc9063": {
     "model_module": "@jupyter-widgets/controls",
     "model_module_version": "1.5.0",
     "model_name": "ProgressStyleModel",
     "state": {
      "_model_module": "@jupyter-widgets/controls",
      "_model_module_version": "1.5.0",
      "_model_name": "ProgressStyleModel",
      "_view_count": null,
      "_view_module": "@jupyter-widgets/base",
      "_view_module_version": "1.2.0",
      "_view_name": "StyleView",
      "bar_color": null,
      "description_width": ""
     }
    },
    "55de17f7a00a45cea9e8454b8db18d46": {
     "model_module": "@jupyter-widgets/base",
     "model_module_version": "1.2.0",
     "model_name": "LayoutModel",
     "state": {
      "_model_module": "@jupyter-widgets/base",
      "_model_module_version": "1.2.0",
      "_model_name": "LayoutModel",
      "_view_count": null,
      "_view_module": "@jupyter-widgets/base",
      "_view_module_version": "1.2.0",
      "_view_name": "LayoutView",
      "align_content": null,
      "align_items": null,
      "align_self": null,
      "border": null,
      "bottom": null,
      "display": null,
      "flex": null,
      "flex_flow": null,
      "grid_area": null,
      "grid_auto_columns": null,
      "grid_auto_flow": null,
      "grid_auto_rows": null,
      "grid_column": null,
      "grid_gap": null,
      "grid_row": null,
      "grid_template_areas": null,
      "grid_template_columns": null,
      "grid_template_rows": null,
      "height": null,
      "justify_content": null,
      "justify_items": null,
      "left": null,
      "margin": null,
      "max_height": null,
      "max_width": null,
      "min_height": null,
      "min_width": null,
      "object_fit": null,
      "object_position": null,
      "order": null,
      "overflow": null,
      "overflow_x": null,
      "overflow_y": null,
      "padding": null,
      "right": null,
      "top": null,
      "visibility": null,
      "width": null
     }
    },
    "55eca341c07241538b4f95fae2c0de50": {
     "model_module": "@jupyter-widgets/base",
     "model_module_version": "1.2.0",
     "model_name": "LayoutModel",
     "state": {
      "_model_module": "@jupyter-widgets/base",
      "_model_module_version": "1.2.0",
      "_model_name": "LayoutModel",
      "_view_count": null,
      "_view_module": "@jupyter-widgets/base",
      "_view_module_version": "1.2.0",
      "_view_name": "LayoutView",
      "align_content": null,
      "align_items": null,
      "align_self": null,
      "border": null,
      "bottom": null,
      "display": null,
      "flex": null,
      "flex_flow": null,
      "grid_area": null,
      "grid_auto_columns": null,
      "grid_auto_flow": null,
      "grid_auto_rows": null,
      "grid_column": null,
      "grid_gap": null,
      "grid_row": null,
      "grid_template_areas": null,
      "grid_template_columns": null,
      "grid_template_rows": null,
      "height": null,
      "justify_content": null,
      "justify_items": null,
      "left": null,
      "margin": null,
      "max_height": null,
      "max_width": null,
      "min_height": null,
      "min_width": null,
      "object_fit": null,
      "object_position": null,
      "order": null,
      "overflow": null,
      "overflow_x": null,
      "overflow_y": null,
      "padding": null,
      "right": null,
      "top": null,
      "visibility": null,
      "width": null
     }
    },
    "5d04f566590c4e039f1144a6be3c591c": {
     "model_module": "@jupyter-widgets/base",
     "model_module_version": "1.2.0",
     "model_name": "LayoutModel",
     "state": {
      "_model_module": "@jupyter-widgets/base",
      "_model_module_version": "1.2.0",
      "_model_name": "LayoutModel",
      "_view_count": null,
      "_view_module": "@jupyter-widgets/base",
      "_view_module_version": "1.2.0",
      "_view_name": "LayoutView",
      "align_content": null,
      "align_items": null,
      "align_self": null,
      "border": null,
      "bottom": null,
      "display": null,
      "flex": null,
      "flex_flow": null,
      "grid_area": null,
      "grid_auto_columns": null,
      "grid_auto_flow": null,
      "grid_auto_rows": null,
      "grid_column": null,
      "grid_gap": null,
      "grid_row": null,
      "grid_template_areas": null,
      "grid_template_columns": null,
      "grid_template_rows": null,
      "height": null,
      "justify_content": null,
      "justify_items": null,
      "left": null,
      "margin": null,
      "max_height": null,
      "max_width": null,
      "min_height": null,
      "min_width": null,
      "object_fit": null,
      "object_position": null,
      "order": null,
      "overflow": null,
      "overflow_x": null,
      "overflow_y": null,
      "padding": null,
      "right": null,
      "top": null,
      "visibility": null,
      "width": null
     }
    },
    "60bd45132912417ca4a78de347a60214": {
     "model_module": "@jupyter-widgets/base",
     "model_module_version": "1.2.0",
     "model_name": "LayoutModel",
     "state": {
      "_model_module": "@jupyter-widgets/base",
      "_model_module_version": "1.2.0",
      "_model_name": "LayoutModel",
      "_view_count": null,
      "_view_module": "@jupyter-widgets/base",
      "_view_module_version": "1.2.0",
      "_view_name": "LayoutView",
      "align_content": null,
      "align_items": null,
      "align_self": null,
      "border": null,
      "bottom": null,
      "display": null,
      "flex": null,
      "flex_flow": null,
      "grid_area": null,
      "grid_auto_columns": null,
      "grid_auto_flow": null,
      "grid_auto_rows": null,
      "grid_column": null,
      "grid_gap": null,
      "grid_row": null,
      "grid_template_areas": null,
      "grid_template_columns": null,
      "grid_template_rows": null,
      "height": null,
      "justify_content": null,
      "justify_items": null,
      "left": null,
      "margin": null,
      "max_height": null,
      "max_width": null,
      "min_height": null,
      "min_width": null,
      "object_fit": null,
      "object_position": null,
      "order": null,
      "overflow": null,
      "overflow_x": null,
      "overflow_y": null,
      "padding": null,
      "right": null,
      "top": null,
      "visibility": null,
      "width": null
     }
    },
    "61026d50045b4b249ed14fbaa5a64c9f": {
     "model_module": "@jupyter-widgets/controls",
     "model_module_version": "1.5.0",
     "model_name": "HTMLModel",
     "state": {
      "_dom_classes": [],
      "_model_module": "@jupyter-widgets/controls",
      "_model_module_version": "1.5.0",
      "_model_name": "HTMLModel",
      "_view_count": null,
      "_view_module": "@jupyter-widgets/controls",
      "_view_module_version": "1.5.0",
      "_view_name": "HTMLView",
      "description": "",
      "description_tooltip": null,
      "layout": "IPY_MODEL_035d180203db43ff8874dd675967165d",
      "placeholder": "​",
      "style": "IPY_MODEL_90991aacd571462e8213f3880b4b53b3",
      "value": "vocab.txt: 100%"
     }
    },
    "63901cc71af64a438be8d733667f3138": {
     "model_module": "@jupyter-widgets/controls",
     "model_module_version": "1.5.0",
     "model_name": "HTMLModel",
     "state": {
      "_dom_classes": [],
      "_model_module": "@jupyter-widgets/controls",
      "_model_module_version": "1.5.0",
      "_model_name": "HTMLModel",
      "_view_count": null,
      "_view_module": "@jupyter-widgets/controls",
      "_view_module_version": "1.5.0",
      "_view_name": "HTMLView",
      "description": "",
      "description_tooltip": null,
      "layout": "IPY_MODEL_41a78ff5e6714f428ec31d3d9a55b0aa",
      "placeholder": "​",
      "style": "IPY_MODEL_0188fecda56240a2bb2758ef2e045bdf",
      "value": "tokenizer.json: 100%"
     }
    },
    "6531120500ab4ec58ca0bc48e47665a1": {
     "model_module": "@jupyter-widgets/controls",
     "model_module_version": "1.5.0",
     "model_name": "HTMLModel",
     "state": {
      "_dom_classes": [],
      "_model_module": "@jupyter-widgets/controls",
      "_model_module_version": "1.5.0",
      "_model_name": "HTMLModel",
      "_view_count": null,
      "_view_module": "@jupyter-widgets/controls",
      "_view_module_version": "1.5.0",
      "_view_name": "HTMLView",
      "description": "",
      "description_tooltip": null,
      "layout": "IPY_MODEL_55de17f7a00a45cea9e8454b8db18d46",
      "placeholder": "​",
      "style": "IPY_MODEL_c54abcd00b8d412cb380530a3dc51176",
      "value": "tokenizer_config.json: 100%"
     }
    },
    "657ac3a387044eb8947477139101324e": {
     "model_module": "@jupyter-widgets/base",
     "model_module_version": "1.2.0",
     "model_name": "LayoutModel",
     "state": {
      "_model_module": "@jupyter-widgets/base",
      "_model_module_version": "1.2.0",
      "_model_name": "LayoutModel",
      "_view_count": null,
      "_view_module": "@jupyter-widgets/base",
      "_view_module_version": "1.2.0",
      "_view_name": "LayoutView",
      "align_content": null,
      "align_items": null,
      "align_self": null,
      "border": null,
      "bottom": null,
      "display": null,
      "flex": null,
      "flex_flow": null,
      "grid_area": null,
      "grid_auto_columns": null,
      "grid_auto_flow": null,
      "grid_auto_rows": null,
      "grid_column": null,
      "grid_gap": null,
      "grid_row": null,
      "grid_template_areas": null,
      "grid_template_columns": null,
      "grid_template_rows": null,
      "height": null,
      "justify_content": null,
      "justify_items": null,
      "left": null,
      "margin": null,
      "max_height": null,
      "max_width": null,
      "min_height": null,
      "min_width": null,
      "object_fit": null,
      "object_position": null,
      "order": null,
      "overflow": null,
      "overflow_x": null,
      "overflow_y": null,
      "padding": null,
      "right": null,
      "top": null,
      "visibility": null,
      "width": null
     }
    },
    "6ace846032b544f3aed97d885ac21416": {
     "model_module": "@jupyter-widgets/base",
     "model_module_version": "1.2.0",
     "model_name": "LayoutModel",
     "state": {
      "_model_module": "@jupyter-widgets/base",
      "_model_module_version": "1.2.0",
      "_model_name": "LayoutModel",
      "_view_count": null,
      "_view_module": "@jupyter-widgets/base",
      "_view_module_version": "1.2.0",
      "_view_name": "LayoutView",
      "align_content": null,
      "align_items": null,
      "align_self": null,
      "border": null,
      "bottom": null,
      "display": null,
      "flex": null,
      "flex_flow": null,
      "grid_area": null,
      "grid_auto_columns": null,
      "grid_auto_flow": null,
      "grid_auto_rows": null,
      "grid_column": null,
      "grid_gap": null,
      "grid_row": null,
      "grid_template_areas": null,
      "grid_template_columns": null,
      "grid_template_rows": null,
      "height": null,
      "justify_content": null,
      "justify_items": null,
      "left": null,
      "margin": null,
      "max_height": null,
      "max_width": null,
      "min_height": null,
      "min_width": null,
      "object_fit": null,
      "object_position": null,
      "order": null,
      "overflow": null,
      "overflow_x": null,
      "overflow_y": null,
      "padding": null,
      "right": null,
      "top": null,
      "visibility": null,
      "width": null
     }
    },
    "6bff0f3b1a8f40c4be436018d38f8c7a": {
     "model_module": "@jupyter-widgets/controls",
     "model_module_version": "1.5.0",
     "model_name": "ProgressStyleModel",
     "state": {
      "_model_module": "@jupyter-widgets/controls",
      "_model_module_version": "1.5.0",
      "_model_name": "ProgressStyleModel",
      "_view_count": null,
      "_view_module": "@jupyter-widgets/base",
      "_view_module_version": "1.2.0",
      "_view_name": "StyleView",
      "bar_color": null,
      "description_width": ""
     }
    },
    "6d40a6e902164398ac271be016e660a2": {
     "model_module": "@jupyter-widgets/controls",
     "model_module_version": "1.5.0",
     "model_name": "ProgressStyleModel",
     "state": {
      "_model_module": "@jupyter-widgets/controls",
      "_model_module_version": "1.5.0",
      "_model_name": "ProgressStyleModel",
      "_view_count": null,
      "_view_module": "@jupyter-widgets/base",
      "_view_module_version": "1.2.0",
      "_view_name": "StyleView",
      "bar_color": null,
      "description_width": ""
     }
    },
    "734843de0fd3402aa09f778e0df62a81": {
     "model_module": "@jupyter-widgets/controls",
     "model_module_version": "1.5.0",
     "model_name": "HTMLModel",
     "state": {
      "_dom_classes": [],
      "_model_module": "@jupyter-widgets/controls",
      "_model_module_version": "1.5.0",
      "_model_name": "HTMLModel",
      "_view_count": null,
      "_view_module": "@jupyter-widgets/controls",
      "_view_module_version": "1.5.0",
      "_view_name": "HTMLView",
      "description": "",
      "description_tooltip": null,
      "layout": "IPY_MODEL_7c9101ba7f33499794a7508266d6982e",
      "placeholder": "​",
      "style": "IPY_MODEL_001fd09c0e0d476a9d0abbd4ec52a0bc",
      "value": " 48.0/48.0 [00:00&lt;00:00, 3.08kB/s]"
     }
    },
    "78594b96b0be45f1b83423b1bc1f4a79": {
     "model_module": "@jupyter-widgets/base",
     "model_module_version": "1.2.0",
     "model_name": "LayoutModel",
     "state": {
      "_model_module": "@jupyter-widgets/base",
      "_model_module_version": "1.2.0",
      "_model_name": "LayoutModel",
      "_view_count": null,
      "_view_module": "@jupyter-widgets/base",
      "_view_module_version": "1.2.0",
      "_view_name": "LayoutView",
      "align_content": null,
      "align_items": null,
      "align_self": null,
      "border": null,
      "bottom": null,
      "display": null,
      "flex": null,
      "flex_flow": null,
      "grid_area": null,
      "grid_auto_columns": null,
      "grid_auto_flow": null,
      "grid_auto_rows": null,
      "grid_column": null,
      "grid_gap": null,
      "grid_row": null,
      "grid_template_areas": null,
      "grid_template_columns": null,
      "grid_template_rows": null,
      "height": null,
      "justify_content": null,
      "justify_items": null,
      "left": null,
      "margin": null,
      "max_height": null,
      "max_width": null,
      "min_height": null,
      "min_width": null,
      "object_fit": null,
      "object_position": null,
      "order": null,
      "overflow": null,
      "overflow_x": null,
      "overflow_y": null,
      "padding": null,
      "right": null,
      "top": null,
      "visibility": null,
      "width": null
     }
    },
    "7c9101ba7f33499794a7508266d6982e": {
     "model_module": "@jupyter-widgets/base",
     "model_module_version": "1.2.0",
     "model_name": "LayoutModel",
     "state": {
      "_model_module": "@jupyter-widgets/base",
      "_model_module_version": "1.2.0",
      "_model_name": "LayoutModel",
      "_view_count": null,
      "_view_module": "@jupyter-widgets/base",
      "_view_module_version": "1.2.0",
      "_view_name": "LayoutView",
      "align_content": null,
      "align_items": null,
      "align_self": null,
      "border": null,
      "bottom": null,
      "display": null,
      "flex": null,
      "flex_flow": null,
      "grid_area": null,
      "grid_auto_columns": null,
      "grid_auto_flow": null,
      "grid_auto_rows": null,
      "grid_column": null,
      "grid_gap": null,
      "grid_row": null,
      "grid_template_areas": null,
      "grid_template_columns": null,
      "grid_template_rows": null,
      "height": null,
      "justify_content": null,
      "justify_items": null,
      "left": null,
      "margin": null,
      "max_height": null,
      "max_width": null,
      "min_height": null,
      "min_width": null,
      "object_fit": null,
      "object_position": null,
      "order": null,
      "overflow": null,
      "overflow_x": null,
      "overflow_y": null,
      "padding": null,
      "right": null,
      "top": null,
      "visibility": null,
      "width": null
     }
    },
    "90991aacd571462e8213f3880b4b53b3": {
     "model_module": "@jupyter-widgets/controls",
     "model_module_version": "1.5.0",
     "model_name": "DescriptionStyleModel",
     "state": {
      "_model_module": "@jupyter-widgets/controls",
      "_model_module_version": "1.5.0",
      "_model_name": "DescriptionStyleModel",
      "_view_count": null,
      "_view_module": "@jupyter-widgets/base",
      "_view_module_version": "1.2.0",
      "_view_name": "StyleView",
      "description_width": ""
     }
    },
    "93844d697a3d4073ac22ee2a5f0dc80b": {
     "model_module": "@jupyter-widgets/controls",
     "model_module_version": "1.5.0",
     "model_name": "DescriptionStyleModel",
     "state": {
      "_model_module": "@jupyter-widgets/controls",
      "_model_module_version": "1.5.0",
      "_model_name": "DescriptionStyleModel",
      "_view_count": null,
      "_view_module": "@jupyter-widgets/base",
      "_view_module_version": "1.2.0",
      "_view_name": "StyleView",
      "description_width": ""
     }
    },
    "9454c33e32ee4ecdb3fc808aeed00f4d": {
     "model_module": "@jupyter-widgets/base",
     "model_module_version": "1.2.0",
     "model_name": "LayoutModel",
     "state": {
      "_model_module": "@jupyter-widgets/base",
      "_model_module_version": "1.2.0",
      "_model_name": "LayoutModel",
      "_view_count": null,
      "_view_module": "@jupyter-widgets/base",
      "_view_module_version": "1.2.0",
      "_view_name": "LayoutView",
      "align_content": null,
      "align_items": null,
      "align_self": null,
      "border": null,
      "bottom": null,
      "display": null,
      "flex": null,
      "flex_flow": null,
      "grid_area": null,
      "grid_auto_columns": null,
      "grid_auto_flow": null,
      "grid_auto_rows": null,
      "grid_column": null,
      "grid_gap": null,
      "grid_row": null,
      "grid_template_areas": null,
      "grid_template_columns": null,
      "grid_template_rows": null,
      "height": null,
      "justify_content": null,
      "justify_items": null,
      "left": null,
      "margin": null,
      "max_height": null,
      "max_width": null,
      "min_height": null,
      "min_width": null,
      "object_fit": null,
      "object_position": null,
      "order": null,
      "overflow": null,
      "overflow_x": null,
      "overflow_y": null,
      "padding": null,
      "right": null,
      "top": null,
      "visibility": null,
      "width": null
     }
    },
    "95946d49a713462a8eac24aeaeefef3d": {
     "model_module": "@jupyter-widgets/controls",
     "model_module_version": "1.5.0",
     "model_name": "HTMLModel",
     "state": {
      "_dom_classes": [],
      "_model_module": "@jupyter-widgets/controls",
      "_model_module_version": "1.5.0",
      "_model_name": "HTMLModel",
      "_view_count": null,
      "_view_module": "@jupyter-widgets/controls",
      "_view_module_version": "1.5.0",
      "_view_name": "HTMLView",
      "description": "",
      "description_tooltip": null,
      "layout": "IPY_MODEL_f5632866444c42898b90a47af426e42e",
      "placeholder": "​",
      "style": "IPY_MODEL_e0d2cce7252c4441a60cb224f3422f8e",
      "value": " 570/570 [00:00&lt;00:00, 36.5kB/s]"
     }
    },
    "976a07e6b7b948d1a4404c1df1ba4b75": {
     "model_module": "@jupyter-widgets/base",
     "model_module_version": "1.2.0",
     "model_name": "LayoutModel",
     "state": {
      "_model_module": "@jupyter-widgets/base",
      "_model_module_version": "1.2.0",
      "_model_name": "LayoutModel",
      "_view_count": null,
      "_view_module": "@jupyter-widgets/base",
      "_view_module_version": "1.2.0",
      "_view_name": "LayoutView",
      "align_content": null,
      "align_items": null,
      "align_self": null,
      "border": null,
      "bottom": null,
      "display": null,
      "flex": null,
      "flex_flow": null,
      "grid_area": null,
      "grid_auto_columns": null,
      "grid_auto_flow": null,
      "grid_auto_rows": null,
      "grid_column": null,
      "grid_gap": null,
      "grid_row": null,
      "grid_template_areas": null,
      "grid_template_columns": null,
      "grid_template_rows": null,
      "height": null,
      "justify_content": null,
      "justify_items": null,
      "left": null,
      "margin": null,
      "max_height": null,
      "max_width": null,
      "min_height": null,
      "min_width": null,
      "object_fit": null,
      "object_position": null,
      "order": null,
      "overflow": null,
      "overflow_x": null,
      "overflow_y": null,
      "padding": null,
      "right": null,
      "top": null,
      "visibility": null,
      "width": null
     }
    },
    "978edf7e60bb4a86bb6c3fd1d191bc4b": {
     "model_module": "@jupyter-widgets/controls",
     "model_module_version": "1.5.0",
     "model_name": "HBoxModel",
     "state": {
      "_dom_classes": [],
      "_model_module": "@jupyter-widgets/controls",
      "_model_module_version": "1.5.0",
      "_model_name": "HBoxModel",
      "_view_count": null,
      "_view_module": "@jupyter-widgets/controls",
      "_view_module_version": "1.5.0",
      "_view_name": "HBoxView",
      "box_style": "",
      "children": [
       "IPY_MODEL_e437aeb1b5314f8ab99bfebb69666c83",
       "IPY_MODEL_1ad7be3601a14b708e750d29b95ef2e5",
       "IPY_MODEL_b0473aa3c61245f99a5ed58a868d4b7f"
      ],
      "layout": "IPY_MODEL_976a07e6b7b948d1a4404c1df1ba4b75"
     }
    },
    "99660c9a129a46cfb94ce814751af5e4": {
     "model_module": "@jupyter-widgets/controls",
     "model_module_version": "1.5.0",
     "model_name": "HTMLModel",
     "state": {
      "_dom_classes": [],
      "_model_module": "@jupyter-widgets/controls",
      "_model_module_version": "1.5.0",
      "_model_name": "HTMLModel",
      "_view_count": null,
      "_view_module": "@jupyter-widgets/controls",
      "_view_module_version": "1.5.0",
      "_view_name": "HTMLView",
      "description": "",
      "description_tooltip": null,
      "layout": "IPY_MODEL_6ace846032b544f3aed97d885ac21416",
      "placeholder": "​",
      "style": "IPY_MODEL_bf3b5d808e4849daa9c1c3ad4cd17102",
      "value": "config.json: 100%"
     }
    },
    "a5fe19bc0d8b48a8b20ea2dbc38bfca5": {
     "model_module": "@jupyter-widgets/base",
     "model_module_version": "1.2.0",
     "model_name": "LayoutModel",
     "state": {
      "_model_module": "@jupyter-widgets/base",
      "_model_module_version": "1.2.0",
      "_model_name": "LayoutModel",
      "_view_count": null,
      "_view_module": "@jupyter-widgets/base",
      "_view_module_version": "1.2.0",
      "_view_name": "LayoutView",
      "align_content": null,
      "align_items": null,
      "align_self": null,
      "border": null,
      "bottom": null,
      "display": null,
      "flex": null,
      "flex_flow": null,
      "grid_area": null,
      "grid_auto_columns": null,
      "grid_auto_flow": null,
      "grid_auto_rows": null,
      "grid_column": null,
      "grid_gap": null,
      "grid_row": null,
      "grid_template_areas": null,
      "grid_template_columns": null,
      "grid_template_rows": null,
      "height": null,
      "justify_content": null,
      "justify_items": null,
      "left": null,
      "margin": null,
      "max_height": null,
      "max_width": null,
      "min_height": null,
      "min_width": null,
      "object_fit": null,
      "object_position": null,
      "order": null,
      "overflow": null,
      "overflow_x": null,
      "overflow_y": null,
      "padding": null,
      "right": null,
      "top": null,
      "visibility": null,
      "width": null
     }
    },
    "ab4290137f024f91a57ad0377ebdf8c7": {
     "model_module": "@jupyter-widgets/controls",
     "model_module_version": "1.5.0",
     "model_name": "HBoxModel",
     "state": {
      "_dom_classes": [],
      "_model_module": "@jupyter-widgets/controls",
      "_model_module_version": "1.5.0",
      "_model_name": "HBoxModel",
      "_view_count": null,
      "_view_module": "@jupyter-widgets/controls",
      "_view_module_version": "1.5.0",
      "_view_name": "HBoxView",
      "box_style": "",
      "children": [
       "IPY_MODEL_63901cc71af64a438be8d733667f3138",
       "IPY_MODEL_c90942c471aa4718b6543c102ac69a08",
       "IPY_MODEL_051b89ab58de4d2c801c689a540f6d14"
      ],
      "layout": "IPY_MODEL_41bc51934c574209ac6b75ffea0e7388"
     }
    },
    "af4f44a43ed14bc68c3508a545257b44": {
     "model_module": "@jupyter-widgets/controls",
     "model_module_version": "1.5.0",
     "model_name": "DescriptionStyleModel",
     "state": {
      "_model_module": "@jupyter-widgets/controls",
      "_model_module_version": "1.5.0",
      "_model_name": "DescriptionStyleModel",
      "_view_count": null,
      "_view_module": "@jupyter-widgets/base",
      "_view_module_version": "1.2.0",
      "_view_name": "StyleView",
      "description_width": ""
     }
    },
    "b0473aa3c61245f99a5ed58a868d4b7f": {
     "model_module": "@jupyter-widgets/controls",
     "model_module_version": "1.5.0",
     "model_name": "HTMLModel",
     "state": {
      "_dom_classes": [],
      "_model_module": "@jupyter-widgets/controls",
      "_model_module_version": "1.5.0",
      "_model_name": "HTMLModel",
      "_view_count": null,
      "_view_module": "@jupyter-widgets/controls",
      "_view_module_version": "1.5.0",
      "_view_name": "HTMLView",
      "description": "",
      "description_tooltip": null,
      "layout": "IPY_MODEL_60bd45132912417ca4a78de347a60214",
      "placeholder": "​",
      "style": "IPY_MODEL_be8cd4ae9d344ecb9bca0a78d518b498",
      "value": " 440M/440M [00:06&lt;00:00, 115MB/s]"
     }
    },
    "b0d42382392b4b2aa83896a169587f67": {
     "model_module": "@jupyter-widgets/controls",
     "model_module_version": "1.5.0",
     "model_name": "DescriptionStyleModel",
     "state": {
      "_model_module": "@jupyter-widgets/controls",
      "_model_module_version": "1.5.0",
      "_model_name": "DescriptionStyleModel",
      "_view_count": null,
      "_view_module": "@jupyter-widgets/base",
      "_view_module_version": "1.2.0",
      "_view_name": "StyleView",
      "description_width": ""
     }
    },
    "bd03a5f4afe94602884fa817bd085117": {
     "model_module": "@jupyter-widgets/controls",
     "model_module_version": "1.5.0",
     "model_name": "HTMLModel",
     "state": {
      "_dom_classes": [],
      "_model_module": "@jupyter-widgets/controls",
      "_model_module_version": "1.5.0",
      "_model_name": "HTMLModel",
      "_view_count": null,
      "_view_module": "@jupyter-widgets/controls",
      "_view_module_version": "1.5.0",
      "_view_name": "HTMLView",
      "description": "",
      "description_tooltip": null,
      "layout": "IPY_MODEL_e4dd1884db92411b86042891b2581d8e",
      "placeholder": "​",
      "style": "IPY_MODEL_af4f44a43ed14bc68c3508a545257b44",
      "value": " 232k/232k [00:00&lt;00:00, 533kB/s]"
     }
    },
    "be587f6268af4815a2f0ed6e25e87919": {
     "model_module": "@jupyter-widgets/controls",
     "model_module_version": "1.5.0",
     "model_name": "ProgressStyleModel",
     "state": {
      "_model_module": "@jupyter-widgets/controls",
      "_model_module_version": "1.5.0",
      "_model_name": "ProgressStyleModel",
      "_view_count": null,
      "_view_module": "@jupyter-widgets/base",
      "_view_module_version": "1.2.0",
      "_view_name": "StyleView",
      "bar_color": null,
      "description_width": ""
     }
    },
    "be8cd4ae9d344ecb9bca0a78d518b498": {
     "model_module": "@jupyter-widgets/controls",
     "model_module_version": "1.5.0",
     "model_name": "DescriptionStyleModel",
     "state": {
      "_model_module": "@jupyter-widgets/controls",
      "_model_module_version": "1.5.0",
      "_model_name": "DescriptionStyleModel",
      "_view_count": null,
      "_view_module": "@jupyter-widgets/base",
      "_view_module_version": "1.2.0",
      "_view_name": "StyleView",
      "description_width": ""
     }
    },
    "bf3b5d808e4849daa9c1c3ad4cd17102": {
     "model_module": "@jupyter-widgets/controls",
     "model_module_version": "1.5.0",
     "model_name": "DescriptionStyleModel",
     "state": {
      "_model_module": "@jupyter-widgets/controls",
      "_model_module_version": "1.5.0",
      "_model_name": "DescriptionStyleModel",
      "_view_count": null,
      "_view_module": "@jupyter-widgets/base",
      "_view_module_version": "1.2.0",
      "_view_name": "StyleView",
      "description_width": ""
     }
    },
    "c54abcd00b8d412cb380530a3dc51176": {
     "model_module": "@jupyter-widgets/controls",
     "model_module_version": "1.5.0",
     "model_name": "DescriptionStyleModel",
     "state": {
      "_model_module": "@jupyter-widgets/controls",
      "_model_module_version": "1.5.0",
      "_model_name": "DescriptionStyleModel",
      "_view_count": null,
      "_view_module": "@jupyter-widgets/base",
      "_view_module_version": "1.2.0",
      "_view_name": "StyleView",
      "description_width": ""
     }
    },
    "c90942c471aa4718b6543c102ac69a08": {
     "model_module": "@jupyter-widgets/controls",
     "model_module_version": "1.5.0",
     "model_name": "FloatProgressModel",
     "state": {
      "_dom_classes": [],
      "_model_module": "@jupyter-widgets/controls",
      "_model_module_version": "1.5.0",
      "_model_name": "FloatProgressModel",
      "_view_count": null,
      "_view_module": "@jupyter-widgets/controls",
      "_view_module_version": "1.5.0",
      "_view_name": "ProgressView",
      "bar_style": "success",
      "description": "",
      "description_tooltip": null,
      "layout": "IPY_MODEL_0599675fe0b84f6ea678ad67a6f571e4",
      "max": 466062,
      "min": 0,
      "orientation": "horizontal",
      "style": "IPY_MODEL_be587f6268af4815a2f0ed6e25e87919",
      "value": 466062
     }
    },
    "d59a1c4afa4d4d63bded75923073d3d2": {
     "model_module": "@jupyter-widgets/base",
     "model_module_version": "1.2.0",
     "model_name": "LayoutModel",
     "state": {
      "_model_module": "@jupyter-widgets/base",
      "_model_module_version": "1.2.0",
      "_model_name": "LayoutModel",
      "_view_count": null,
      "_view_module": "@jupyter-widgets/base",
      "_view_module_version": "1.2.0",
      "_view_name": "LayoutView",
      "align_content": null,
      "align_items": null,
      "align_self": null,
      "border": null,
      "bottom": null,
      "display": null,
      "flex": null,
      "flex_flow": null,
      "grid_area": null,
      "grid_auto_columns": null,
      "grid_auto_flow": null,
      "grid_auto_rows": null,
      "grid_column": null,
      "grid_gap": null,
      "grid_row": null,
      "grid_template_areas": null,
      "grid_template_columns": null,
      "grid_template_rows": null,
      "height": null,
      "justify_content": null,
      "justify_items": null,
      "left": null,
      "margin": null,
      "max_height": null,
      "max_width": null,
      "min_height": null,
      "min_width": null,
      "object_fit": null,
      "object_position": null,
      "order": null,
      "overflow": null,
      "overflow_x": null,
      "overflow_y": null,
      "padding": null,
      "right": null,
      "top": null,
      "visibility": null,
      "width": null
     }
    },
    "e0d2cce7252c4441a60cb224f3422f8e": {
     "model_module": "@jupyter-widgets/controls",
     "model_module_version": "1.5.0",
     "model_name": "DescriptionStyleModel",
     "state": {
      "_model_module": "@jupyter-widgets/controls",
      "_model_module_version": "1.5.0",
      "_model_name": "DescriptionStyleModel",
      "_view_count": null,
      "_view_module": "@jupyter-widgets/base",
      "_view_module_version": "1.2.0",
      "_view_name": "StyleView",
      "description_width": ""
     }
    },
    "e437aeb1b5314f8ab99bfebb69666c83": {
     "model_module": "@jupyter-widgets/controls",
     "model_module_version": "1.5.0",
     "model_name": "HTMLModel",
     "state": {
      "_dom_classes": [],
      "_model_module": "@jupyter-widgets/controls",
      "_model_module_version": "1.5.0",
      "_model_name": "HTMLModel",
      "_view_count": null,
      "_view_module": "@jupyter-widgets/controls",
      "_view_module_version": "1.5.0",
      "_view_name": "HTMLView",
      "description": "",
      "description_tooltip": null,
      "layout": "IPY_MODEL_657ac3a387044eb8947477139101324e",
      "placeholder": "​",
      "style": "IPY_MODEL_b0d42382392b4b2aa83896a169587f67",
      "value": "model.safetensors: 100%"
     }
    },
    "e4dd1884db92411b86042891b2581d8e": {
     "model_module": "@jupyter-widgets/base",
     "model_module_version": "1.2.0",
     "model_name": "LayoutModel",
     "state": {
      "_model_module": "@jupyter-widgets/base",
      "_model_module_version": "1.2.0",
      "_model_name": "LayoutModel",
      "_view_count": null,
      "_view_module": "@jupyter-widgets/base",
      "_view_module_version": "1.2.0",
      "_view_name": "LayoutView",
      "align_content": null,
      "align_items": null,
      "align_self": null,
      "border": null,
      "bottom": null,
      "display": null,
      "flex": null,
      "flex_flow": null,
      "grid_area": null,
      "grid_auto_columns": null,
      "grid_auto_flow": null,
      "grid_auto_rows": null,
      "grid_column": null,
      "grid_gap": null,
      "grid_row": null,
      "grid_template_areas": null,
      "grid_template_columns": null,
      "grid_template_rows": null,
      "height": null,
      "justify_content": null,
      "justify_items": null,
      "left": null,
      "margin": null,
      "max_height": null,
      "max_width": null,
      "min_height": null,
      "min_width": null,
      "object_fit": null,
      "object_position": null,
      "order": null,
      "overflow": null,
      "overflow_x": null,
      "overflow_y": null,
      "padding": null,
      "right": null,
      "top": null,
      "visibility": null,
      "width": null
     }
    },
    "e575c8659c0e4badb40cb59b15568583": {
     "model_module": "@jupyter-widgets/controls",
     "model_module_version": "1.5.0",
     "model_name": "HBoxModel",
     "state": {
      "_dom_classes": [],
      "_model_module": "@jupyter-widgets/controls",
      "_model_module_version": "1.5.0",
      "_model_name": "HBoxModel",
      "_view_count": null,
      "_view_module": "@jupyter-widgets/controls",
      "_view_module_version": "1.5.0",
      "_view_name": "HBoxView",
      "box_style": "",
      "children": [
       "IPY_MODEL_61026d50045b4b249ed14fbaa5a64c9f",
       "IPY_MODEL_4e51fe48654942c3848432f8ab09a9ed",
       "IPY_MODEL_bd03a5f4afe94602884fa817bd085117"
      ],
      "layout": "IPY_MODEL_37723a9023244d1c985e269b92574dc1"
     }
    },
    "f5632866444c42898b90a47af426e42e": {
     "model_module": "@jupyter-widgets/base",
     "model_module_version": "1.2.0",
     "model_name": "LayoutModel",
     "state": {
      "_model_module": "@jupyter-widgets/base",
      "_model_module_version": "1.2.0",
      "_model_name": "LayoutModel",
      "_view_count": null,
      "_view_module": "@jupyter-widgets/base",
      "_view_module_version": "1.2.0",
      "_view_name": "LayoutView",
      "align_content": null,
      "align_items": null,
      "align_self": null,
      "border": null,
      "bottom": null,
      "display": null,
      "flex": null,
      "flex_flow": null,
      "grid_area": null,
      "grid_auto_columns": null,
      "grid_auto_flow": null,
      "grid_auto_rows": null,
      "grid_column": null,
      "grid_gap": null,
      "grid_row": null,
      "grid_template_areas": null,
      "grid_template_columns": null,
      "grid_template_rows": null,
      "height": null,
      "justify_content": null,
      "justify_items": null,
      "left": null,
      "margin": null,
      "max_height": null,
      "max_width": null,
      "min_height": null,
      "min_width": null,
      "object_fit": null,
      "object_position": null,
      "order": null,
      "overflow": null,
      "overflow_x": null,
      "overflow_y": null,
      "padding": null,
      "right": null,
      "top": null,
      "visibility": null,
      "width": null
     }
    }
   }
  }
 },
 "nbformat": 4,
 "nbformat_minor": 0
}
